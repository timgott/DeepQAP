{
 "cells": [
  {
   "cell_type": "code",
   "execution_count": 1,
   "metadata": {},
   "outputs": [
    {
     "name": "stdout",
     "output_type": "stream",
     "text": [
      "/home/jupyter-tim/ba-tim\n"
     ]
    }
   ],
   "source": [
    "# change to project root\n",
    "%cd .."
   ]
  },
  {
   "cell_type": "code",
   "execution_count": 3,
   "metadata": {},
   "outputs": [],
   "source": [
    "from drlqap.taskgenerators import generators\n",
    "import scipy.optimize\n",
    "from drlqap.simplesolver import solve_qap_backtracking, solve_qap_maxgreedy, solve_qap_faq, solve_random, solve_partial_random, solve_best_of_k\n",
    "from drlqap.gurobi import solve_qap_gurobi\n",
    "import numpy as np\n",
    "from drlqap.qap import QAP\n",
    "from drlqap.qaplib import load_qap\n",
    "from drlqap.evaltools import load_checkpoints\n",
    "from pathlib import Path"
   ]
  },
  {
   "cell_type": "code",
   "execution_count": 12,
   "metadata": {},
   "outputs": [
    {
     "name": "stdout",
     "output_type": "stream",
     "text": [
      "runs/dqn_dense_ms_ec_tai35a/lr5e-4_s1/checkpoint_0.pth\n",
      "runs/dqn_dense_ms_ec_tai35a/lr5e-4_s1/checkpoint_1000.pth\n",
      "runs/dqn_dense_ms_ec_tai35a/lr5e-4_s1/checkpoint_2000.pth\n",
      "runs/dqn_dense_ms_ec_tai35a/lr5e-4_s1/checkpoint_3000.pth\n",
      "runs/dqn_dense_ms_ec_tai35a/lr5e-4_s1/checkpoint_4000.pth\n",
      "runs/dqn_dense_ms_ec_tai35a/lr5e-4_s1/checkpoint_5000.pth\n",
      "runs/dqn_dense_ms_ec_tai35a/lr5e-4_s1/checkpoint_6000.pth\n",
      "runs/dqn_dense_ms_ec_tai35a/lr5e-4_s1/checkpoint_7000.pth\n",
      "runs/dqn_dense_ms_ec_tai35a/lr5e-4_s1/checkpoint_8000.pth\n",
      "runs/dqn_dense_ms_ec_tai35a/lr5e-4_s1/checkpoint_9000.pth\n",
      "runs/dqn_dense_ms_ec_tai35a/lr5e-4_s1/checkpoint_10000.pth\n",
      "runs/dqn_dense_ms_ec_tai35a/lr5e-4_s1/checkpoint_11000.pth\n",
      "runs/dqn_dense_ms_ec_tai35a/lr5e-4_s1/checkpoint_12000.pth\n",
      "runs/dqn_dense_ms_ec_tai35a/lr5e-4_s1/checkpoint_13000.pth\n",
      "runs/dqn_dense_ms_ec_tai35a/lr5e-4_s1/checkpoint_14000.pth\n",
      "runs/dqn_dense_ms_ec_tai35a/lr5e-4_s1/checkpoint_15000.pth\n",
      "runs/dqn_dense_ms_ec_tai35a/lr5e-4_s1/checkpoint_end.pth\n",
      "runs/dqn_dense_ms_ec_eps0_mediumrandoms/lr5e-4_s1/checkpoint_0.pth\n",
      "runs/dqn_dense_ms_ec_eps0_mediumrandoms/lr5e-4_s1/checkpoint_1000.pth\n",
      "runs/dqn_dense_ms_ec_eps0_mediumrandoms/lr5e-4_s1/checkpoint_2000.pth\n",
      "runs/dqn_dense_ms_ec_eps0_mediumrandoms/lr5e-4_s1/checkpoint_3000.pth\n",
      "runs/dqn_dense_ms_ec_eps0_mediumrandoms/lr5e-4_s1/checkpoint_4000.pth\n",
      "runs/dqn_dense_ms_ec_eps0_mediumrandoms/lr5e-4_s1/checkpoint_5000.pth\n",
      "runs/dqn_dense_ms_ec_eps0_mediumrandoms/lr5e-4_s1/checkpoint_6000.pth\n",
      "runs/dqn_dense_ms_ec_eps0_mediumrandoms/lr5e-4_s1/checkpoint_7000.pth\n",
      "runs/dqn_dense_ms_ec_eps0_mediumrandoms/lr5e-4_s1/checkpoint_8000.pth\n",
      "runs/dqn_dense_ms_ec_eps0_mediumrandoms/lr5e-4_s1/checkpoint_9000.pth\n",
      "runs/dqn_dense_ms_ec_eps0_mediumrandoms/lr5e-4_s1/checkpoint_end.pth\n",
      "runs/a2c_ms100x_mediumrandoms/lr2e-5_s1/checkpoint_0.pth\n",
      "runs/a2c_ms100x_mediumrandoms/lr2e-5_s1/checkpoint_1000.pth\n",
      "runs/a2c_ms100x_mediumrandoms/lr2e-5_s1/checkpoint_2000.pth\n",
      "runs/a2c_ms100x_mediumrandoms/lr2e-5_s1/checkpoint_3000.pth\n",
      "runs/a2c_ms100x_mediumrandoms/lr2e-5_s1/checkpoint_4000.pth\n",
      "runs/a2c_ms100x_mediumrandoms/lr2e-5_s1/checkpoint_5000.pth\n",
      "runs/a2c_ms100x_mediumrandoms/lr2e-5_s1/checkpoint_6000.pth\n",
      "runs/a2c_ms100x_mediumrandoms/lr2e-5_s1/checkpoint_7000.pth\n",
      "runs/a2c_ms100x_mediumrandoms/lr2e-5_s1/checkpoint_8000.pth\n",
      "runs/a2c_ms100x_mediumrandoms/lr2e-5_s1/checkpoint_9000.pth\n",
      "runs/a2c_ms100x_mediumrandoms/lr2e-5_s1/checkpoint_10000.pth\n",
      "runs/a2c_ms100x_mediumrandoms/lr2e-5_s1/checkpoint_11000.pth\n",
      "runs/a2c_ms100x_mediumrandoms/lr2e-5_s1/checkpoint_12000.pth\n",
      "runs/a2c_ms100x_mediumrandoms/lr2e-5_s1/checkpoint_13000.pth\n",
      "runs/a2c_ms100x_mediumrandoms/lr2e-5_s1/checkpoint_14000.pth\n",
      "runs/a2c_ms100x_mediumrandoms/lr2e-5_s1/checkpoint_15000.pth\n",
      "runs/a2c_ms100x_mediumrandoms/lr2e-5_s1/checkpoint_16000.pth\n",
      "runs/a2c_ms100x_mediumrandoms/lr2e-5_s1/checkpoint_17000.pth\n",
      "runs/a2c_ms100x_mediumrandoms/lr2e-5_s1/checkpoint_18000.pth\n",
      "runs/a2c_ms100x_mediumrandoms/lr2e-5_s1/checkpoint_19000.pth\n",
      "runs/a2c_ms100x_mediumrandoms/lr2e-5_s1/checkpoint_20000.pth\n",
      "runs/a2c_ms100x_mediumrandoms/lr2e-5_s1/checkpoint_21000.pth\n",
      "runs/a2c_ms100x_mediumrandoms/lr2e-5_s1/checkpoint_22000.pth\n",
      "runs/a2c_ms100x_mediumrandoms/lr2e-5_s1/checkpoint_23000.pth\n",
      "runs/a2c_ms100x_mediumrandoms/lr2e-5_s1/checkpoint_24000.pth\n",
      "runs/a2c_ms100x_mediumrandoms/lr2e-5_s1/checkpoint_25000.pth\n",
      "runs/a2c_ms100x_mediumrandoms/lr2e-5_s1/checkpoint_26000.pth\n",
      "runs/a2c_ms100x_mediumrandoms/lr2e-5_s1/checkpoint_27000.pth\n",
      "runs/a2c_ms100x_mediumrandoms/lr2e-5_s1/checkpoint_28000.pth\n",
      "runs/a2c_ms100x_mediumrandoms/lr2e-5_s1/checkpoint_29000.pth\n",
      "runs/a2c_ms100x_mediumrandoms/lr2e-5_s1/checkpoint_30000.pth\n",
      "runs/a2c_ms100x_mediumrandoms/lr2e-5_s1/checkpoint_31000.pth\n",
      "runs/a2c_ms100x_mediumrandoms/lr2e-5_s1/checkpoint_32000.pth\n",
      "runs/a2c_ms100x_mediumrandoms/lr2e-5_s1/checkpoint_33000.pth\n",
      "runs/a2c_ms100x_mediumrandoms/lr2e-5_s1/checkpoint_34000.pth\n",
      "runs/a2c_ms100x_mediumrandoms/lr2e-5_s1/checkpoint_35000.pth\n",
      "runs/a2c_ms100x_mediumrandoms/lr2e-5_s1/checkpoint_36000.pth\n",
      "runs/a2c_ms100x_mediumrandoms/lr2e-5_s1/checkpoint_37000.pth\n",
      "runs/a2c_ms100x_mediumrandoms/lr2e-5_s1/checkpoint_38000.pth\n",
      "runs/a2c_ms100x_mediumrandoms/lr2e-5_s1/checkpoint_39000.pth\n",
      "runs/a2c_ms100x_mediumrandoms/lr2e-5_s1/checkpoint_end.pth\n"
     ]
    }
   ],
   "source": [
    "dqn_tai35_agents = load_checkpoints(Path('runs/dqn_dense_ms_ec_tai35a/lr5e-4_s1/'))\n",
    "dqn_medium = load_checkpoints(Path('runs/dqn_dense_ms_ec_eps0_mediumrandoms/lr5e-4_s1'))\n",
    "a2c_longer = load_checkpoints(Path('runs/a2c_ms100x_mediumrandoms/lr2e-5_s1'))"
   ]
  },
  {
   "cell_type": "code",
   "execution_count": 6,
   "metadata": {},
   "outputs": [],
   "source": [
    "tai35a = load_qap(\"qapdata/tai35a.dat\")"
   ]
  },
  {
   "cell_type": "code",
   "execution_count": 8,
   "metadata": {},
   "outputs": [
    {
     "data": {
      "text/plain": [
       "(2802064.0,\n",
       " [10,\n",
       "  18,\n",
       "  28,\n",
       "  31,\n",
       "  26,\n",
       "  8,\n",
       "  1,\n",
       "  34,\n",
       "  9,\n",
       "  19,\n",
       "  15,\n",
       "  4,\n",
       "  5,\n",
       "  0,\n",
       "  6,\n",
       "  22,\n",
       "  12,\n",
       "  3,\n",
       "  14,\n",
       "  29,\n",
       "  30,\n",
       "  13,\n",
       "  17,\n",
       "  21,\n",
       "  23,\n",
       "  27,\n",
       "  7,\n",
       "  33,\n",
       "  25,\n",
       "  24,\n",
       "  32,\n",
       "  16,\n",
       "  11,\n",
       "  2,\n",
       "  20])"
      ]
     },
     "execution_count": 8,
     "metadata": {},
     "output_type": "execute_result"
    }
   ],
   "source": [
    "dqn_tai35_agents[-1].solve(tai35a)"
   ]
  },
  {
   "cell_type": "code",
   "execution_count": 11,
   "metadata": {},
   "outputs": [
    {
     "data": {
      "text/plain": [
       "(2913674.0,\n",
       " [9,\n",
       "  26,\n",
       "  10,\n",
       "  32,\n",
       "  0,\n",
       "  21,\n",
       "  28,\n",
       "  24,\n",
       "  34,\n",
       "  15,\n",
       "  29,\n",
       "  31,\n",
       "  22,\n",
       "  13,\n",
       "  3,\n",
       "  5,\n",
       "  2,\n",
       "  20,\n",
       "  8,\n",
       "  4,\n",
       "  23,\n",
       "  30,\n",
       "  19,\n",
       "  33,\n",
       "  16,\n",
       "  7,\n",
       "  1,\n",
       "  17,\n",
       "  14,\n",
       "  11,\n",
       "  6,\n",
       "  25,\n",
       "  12,\n",
       "  27,\n",
       "  18])"
      ]
     },
     "execution_count": 11,
     "metadata": {},
     "output_type": "execute_result"
    }
   ],
   "source": [
    "dqn_medium[-1].solve(tai35a)"
   ]
  },
  {
   "cell_type": "code",
   "execution_count": 13,
   "metadata": {},
   "outputs": [
    {
     "data": {
      "text/plain": [
       "(2793840.0,\n",
       " [29,\n",
       "  20,\n",
       "  28,\n",
       "  19,\n",
       "  7,\n",
       "  21,\n",
       "  26,\n",
       "  30,\n",
       "  27,\n",
       "  31,\n",
       "  34,\n",
       "  6,\n",
       "  10,\n",
       "  15,\n",
       "  4,\n",
       "  16,\n",
       "  24,\n",
       "  18,\n",
       "  9,\n",
       "  5,\n",
       "  14,\n",
       "  22,\n",
       "  1,\n",
       "  17,\n",
       "  12,\n",
       "  25,\n",
       "  23,\n",
       "  33,\n",
       "  3,\n",
       "  32,\n",
       "  11,\n",
       "  13,\n",
       "  2,\n",
       "  8,\n",
       "  0])"
      ]
     },
     "execution_count": 13,
     "metadata": {},
     "output_type": "execute_result"
    }
   ],
   "source": [
    "a2c_longer[-1].solve(tai35a)"
   ]
  },
  {
   "cell_type": "code",
   "execution_count": null,
   "metadata": {},
   "outputs": [],
   "source": []
  }
 ],
 "metadata": {
  "kernelspec": {
   "display_name": "drlqap",
   "language": "python",
   "name": "drlqap"
  },
  "language_info": {
   "codemirror_mode": {
    "name": "ipython",
    "version": 3
   },
   "file_extension": ".py",
   "mimetype": "text/x-python",
   "name": "python",
   "nbconvert_exporter": "python",
   "pygments_lexer": "ipython3",
   "version": "3.9.9"
  }
 },
 "nbformat": 4,
 "nbformat_minor": 2
}
