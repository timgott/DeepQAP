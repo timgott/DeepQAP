{
 "cells": [
  {
   "cell_type": "code",
   "execution_count": 1,
   "metadata": {},
   "outputs": [
    {
     "name": "stdout",
     "output_type": "stream",
     "text": [
      "/home/jupyter-tim/ba-tim\n"
     ]
    }
   ],
   "source": [
    "%cd .."
   ]
  },
  {
   "cell_type": "code",
   "execution_count": 140,
   "metadata": {},
   "outputs": [],
   "source": [
    "from drlqap.taskgenerators import generators\n",
    "import scipy.optimize\n",
    "from drlqap.simplesolver import solve_qap_backtracking, solve_qap_maxgreedy, solve_qap_faq, solve_random\n",
    "from drlqap.gurobi import solve_qap_gurobi\n",
    "import numpy as np\n",
    "from drlqap.qap import QAP\n",
    "from drlqap.evaltools import load_checkpoints\n",
    "from pathlib import Path\n",
    "import random"
   ]
  },
  {
   "cell_type": "code",
   "execution_count": 26,
   "metadata": {},
   "outputs": [
    {
     "name": "stdout",
     "output_type": "stream",
     "text": [
      "runs/dqn_dense_ms_ec_eps0_mediumrandoms/lr5e-4_s1/checkpoint_0.pth\n",
      "runs/dqn_dense_ms_ec_eps0_mediumrandoms/lr5e-4_s1/checkpoint_1000.pth\n",
      "runs/dqn_dense_ms_ec_eps0_mediumrandoms/lr5e-4_s1/checkpoint_2000.pth\n",
      "runs/dqn_dense_ms_ec_eps0_mediumrandoms/lr5e-4_s1/checkpoint_3000.pth\n",
      "runs/dqn_dense_ms_ec_eps0_mediumrandoms/lr5e-4_s1/checkpoint_4000.pth\n",
      "runs/dqn_dense_ms_ec_eps0_mediumrandoms/lr5e-4_s1/checkpoint_5000.pth\n",
      "runs/dqn_dense_ms_ec_eps0_mediumrandoms/lr5e-4_s1/checkpoint_6000.pth\n",
      "runs/dqn_dense_ms_ec_eps0_mediumrandoms/lr5e-4_s1/checkpoint_7000.pth\n",
      "runs/dqn_dense_ms_ec_eps0_mediumrandoms/lr5e-4_s1/checkpoint_8000.pth\n",
      "runs/dqn_dense_ms_ec_eps0_mediumrandoms/lr5e-4_s1/checkpoint_9000.pth\n",
      "runs/dqn_dense_ms_ec_eps0_mediumrandoms/lr5e-4_s1/checkpoint_end.pth\n",
      "runs/dqn_dense_ms_ec_eps0_smallrandoms/lr5e-4_s1/checkpoint_0.pth\n",
      "runs/dqn_dense_ms_ec_eps0_smallrandoms/lr5e-4_s1/checkpoint_1000.pth\n",
      "runs/dqn_dense_ms_ec_eps0_smallrandoms/lr5e-4_s1/checkpoint_2000.pth\n",
      "runs/dqn_dense_ms_ec_eps0_smallrandoms/lr5e-4_s1/checkpoint_3000.pth\n",
      "runs/dqn_dense_ms_ec_eps0_smallrandoms/lr5e-4_s1/checkpoint_4000.pth\n",
      "runs/dqn_dense_ms_ec_eps0_smallrandoms/lr5e-4_s1/checkpoint_5000.pth\n",
      "runs/dqn_dense_ms_ec_eps0_smallrandoms/lr5e-4_s1/checkpoint_6000.pth\n",
      "runs/dqn_dense_ms_ec_eps0_smallrandoms/lr5e-4_s1/checkpoint_7000.pth\n",
      "runs/dqn_dense_ms_ec_eps0_smallrandoms/lr5e-4_s1/checkpoint_8000.pth\n",
      "runs/dqn_dense_ms_ec_eps0_smallrandoms/lr5e-4_s1/checkpoint_9000.pth\n",
      "runs/dqn_dense_ms_ec_eps0_smallrandoms/lr5e-4_s1/checkpoint_end.pth\n",
      "runs/dqn_dense_ms_ec_eps0_mini/lr5e-4_s1/checkpoint_0.pth\n",
      "runs/dqn_dense_ms_ec_eps0_mini/lr5e-4_s1/checkpoint_1000.pth\n",
      "runs/dqn_dense_ms_ec_eps0_mini/lr5e-4_s1/checkpoint_2000.pth\n",
      "runs/dqn_dense_ms_ec_eps0_mini/lr5e-4_s1/checkpoint_3000.pth\n",
      "runs/dqn_dense_ms_ec_eps0_mini/lr5e-4_s1/checkpoint_4000.pth\n",
      "runs/dqn_dense_ms_ec_eps0_mini/lr5e-4_s1/checkpoint_end.pth\n",
      "runs/dqn_bi_increasing/lr5e-4_s1/checkpoint_0.pth\n",
      "runs/dqn_bi_increasing/lr5e-4_s1/checkpoint_1000.pth\n",
      "runs/dqn_bi_increasing/lr5e-4_s1/checkpoint_2000.pth\n",
      "runs/dqn_bi_increasing/lr5e-4_s1/checkpoint_3000.pth\n",
      "runs/dqn_bi_increasing/lr5e-4_s1/checkpoint_4000.pth\n",
      "runs/dqn_bi_increasing/lr5e-4_s1/checkpoint_5000.pth\n",
      "runs/dqn_bi_increasing/lr5e-4_s1/checkpoint_6000.pth\n",
      "runs/dqn_bi_increasing/lr5e-4_s1/checkpoint_7000.pth\n",
      "runs/dqn_bi_increasing/lr5e-4_s1/checkpoint_8000.pth\n",
      "runs/dqn_bi_increasing/lr5e-4_s1/checkpoint_9000.pth\n",
      "runs/dqn_bi_increasing/lr5e-4_s1/checkpoint_10000.pth\n",
      "runs/dqn_bi_increasing/lr5e-4_s1/checkpoint_11000.pth\n",
      "runs/dqn_bi_increasing/lr5e-4_s1/checkpoint_12000.pth\n",
      "runs/dqn_bi_increasing/lr5e-4_s1/checkpoint_13000.pth\n",
      "runs/dqn_bi_increasing/lr5e-4_s1/checkpoint_14000.pth\n",
      "runs/dqn_bi_increasing/lr5e-4_s1/checkpoint_end.pth\n"
     ]
    }
   ],
   "source": [
    "medium_agents = load_checkpoints(Path('runs/dqn_dense_ms_ec_eps0_mediumrandoms/lr5e-4_s1'))\n",
    "small_agents = load_checkpoints(Path('runs/dqn_dense_ms_ec_eps0_smallrandoms/lr5e-4_s1'))\n",
    "mini_agents = load_checkpoints(Path('runs/dqn_dense_ms_ec_eps0_mini/lr5e-4_s1'))\n",
    "bi_agents = load_checkpoints(Path('runs/dqn_bi_increasing/lr5e-4_s1'))"
   ]
  },
  {
   "cell_type": "code",
   "execution_count": 93,
   "metadata": {},
   "outputs": [],
   "source": [
    "def evaluate(solver, problem, samples):\n",
    "    if type(problem) == str:\n",
    "        generator = generators[problem]\n",
    "    else:\n",
    "        generator = problem\n",
    "    qaps = [generator.sample() for i in range(samples)]\n",
    "    return evaluate_set(solver, qaps)\n",
    "    \n",
    "def evaluate_set(solver, problems):\n",
    "    values = []\n",
    "    correct = 0\n",
    "    for qap in problems:\n",
    "        if qap.compute_value([0,1]) < qap.compute_value([1,0]):\n",
    "            optimum = [0,1]\n",
    "        else:\n",
    "            optimum = [1,0]\n",
    "        v_solver, assignment = solver(qap)\n",
    "        v = qap.compute_value(assignment)\n",
    "        if not np.isclose(v, v_solver):\n",
    "            print (f\"solver outputs incorrect value (got {v_solver}, actual {v})\")\n",
    "        if np.any(np.array(assignment) == np.array(optimum)):\n",
    "            correct += 1\n",
    "        values.append(v)\n",
    "    accuracy = correct/len(problems)\n",
    "    print(f\"accuracy: {accuracy} = {correct}/{len(problems)}; mean: {np.mean(values)}\")\n",
    "    return accuracy"
   ]
  },
  {
   "cell_type": "code",
   "execution_count": 50,
   "metadata": {},
   "outputs": [
    {
     "name": "stdout",
     "output_type": "stream",
     "text": [
      "accuracy: 1.0 = 1000/1000; mean: 0.7568361163139343\n"
     ]
    }
   ],
   "source": [
    "evaluate(solve_qap_backtracking, 'minilinear', 1000)"
   ]
  },
  {
   "cell_type": "code",
   "execution_count": 51,
   "metadata": {},
   "outputs": [
    {
     "name": "stdout",
     "output_type": "stream",
     "text": [
      "accuracy: 0.483 = 483/1000; mean: 1.016228437423706\n"
     ]
    }
   ],
   "source": [
    "evaluate(solve_random, 'minilinear', 1000)"
   ]
  },
  {
   "cell_type": "code",
   "execution_count": 52,
   "metadata": {},
   "outputs": [
    {
     "name": "stdout",
     "output_type": "stream",
     "text": [
      "solver outputs incorrect value (got 0.0, actual 1.188722848892212)\n",
      "solver outputs incorrect value (got 0.0, actual 1.496435284614563)\n",
      "solver outputs incorrect value (got 0.0, actual 0.8546656370162964)\n",
      "solver outputs incorrect value (got 0.0, actual 1.5241189002990723)\n",
      "solver outputs incorrect value (got 0.0, actual 0.9863247275352478)\n",
      "solver outputs incorrect value (got 0.0, actual 0.5079357028007507)\n",
      "solver outputs incorrect value (got 0.0, actual 1.7781691551208496)\n",
      "solver outputs incorrect value (got 0.0, actual 0.5939823389053345)\n",
      "solver outputs incorrect value (got 0.0, actual 1.5468294620513916)\n",
      "solver outputs incorrect value (got 0.0, actual 0.9081140756607056)\n",
      "solver outputs incorrect value (got 0.0, actual 1.8059412240982056)\n",
      "solver outputs incorrect value (got 0.0, actual 1.449265480041504)\n",
      "solver outputs incorrect value (got 0.0, actual 0.6194434762001038)\n",
      "solver outputs incorrect value (got 0.0, actual 0.12409579753875732)\n",
      "solver outputs incorrect value (got 0.0, actual 0.9594034552574158)\n",
      "solver outputs incorrect value (got 0.0, actual 0.9395149350166321)\n",
      "solver outputs incorrect value (got 0.0, actual 1.270467758178711)\n",
      "solver outputs incorrect value (got 0.0, actual 1.018983006477356)\n",
      "solver outputs incorrect value (got 0.0, actual 1.4356756210327148)\n",
      "solver outputs incorrect value (got 0.0, actual 0.6736462712287903)\n",
      "solver outputs incorrect value (got 0.0, actual 1.1063708066940308)\n",
      "solver outputs incorrect value (got 0.0, actual 0.9033927917480469)\n",
      "solver outputs incorrect value (got 0.0, actual 1.0874449014663696)\n",
      "solver outputs incorrect value (got 0.0, actual 1.1488063335418701)\n",
      "solver outputs incorrect value (got 0.0, actual 0.4837281107902527)\n",
      "solver outputs incorrect value (got 0.0, actual 1.0853352546691895)\n",
      "solver outputs incorrect value (got 0.0, actual 0.3604430556297302)\n",
      "solver outputs incorrect value (got 0.0, actual 0.7030541300773621)\n",
      "solver outputs incorrect value (got 0.0, actual 0.3978666663169861)\n",
      "solver outputs incorrect value (got 0.0, actual 0.5985320210456848)\n",
      "solver outputs incorrect value (got 0.0, actual 0.9521113038063049)\n",
      "solver outputs incorrect value (got 0.0, actual 1.2871415615081787)\n",
      "solver outputs incorrect value (got 0.0, actual 0.4312140941619873)\n",
      "solver outputs incorrect value (got 0.0, actual 0.9766688346862793)\n",
      "solver outputs incorrect value (got 0.0, actual 1.5381169319152832)\n",
      "solver outputs incorrect value (got 0.0, actual 0.7787641882896423)\n",
      "solver outputs incorrect value (got 0.0, actual 1.505033254623413)\n",
      "solver outputs incorrect value (got 0.0, actual 1.3301228284835815)\n",
      "solver outputs incorrect value (got 0.0, actual 0.6224045753479004)\n",
      "solver outputs incorrect value (got 0.0, actual 1.5454716682434082)\n",
      "solver outputs incorrect value (got 0.0, actual 1.5598790645599365)\n",
      "solver outputs incorrect value (got 0.0, actual 1.0630302429199219)\n",
      "solver outputs incorrect value (got 0.0, actual 1.2234268188476562)\n",
      "solver outputs incorrect value (got 0.0, actual 1.361189603805542)\n",
      "solver outputs incorrect value (got 0.0, actual 0.5983725786209106)\n",
      "solver outputs incorrect value (got 0.0, actual 1.2468602657318115)\n",
      "solver outputs incorrect value (got 0.0, actual 1.4100995063781738)\n",
      "solver outputs incorrect value (got 0.0, actual 0.7355223298072815)\n",
      "solver outputs incorrect value (got 0.0, actual 1.0937602519989014)\n",
      "solver outputs incorrect value (got 0.0, actual 1.045997142791748)\n",
      "solver outputs incorrect value (got 0.0, actual 1.4414787292480469)\n",
      "solver outputs incorrect value (got 0.0, actual 1.8830809593200684)\n",
      "solver outputs incorrect value (got 0.0, actual 1.7315059900283813)\n",
      "solver outputs incorrect value (got 0.0, actual 1.168560266494751)\n",
      "solver outputs incorrect value (got 0.0, actual 0.598670482635498)\n",
      "solver outputs incorrect value (got 0.0, actual 1.128023386001587)\n",
      "solver outputs incorrect value (got 0.0, actual 1.0306510925292969)\n",
      "solver outputs incorrect value (got 0.0, actual 1.0484743118286133)\n",
      "solver outputs incorrect value (got 0.0, actual 1.6969856023788452)\n",
      "solver outputs incorrect value (got 0.0, actual 1.1003167629241943)\n",
      "solver outputs incorrect value (got 0.0, actual 1.46585214138031)\n",
      "solver outputs incorrect value (got 0.0, actual 0.9898383021354675)\n",
      "solver outputs incorrect value (got 0.0, actual 0.4217519760131836)\n",
      "solver outputs incorrect value (got 0.0, actual 1.5312061309814453)\n",
      "solver outputs incorrect value (got 0.0, actual 1.0392696857452393)\n",
      "solver outputs incorrect value (got 0.0, actual 1.2997972965240479)\n",
      "solver outputs incorrect value (got 0.0, actual 1.7630014419555664)\n",
      "solver outputs incorrect value (got 0.0, actual 0.9289476275444031)\n",
      "solver outputs incorrect value (got 0.0, actual 1.1828107833862305)\n",
      "solver outputs incorrect value (got 0.0, actual 0.7836278080940247)\n",
      "solver outputs incorrect value (got 0.0, actual 1.5495355129241943)\n",
      "solver outputs incorrect value (got 0.0, actual 0.2801337242126465)\n",
      "solver outputs incorrect value (got 0.0, actual 1.487636923789978)\n",
      "solver outputs incorrect value (got 0.0, actual 0.31309396028518677)\n",
      "solver outputs incorrect value (got 0.0, actual 1.203153371810913)\n",
      "solver outputs incorrect value (got 0.0, actual 0.6075917482376099)\n",
      "solver outputs incorrect value (got 0.0, actual 1.043433666229248)\n",
      "solver outputs incorrect value (got 0.0, actual 0.6389817595481873)\n",
      "solver outputs incorrect value (got 0.0, actual 1.3121976852416992)\n",
      "solver outputs incorrect value (got 0.0, actual 1.0947291851043701)\n",
      "solver outputs incorrect value (got 0.0, actual 0.8753487467765808)\n",
      "solver outputs incorrect value (got 0.0, actual 0.3838862180709839)\n",
      "solver outputs incorrect value (got 0.0, actual 0.5955109000205994)\n",
      "solver outputs incorrect value (got 0.0, actual 0.4214194416999817)\n",
      "solver outputs incorrect value (got 0.0, actual 0.6152534484863281)\n",
      "solver outputs incorrect value (got 0.0, actual 0.7625110149383545)\n",
      "solver outputs incorrect value (got 0.0, actual 1.7388558387756348)\n",
      "solver outputs incorrect value (got 0.0, actual 1.0097404718399048)\n",
      "solver outputs incorrect value (got 0.0, actual 1.2321715354919434)\n",
      "solver outputs incorrect value (got 0.0, actual 0.5043749213218689)\n",
      "solver outputs incorrect value (got 0.0, actual 0.6918285489082336)\n",
      "solver outputs incorrect value (got 0.0, actual 0.8877173662185669)\n",
      "solver outputs incorrect value (got 0.0, actual 0.33700889348983765)\n",
      "solver outputs incorrect value (got 0.0, actual 0.7431142926216125)\n",
      "solver outputs incorrect value (got 0.0, actual 1.6032062768936157)\n",
      "solver outputs incorrect value (got 0.0, actual 1.4677257537841797)\n",
      "solver outputs incorrect value (got 0.0, actual 0.28357094526290894)\n",
      "solver outputs incorrect value (got 0.0, actual 0.692729115486145)\n",
      "solver outputs incorrect value (got 0.0, actual 0.5039135217666626)\n",
      "solver outputs incorrect value (got 0.0, actual 1.4460009336471558)\n",
      "solver outputs incorrect value (got 0.0, actual 1.0840013027191162)\n",
      "solver outputs incorrect value (got 0.0, actual 0.49997633695602417)\n",
      "solver outputs incorrect value (got 0.0, actual 0.2708039879798889)\n",
      "solver outputs incorrect value (got 0.0, actual 1.499114751815796)\n",
      "solver outputs incorrect value (got 0.0, actual 0.28379392623901367)\n",
      "solver outputs incorrect value (got 0.0, actual 0.8039562106132507)\n",
      "solver outputs incorrect value (got 0.0, actual 0.979424238204956)\n",
      "solver outputs incorrect value (got 0.0, actual 1.4476865530014038)\n",
      "solver outputs incorrect value (got 0.0, actual 1.2291429042816162)\n",
      "solver outputs incorrect value (got 0.0, actual 0.9731139540672302)\n",
      "solver outputs incorrect value (got 0.0, actual 0.34981822967529297)\n",
      "solver outputs incorrect value (got 0.0, actual 1.2728424072265625)\n",
      "solver outputs incorrect value (got 0.0, actual 1.0570569038391113)\n",
      "solver outputs incorrect value (got 0.0, actual 0.7763698697090149)\n",
      "solver outputs incorrect value (got 0.0, actual 0.604736864566803)\n",
      "solver outputs incorrect value (got 0.0, actual 1.0563812255859375)\n",
      "solver outputs incorrect value (got 0.0, actual 0.2846252918243408)\n",
      "solver outputs incorrect value (got 0.0, actual 1.1972558498382568)\n",
      "solver outputs incorrect value (got 0.0, actual 0.7408840656280518)\n",
      "solver outputs incorrect value (got 0.0, actual 1.9007701873779297)\n",
      "solver outputs incorrect value (got 0.0, actual 1.053375482559204)\n",
      "solver outputs incorrect value (got 0.0, actual 1.7174274921417236)\n",
      "solver outputs incorrect value (got 0.0, actual 0.9996850490570068)\n",
      "solver outputs incorrect value (got 0.0, actual 0.7489710450172424)\n",
      "solver outputs incorrect value (got 0.0, actual 0.7559016346931458)\n",
      "solver outputs incorrect value (got 0.0, actual 1.0703706741333008)\n",
      "solver outputs incorrect value (got 0.0, actual 0.8733609914779663)\n",
      "solver outputs incorrect value (got 0.0, actual 0.4686540961265564)\n",
      "solver outputs incorrect value (got 0.0, actual 1.391700029373169)\n",
      "solver outputs incorrect value (got 0.0, actual 1.2735588550567627)\n",
      "solver outputs incorrect value (got 0.0, actual 0.7185793519020081)\n",
      "solver outputs incorrect value (got 0.0, actual 1.3300831317901611)\n",
      "solver outputs incorrect value (got 0.0, actual 1.4922696352005005)\n",
      "solver outputs incorrect value (got 0.0, actual 0.6053082346916199)\n",
      "solver outputs incorrect value (got 0.0, actual 0.6298344731330872)\n",
      "solver outputs incorrect value (got 0.0, actual 1.7322279214859009)\n",
      "solver outputs incorrect value (got 0.0, actual 1.3910574913024902)\n",
      "solver outputs incorrect value (got 0.0, actual 0.45193129777908325)\n",
      "solver outputs incorrect value (got 0.0, actual 0.8525024652481079)\n",
      "solver outputs incorrect value (got 0.0, actual 0.8849636316299438)\n",
      "solver outputs incorrect value (got 0.0, actual 0.5857439041137695)\n",
      "solver outputs incorrect value (got 0.0, actual 1.3243348598480225)\n",
      "solver outputs incorrect value (got 0.0, actual 0.7607839703559875)\n",
      "solver outputs incorrect value (got 0.0, actual 0.8857767581939697)\n",
      "solver outputs incorrect value (got 0.0, actual 1.2023605108261108)\n",
      "solver outputs incorrect value (got 0.0, actual 1.1367998123168945)\n",
      "solver outputs incorrect value (got 0.0, actual 1.3541691303253174)\n",
      "solver outputs incorrect value (got 0.0, actual 1.2551254034042358)\n",
      "solver outputs incorrect value (got 0.0, actual 0.8499208688735962)\n",
      "solver outputs incorrect value (got 0.0, actual 0.6291120052337646)\n",
      "solver outputs incorrect value (got 0.0, actual 1.3861150741577148)\n",
      "solver outputs incorrect value (got 0.0, actual 1.0723013877868652)\n",
      "solver outputs incorrect value (got 0.0, actual 1.163715124130249)\n",
      "solver outputs incorrect value (got 0.0, actual 1.0406439304351807)\n",
      "solver outputs incorrect value (got 0.0, actual 1.0426123142242432)\n",
      "solver outputs incorrect value (got 0.0, actual 0.6248400211334229)\n",
      "solver outputs incorrect value (got 0.0, actual 0.5233546495437622)\n",
      "solver outputs incorrect value (got 0.0, actual 1.715412974357605)\n",
      "solver outputs incorrect value (got 0.0, actual 0.5765802264213562)\n",
      "solver outputs incorrect value (got 0.0, actual 0.8260970115661621)\n",
      "solver outputs incorrect value (got 0.0, actual 1.2891950607299805)\n",
      "solver outputs incorrect value (got 0.0, actual 0.6571650505065918)\n",
      "solver outputs incorrect value (got 0.0, actual 0.8857384324073792)\n",
      "solver outputs incorrect value (got 0.0, actual 0.862803041934967)\n",
      "solver outputs incorrect value (got 0.0, actual 0.9774810075759888)\n",
      "solver outputs incorrect value (got 0.0, actual 0.9368113279342651)\n",
      "solver outputs incorrect value (got 0.0, actual 1.0069093704223633)\n",
      "solver outputs incorrect value (got 0.0, actual 0.43302249908447266)\n",
      "solver outputs incorrect value (got 0.0, actual 0.2912917137145996)\n",
      "solver outputs incorrect value (got 0.0, actual 0.5011453628540039)\n",
      "solver outputs incorrect value (got 0.0, actual 1.1843373775482178)\n",
      "solver outputs incorrect value (got 0.0, actual 0.8139643669128418)\n",
      "solver outputs incorrect value (got 0.0, actual 0.4436259865760803)\n",
      "solver outputs incorrect value (got 0.0, actual 0.9162598848342896)\n",
      "solver outputs incorrect value (got 0.0, actual 0.7851928472518921)\n",
      "solver outputs incorrect value (got 0.0, actual 0.5590051412582397)\n",
      "solver outputs incorrect value (got 0.0, actual 1.5247077941894531)\n",
      "solver outputs incorrect value (got 0.0, actual 0.556707501411438)\n",
      "solver outputs incorrect value (got 0.0, actual 1.6566156148910522)\n",
      "solver outputs incorrect value (got 0.0, actual 1.794297218322754)\n",
      "solver outputs incorrect value (got 0.0, actual 1.1813501119613647)\n",
      "solver outputs incorrect value (got 0.0, actual 1.184413194656372)\n",
      "solver outputs incorrect value (got 0.0, actual 1.0764098167419434)\n",
      "solver outputs incorrect value (got 0.0, actual 0.2976588010787964)\n",
      "solver outputs incorrect value (got 0.0, actual 0.7899794578552246)\n",
      "solver outputs incorrect value (got 0.0, actual 0.952316403388977)\n",
      "solver outputs incorrect value (got 0.0, actual 0.8514739871025085)\n",
      "solver outputs incorrect value (got 0.0, actual 0.8492144346237183)\n",
      "solver outputs incorrect value (got 0.0, actual 0.5639418363571167)\n",
      "solver outputs incorrect value (got 0.0, actual 0.5230674147605896)\n",
      "solver outputs incorrect value (got 0.0, actual 0.8457580804824829)\n",
      "solver outputs incorrect value (got 0.0, actual 0.5678382515907288)\n",
      "solver outputs incorrect value (got 0.0, actual 1.612809181213379)\n",
      "solver outputs incorrect value (got 0.0, actual 1.3804948329925537)\n",
      "solver outputs incorrect value (got 0.0, actual 0.8899965882301331)\n",
      "solver outputs incorrect value (got 0.0, actual 0.741131603717804)\n",
      "solver outputs incorrect value (got 0.0, actual 1.3603391647338867)\n",
      "solver outputs incorrect value (got 0.0, actual 0.9799282550811768)\n",
      "solver outputs incorrect value (got 0.0, actual 1.0286803245544434)\n",
      "solver outputs incorrect value (got 0.0, actual 0.6994540691375732)\n",
      "solver outputs incorrect value (got 0.0, actual 1.512242078781128)\n",
      "solver outputs incorrect value (got 0.0, actual 0.5009020566940308)\n",
      "solver outputs incorrect value (got 0.0, actual 0.3469253182411194)\n",
      "solver outputs incorrect value (got 0.0, actual 0.7537088394165039)\n",
      "solver outputs incorrect value (got 0.0, actual 0.9899041056632996)\n",
      "solver outputs incorrect value (got 0.0, actual 0.2806723117828369)\n",
      "solver outputs incorrect value (got 0.0, actual 0.6527501344680786)\n",
      "solver outputs incorrect value (got 0.0, actual 1.1803572177886963)\n",
      "solver outputs incorrect value (got 0.0, actual 1.0101137161254883)\n",
      "solver outputs incorrect value (got 0.0, actual 0.5116254687309265)\n",
      "solver outputs incorrect value (got 0.0, actual 1.6455278396606445)\n",
      "solver outputs incorrect value (got 0.0, actual 0.9961404204368591)\n",
      "solver outputs incorrect value (got 0.0, actual 1.1751675605773926)\n"
     ]
    },
    {
     "name": "stdout",
     "output_type": "stream",
     "text": [
      "solver outputs incorrect value (got 0.0, actual 1.2295496463775635)\n",
      "solver outputs incorrect value (got 0.0, actual 1.0381810665130615)\n",
      "solver outputs incorrect value (got 0.0, actual 1.6526331901550293)\n",
      "solver outputs incorrect value (got 0.0, actual 1.0212323665618896)\n",
      "solver outputs incorrect value (got 0.0, actual 0.8731814026832581)\n",
      "solver outputs incorrect value (got 0.0, actual 1.8238462209701538)\n",
      "solver outputs incorrect value (got 0.0, actual 1.5752944946289062)\n",
      "solver outputs incorrect value (got 0.0, actual 0.17702960968017578)\n",
      "solver outputs incorrect value (got 0.0, actual 1.223461389541626)\n",
      "solver outputs incorrect value (got 0.0, actual 1.1913113594055176)\n",
      "solver outputs incorrect value (got 0.0, actual 0.9998568892478943)\n",
      "solver outputs incorrect value (got 0.0, actual 0.616706132888794)\n",
      "solver outputs incorrect value (got 0.0, actual 0.6248870491981506)\n",
      "solver outputs incorrect value (got 0.0, actual 0.725686252117157)\n",
      "solver outputs incorrect value (got 0.0, actual 1.2724063396453857)\n",
      "solver outputs incorrect value (got 0.0, actual 0.903878390789032)\n",
      "solver outputs incorrect value (got 0.0, actual 0.675990879535675)\n",
      "solver outputs incorrect value (got 0.0, actual 0.5544828772544861)\n",
      "solver outputs incorrect value (got 0.0, actual 1.4598419666290283)\n",
      "solver outputs incorrect value (got 0.0, actual 0.9347784519195557)\n",
      "solver outputs incorrect value (got 0.0, actual 0.42788422107696533)\n",
      "solver outputs incorrect value (got 0.0, actual 0.9646282196044922)\n",
      "solver outputs incorrect value (got 0.0, actual 0.8335601687431335)\n",
      "solver outputs incorrect value (got 0.0, actual 1.41251540184021)\n",
      "solver outputs incorrect value (got 0.0, actual 0.46751081943511963)\n",
      "solver outputs incorrect value (got 0.0, actual 0.4587659239768982)\n",
      "solver outputs incorrect value (got 0.0, actual 0.3909134268760681)\n",
      "solver outputs incorrect value (got 0.0, actual 1.124342441558838)\n",
      "solver outputs incorrect value (got 0.0, actual 1.619933843612671)\n",
      "solver outputs incorrect value (got 0.0, actual 1.2917089462280273)\n",
      "solver outputs incorrect value (got 0.0, actual 0.07261794805526733)\n",
      "solver outputs incorrect value (got 0.0, actual 0.7704857587814331)\n",
      "solver outputs incorrect value (got 0.0, actual 0.7414163947105408)\n",
      "solver outputs incorrect value (got 0.0, actual 1.4229588508605957)\n",
      "solver outputs incorrect value (got 0.0, actual 1.6826030015945435)\n",
      "solver outputs incorrect value (got 0.0, actual 0.4963805079460144)\n",
      "solver outputs incorrect value (got 0.0, actual 1.5431572198867798)\n",
      "solver outputs incorrect value (got 0.0, actual 1.2800849676132202)\n",
      "solver outputs incorrect value (got 0.0, actual 0.7751380205154419)\n",
      "solver outputs incorrect value (got 0.0, actual 0.9041266441345215)\n",
      "solver outputs incorrect value (got 0.0, actual 1.428283929824829)\n",
      "solver outputs incorrect value (got 0.0, actual 0.8014181852340698)\n",
      "solver outputs incorrect value (got 0.0, actual 1.454803466796875)\n",
      "solver outputs incorrect value (got 0.0, actual 1.3539083003997803)\n",
      "solver outputs incorrect value (got 0.0, actual 0.9452469944953918)\n",
      "solver outputs incorrect value (got 0.0, actual 1.017273187637329)\n",
      "solver outputs incorrect value (got 0.0, actual 0.24180549383163452)\n",
      "solver outputs incorrect value (got 0.0, actual 0.9817012548446655)\n",
      "solver outputs incorrect value (got 0.0, actual 1.3797892332077026)\n",
      "solver outputs incorrect value (got 0.0, actual 0.6965075135231018)\n",
      "solver outputs incorrect value (got 0.0, actual 1.5894505977630615)\n",
      "solver outputs incorrect value (got 0.0, actual 0.6526210308074951)\n",
      "solver outputs incorrect value (got 0.0, actual 0.6587061882019043)\n",
      "solver outputs incorrect value (got 0.0, actual 0.9593120813369751)\n",
      "solver outputs incorrect value (got 0.0, actual 1.772499442100525)\n",
      "solver outputs incorrect value (got 0.0, actual 1.2899389266967773)\n",
      "solver outputs incorrect value (got 0.0, actual 0.9129019379615784)\n",
      "solver outputs incorrect value (got 0.0, actual 1.0211150646209717)\n",
      "solver outputs incorrect value (got 0.0, actual 1.1110773086547852)\n",
      "solver outputs incorrect value (got 0.0, actual 1.419215440750122)\n",
      "solver outputs incorrect value (got 0.0, actual 1.0408494472503662)\n",
      "solver outputs incorrect value (got 0.0, actual 0.6367063522338867)\n",
      "solver outputs incorrect value (got 0.0, actual 0.7086845636367798)\n",
      "solver outputs incorrect value (got 0.0, actual 0.5393406748771667)\n",
      "solver outputs incorrect value (got 0.0, actual 0.6776663661003113)\n",
      "solver outputs incorrect value (got 0.0, actual 0.981348991394043)\n",
      "solver outputs incorrect value (got 0.0, actual 0.905552864074707)\n",
      "solver outputs incorrect value (got 0.0, actual 0.22271811962127686)\n",
      "solver outputs incorrect value (got 0.0, actual 0.9011970162391663)\n",
      "solver outputs incorrect value (got 0.0, actual 0.7259246110916138)\n",
      "solver outputs incorrect value (got 0.0, actual 0.3161599040031433)\n",
      "solver outputs incorrect value (got 0.0, actual 1.6294636726379395)\n",
      "solver outputs incorrect value (got 0.0, actual 0.7566920518875122)\n",
      "solver outputs incorrect value (got 0.0, actual 0.27210044860839844)\n",
      "solver outputs incorrect value (got 0.0, actual 0.9891254305839539)\n",
      "solver outputs incorrect value (got 0.0, actual 1.4171814918518066)\n",
      "solver outputs incorrect value (got 0.0, actual 1.18956458568573)\n",
      "solver outputs incorrect value (got 0.0, actual 0.6206068396568298)\n",
      "solver outputs incorrect value (got 0.0, actual 0.1546303629875183)\n",
      "solver outputs incorrect value (got 0.0, actual 1.302923321723938)\n",
      "solver outputs incorrect value (got 0.0, actual 1.271934986114502)\n",
      "solver outputs incorrect value (got 0.0, actual 0.6395633220672607)\n",
      "solver outputs incorrect value (got 0.0, actual 1.320699691772461)\n",
      "solver outputs incorrect value (got 0.0, actual 0.9724330306053162)\n",
      "solver outputs incorrect value (got 0.0, actual 1.2190214395523071)\n",
      "solver outputs incorrect value (got 0.0, actual 0.35426539182662964)\n",
      "solver outputs incorrect value (got 0.0, actual 1.0246798992156982)\n",
      "solver outputs incorrect value (got 0.0, actual 1.7036190032958984)\n",
      "solver outputs incorrect value (got 0.0, actual 1.1129734516143799)\n",
      "solver outputs incorrect value (got 0.0, actual 1.6195285320281982)\n",
      "solver outputs incorrect value (got 0.0, actual 1.7813310623168945)\n",
      "solver outputs incorrect value (got 0.0, actual 1.2023653984069824)\n",
      "solver outputs incorrect value (got 0.0, actual 0.33708781003952026)\n",
      "solver outputs incorrect value (got 0.0, actual 1.174925446510315)\n",
      "solver outputs incorrect value (got 0.0, actual 0.9433451294898987)\n",
      "solver outputs incorrect value (got 0.0, actual 1.2854421138763428)\n",
      "solver outputs incorrect value (got 0.0, actual 1.0912501811981201)\n",
      "solver outputs incorrect value (got 0.0, actual 1.1115634441375732)\n",
      "solver outputs incorrect value (got 0.0, actual 1.0361685752868652)\n",
      "solver outputs incorrect value (got 0.0, actual 1.3105500936508179)\n",
      "solver outputs incorrect value (got 0.0, actual 1.2672725915908813)\n",
      "solver outputs incorrect value (got 0.0, actual 1.0412355661392212)\n",
      "solver outputs incorrect value (got 0.0, actual 1.4886078834533691)\n",
      "solver outputs incorrect value (got 0.0, actual 1.587301254272461)\n",
      "solver outputs incorrect value (got 0.0, actual 1.0957553386688232)\n",
      "solver outputs incorrect value (got 0.0, actual 1.489046573638916)\n",
      "solver outputs incorrect value (got 0.0, actual 0.8603668212890625)\n",
      "solver outputs incorrect value (got 0.0, actual 1.0536894798278809)\n",
      "solver outputs incorrect value (got 0.0, actual 0.8979525566101074)\n",
      "solver outputs incorrect value (got 0.0, actual 0.7593198418617249)\n",
      "solver outputs incorrect value (got 0.0, actual 0.994431734085083)\n",
      "solver outputs incorrect value (got 0.0, actual 1.2395033836364746)\n",
      "solver outputs incorrect value (got 0.0, actual 0.7814933061599731)\n",
      "solver outputs incorrect value (got 0.0, actual 1.122908115386963)\n",
      "solver outputs incorrect value (got 0.0, actual 0.13299107551574707)\n",
      "solver outputs incorrect value (got 0.0, actual 1.4962000846862793)\n",
      "solver outputs incorrect value (got 0.0, actual 0.9955212473869324)\n",
      "solver outputs incorrect value (got 0.0, actual 1.0853103399276733)\n",
      "solver outputs incorrect value (got 0.0, actual 0.8889742493629456)\n",
      "solver outputs incorrect value (got 0.0, actual 0.835544764995575)\n",
      "solver outputs incorrect value (got 0.0, actual 1.1401861906051636)\n",
      "solver outputs incorrect value (got 0.0, actual 1.1618763208389282)\n",
      "solver outputs incorrect value (got 0.0, actual 1.1038529872894287)\n",
      "solver outputs incorrect value (got 0.0, actual 1.445746898651123)\n",
      "solver outputs incorrect value (got 0.0, actual 0.679107666015625)\n",
      "solver outputs incorrect value (got 0.0, actual 1.3896284103393555)\n",
      "solver outputs incorrect value (got 0.0, actual 1.267756700515747)\n",
      "solver outputs incorrect value (got 0.0, actual 0.8455168008804321)\n",
      "solver outputs incorrect value (got 0.0, actual 0.9938326478004456)\n",
      "solver outputs incorrect value (got 0.0, actual 0.6064766645431519)\n",
      "solver outputs incorrect value (got 0.0, actual 1.2766883373260498)\n",
      "solver outputs incorrect value (got 0.0, actual 1.4386101961135864)\n",
      "solver outputs incorrect value (got 0.0, actual 1.7826275825500488)\n",
      "solver outputs incorrect value (got 0.0, actual 0.9101486206054688)\n",
      "solver outputs incorrect value (got 0.0, actual 0.3603915572166443)\n",
      "solver outputs incorrect value (got 0.0, actual 0.8832026720046997)\n",
      "solver outputs incorrect value (got 0.0, actual 1.44524085521698)\n",
      "solver outputs incorrect value (got 0.0, actual 1.100630760192871)\n",
      "solver outputs incorrect value (got 0.0, actual 1.4562976360321045)\n",
      "solver outputs incorrect value (got 0.0, actual 0.6471970677375793)\n",
      "solver outputs incorrect value (got 0.0, actual 0.728741466999054)\n",
      "solver outputs incorrect value (got 0.0, actual 1.2569184303283691)\n",
      "solver outputs incorrect value (got 0.0, actual 0.7656054496765137)\n",
      "solver outputs incorrect value (got 0.0, actual 0.5519829392433167)\n",
      "solver outputs incorrect value (got 0.0, actual 0.4584495425224304)\n",
      "solver outputs incorrect value (got 0.0, actual 1.462146520614624)\n",
      "solver outputs incorrect value (got 0.0, actual 1.859910488128662)\n",
      "solver outputs incorrect value (got 0.0, actual 0.2290511131286621)\n",
      "solver outputs incorrect value (got 0.0, actual 0.9708379507064819)\n",
      "solver outputs incorrect value (got 0.0, actual 0.3978461027145386)\n",
      "solver outputs incorrect value (got 0.0, actual 1.0429545640945435)\n",
      "solver outputs incorrect value (got 0.0, actual 0.7920578122138977)\n",
      "solver outputs incorrect value (got 0.0, actual 1.0103330612182617)\n",
      "solver outputs incorrect value (got 0.0, actual 1.201237678527832)\n",
      "solver outputs incorrect value (got 0.0, actual 1.6112892627716064)\n",
      "solver outputs incorrect value (got 0.0, actual 1.669513463973999)\n",
      "solver outputs incorrect value (got 0.0, actual 0.8836857676506042)\n",
      "solver outputs incorrect value (got 0.0, actual 1.003105640411377)\n",
      "solver outputs incorrect value (got 0.0, actual 0.8027905225753784)\n",
      "solver outputs incorrect value (got 0.0, actual 0.5940056443214417)\n",
      "solver outputs incorrect value (got 0.0, actual 0.5738648772239685)\n",
      "solver outputs incorrect value (got 0.0, actual 0.9835562705993652)\n",
      "solver outputs incorrect value (got 0.0, actual 1.1058802604675293)\n",
      "solver outputs incorrect value (got 0.0, actual 1.0758448839187622)\n",
      "solver outputs incorrect value (got 0.0, actual 1.5550960302352905)\n",
      "solver outputs incorrect value (got 0.0, actual 1.1087048053741455)\n",
      "solver outputs incorrect value (got 0.0, actual 1.1510539054870605)\n",
      "solver outputs incorrect value (got 0.0, actual 0.846746563911438)\n",
      "solver outputs incorrect value (got 0.0, actual 0.5863373875617981)\n",
      "solver outputs incorrect value (got 0.0, actual 0.5238738656044006)\n",
      "solver outputs incorrect value (got 0.0, actual 1.0347875356674194)\n",
      "solver outputs incorrect value (got 0.0, actual 0.21518391370773315)\n",
      "solver outputs incorrect value (got 0.0, actual 1.9421814680099487)\n",
      "solver outputs incorrect value (got 0.0, actual 0.2328941822052002)\n",
      "solver outputs incorrect value (got 0.0, actual 0.8456910848617554)\n",
      "solver outputs incorrect value (got 0.0, actual 1.234140396118164)\n",
      "solver outputs incorrect value (got 0.0, actual 1.0297636985778809)\n",
      "solver outputs incorrect value (got 0.0, actual 0.7434618473052979)\n",
      "solver outputs incorrect value (got 0.0, actual 1.2960658073425293)\n",
      "solver outputs incorrect value (got 0.0, actual 1.0456606149673462)\n",
      "solver outputs incorrect value (got 0.0, actual 1.3290941715240479)\n",
      "solver outputs incorrect value (got 0.0, actual 0.8473039865493774)\n",
      "solver outputs incorrect value (got 0.0, actual 1.720682144165039)\n",
      "solver outputs incorrect value (got 0.0, actual 0.3132238984107971)\n",
      "solver outputs incorrect value (got 0.0, actual 0.7623981237411499)\n",
      "solver outputs incorrect value (got 0.0, actual 1.1826815605163574)\n",
      "solver outputs incorrect value (got 0.0, actual 1.19224214553833)\n",
      "solver outputs incorrect value (got 0.0, actual 1.2942767143249512)\n",
      "solver outputs incorrect value (got 0.0, actual 0.5262494087219238)\n",
      "solver outputs incorrect value (got 0.0, actual 0.9075484871864319)\n",
      "solver outputs incorrect value (got 0.0, actual 1.6377902030944824)\n",
      "solver outputs incorrect value (got 0.0, actual 0.872565746307373)\n",
      "solver outputs incorrect value (got 0.0, actual 0.6554777026176453)\n",
      "solver outputs incorrect value (got 0.0, actual 1.4070427417755127)\n",
      "solver outputs incorrect value (got 0.0, actual 1.2905397415161133)\n",
      "solver outputs incorrect value (got 0.0, actual 1.1429214477539062)\n",
      "solver outputs incorrect value (got 0.0, actual 1.2397079467773438)\n",
      "solver outputs incorrect value (got 0.0, actual 1.1616166830062866)\n",
      "solver outputs incorrect value (got 0.0, actual 0.5988866090774536)\n",
      "solver outputs incorrect value (got 0.0, actual 1.3557870388031006)\n",
      "solver outputs incorrect value (got 0.0, actual 1.2085984945297241)\n",
      "solver outputs incorrect value (got 0.0, actual 0.8709045052528381)\n",
      "solver outputs incorrect value (got 0.0, actual 1.1179741621017456)\n",
      "solver outputs incorrect value (got 0.0, actual 1.1760406494140625)\n",
      "solver outputs incorrect value (got 0.0, actual 1.3899039030075073)\n",
      "solver outputs incorrect value (got 0.0, actual 0.7620736360549927)\n",
      "solver outputs incorrect value (got 0.0, actual 1.3141865730285645)\n",
      "solver outputs incorrect value (got 0.0, actual 1.4425935745239258)\n",
      "solver outputs incorrect value (got 0.0, actual 1.266226053237915)\n",
      "solver outputs incorrect value (got 0.0, actual 0.8096094727516174)\n",
      "solver outputs incorrect value (got 0.0, actual 0.7898350358009338)\n"
     ]
    },
    {
     "name": "stdout",
     "output_type": "stream",
     "text": [
      "solver outputs incorrect value (got 0.0, actual 1.116976022720337)\n",
      "solver outputs incorrect value (got 0.0, actual 1.6025497913360596)\n",
      "solver outputs incorrect value (got 0.0, actual 1.251965045928955)\n",
      "solver outputs incorrect value (got 0.0, actual 0.48406660556793213)\n",
      "solver outputs incorrect value (got 0.0, actual 0.8928176760673523)\n",
      "solver outputs incorrect value (got 0.0, actual 1.3747265338897705)\n",
      "solver outputs incorrect value (got 0.0, actual 0.23623836040496826)\n",
      "solver outputs incorrect value (got 0.0, actual 1.2844254970550537)\n",
      "solver outputs incorrect value (got 0.0, actual 0.783585786819458)\n",
      "solver outputs incorrect value (got 0.0, actual 0.5020455121994019)\n",
      "solver outputs incorrect value (got 0.0, actual 0.7733113765716553)\n",
      "solver outputs incorrect value (got 0.0, actual 0.9910167455673218)\n",
      "solver outputs incorrect value (got 0.0, actual 1.3047263622283936)\n",
      "solver outputs incorrect value (got 0.0, actual 0.972539484500885)\n",
      "solver outputs incorrect value (got 0.0, actual 0.7959595918655396)\n",
      "solver outputs incorrect value (got 0.0, actual 0.17754769325256348)\n",
      "solver outputs incorrect value (got 0.0, actual 1.4906554222106934)\n",
      "solver outputs incorrect value (got 0.0, actual 0.8179165124893188)\n",
      "solver outputs incorrect value (got 0.0, actual 1.3893587589263916)\n",
      "solver outputs incorrect value (got 0.0, actual 0.522173285484314)\n",
      "solver outputs incorrect value (got 0.0, actual 0.7188437581062317)\n",
      "solver outputs incorrect value (got 0.0, actual 1.5361340045928955)\n",
      "solver outputs incorrect value (got 0.0, actual 0.3801286220550537)\n",
      "solver outputs incorrect value (got 0.0, actual 1.3246216773986816)\n",
      "solver outputs incorrect value (got 0.0, actual 0.7196343541145325)\n",
      "solver outputs incorrect value (got 0.0, actual 0.9324867129325867)\n",
      "solver outputs incorrect value (got 0.0, actual 0.7152957916259766)\n",
      "solver outputs incorrect value (got 0.0, actual 0.40644925832748413)\n",
      "solver outputs incorrect value (got 0.0, actual 0.7125948667526245)\n",
      "solver outputs incorrect value (got 0.0, actual 0.6253640055656433)\n",
      "solver outputs incorrect value (got 0.0, actual 0.12849241495132446)\n",
      "solver outputs incorrect value (got 0.0, actual 1.2534215450286865)\n",
      "solver outputs incorrect value (got 0.0, actual 0.7851263880729675)\n",
      "solver outputs incorrect value (got 0.0, actual 1.4951860904693604)\n",
      "solver outputs incorrect value (got 0.0, actual 1.377096176147461)\n",
      "solver outputs incorrect value (got 0.0, actual 1.2817652225494385)\n",
      "solver outputs incorrect value (got 0.0, actual 1.4802825450897217)\n",
      "solver outputs incorrect value (got 0.0, actual 0.7561604976654053)\n",
      "solver outputs incorrect value (got 0.0, actual 1.6688709259033203)\n",
      "solver outputs incorrect value (got 0.0, actual 0.4592466950416565)\n",
      "solver outputs incorrect value (got 0.0, actual 1.2382228374481201)\n",
      "solver outputs incorrect value (got 0.0, actual 1.0654346942901611)\n",
      "solver outputs incorrect value (got 0.0, actual 1.3336353302001953)\n",
      "solver outputs incorrect value (got 0.0, actual 1.8176817893981934)\n",
      "solver outputs incorrect value (got 0.0, actual 1.018634557723999)\n",
      "solver outputs incorrect value (got 0.0, actual 1.029195785522461)\n",
      "solver outputs incorrect value (got 0.0, actual 0.8240576386451721)\n",
      "solver outputs incorrect value (got 0.0, actual 0.08815240859985352)\n",
      "solver outputs incorrect value (got 0.0, actual 0.4907306432723999)\n",
      "solver outputs incorrect value (got 0.0, actual 1.2239371538162231)\n",
      "solver outputs incorrect value (got 0.0, actual 1.2360814809799194)\n",
      "solver outputs incorrect value (got 0.0, actual 1.0978364944458008)\n",
      "solver outputs incorrect value (got 0.0, actual 1.4775640964508057)\n",
      "solver outputs incorrect value (got 0.0, actual 0.6920446753501892)\n",
      "solver outputs incorrect value (got 0.0, actual 1.1477669477462769)\n",
      "solver outputs incorrect value (got 0.0, actual 1.085213541984558)\n",
      "solver outputs incorrect value (got 0.0, actual 0.575657069683075)\n",
      "solver outputs incorrect value (got 0.0, actual 1.1827260255813599)\n",
      "solver outputs incorrect value (got 0.0, actual 1.6875946521759033)\n",
      "solver outputs incorrect value (got 0.0, actual 1.8726181983947754)\n",
      "solver outputs incorrect value (got 0.0, actual 1.5826318264007568)\n",
      "solver outputs incorrect value (got 0.0, actual 0.9957996606826782)\n",
      "solver outputs incorrect value (got 0.0, actual 1.6380187273025513)\n",
      "solver outputs incorrect value (got 0.0, actual 0.9948316216468811)\n",
      "solver outputs incorrect value (got 0.0, actual 0.07647258043289185)\n",
      "solver outputs incorrect value (got 0.0, actual 1.4674744606018066)\n",
      "solver outputs incorrect value (got 0.0, actual 1.5333216190338135)\n",
      "solver outputs incorrect value (got 0.0, actual 0.9505852460861206)\n",
      "solver outputs incorrect value (got 0.0, actual 0.2059914469718933)\n",
      "solver outputs incorrect value (got 0.0, actual 0.8612282276153564)\n",
      "solver outputs incorrect value (got 0.0, actual 1.1985868215560913)\n",
      "solver outputs incorrect value (got 0.0, actual 1.1862514019012451)\n",
      "solver outputs incorrect value (got 0.0, actual 1.0982303619384766)\n",
      "solver outputs incorrect value (got 0.0, actual 0.4427880644798279)\n",
      "solver outputs incorrect value (got 0.0, actual 1.8048737049102783)\n",
      "solver outputs incorrect value (got 0.0, actual 0.742877185344696)\n",
      "solver outputs incorrect value (got 0.0, actual 1.413811206817627)\n",
      "solver outputs incorrect value (got 0.0, actual 1.1205956935882568)\n",
      "solver outputs incorrect value (got 0.0, actual 0.7107501029968262)\n",
      "solver outputs incorrect value (got 0.0, actual 0.8348889946937561)\n",
      "solver outputs incorrect value (got 0.0, actual 1.1776411533355713)\n",
      "solver outputs incorrect value (got 0.0, actual 1.2510850429534912)\n",
      "solver outputs incorrect value (got 0.0, actual 0.9556437134742737)\n",
      "solver outputs incorrect value (got 0.0, actual 1.565474033355713)\n",
      "solver outputs incorrect value (got 0.0, actual 1.6885935068130493)\n",
      "solver outputs incorrect value (got 0.0, actual 1.4983837604522705)\n",
      "solver outputs incorrect value (got 0.0, actual 0.5947239995002747)\n",
      "solver outputs incorrect value (got 0.0, actual 0.8344188332557678)\n",
      "solver outputs incorrect value (got 0.0, actual 1.1250255107879639)\n",
      "solver outputs incorrect value (got 0.0, actual 1.588498830795288)\n",
      "solver outputs incorrect value (got 0.0, actual 1.2218017578125)\n",
      "solver outputs incorrect value (got 0.0, actual 1.0052324533462524)\n",
      "solver outputs incorrect value (got 0.0, actual 1.1081023216247559)\n",
      "solver outputs incorrect value (got 0.0, actual 0.2782474160194397)\n",
      "solver outputs incorrect value (got 0.0, actual 0.9223981499671936)\n",
      "solver outputs incorrect value (got 0.0, actual 0.8918980360031128)\n",
      "solver outputs incorrect value (got 0.0, actual 0.35598665475845337)\n",
      "solver outputs incorrect value (got 0.0, actual 0.7402409911155701)\n",
      "solver outputs incorrect value (got 0.0, actual 0.9755281805992126)\n",
      "solver outputs incorrect value (got 0.0, actual 0.5822727680206299)\n",
      "solver outputs incorrect value (got 0.0, actual 0.9734957218170166)\n",
      "solver outputs incorrect value (got 0.0, actual 0.7852994203567505)\n",
      "solver outputs incorrect value (got 0.0, actual 0.9953212141990662)\n",
      "solver outputs incorrect value (got 0.0, actual 0.5578252077102661)\n",
      "solver outputs incorrect value (got 0.0, actual 1.8566111326217651)\n",
      "solver outputs incorrect value (got 0.0, actual 0.7875102162361145)\n",
      "solver outputs incorrect value (got 0.0, actual 1.2370448112487793)\n",
      "solver outputs incorrect value (got 0.0, actual 0.996137797832489)\n",
      "solver outputs incorrect value (got 0.0, actual 0.6470271944999695)\n",
      "solver outputs incorrect value (got 0.0, actual 1.1531476974487305)\n",
      "solver outputs incorrect value (got 0.0, actual 1.6808264255523682)\n",
      "solver outputs incorrect value (got 0.0, actual 1.3980873823165894)\n",
      "solver outputs incorrect value (got 0.0, actual 0.9884753823280334)\n",
      "solver outputs incorrect value (got 0.0, actual 1.0081202983856201)\n",
      "solver outputs incorrect value (got 0.0, actual 1.064199686050415)\n",
      "solver outputs incorrect value (got 0.0, actual 1.060164213180542)\n",
      "solver outputs incorrect value (got 0.0, actual 1.0650748014450073)\n",
      "solver outputs incorrect value (got 0.0, actual 1.0730206966400146)\n",
      "solver outputs incorrect value (got 0.0, actual 0.9815362095832825)\n",
      "solver outputs incorrect value (got 0.0, actual 1.095491886138916)\n",
      "solver outputs incorrect value (got 0.0, actual 1.8982187509536743)\n",
      "solver outputs incorrect value (got 0.0, actual 0.5366737246513367)\n",
      "solver outputs incorrect value (got 0.0, actual 0.5069034695625305)\n",
      "solver outputs incorrect value (got 0.0, actual 1.335675835609436)\n",
      "solver outputs incorrect value (got 0.0, actual 1.1429237127304077)\n",
      "solver outputs incorrect value (got 0.0, actual 1.0127437114715576)\n",
      "solver outputs incorrect value (got 0.0, actual 0.08806365728378296)\n",
      "solver outputs incorrect value (got 0.0, actual 0.8600659966468811)\n",
      "solver outputs incorrect value (got 0.0, actual 1.3778486251831055)\n",
      "solver outputs incorrect value (got 0.0, actual 1.0255725383758545)\n",
      "solver outputs incorrect value (got 0.0, actual 1.236490249633789)\n",
      "solver outputs incorrect value (got 0.0, actual 1.0739891529083252)\n",
      "solver outputs incorrect value (got 0.0, actual 1.0019526481628418)\n",
      "solver outputs incorrect value (got 0.0, actual 0.8895571827888489)\n",
      "solver outputs incorrect value (got 0.0, actual 1.2353839874267578)\n",
      "solver outputs incorrect value (got 0.0, actual 0.22706782817840576)\n",
      "solver outputs incorrect value (got 0.0, actual 0.22475886344909668)\n",
      "solver outputs incorrect value (got 0.0, actual 0.8102483749389648)\n",
      "solver outputs incorrect value (got 0.0, actual 0.9292700290679932)\n",
      "solver outputs incorrect value (got 0.0, actual 1.406968355178833)\n",
      "solver outputs incorrect value (got 0.0, actual 1.0200409889221191)\n",
      "solver outputs incorrect value (got 0.0, actual 1.4423916339874268)\n",
      "solver outputs incorrect value (got 0.0, actual 1.2358424663543701)\n",
      "solver outputs incorrect value (got 0.0, actual 0.288071870803833)\n",
      "solver outputs incorrect value (got 0.0, actual 0.4734261631965637)\n",
      "solver outputs incorrect value (got 0.0, actual 0.6359180212020874)\n",
      "solver outputs incorrect value (got 0.0, actual 0.6126826405525208)\n",
      "solver outputs incorrect value (got 0.0, actual 1.6616697311401367)\n",
      "solver outputs incorrect value (got 0.0, actual 1.142623782157898)\n",
      "solver outputs incorrect value (got 0.0, actual 1.0416855812072754)\n",
      "solver outputs incorrect value (got 0.0, actual 1.1513819694519043)\n",
      "solver outputs incorrect value (got 0.0, actual 0.9563437104225159)\n",
      "solver outputs incorrect value (got 0.0, actual 1.3217816352844238)\n",
      "solver outputs incorrect value (got 0.0, actual 0.25703132152557373)\n",
      "solver outputs incorrect value (got 0.0, actual 1.3671908378601074)\n",
      "solver outputs incorrect value (got 0.0, actual 1.2682045698165894)\n",
      "solver outputs incorrect value (got 0.0, actual 0.5154297351837158)\n",
      "solver outputs incorrect value (got 0.0, actual 1.095212459564209)\n",
      "solver outputs incorrect value (got 0.0, actual 0.4362875819206238)\n",
      "solver outputs incorrect value (got 0.0, actual 0.5881637930870056)\n",
      "solver outputs incorrect value (got 0.0, actual 1.3978157043457031)\n",
      "solver outputs incorrect value (got 0.0, actual 1.1901140213012695)\n",
      "solver outputs incorrect value (got 0.0, actual 0.7959522604942322)\n",
      "solver outputs incorrect value (got 0.0, actual 1.4768447875976562)\n",
      "solver outputs incorrect value (got 0.0, actual 0.9652528166770935)\n",
      "solver outputs incorrect value (got 0.0, actual 0.9015235304832458)\n",
      "solver outputs incorrect value (got 0.0, actual 1.9699335098266602)\n",
      "solver outputs incorrect value (got 0.0, actual 1.6636779308319092)\n",
      "solver outputs incorrect value (got 0.0, actual 1.4604215621948242)\n",
      "solver outputs incorrect value (got 0.0, actual 1.2431013584136963)\n",
      "solver outputs incorrect value (got 0.0, actual 1.1454553604125977)\n",
      "solver outputs incorrect value (got 0.0, actual 0.6733429431915283)\n",
      "solver outputs incorrect value (got 0.0, actual 0.8559903502464294)\n",
      "solver outputs incorrect value (got 0.0, actual 1.6744252443313599)\n",
      "solver outputs incorrect value (got 0.0, actual 1.5529297590255737)\n",
      "solver outputs incorrect value (got 0.0, actual 0.16077089309692383)\n",
      "solver outputs incorrect value (got 0.0, actual 1.0686575174331665)\n",
      "solver outputs incorrect value (got 0.0, actual 1.0403823852539062)\n",
      "solver outputs incorrect value (got 0.0, actual 0.4111078977584839)\n",
      "solver outputs incorrect value (got 0.0, actual 1.0324804782867432)\n",
      "solver outputs incorrect value (got 0.0, actual 1.5243725776672363)\n",
      "solver outputs incorrect value (got 0.0, actual 0.9241636991500854)\n",
      "solver outputs incorrect value (got 0.0, actual 1.411084771156311)\n",
      "solver outputs incorrect value (got 0.0, actual 1.0778377056121826)\n",
      "solver outputs incorrect value (got 0.0, actual 0.2566598057746887)\n",
      "solver outputs incorrect value (got 0.0, actual 1.2707622051239014)\n",
      "solver outputs incorrect value (got 0.0, actual 0.9687120914459229)\n",
      "solver outputs incorrect value (got 0.0, actual 1.485278844833374)\n",
      "solver outputs incorrect value (got 0.0, actual 1.2268712520599365)\n",
      "solver outputs incorrect value (got 0.0, actual 0.9221168160438538)\n",
      "solver outputs incorrect value (got 0.0, actual 0.7357192635536194)\n",
      "solver outputs incorrect value (got 0.0, actual 0.683407187461853)\n",
      "solver outputs incorrect value (got 0.0, actual 0.8671112060546875)\n",
      "solver outputs incorrect value (got 0.0, actual 0.7758625745773315)\n",
      "solver outputs incorrect value (got 0.0, actual 0.6396552324295044)\n",
      "solver outputs incorrect value (got 0.0, actual 1.0695948600769043)\n",
      "solver outputs incorrect value (got 0.0, actual 1.4022810459136963)\n",
      "solver outputs incorrect value (got 0.0, actual 1.295100450515747)\n",
      "solver outputs incorrect value (got 0.0, actual 1.7294435501098633)\n",
      "solver outputs incorrect value (got 0.0, actual 0.6504208445549011)\n",
      "solver outputs incorrect value (got 0.0, actual 1.7654669284820557)\n",
      "solver outputs incorrect value (got 0.0, actual 0.9662758708000183)\n",
      "solver outputs incorrect value (got 0.0, actual 0.4883837103843689)\n",
      "solver outputs incorrect value (got 0.0, actual 0.7620238661766052)\n",
      "solver outputs incorrect value (got 0.0, actual 0.5341611504554749)\n",
      "solver outputs incorrect value (got 0.0, actual 1.5552585124969482)\n",
      "solver outputs incorrect value (got 0.0, actual 0.8573707938194275)\n",
      "solver outputs incorrect value (got 0.0, actual 0.5484129786491394)\n",
      "solver outputs incorrect value (got 0.0, actual 1.1701295375823975)\n",
      "solver outputs incorrect value (got 0.0, actual 1.4019315242767334)\n",
      "solver outputs incorrect value (got 0.0, actual 0.8346520662307739)\n",
      "solver outputs incorrect value (got 0.0, actual 1.3661019802093506)\n",
      "solver outputs incorrect value (got 0.0, actual 1.726036787033081)\n"
     ]
    },
    {
     "name": "stdout",
     "output_type": "stream",
     "text": [
      "solver outputs incorrect value (got 0.0, actual 0.5537116527557373)\n",
      "solver outputs incorrect value (got 0.0, actual 1.555720329284668)\n",
      "solver outputs incorrect value (got 0.0, actual 0.952050507068634)\n",
      "solver outputs incorrect value (got 0.0, actual 0.8886042833328247)\n",
      "solver outputs incorrect value (got 0.0, actual 1.3893954753875732)\n",
      "solver outputs incorrect value (got 0.0, actual 0.39839112758636475)\n",
      "solver outputs incorrect value (got 0.0, actual 1.106415033340454)\n",
      "solver outputs incorrect value (got 0.0, actual 0.22804951667785645)\n",
      "solver outputs incorrect value (got 0.0, actual 1.2880055904388428)\n",
      "solver outputs incorrect value (got 0.0, actual 1.6346728801727295)\n",
      "solver outputs incorrect value (got 0.0, actual 1.2467255592346191)\n",
      "solver outputs incorrect value (got 0.0, actual 1.1806447505950928)\n",
      "solver outputs incorrect value (got 0.0, actual 1.6041009426116943)\n",
      "solver outputs incorrect value (got 0.0, actual 1.435098648071289)\n",
      "solver outputs incorrect value (got 0.0, actual 0.30726033449172974)\n",
      "solver outputs incorrect value (got 0.0, actual 1.6782171726226807)\n",
      "solver outputs incorrect value (got 0.0, actual 0.9091533422470093)\n",
      "solver outputs incorrect value (got 0.0, actual 1.5228562355041504)\n",
      "solver outputs incorrect value (got 0.0, actual 1.3526041507720947)\n",
      "solver outputs incorrect value (got 0.0, actual 1.1852481365203857)\n",
      "solver outputs incorrect value (got 0.0, actual 0.8856881856918335)\n",
      "solver outputs incorrect value (got 0.0, actual 0.6398930549621582)\n",
      "solver outputs incorrect value (got 0.0, actual 1.6013859510421753)\n",
      "solver outputs incorrect value (got 0.0, actual 0.6879456043243408)\n",
      "solver outputs incorrect value (got 0.0, actual 0.9667931199073792)\n",
      "solver outputs incorrect value (got 0.0, actual 1.6792078018188477)\n",
      "solver outputs incorrect value (got 0.0, actual 1.401768684387207)\n",
      "solver outputs incorrect value (got 0.0, actual 0.6891391277313232)\n",
      "solver outputs incorrect value (got 0.0, actual 1.2368131875991821)\n",
      "solver outputs incorrect value (got 0.0, actual 1.4620592594146729)\n",
      "solver outputs incorrect value (got 0.0, actual 0.6292159557342529)\n",
      "solver outputs incorrect value (got 0.0, actual 0.7760111093521118)\n",
      "solver outputs incorrect value (got 0.0, actual 1.4158929586410522)\n",
      "solver outputs incorrect value (got 0.0, actual 0.9770673513412476)\n",
      "solver outputs incorrect value (got 0.0, actual 1.0411032438278198)\n",
      "solver outputs incorrect value (got 0.0, actual 0.4443879723548889)\n",
      "solver outputs incorrect value (got 0.0, actual 0.8730358481407166)\n",
      "solver outputs incorrect value (got 0.0, actual 1.646953821182251)\n",
      "solver outputs incorrect value (got 0.0, actual 0.2566928267478943)\n",
      "solver outputs incorrect value (got 0.0, actual 0.8445433378219604)\n",
      "solver outputs incorrect value (got 0.0, actual 1.8404197692871094)\n",
      "solver outputs incorrect value (got 0.0, actual 0.636258065700531)\n",
      "solver outputs incorrect value (got 0.0, actual 1.7238457202911377)\n",
      "solver outputs incorrect value (got 0.0, actual 1.2623867988586426)\n",
      "solver outputs incorrect value (got 0.0, actual 1.0497288703918457)\n",
      "solver outputs incorrect value (got 0.0, actual 1.634019136428833)\n",
      "solver outputs incorrect value (got 0.0, actual 0.26542991399765015)\n",
      "solver outputs incorrect value (got 0.0, actual 0.947191059589386)\n",
      "solver outputs incorrect value (got 0.0, actual 0.275201678276062)\n",
      "solver outputs incorrect value (got 0.0, actual 0.5741124153137207)\n",
      "solver outputs incorrect value (got 0.0, actual 1.4382593631744385)\n",
      "solver outputs incorrect value (got 0.0, actual 0.7012500762939453)\n",
      "solver outputs incorrect value (got 0.0, actual 1.0097441673278809)\n",
      "solver outputs incorrect value (got 0.0, actual 0.7461916208267212)\n",
      "solver outputs incorrect value (got 0.0, actual 0.695024311542511)\n",
      "solver outputs incorrect value (got 0.0, actual 1.175872802734375)\n",
      "solver outputs incorrect value (got 0.0, actual 0.5508878827095032)\n",
      "solver outputs incorrect value (got 0.0, actual 0.6455585956573486)\n",
      "solver outputs incorrect value (got 0.0, actual 1.9231960773468018)\n",
      "solver outputs incorrect value (got 0.0, actual 1.1169812679290771)\n",
      "solver outputs incorrect value (got 0.0, actual 0.4528466463088989)\n",
      "solver outputs incorrect value (got 0.0, actual 1.0120744705200195)\n",
      "solver outputs incorrect value (got 0.0, actual 1.1261634826660156)\n",
      "solver outputs incorrect value (got 0.0, actual 1.1014132499694824)\n",
      "solver outputs incorrect value (got 0.0, actual 0.20870733261108398)\n",
      "solver outputs incorrect value (got 0.0, actual 0.7979999780654907)\n",
      "solver outputs incorrect value (got 0.0, actual 1.467718243598938)\n",
      "solver outputs incorrect value (got 0.0, actual 1.5448675155639648)\n",
      "solver outputs incorrect value (got 0.0, actual 1.3145084381103516)\n",
      "solver outputs incorrect value (got 0.0, actual 1.3919520378112793)\n",
      "solver outputs incorrect value (got 0.0, actual 1.0778563022613525)\n",
      "solver outputs incorrect value (got 0.0, actual 0.28873181343078613)\n",
      "solver outputs incorrect value (got 0.0, actual 0.6692044138908386)\n",
      "solver outputs incorrect value (got 0.0, actual 0.3597373366355896)\n",
      "solver outputs incorrect value (got 0.0, actual 1.0770066976547241)\n",
      "solver outputs incorrect value (got 0.0, actual 0.6710272431373596)\n",
      "solver outputs incorrect value (got 0.0, actual 0.6718360781669617)\n",
      "solver outputs incorrect value (got 0.0, actual 1.259003758430481)\n",
      "solver outputs incorrect value (got 0.0, actual 1.0619522333145142)\n",
      "solver outputs incorrect value (got 0.0, actual 0.9362317323684692)\n",
      "solver outputs incorrect value (got 0.0, actual 1.3214789628982544)\n",
      "solver outputs incorrect value (got 0.0, actual 1.0606400966644287)\n",
      "solver outputs incorrect value (got 0.0, actual 0.841306209564209)\n",
      "solver outputs incorrect value (got 0.0, actual 1.25065016746521)\n",
      "solver outputs incorrect value (got 0.0, actual 0.8184318542480469)\n",
      "solver outputs incorrect value (got 0.0, actual 1.2940807342529297)\n",
      "solver outputs incorrect value (got 0.0, actual 1.130831241607666)\n",
      "solver outputs incorrect value (got 0.0, actual 0.8208748698234558)\n",
      "solver outputs incorrect value (got 0.0, actual 1.6100871562957764)\n",
      "solver outputs incorrect value (got 0.0, actual 1.495391845703125)\n",
      "solver outputs incorrect value (got 0.0, actual 1.1083097457885742)\n",
      "solver outputs incorrect value (got 0.0, actual 1.2489266395568848)\n",
      "solver outputs incorrect value (got 0.0, actual 0.6511462926864624)\n",
      "solver outputs incorrect value (got 0.0, actual 1.297717571258545)\n",
      "solver outputs incorrect value (got 0.0, actual 0.3296646475791931)\n",
      "solver outputs incorrect value (got 0.0, actual 1.409397006034851)\n",
      "solver outputs incorrect value (got 0.0, actual 0.6466819047927856)\n",
      "solver outputs incorrect value (got 0.0, actual 0.8457362651824951)\n",
      "solver outputs incorrect value (got 0.0, actual 1.0563688278198242)\n",
      "solver outputs incorrect value (got 0.0, actual 1.2681596279144287)\n",
      "solver outputs incorrect value (got 0.0, actual 1.2884279489517212)\n",
      "solver outputs incorrect value (got 0.0, actual 1.0042803287506104)\n",
      "solver outputs incorrect value (got 0.0, actual 0.7993423938751221)\n",
      "solver outputs incorrect value (got 0.0, actual 1.0865392684936523)\n",
      "solver outputs incorrect value (got 0.0, actual 0.8102158904075623)\n",
      "solver outputs incorrect value (got 0.0, actual 0.5508291721343994)\n",
      "solver outputs incorrect value (got 0.0, actual 1.0558067560195923)\n",
      "solver outputs incorrect value (got 0.0, actual 1.279613733291626)\n",
      "solver outputs incorrect value (got 0.0, actual 1.1074254512786865)\n",
      "solver outputs incorrect value (got 0.0, actual 0.5535728931427002)\n",
      "solver outputs incorrect value (got 0.0, actual 1.1983509063720703)\n",
      "solver outputs incorrect value (got 0.0, actual 0.8858761787414551)\n",
      "solver outputs incorrect value (got 0.0, actual 0.6676851511001587)\n",
      "solver outputs incorrect value (got 0.0, actual 0.361191987991333)\n",
      "solver outputs incorrect value (got 0.0, actual 0.39376771450042725)\n",
      "solver outputs incorrect value (got 0.0, actual 0.43313026428222656)\n",
      "solver outputs incorrect value (got 0.0, actual 1.651374101638794)\n",
      "solver outputs incorrect value (got 0.0, actual 0.42540448904037476)\n",
      "solver outputs incorrect value (got 0.0, actual 0.7440176010131836)\n",
      "solver outputs incorrect value (got 0.0, actual 1.0363163948059082)\n",
      "solver outputs incorrect value (got 0.0, actual 1.0146195888519287)\n",
      "solver outputs incorrect value (got 0.0, actual 1.6608738899230957)\n",
      "solver outputs incorrect value (got 0.0, actual 0.7740679383277893)\n",
      "solver outputs incorrect value (got 0.0, actual 0.7523484230041504)\n",
      "solver outputs incorrect value (got 0.0, actual 0.9492239356040955)\n",
      "solver outputs incorrect value (got 0.0, actual 1.3366448879241943)\n",
      "solver outputs incorrect value (got 0.0, actual 1.1614933013916016)\n",
      "solver outputs incorrect value (got 0.0, actual 0.6616055965423584)\n",
      "solver outputs incorrect value (got 0.0, actual 0.5854176878929138)\n",
      "solver outputs incorrect value (got 0.0, actual 0.7922890782356262)\n",
      "solver outputs incorrect value (got 0.0, actual 1.854222059249878)\n",
      "solver outputs incorrect value (got 0.0, actual 0.37602001428604126)\n",
      "solver outputs incorrect value (got 0.0, actual 0.9174642562866211)\n",
      "solver outputs incorrect value (got 0.0, actual 0.922011137008667)\n",
      "solver outputs incorrect value (got 0.0, actual 1.348749041557312)\n",
      "solver outputs incorrect value (got 0.0, actual 0.3202304244041443)\n",
      "solver outputs incorrect value (got 0.0, actual 1.4788620471954346)\n",
      "solver outputs incorrect value (got 0.0, actual 0.038173139095306396)\n",
      "solver outputs incorrect value (got 0.0, actual 1.359165906906128)\n",
      "solver outputs incorrect value (got 0.0, actual 1.0426900386810303)\n",
      "solver outputs incorrect value (got 0.0, actual 0.8097289204597473)\n",
      "solver outputs incorrect value (got 0.0, actual 0.9119206666946411)\n",
      "solver outputs incorrect value (got 0.0, actual 0.7621291875839233)\n",
      "solver outputs incorrect value (got 0.0, actual 1.4934988021850586)\n",
      "solver outputs incorrect value (got 0.0, actual 0.5876094102859497)\n",
      "solver outputs incorrect value (got 0.0, actual 1.1509801149368286)\n",
      "solver outputs incorrect value (got 0.0, actual 1.8411314487457275)\n",
      "solver outputs incorrect value (got 0.0, actual 0.6865225434303284)\n",
      "solver outputs incorrect value (got 0.0, actual 1.563380479812622)\n",
      "solver outputs incorrect value (got 0.0, actual 1.1776373386383057)\n",
      "solver outputs incorrect value (got 0.0, actual 1.2373323440551758)\n",
      "solver outputs incorrect value (got 0.0, actual 1.2881543636322021)\n",
      "solver outputs incorrect value (got 0.0, actual 0.6055458784103394)\n",
      "solver outputs incorrect value (got 0.0, actual 1.9500813484191895)\n",
      "solver outputs incorrect value (got 0.0, actual 1.698697566986084)\n",
      "solver outputs incorrect value (got 0.0, actual 0.198952317237854)\n",
      "solver outputs incorrect value (got 0.0, actual 0.9911504983901978)\n",
      "solver outputs incorrect value (got 0.0, actual 0.514086127281189)\n",
      "solver outputs incorrect value (got 0.0, actual 0.8986443877220154)\n",
      "solver outputs incorrect value (got 0.0, actual 0.6045798063278198)\n",
      "solver outputs incorrect value (got 0.0, actual 0.9968848824501038)\n",
      "solver outputs incorrect value (got 0.0, actual 1.1808693408966064)\n",
      "solver outputs incorrect value (got 0.0, actual 1.0594005584716797)\n",
      "solver outputs incorrect value (got 0.0, actual 0.9655002951622009)\n",
      "solver outputs incorrect value (got 0.0, actual 0.7749545574188232)\n",
      "solver outputs incorrect value (got 0.0, actual 0.9621382355690002)\n",
      "solver outputs incorrect value (got 0.0, actual 0.8780770897865295)\n",
      "solver outputs incorrect value (got 0.0, actual 1.0317349433898926)\n",
      "solver outputs incorrect value (got 0.0, actual 0.8328103423118591)\n",
      "solver outputs incorrect value (got 0.0, actual 1.515756368637085)\n",
      "solver outputs incorrect value (got 0.0, actual 0.5095289945602417)\n",
      "solver outputs incorrect value (got 0.0, actual 1.1804308891296387)\n",
      "solver outputs incorrect value (got 0.0, actual 0.8606181740760803)\n",
      "solver outputs incorrect value (got 0.0, actual 0.9936255216598511)\n",
      "solver outputs incorrect value (got 0.0, actual 1.0911598205566406)\n",
      "solver outputs incorrect value (got 0.0, actual 0.3971112370491028)\n",
      "solver outputs incorrect value (got 0.0, actual 1.2433526515960693)\n",
      "solver outputs incorrect value (got 0.0, actual 0.5165951251983643)\n",
      "solver outputs incorrect value (got 0.0, actual 1.159853458404541)\n",
      "solver outputs incorrect value (got 0.0, actual 1.7158873081207275)\n",
      "solver outputs incorrect value (got 0.0, actual 0.3259105682373047)\n",
      "solver outputs incorrect value (got 0.0, actual 0.4226958155632019)\n",
      "solver outputs incorrect value (got 0.0, actual 1.1102654933929443)\n",
      "solver outputs incorrect value (got 0.0, actual 1.0605684518814087)\n",
      "solver outputs incorrect value (got 0.0, actual 0.12159740924835205)\n",
      "solver outputs incorrect value (got 0.0, actual 0.7291993498802185)\n",
      "solver outputs incorrect value (got 0.0, actual 1.7380952835083008)\n",
      "solver outputs incorrect value (got 0.0, actual 0.0806766152381897)\n",
      "solver outputs incorrect value (got 0.0, actual 1.0530247688293457)\n",
      "solver outputs incorrect value (got 0.0, actual 0.9206289052963257)\n",
      "solver outputs incorrect value (got 0.0, actual 0.7953602075576782)\n",
      "solver outputs incorrect value (got 0.0, actual 0.7715140581130981)\n",
      "solver outputs incorrect value (got 0.0, actual 0.7998131513595581)\n",
      "solver outputs incorrect value (got 0.0, actual 0.6765719652175903)\n",
      "solver outputs incorrect value (got 0.0, actual 1.2679967880249023)\n",
      "solver outputs incorrect value (got 0.0, actual 1.1388278007507324)\n",
      "solver outputs incorrect value (got 0.0, actual 1.2993031740188599)\n",
      "solver outputs incorrect value (got 0.0, actual 1.125388264656067)\n",
      "solver outputs incorrect value (got 0.0, actual 0.6680446267127991)\n",
      "solver outputs incorrect value (got 0.0, actual 1.1323132514953613)\n",
      "solver outputs incorrect value (got 0.0, actual 0.47551071643829346)\n",
      "solver outputs incorrect value (got 0.0, actual 0.5635548830032349)\n",
      "solver outputs incorrect value (got 0.0, actual 0.7133461833000183)\n",
      "solver outputs incorrect value (got 0.0, actual 1.2700351476669312)\n",
      "solver outputs incorrect value (got 0.0, actual 0.6856128573417664)\n",
      "solver outputs incorrect value (got 0.0, actual 1.6909778118133545)\n",
      "solver outputs incorrect value (got 0.0, actual 0.8156439661979675)\n",
      "solver outputs incorrect value (got 0.0, actual 0.5443822741508484)\n",
      "solver outputs incorrect value (got 0.0, actual 1.0705119371414185)\n",
      "solver outputs incorrect value (got 0.0, actual 0.3404865860939026)\n",
      "solver outputs incorrect value (got 0.0, actual 1.6451430320739746)\n",
      "solver outputs incorrect value (got 0.0, actual 0.4543107748031616)\n",
      "solver outputs incorrect value (got 0.0, actual 0.9830373525619507)\n",
      "solver outputs incorrect value (got 0.0, actual 0.49619442224502563)\n",
      "solver outputs incorrect value (got 0.0, actual 1.1729180812835693)\n"
     ]
    },
    {
     "name": "stdout",
     "output_type": "stream",
     "text": [
      "solver outputs incorrect value (got 0.0, actual 0.9241794943809509)\n",
      "solver outputs incorrect value (got 0.0, actual 1.6144425868988037)\n",
      "solver outputs incorrect value (got 0.0, actual 0.6352953910827637)\n",
      "solver outputs incorrect value (got 0.0, actual 1.4691343307495117)\n",
      "solver outputs incorrect value (got 0.0, actual 1.4634774923324585)\n",
      "solver outputs incorrect value (got 0.0, actual 0.8580801486968994)\n",
      "solver outputs incorrect value (got 0.0, actual 0.5397849678993225)\n",
      "solver outputs incorrect value (got 0.0, actual 0.8934986591339111)\n",
      "solver outputs incorrect value (got 0.0, actual 1.142599105834961)\n",
      "solver outputs incorrect value (got 0.0, actual 1.5352067947387695)\n",
      "solver outputs incorrect value (got 0.0, actual 1.7866652011871338)\n",
      "solver outputs incorrect value (got 0.0, actual 0.6263872385025024)\n",
      "solver outputs incorrect value (got 0.0, actual 0.9841302633285522)\n",
      "solver outputs incorrect value (got 0.0, actual 1.013549566268921)\n",
      "solver outputs incorrect value (got 0.0, actual 0.6885631084442139)\n",
      "solver outputs incorrect value (got 0.0, actual 0.7247188687324524)\n",
      "solver outputs incorrect value (got 0.0, actual 0.9297004342079163)\n",
      "solver outputs incorrect value (got 0.0, actual 0.9366344213485718)\n",
      "solver outputs incorrect value (got 0.0, actual 0.9814285039901733)\n",
      "solver outputs incorrect value (got 0.0, actual 1.097062349319458)\n",
      "solver outputs incorrect value (got 0.0, actual 1.330013632774353)\n",
      "solver outputs incorrect value (got 0.0, actual 0.8568149209022522)\n",
      "solver outputs incorrect value (got 0.0, actual 0.3410462737083435)\n",
      "solver outputs incorrect value (got 0.0, actual 1.2506721019744873)\n",
      "solver outputs incorrect value (got 0.0, actual 1.1012789011001587)\n",
      "solver outputs incorrect value (got 0.0, actual 0.821607232093811)\n",
      "solver outputs incorrect value (got 0.0, actual 0.7059639692306519)\n",
      "solver outputs incorrect value (got 0.0, actual 0.8363550305366516)\n",
      "solver outputs incorrect value (got 0.0, actual 1.13844633102417)\n",
      "solver outputs incorrect value (got 0.0, actual 0.8536742925643921)\n",
      "solver outputs incorrect value (got 0.0, actual 1.5192559957504272)\n",
      "solver outputs incorrect value (got 0.0, actual 0.5041760206222534)\n",
      "solver outputs incorrect value (got 0.0, actual 1.6346274614334106)\n",
      "solver outputs incorrect value (got 0.0, actual 1.2525925636291504)\n",
      "solver outputs incorrect value (got 0.0, actual 1.0858769416809082)\n",
      "solver outputs incorrect value (got 0.0, actual 0.742148220539093)\n",
      "solver outputs incorrect value (got 0.0, actual 1.2666352987289429)\n",
      "solver outputs incorrect value (got 0.0, actual 1.2146484851837158)\n",
      "solver outputs incorrect value (got 0.0, actual 0.7689220309257507)\n",
      "solver outputs incorrect value (got 0.0, actual 0.8252059817314148)\n",
      "solver outputs incorrect value (got 0.0, actual 0.6426905393600464)\n",
      "solver outputs incorrect value (got 0.0, actual 1.8669072389602661)\n",
      "solver outputs incorrect value (got 0.0, actual 0.2984539270401001)\n",
      "solver outputs incorrect value (got 0.0, actual 0.7770432829856873)\n",
      "solver outputs incorrect value (got 0.0, actual 0.9352506399154663)\n",
      "solver outputs incorrect value (got 0.0, actual 1.053992509841919)\n",
      "solver outputs incorrect value (got 0.0, actual 0.8694609999656677)\n",
      "solver outputs incorrect value (got 0.0, actual 1.1781963109970093)\n",
      "solver outputs incorrect value (got 0.0, actual 0.8711844682693481)\n",
      "solver outputs incorrect value (got 0.0, actual 0.6562447547912598)\n",
      "solver outputs incorrect value (got 0.0, actual 1.7117316722869873)\n",
      "solver outputs incorrect value (got 0.0, actual 1.4238715171813965)\n",
      "solver outputs incorrect value (got 0.0, actual 0.824815034866333)\n",
      "solver outputs incorrect value (got 0.0, actual 0.999894380569458)\n",
      "solver outputs incorrect value (got 0.0, actual 0.7116393446922302)\n",
      "solver outputs incorrect value (got 0.0, actual 0.3386800289154053)\n",
      "solver outputs incorrect value (got 0.0, actual 0.9381362199783325)\n",
      "solver outputs incorrect value (got 0.0, actual 1.558896780014038)\n",
      "solver outputs incorrect value (got 0.0, actual 1.0295586585998535)\n",
      "solver outputs incorrect value (got 0.0, actual 1.1821033954620361)\n",
      "solver outputs incorrect value (got 0.0, actual 1.2414309978485107)\n",
      "solver outputs incorrect value (got 0.0, actual 0.8151870965957642)\n",
      "solver outputs incorrect value (got 0.0, actual 1.5913903713226318)\n",
      "solver outputs incorrect value (got 0.0, actual 1.6712156534194946)\n",
      "solver outputs incorrect value (got 0.0, actual 1.860878348350525)\n",
      "solver outputs incorrect value (got 0.0, actual 0.6911970973014832)\n",
      "solver outputs incorrect value (got 0.0, actual 0.9660871624946594)\n",
      "solver outputs incorrect value (got 0.0, actual 0.7606364488601685)\n",
      "solver outputs incorrect value (got 0.0, actual 1.2785454988479614)\n",
      "solver outputs incorrect value (got 0.0, actual 1.4073528051376343)\n",
      "solver outputs incorrect value (got 0.0, actual 1.0446001291275024)\n",
      "solver outputs incorrect value (got 0.0, actual 1.0448065996170044)\n",
      "solver outputs incorrect value (got 0.0, actual 1.2621467113494873)\n",
      "solver outputs incorrect value (got 0.0, actual 0.6726945638656616)\n",
      "solver outputs incorrect value (got 0.0, actual 0.719123363494873)\n",
      "solver outputs incorrect value (got 0.0, actual 0.2364022135734558)\n",
      "solver outputs incorrect value (got 0.0, actual 0.34088677167892456)\n",
      "solver outputs incorrect value (got 0.0, actual 1.0240232944488525)\n",
      "solver outputs incorrect value (got 0.0, actual 0.2074182629585266)\n",
      "solver outputs incorrect value (got 0.0, actual 1.1842337846755981)\n",
      "solver outputs incorrect value (got 0.0, actual 1.2748607397079468)\n",
      "solver outputs incorrect value (got 0.0, actual 1.4818837642669678)\n",
      "solver outputs incorrect value (got 0.0, actual 0.22816580533981323)\n",
      "solver outputs incorrect value (got 0.0, actual 0.8631742000579834)\n",
      "solver outputs incorrect value (got 0.0, actual 1.0602049827575684)\n",
      "solver outputs incorrect value (got 0.0, actual 0.21411895751953125)\n",
      "solver outputs incorrect value (got 0.0, actual 0.5007883906364441)\n",
      "solver outputs incorrect value (got 0.0, actual 0.06841522455215454)\n",
      "solver outputs incorrect value (got 0.0, actual 0.9846059083938599)\n",
      "solver outputs incorrect value (got 0.0, actual 0.4645637273788452)\n",
      "solver outputs incorrect value (got 0.0, actual 1.6231145858764648)\n",
      "solver outputs incorrect value (got 0.0, actual 1.4349716901779175)\n",
      "solver outputs incorrect value (got 0.0, actual 0.8039231300354004)\n",
      "solver outputs incorrect value (got 0.0, actual 0.5086115598678589)\n",
      "solver outputs incorrect value (got 0.0, actual 0.7257330417633057)\n",
      "solver outputs incorrect value (got 0.0, actual 1.398862361907959)\n",
      "solver outputs incorrect value (got 0.0, actual 1.1720807552337646)\n",
      "solver outputs incorrect value (got 0.0, actual 0.8009591698646545)\n",
      "solver outputs incorrect value (got 0.0, actual 0.2476915717124939)\n",
      "solver outputs incorrect value (got 0.0, actual 1.135615587234497)\n",
      "solver outputs incorrect value (got 0.0, actual 0.9964689016342163)\n",
      "solver outputs incorrect value (got 0.0, actual 1.3232346773147583)\n",
      "solver outputs incorrect value (got 0.0, actual 0.6563336253166199)\n",
      "solver outputs incorrect value (got 0.0, actual 1.40315580368042)\n",
      "solver outputs incorrect value (got 0.0, actual 0.9388152956962585)\n",
      "solver outputs incorrect value (got 0.0, actual 0.7902382612228394)\n",
      "solver outputs incorrect value (got 0.0, actual 0.5549081563949585)\n",
      "solver outputs incorrect value (got 0.0, actual 0.959649920463562)\n",
      "solver outputs incorrect value (got 0.0, actual 0.834543764591217)\n",
      "solver outputs incorrect value (got 0.0, actual 0.9888302087783813)\n",
      "solver outputs incorrect value (got 0.0, actual 0.9620106816291809)\n",
      "solver outputs incorrect value (got 0.0, actual 1.2356948852539062)\n",
      "solver outputs incorrect value (got 0.0, actual 0.8624411821365356)\n",
      "solver outputs incorrect value (got 0.0, actual 0.6959865689277649)\n",
      "solver outputs incorrect value (got 0.0, actual 0.8934719562530518)\n",
      "solver outputs incorrect value (got 0.0, actual 0.6617891192436218)\n",
      "solver outputs incorrect value (got 0.0, actual 0.6837209463119507)\n",
      "solver outputs incorrect value (got 0.0, actual 1.1939722299575806)\n",
      "solver outputs incorrect value (got 0.0, actual 1.7805380821228027)\n",
      "solver outputs incorrect value (got 0.0, actual 0.8886001706123352)\n",
      "solver outputs incorrect value (got 0.0, actual 0.6254404187202454)\n",
      "solver outputs incorrect value (got 0.0, actual 1.5399904251098633)\n",
      "solver outputs incorrect value (got 0.0, actual 1.669921875)\n",
      "solver outputs incorrect value (got 0.0, actual 1.15134596824646)\n",
      "solver outputs incorrect value (got 0.0, actual 1.7364813089370728)\n",
      "solver outputs incorrect value (got 0.0, actual 0.38892483711242676)\n",
      "solver outputs incorrect value (got 0.0, actual 1.5350208282470703)\n",
      "solver outputs incorrect value (got 0.0, actual 1.0099678039550781)\n",
      "solver outputs incorrect value (got 0.0, actual 1.401731252670288)\n",
      "solver outputs incorrect value (got 0.0, actual 1.1709582805633545)\n",
      "solver outputs incorrect value (got 0.0, actual 0.3428798317909241)\n",
      "solver outputs incorrect value (got 0.0, actual 1.1249141693115234)\n",
      "solver outputs incorrect value (got 0.0, actual 1.4229992628097534)\n",
      "solver outputs incorrect value (got 0.0, actual 1.1160459518432617)\n",
      "solver outputs incorrect value (got 0.0, actual 0.9056143760681152)\n",
      "solver outputs incorrect value (got 0.0, actual 1.360811710357666)\n",
      "solver outputs incorrect value (got 0.0, actual 1.2966413497924805)\n",
      "solver outputs incorrect value (got 0.0, actual 0.9380366206169128)\n",
      "solver outputs incorrect value (got 0.0, actual 0.6610791087150574)\n",
      "solver outputs incorrect value (got 0.0, actual 1.8151168823242188)\n",
      "solver outputs incorrect value (got 0.0, actual 1.0136783123016357)\n",
      "solver outputs incorrect value (got 0.0, actual 1.423610806465149)\n",
      "solver outputs incorrect value (got 0.0, actual 0.6178562641143799)\n",
      "solver outputs incorrect value (got 0.0, actual 1.5438710451126099)\n",
      "solver outputs incorrect value (got 0.0, actual 1.5574510097503662)\n",
      "solver outputs incorrect value (got 0.0, actual 1.521162748336792)\n",
      "solver outputs incorrect value (got 0.0, actual 1.1845152378082275)\n",
      "solver outputs incorrect value (got 0.0, actual 1.0699341297149658)\n",
      "accuracy: 0.504 = 504/1000; mean: 1.0015621185302734\n"
     ]
    }
   ],
   "source": [
    "evaluate(solve_qap_faq, 'minilinear', 1000)"
   ]
  },
  {
   "cell_type": "code",
   "execution_count": 85,
   "metadata": {},
   "outputs": [],
   "source": [
    "miniqaps = [generators['minilinear'].sample() for _ in range(250)]"
   ]
  },
  {
   "cell_type": "code",
   "execution_count": 86,
   "metadata": {},
   "outputs": [
    {
     "name": "stdout",
     "output_type": "stream",
     "text": [
      "tensor([[0., 0.],\n",
      "        [0., 0.]])\n",
      "tensor([[0., 0.],\n",
      "        [0., 0.]])\n",
      "tensor([[0.5855, 0.1218],\n",
      "        [0.8692, 0.5714]])\n"
     ]
    }
   ],
   "source": [
    "print(miniqaps[0].A)\n",
    "print(miniqaps[0].B)\n",
    "print(miniqaps[0].linear_costs)"
   ]
  },
  {
   "cell_type": "code",
   "execution_count": 87,
   "metadata": {},
   "outputs": [
    {
     "name": "stdout",
     "output_type": "stream",
     "text": [
      "accuracy: 0.956 = 239/250; mean: 0.8167479038238525\n"
     ]
    }
   ],
   "source": [
    "evaluate_set(mini_agents[1].solve, miniqaps)"
   ]
  },
  {
   "cell_type": "code",
   "execution_count": 88,
   "metadata": {},
   "outputs": [
    {
     "name": "stdout",
     "output_type": "stream",
     "text": [
      "accuracy: 0.572 = 143/250; mean: 0.996189534664154\n"
     ]
    }
   ],
   "source": [
    "evaluate_set(small_agents[1].solve, miniqaps)"
   ]
  },
  {
   "cell_type": "code",
   "execution_count": 89,
   "metadata": {},
   "outputs": [
    {
     "name": "stdout",
     "output_type": "stream",
     "text": [
      "accuracy: 0.46 = 115/250; mean: 1.061065912246704\n"
     ]
    }
   ],
   "source": [
    "evaluate_set(medium_agents[1].solve, miniqaps)"
   ]
  },
  {
   "cell_type": "code",
   "execution_count": 90,
   "metadata": {},
   "outputs": [
    {
     "name": "stdout",
     "output_type": "stream",
     "text": [
      "accuracy: 0.908 = 227/250; mean: 0.8273810148239136\n"
     ]
    }
   ],
   "source": [
    "evaluate_set(bi_agents[1].solve, miniqaps)"
   ]
  },
  {
   "cell_type": "markdown",
   "metadata": {},
   "source": [
    "# n=2 Accuracy over time"
   ]
  },
  {
   "cell_type": "code",
   "execution_count": 92,
   "metadata": {},
   "outputs": [],
   "source": [
    "import matplotlib.pyplot as plt"
   ]
  },
  {
   "cell_type": "code",
   "execution_count": 94,
   "metadata": {},
   "outputs": [
    {
     "name": "stdout",
     "output_type": "stream",
     "text": [
      "accuracy: 0.42 = 105/250; mean: 1.0951244831085205\n",
      "accuracy: 0.908 = 227/250; mean: 0.8273810148239136\n",
      "accuracy: 0.916 = 229/250; mean: 0.841330349445343\n",
      "accuracy: 0.952 = 238/250; mean: 0.8199734091758728\n",
      "accuracy: 0.936 = 234/250; mean: 0.8246852159500122\n",
      "accuracy: 0.912 = 228/250; mean: 0.8283387422561646\n",
      "accuracy: 0.928 = 232/250; mean: 0.8219640851020813\n",
      "accuracy: 0.904 = 226/250; mean: 0.835901141166687\n",
      "accuracy: 0.9 = 225/250; mean: 0.8346495032310486\n",
      "accuracy: 0.844 = 211/250; mean: 0.8495585322380066\n",
      "accuracy: 0.828 = 207/250; mean: 0.8665340542793274\n",
      "accuracy: 0.724 = 181/250; mean: 0.9041983485221863\n",
      "accuracy: 0.468 = 117/250; mean: 1.0453875064849854\n",
      "accuracy: 0.432 = 108/250; mean: 1.0747138261795044\n",
      "accuracy: 0.436 = 109/250; mean: 1.0839579105377197\n",
      "accuracy: 0.44 = 110/250; mean: 1.073501467704773\n"
     ]
    }
   ],
   "source": [
    "accuracies = [evaluate_set(agent.solve, miniqaps) for agent in bi_agents]"
   ]
  },
  {
   "cell_type": "code",
   "execution_count": 274,
   "metadata": {},
   "outputs": [
    {
     "data": {
      "text/plain": [
       "Text(0.5, 1.0, 'Accuracy on n=2 LAP for DQN agent trained on n=2..16 QAPs sequentially')"
      ]
     },
     "execution_count": 274,
     "metadata": {},
     "output_type": "execute_result"
    },
    {
     "data": {
      "image/png": "[encoded data removed]",
      "text/plain": [
       "<Figure size 432x288 with 1 Axes>"
      ]
     },
     "metadata": {
      "needs_background": "light"
     },
     "output_type": "display_data"
    }
   ],
   "source": [
    "plt.plot(accuracies)\n",
    "plt.ylim(0.4,1)\n",
    "plt.title(\"Accuracy on n=2 LAP for DQN agent trained on n=2..16 QAPs sequentially\")"
   ]
  },
  {
   "cell_type": "code",
   "execution_count": 96,
   "metadata": {},
   "outputs": [
    {
     "name": "stdout",
     "output_type": "stream",
     "text": [
      "accuracy: 0.452 = 113/250; mean: 1.0635380744934082\n",
      "accuracy: 0.572 = 143/250; mean: 0.996189534664154\n",
      "accuracy: 0.552 = 138/250; mean: 1.0030572414398193\n",
      "accuracy: 0.588 = 147/250; mean: 0.9748347997665405\n",
      "accuracy: 0.66 = 165/250; mean: 0.9185603260993958\n",
      "accuracy: 0.792 = 198/250; mean: 0.8655710220336914\n",
      "accuracy: 0.828 = 207/250; mean: 0.8501061201095581\n",
      "accuracy: 0.804 = 201/250; mean: 0.8601248860359192\n",
      "accuracy: 0.776 = 194/250; mean: 0.8669750094413757\n",
      "accuracy: 0.728 = 182/250; mean: 0.8987475633621216\n",
      "accuracy: 0.644 = 161/250; mean: 0.9675911664962769\n"
     ]
    }
   ],
   "source": [
    "sm_accuracies = [evaluate_set(agent.solve, miniqaps) for agent in small_agents]"
   ]
  },
  {
   "cell_type": "code",
   "execution_count": 275,
   "metadata": {},
   "outputs": [
    {
     "data": {
      "text/plain": [
       "Text(0.5, 1.0, 'Accuracy on n=2 LAP for DQN agent trained on n=8 QAP')"
      ]
     },
     "execution_count": 275,
     "metadata": {},
     "output_type": "execute_result"
    },
    {
     "data": {
      "image/png": "[encoded data removed]",
      "text/plain": [
       "<Figure size 432x288 with 1 Axes>"
      ]
     },
     "metadata": {
      "needs_background": "light"
     },
     "output_type": "display_data"
    }
   ],
   "source": [
    "plt.plot(sm_accuracies)\n",
    "plt.ylim(0.4,1)\n",
    "plt.title(\"Accuracy on n=2 LAP for DQN agent trained on n=8 QAP\")"
   ]
  },
  {
   "cell_type": "code",
   "execution_count": 102,
   "metadata": {},
   "outputs": [
    {
     "name": "stdout",
     "output_type": "stream",
     "text": [
      "accuracy: 0.452 = 113/250; mean: 1.0625865459442139\n",
      "accuracy: 0.46 = 115/250; mean: 1.061065912246704\n",
      "accuracy: 0.636 = 159/250; mean: 0.9758407473564148\n",
      "accuracy: 0.488 = 122/250; mean: 1.04490065574646\n",
      "accuracy: 0.5 = 125/250; mean: 1.0379841327667236\n",
      "accuracy: 0.54 = 135/250; mean: 1.0160375833511353\n",
      "accuracy: 0.568 = 142/250; mean: 1.0059295892715454\n",
      "accuracy: 0.58 = 145/250; mean: 0.9930083155632019\n",
      "accuracy: 0.604 = 151/250; mean: 0.9717354774475098\n",
      "accuracy: 0.528 = 132/250; mean: 1.0208324193954468\n",
      "accuracy: 0.568 = 142/250; mean: 0.9968685507774353\n"
     ]
    }
   ],
   "source": [
    "md_accuracies = [evaluate_set(agent.solve, miniqaps) for agent in medium_agents]"
   ]
  },
  {
   "cell_type": "code",
   "execution_count": 276,
   "metadata": {},
   "outputs": [
    {
     "data": {
      "text/plain": [
       "Text(0.5, 1.0, 'Accuracy on n=2 LAP for DQN agent trained on n=8 QAP')"
      ]
     },
     "execution_count": 276,
     "metadata": {},
     "output_type": "execute_result"
    },
    {
     "data": {
      "image/png": "[encoded data removed]",
      "text/plain": [
       "<Figure size 432x288 with 1 Axes>"
      ]
     },
     "metadata": {
      "needs_background": "light"
     },
     "output_type": "display_data"
    }
   ],
   "source": [
    "plt.plot(md_accuracies)\n",
    "plt.ylim(0.4,1)\n",
    "plt.title(\"Accuracy on n=2 LAP for DQN agent trained on n=8 QAP\")"
   ]
  },
  {
   "cell_type": "code",
   "execution_count": 108,
   "metadata": {},
   "outputs": [
    {
     "data": {
      "text/plain": [
       "<matplotlib.legend.Legend at 0x7fd7f7b2c940>"
      ]
     },
     "execution_count": 108,
     "metadata": {},
     "output_type": "execute_result"
    },
    {
     "data": {
      "image/png": "[encoded data removed]",
      "text/plain": [
       "<Figure size 432x288 with 1 Axes>"
      ]
     },
     "metadata": {
      "needs_background": "light"
     },
     "output_type": "display_data"
    }
   ],
   "source": [
    "plt.plot(accuracies, label=\"n_train=2..16\")\n",
    "plt.plot(sm_accuracies, label=\"n_train=8\")\n",
    "plt.plot(md_accuracies, label=\"n_train=16\")\n",
    "plt.legend()"
   ]
  },
  {
   "cell_type": "markdown",
   "metadata": {},
   "source": [
    "# Impact of scaling of values on performance"
   ]
  },
  {
   "cell_type": "code",
   "execution_count": 169,
   "metadata": {},
   "outputs": [],
   "source": [
    "def scale_linear(qap, factor, shift):\n",
    "    return QAP(\n",
    "        qap.A,\n",
    "        qap.B,\n",
    "        qap.linear_costs * factor + shift,\n",
    "        qap.fixed_cost\n",
    "    )\n",
    "\n",
    "def scale_set_linear(qaps, factor, shift):\n",
    "    return [scale_linear(q, factor, shift) for q in qaps]"
   ]
  },
  {
   "cell_type": "code",
   "execution_count": 153,
   "metadata": {
    "scrolled": true
   },
   "outputs": [
    {
     "name": "stdout",
     "output_type": "stream",
     "text": [
      "accuracy: 0.556 = 139/250; mean: 0.050591155886650085\n",
      "accuracy: 0.544 = 136/250; mean: 0.5533145666122437\n",
      "accuracy: 0.54 = 135/250; mean: 1.0566455125808716\n",
      "accuracy: 0.516 = 129/250; mean: 1.5756295919418335\n",
      "accuracy: 0.524 = 131/250; mean: 2.0860209465026855\n",
      "accuracy: 0.52 = 130/250; mean: 2.596506357192993\n",
      "accuracy: 0.528 = 132/250; mean: 3.0890746116638184\n",
      "accuracy: 0.528 = 132/250; mean: 3.5988640785217285\n",
      "accuracy: 0.524 = 131/250; mean: 4.117345809936523\n",
      "accuracy: 0.524 = 131/250; mean: 4.6256279945373535\n",
      "accuracy: 0.516 = 129/250; mean: 5.1673583984375\n",
      "accuracy: 0.516 = 129/250; mean: 5.678952693939209\n",
      "accuracy: 0.504 = 126/250; mean: 6.244963645935059\n",
      "accuracy: 0.5 = 125/250; mean: 6.769221782684326\n",
      "accuracy: 0.5 = 125/250; mean: 7.28593635559082\n",
      "accuracy: 0.5 = 125/250; mean: 7.802651405334473\n",
      "accuracy: 0.5 = 125/250; mean: 8.319366455078125\n",
      "accuracy: 0.5 = 125/250; mean: 8.836080551147461\n",
      "accuracy: 0.5 = 125/250; mean: 9.352794647216797\n",
      "accuracy: 0.5 = 125/250; mean: 9.86950969696045\n",
      "accuracy: 0.5 = 125/250; mean: 10.386224746704102\n"
     ]
    }
   ],
   "source": [
    "factors = np.linspace(0.05, 10, 21)\n",
    "scaling_accuracies = [evaluate_set(medium_agents[-1].solve, scale_set_linear(miniqaps, f, 0)) for f in factors]"
   ]
  },
  {
   "cell_type": "code",
   "execution_count": 154,
   "metadata": {
    "scrolled": true
   },
   "outputs": [
    {
     "data": {
      "text/plain": [
       "[<matplotlib.lines.Line2D at 0x7fd7f63fecd0>]"
      ]
     },
     "execution_count": 154,
     "metadata": {},
     "output_type": "execute_result"
    },
    {
     "data": {
      "image/png": "[encoded data removed]",
      "text/plain": [
       "<Figure size 432x288 with 1 Axes>"
      ]
     },
     "metadata": {
      "needs_background": "light"
     },
     "output_type": "display_data"
    }
   ],
   "source": [
    "plt.plot(factors, scaling_accuracies)"
   ]
  },
  {
   "cell_type": "markdown",
   "metadata": {},
   "source": [
    "# QAP reduced from n=16 to n=2"
   ]
  },
  {
   "cell_type": "code",
   "execution_count": 266,
   "metadata": {},
   "outputs": [],
   "source": [
    "def generate_reduced_qap():\n",
    "    qap = generators['medium_random_graphs'].sample()\n",
    "    while qap.size > 2:\n",
    "        qap = qap.create_subproblem_for_assignment(0, 0)\n",
    "        qap.fixed_cost = 0\n",
    "    return qap"
   ]
  },
  {
   "cell_type": "code",
   "execution_count": 267,
   "metadata": {},
   "outputs": [
    {
     "name": "stdout",
     "output_type": "stream",
     "text": [
      "tensor([[0.0000, 0.0759],\n",
      "        [0.0759, 0.0000]])\n",
      "tensor([[0.0000, 0.2054],\n",
      "        [0.2054, 0.0000]])\n",
      "tensor([[4.4245, 4.6711],\n",
      "        [6.2774, 6.8920]])\n"
     ]
    }
   ],
   "source": [
    "qap = generate_reduced_qap()\n",
    "print(qap.A)\n",
    "print(qap.B)\n",
    "print(qap.linear_costs)"
   ]
  },
  {
   "cell_type": "code",
   "execution_count": 268,
   "metadata": {},
   "outputs": [
    {
     "name": "stdout",
     "output_type": "stream",
     "text": [
      "tensor(11.3477)\n",
      "tensor(10.9797)\n",
      "(10.979748725891113, [1, 0])\n"
     ]
    }
   ],
   "source": [
    "print(qap.compute_value([0,1]))\n",
    "print(qap.compute_value([1,0]))\n",
    "print(medium_agents[-1].solve(qap))"
   ]
  },
  {
   "cell_type": "code",
   "execution_count": 269,
   "metadata": {
    "scrolled": true
   },
   "outputs": [],
   "source": [
    "reduced_qaps = [generate_reduced_qap() for i in range(250)]"
   ]
  },
  {
   "cell_type": "code",
   "execution_count": 271,
   "metadata": {},
   "outputs": [
    {
     "name": "stdout",
     "output_type": "stream",
     "text": [
      "accuracy: 0.544 = 136/250; mean: 14.312276840209961\n",
      "accuracy: 0.748 = 187/250; mean: 14.063860893249512\n",
      "accuracy: 0.732 = 183/250; mean: 14.082088470458984\n",
      "accuracy: 0.816 = 204/250; mean: 13.998058319091797\n",
      "accuracy: 0.908 = 227/250; mean: 13.964000701904297\n",
      "accuracy: 0.912 = 228/250; mean: 13.951117515563965\n",
      "accuracy: 0.892 = 223/250; mean: 13.95849895477295\n",
      "accuracy: 0.924 = 231/250; mean: 13.932437896728516\n",
      "accuracy: 0.932 = 233/250; mean: 13.931495666503906\n",
      "accuracy: 0.952 = 238/250; mean: 13.931696891784668\n",
      "accuracy: 0.932 = 233/250; mean: 13.94694709777832\n",
      "accuracy: 0.904 = 226/250; mean: 13.964089393615723\n",
      "accuracy: 0.964 = 241/250; mean: 13.932485580444336\n",
      "accuracy: 0.892 = 223/250; mean: 13.95949649810791\n",
      "accuracy: 0.872 = 218/250; mean: 13.962431907653809\n",
      "accuracy: 0.884 = 221/250; mean: 13.956496238708496\n"
     ]
    }
   ],
   "source": [
    "reduced_bi_accs = [evaluate_set(agent.solve, reduced_qaps) for agent in bi_agents]"
   ]
  },
  {
   "cell_type": "code",
   "execution_count": 272,
   "metadata": {
    "scrolled": false
   },
   "outputs": [
    {
     "name": "stdout",
     "output_type": "stream",
     "text": [
      "accuracy: 0.592 = 148/250; mean: 14.258968353271484\n",
      "accuracy: 0.56 = 140/250; mean: 14.29992961883545\n",
      "accuracy: 0.592 = 148/250; mean: 14.254145622253418\n",
      "accuracy: 0.564 = 141/250; mean: 14.295222282409668\n",
      "accuracy: 0.592 = 148/250; mean: 14.250823974609375\n",
      "accuracy: 0.724 = 181/250; mean: 14.110882759094238\n",
      "accuracy: 0.8 = 200/250; mean: 14.024674415588379\n",
      "accuracy: 0.92 = 230/250; mean: 13.95267391204834\n",
      "accuracy: 0.92 = 230/250; mean: 13.951781272888184\n",
      "accuracy: 0.916 = 229/250; mean: 13.94840145111084\n",
      "accuracy: 0.956 = 239/250; mean: 13.931604385375977\n",
      "accuracy: 0.508 = 127/250; mean: 14.426417350769043\n",
      "accuracy: 0.44 = 110/250; mean: 14.55100154876709\n",
      "accuracy: 0.564 = 141/250; mean: 14.308843612670898\n",
      "accuracy: 0.576 = 144/250; mean: 14.276758193969727\n",
      "accuracy: 0.56 = 140/250; mean: 14.29992961883545\n",
      "accuracy: 0.564 = 141/250; mean: 14.296407699584961\n",
      "accuracy: 0.556 = 139/250; mean: 14.319056510925293\n",
      "accuracy: 0.56 = 140/250; mean: 14.29992961883545\n",
      "accuracy: 0.564 = 141/250; mean: 14.298845291137695\n",
      "accuracy: 0.56 = 140/250; mean: 14.29992961883545\n",
      "accuracy: 0.56 = 140/250; mean: 14.29992961883545\n"
     ]
    }
   ],
   "source": [
    "reduced_sm_accs = [evaluate_set(agent.solve, reduced_qaps) for agent in small_agents]\n",
    "reduced_md_accs = [evaluate_set(agent.solve, reduced_qaps) for agent in medium_agents]"
   ]
  },
  {
   "cell_type": "code",
   "execution_count": 273,
   "metadata": {},
   "outputs": [
    {
     "data": {
      "text/plain": [
       "[<matplotlib.lines.Line2D at 0x7fd7f6043280>]"
      ]
     },
     "execution_count": 273,
     "metadata": {},
     "output_type": "execute_result"
    },
    {
     "data": {
      "image/png": "[encoded data removed]",
      "text/plain": [
       "<Figure size 432x288 with 1 Axes>"
      ]
     },
     "metadata": {
      "needs_background": "light"
     },
     "output_type": "display_data"
    }
   ],
   "source": [
    "plt.plot(reduced_bi_accs)\n",
    "plt.plot(reduced_sm_accs)\n",
    "plt.plot(reduced_md_accs)"
   ]
  },
  {
   "cell_type": "code",
   "execution_count": null,
   "metadata": {},
   "outputs": [],
   "source": []
  }
 ],
 "metadata": {
  "kernelspec": {
   "display_name": "drlqap",
   "language": "python",
   "name": "drlqap"
  },
  "language_info": {
   "codemirror_mode": {
    "name": "ipython",
    "version": 3
   },
   "file_extension": ".py",
   "mimetype": "text/x-python",
   "name": "python",
   "nbconvert_exporter": "python",
   "pygments_lexer": "ipython3",
   "version": "3.9.9"
  }
 },
 "nbformat": 4,
 "nbformat_minor": 2
}
