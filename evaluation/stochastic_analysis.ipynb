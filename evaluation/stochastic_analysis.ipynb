{
 "cells": [
  {
   "cell_type": "code",
   "execution_count": 1,
   "id": "8865c640",
   "metadata": {},
   "outputs": [],
   "source": [
    "from drlqap.qap import GraphAssignmentProblem\n",
    "from drlqap.evaluate import random_assignment\n",
    "import numpy as np\n",
    "import matplotlib.pyplot as plt\n",
    "from drlqap.simplesolver import solve_qap_backtracking"
   ]
  },
  {
   "cell_type": "code",
   "execution_count": 2,
   "id": "adfbacb4",
   "metadata": {},
   "outputs": [],
   "source": [
    "with open(\"../qapdata/testgraph.dat\", \"r\") as f:\n",
    "    qap = GraphAssignmentProblem.from_qaplib_string(f.read())"
   ]
  },
  {
   "cell_type": "code",
   "execution_count": 3,
   "id": "e53fa190",
   "metadata": {},
   "outputs": [],
   "source": [
    "n = qap.size\n",
    "counts = np.zeros((n,n))\n",
    "sums = np.zeros((n,n))\n",
    "\n",
    "samples = 10000\n",
    "for _ in range(samples):\n",
    "    assignment = random_assignment(qap)\n",
    "    value = qap.compute_value(assignment)\n",
    "    for i,j in enumerate(assignment):\n",
    "        counts[i,j] += 1\n",
    "        sums[i,j] += value"
   ]
  },
  {
   "cell_type": "code",
   "execution_count": 4,
   "id": "fdebf68d",
   "metadata": {},
   "outputs": [],
   "source": [
    "averages = sums / counts"
   ]
  },
  {
   "cell_type": "code",
   "execution_count": 13,
   "id": "c5d7e337",
   "metadata": {
    "scrolled": true
   },
   "outputs": [
    {
     "data": {
      "text/plain": [
       "<matplotlib.colorbar.Colorbar at 0x7f510921da60>"
      ]
     },
     "execution_count": 13,
     "metadata": {},
     "output_type": "execute_result"
    },
    {
     "data": {
      "image/png": "[encoded data removed]",
      "text/plain": [
       "<Figure size 432x288 with 2 Axes>"
      ]
     },
     "metadata": {
      "needs_background": "light"
     },
     "output_type": "display_data"
    }
   ],
   "source": [
    "%matplotlib inline\n",
    "plt.imshow(averages, cmap=plt.get_cmap(\"viridis_r\"))\n",
    "plt.colorbar()"
   ]
  },
  {
   "cell_type": "code",
   "execution_count": 14,
   "id": "56bcce33",
   "metadata": {},
   "outputs": [],
   "source": [
    "optimal_value, optimal_assignment = solve_qap_backtracking(qap)"
   ]
  },
  {
   "cell_type": "code",
   "execution_count": 15,
   "id": "62a11156",
   "metadata": {
    "scrolled": true
   },
   "outputs": [
    {
     "data": {
      "text/plain": [
       "tensor(9.3004)"
      ]
     },
     "execution_count": 15,
     "metadata": {},
     "output_type": "execute_result"
    }
   ],
   "source": [
    "optimal_value"
   ]
  },
  {
   "cell_type": "code",
   "execution_count": 16,
   "id": "ffa5b3e6",
   "metadata": {},
   "outputs": [
    {
     "data": {
      "text/plain": [
       "[7, 6, 4, 0, 2, 3, 1, 5]"
      ]
     },
     "execution_count": 16,
     "metadata": {},
     "output_type": "execute_result"
    }
   ],
   "source": [
    "optimal_assignment"
   ]
  },
  {
   "cell_type": "code",
   "execution_count": 17,
   "id": "96b6f51d",
   "metadata": {
    "scrolled": false
   },
   "outputs": [
    {
     "data": {
      "text/plain": [
       "<matplotlib.image.AxesImage at 0x7f51091a1f70>"
      ]
     },
     "execution_count": 17,
     "metadata": {},
     "output_type": "execute_result"
    },
    {
     "data": {
      "image/png": "[encoded data removed]",
      "text/plain": [
       "<Figure size 432x288 with 1 Axes>"
      ]
     },
     "metadata": {
      "needs_background": "light"
     },
     "output_type": "display_data"
    }
   ],
   "source": [
    "plt.imshow(np.eye(qap.size)[optimal_assignment])"
   ]
  },
  {
   "cell_type": "code",
   "execution_count": 18,
   "id": "093f4125",
   "metadata": {},
   "outputs": [
    {
     "data": {
      "text/plain": [
       "tensor(9.7621)"
      ]
     },
     "execution_count": 18,
     "metadata": {},
     "output_type": "execute_result"
    }
   ],
   "source": [
    "qap.compute_value([7, 0, 3, 6, 5, 4, 1, 2])"
   ]
  },
  {
   "cell_type": "code",
   "execution_count": 21,
   "id": "9e2ae6ef",
   "metadata": {},
   "outputs": [
    {
     "data": {
      "text/plain": [
       "<matplotlib.image.AxesImage at 0x7f5109120070>"
      ]
     },
     "execution_count": 21,
     "metadata": {},
     "output_type": "execute_result"
    },
    {
     "data": {
      "image/png": "[encoded data removed]",
      "text/plain": [
       "<Figure size 432x288 with 1 Axes>"
      ]
     },
     "metadata": {
      "needs_background": "light"
     },
     "output_type": "display_data"
    }
   ],
   "source": [
    "plt.imshow(qap.linear_costs)"
   ]
  },
  {
   "cell_type": "code",
   "execution_count": 24,
   "id": "5c3747a2",
   "metadata": {},
   "outputs": [
    {
     "data": {
      "image/png": "[encoded data removed]",
      "text/plain": [
       "<Figure size 432x288 with 1 Axes>"
      ]
     },
     "metadata": {
      "needs_background": "light"
     },
     "output_type": "display_data"
    },
    {
     "data": {
      "image/png": "[encoded data removed]",
      "text/plain": [
       "<Figure size 432x288 with 1 Axes>"
      ]
     },
     "metadata": {
      "needs_background": "light"
     },
     "output_type": "display_data"
    }
   ],
   "source": [
    "plt.imshow(qap.A)\n",
    "plt.show()\n",
    "plt.imshow(qap.B)\n",
    "plt.show()"
   ]
  },
  {
   "cell_type": "code",
   "execution_count": null,
   "id": "56cbd3f3",
   "metadata": {},
   "outputs": [],
   "source": []
  }
 ],
 "metadata": {
  "kernelspec": {
   "display_name": "Python 3 (ipykernel)",
   "language": "python",
   "name": "python3"
  },
  "language_info": {
   "codemirror_mode": {
    "name": "ipython",
    "version": 3
   },
   "file_extension": ".py",
   "mimetype": "text/x-python",
   "name": "python",
   "nbconvert_exporter": "python",
   "pygments_lexer": "ipython3",
   "version": "3.8.12"
  }
 },
 "nbformat": 4,
 "nbformat_minor": 5
}
