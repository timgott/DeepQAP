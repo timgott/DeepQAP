{
 "cells": [
  {
   "cell_type": "code",
   "execution_count": 3,
   "id": "8865c640",
   "metadata": {},
   "outputs": [],
   "source": [
    "from drlqap.qap import GraphAssignmentProblem\n",
    "from drlqap.evaluate import random_assignment\n",
    "import numpy as np\n",
    "import matplotlib.pyplot as plt\n",
    "from drlqap.simplesolver import solve_qap_backtracking"
   ]
  },
  {
   "cell_type": "code",
   "execution_count": 4,
   "id": "147f488b",
   "metadata": {},
   "outputs": [
    {
     "name": "stdout",
     "output_type": "stream",
     "text": [
      "/media/windows/Users/Tim/Documents/Uni/thesis/repo/evaluation\n"
     ]
    }
   ],
   "source": [
    "%cd evaluation/"
   ]
  },
  {
   "cell_type": "code",
   "execution_count": 5,
   "id": "adfbacb4",
   "metadata": {},
   "outputs": [],
   "source": [
    "with open(\"../qapdata/testgraph.dat\", \"r\") as f:\n",
    "    qap = GraphAssignmentProblem.from_qaplib_string(f.read())"
   ]
  },
  {
   "cell_type": "code",
   "execution_count": 6,
   "id": "e53fa190",
   "metadata": {},
   "outputs": [],
   "source": [
    "n = qap.size\n",
    "counts = np.zeros((n,n))\n",
    "sums = np.zeros((n,n))\n",
    "\n",
    "samples = 10000\n",
    "for _ in range(samples):\n",
    "    assignment = random_assignment(qap)\n",
    "    value = qap.compute_value(assignment)\n",
    "    for i,j in enumerate(assignment):\n",
    "        counts[i,j] += 1\n",
    "        sums[i,j] += value"
   ]
  },
  {
   "cell_type": "code",
   "execution_count": 7,
   "id": "fdebf68d",
   "metadata": {},
   "outputs": [],
   "source": [
    "averages = sums / counts"
   ]
  },
  {
   "cell_type": "code",
   "execution_count": 8,
   "id": "c5d7e337",
   "metadata": {
    "scrolled": true
   },
   "outputs": [
    {
     "data": {
      "text/plain": [
       "<matplotlib.colorbar.Colorbar at 0x7fd7e0d1a580>"
      ]
     },
     "execution_count": 8,
     "metadata": {},
     "output_type": "execute_result"
    },
    {
     "data": {
      "image/png": "[encoded data removed]",
      "text/plain": [
       "<Figure size 432x288 with 2 Axes>"
      ]
     },
     "metadata": {
      "needs_background": "light"
     },
     "output_type": "display_data"
    }
   ],
   "source": [
    "%matplotlib inline\n",
    "plt.imshow(averages, cmap=plt.get_cmap(\"viridis_r\"))\n",
    "plt.colorbar()"
   ]
  },
  {
   "cell_type": "code",
   "execution_count": 9,
   "id": "56bcce33",
   "metadata": {},
   "outputs": [],
   "source": [
    "optimal_value, optimal_assignment = solve_qap_backtracking(qap)"
   ]
  },
  {
   "cell_type": "code",
   "execution_count": 10,
   "id": "62a11156",
   "metadata": {
    "scrolled": true
   },
   "outputs": [
    {
     "data": {
      "text/plain": [
       "tensor(9.3004)"
      ]
     },
     "execution_count": 10,
     "metadata": {},
     "output_type": "execute_result"
    }
   ],
   "source": [
    "optimal_value"
   ]
  },
  {
   "cell_type": "code",
   "execution_count": 11,
   "id": "ffa5b3e6",
   "metadata": {},
   "outputs": [
    {
     "data": {
      "text/plain": [
       "[7, 6, 4, 0, 2, 3, 1, 5]"
      ]
     },
     "execution_count": 11,
     "metadata": {},
     "output_type": "execute_result"
    }
   ],
   "source": [
    "optimal_assignment"
   ]
  },
  {
   "cell_type": "code",
   "execution_count": 12,
   "id": "96b6f51d",
   "metadata": {
    "scrolled": false
   },
   "outputs": [
    {
     "data": {
      "text/plain": [
       "<matplotlib.image.AxesImage at 0x7fd7e09b0400>"
      ]
     },
     "execution_count": 12,
     "metadata": {},
     "output_type": "execute_result"
    },
    {
     "data": {
      "image/png": "[encoded data removed]",
      "text/plain": [
       "<Figure size 432x288 with 1 Axes>"
      ]
     },
     "metadata": {
      "needs_background": "light"
     },
     "output_type": "display_data"
    }
   ],
   "source": [
    "plt.imshow(np.eye(qap.size)[optimal_assignment])"
   ]
  },
  {
   "cell_type": "code",
   "execution_count": 13,
   "id": "093f4125",
   "metadata": {},
   "outputs": [
    {
     "data": {
      "text/plain": [
       "tensor(9.7621)"
      ]
     },
     "execution_count": 13,
     "metadata": {},
     "output_type": "execute_result"
    }
   ],
   "source": [
    "qap.compute_value([7, 0, 3, 6, 5, 4, 1, 2])"
   ]
  },
  {
   "cell_type": "code",
   "execution_count": 14,
   "id": "9e2ae6ef",
   "metadata": {},
   "outputs": [
    {
     "data": {
      "text/plain": [
       "<matplotlib.image.AxesImage at 0x7fd7e0934fd0>"
      ]
     },
     "execution_count": 14,
     "metadata": {},
     "output_type": "execute_result"
    },
    {
     "data": {
      "image/png": "[encoded data removed]",
      "text/plain": [
       "<Figure size 432x288 with 1 Axes>"
      ]
     },
     "metadata": {
      "needs_background": "light"
     },
     "output_type": "display_data"
    }
   ],
   "source": [
    "plt.imshow(qap.linear_costs)"
   ]
  },
  {
   "cell_type": "code",
   "execution_count": 15,
   "id": "5c3747a2",
   "metadata": {},
   "outputs": [
    {
     "data": {
      "image/png": "[encoded data removed]",
      "text/plain": [
       "<Figure size 432x288 with 1 Axes>"
      ]
     },
     "metadata": {
      "needs_background": "light"
     },
     "output_type": "display_data"
    },
    {
     "data": {
      "image/png": "[encoded data removed]",
      "text/plain": [
       "<Figure size 432x288 with 1 Axes>"
      ]
     },
     "metadata": {
      "needs_background": "light"
     },
     "output_type": "display_data"
    }
   ],
   "source": [
    "plt.imshow(qap.A)\n",
    "plt.show()\n",
    "plt.imshow(qap.B)\n",
    "plt.show()"
   ]
  },
  {
   "cell_type": "code",
   "execution_count": 16,
   "id": "56cbd3f3",
   "metadata": {},
   "outputs": [
    {
     "data": {
      "text/plain": [
       "tensor([3.6116, 3.1144, 2.6970, 3.9665, 2.8606, 2.8926, 2.4441, 3.1390])"
      ]
     },
     "execution_count": 16,
     "metadata": {},
     "output_type": "execute_result"
    }
   ],
   "source": [
    "qap.A.sum(dim=1)"
   ]
  },
  {
   "cell_type": "code",
   "execution_count": 17,
   "id": "e22d2025",
   "metadata": {},
   "outputs": [
    {
     "data": {
      "text/plain": [
       "tensor([2.9996, 5.2939, 3.3882, 3.9307, 3.5987, 3.3150, 2.9597, 3.0757])"
      ]
     },
     "execution_count": 17,
     "metadata": {},
     "output_type": "execute_result"
    }
   ],
   "source": [
    "qap.B.sum(dim=1)"
   ]
  },
  {
   "cell_type": "code",
   "execution_count": 18,
   "id": "aa750651",
   "metadata": {},
   "outputs": [
    {
     "data": {
      "text/plain": [
       "tensor([[0.0000, 0.3678, 0.7587, 0.4983, 0.4687, 0.0987, 0.6909, 0.7284],\n",
       "        [0.3678, 0.0000, 0.1449, 0.6844, 0.4866, 0.9095, 0.0160, 0.5051],\n",
       "        [0.7587, 0.1449, 0.0000, 0.7423, 0.4760, 0.1199, 0.2920, 0.1633],\n",
       "        [0.4983, 0.6844, 0.7423, 0.0000, 0.8614, 0.2503, 0.1149, 0.8149],\n",
       "        [0.4687, 0.4866, 0.4760, 0.8614, 0.0000, 0.0150, 0.4502, 0.1026],\n",
       "        [0.0987, 0.9095, 0.1199, 0.2503, 0.0150, 0.0000, 0.7774, 0.7218],\n",
       "        [0.6909, 0.0160, 0.2920, 0.1149, 0.4502, 0.7774, 0.0000, 0.1028],\n",
       "        [0.7284, 0.5051, 0.1633, 0.8149, 0.1026, 0.7218, 0.1028, 0.0000]])"
      ]
     },
     "execution_count": 18,
     "metadata": {},
     "output_type": "execute_result"
    }
   ],
   "source": [
    "qap.A"
   ]
  },
  {
   "cell_type": "code",
   "execution_count": 34,
   "id": "d9b7cffd",
   "metadata": {},
   "outputs": [],
   "source": [
    "import importlib\n",
    "import drlqap.nn"
   ]
  },
  {
   "cell_type": "code",
   "execution_count": 37,
   "id": "247f1c0b",
   "metadata": {},
   "outputs": [
    {
     "name": "stdout",
     "output_type": "stream",
     "text": [
      "tensor([-1.0000,  0.1137,  0.2274,  0.3411,  0.4547,  0.5684,  0.6821,  0.7958]) tensor([[0, 3, 6, 4, 4, 0, 6, 6],\n",
      "        [3, 0, 1, 6, 4, 7, 0, 4],\n",
      "        [6, 1, 0, 6, 4, 1, 2, 1],\n",
      "        [4, 6, 6, 0, 7, 2, 1, 7],\n",
      "        [4, 4, 4, 7, 0, 0, 3, 0],\n",
      "        [0, 7, 1, 2, 0, 0, 6, 6],\n",
      "        [6, 0, 2, 1, 3, 6, 0, 0],\n",
      "        [6, 4, 1, 7, 0, 6, 0, 0]]) 8\n"
     ]
    },
    {
     "data": {
      "text/plain": [
       "tensor([[[1, 0, 0, 0, 0, 0, 0, 0],\n",
       "         [0, 0, 0, 1, 0, 0, 0, 0],\n",
       "         [0, 0, 0, 0, 0, 0, 1, 0],\n",
       "         [0, 0, 0, 0, 1, 0, 0, 0],\n",
       "         [0, 0, 0, 0, 1, 0, 0, 0],\n",
       "         [1, 0, 0, 0, 0, 0, 0, 0],\n",
       "         [0, 0, 0, 0, 0, 0, 1, 0],\n",
       "         [0, 0, 0, 0, 0, 0, 1, 0]],\n",
       "\n",
       "        [[0, 0, 0, 1, 0, 0, 0, 0],\n",
       "         [1, 0, 0, 0, 0, 0, 0, 0],\n",
       "         [0, 1, 0, 0, 0, 0, 0, 0],\n",
       "         [0, 0, 0, 0, 0, 0, 1, 0],\n",
       "         [0, 0, 0, 0, 1, 0, 0, 0],\n",
       "         [0, 0, 0, 0, 0, 0, 0, 1],\n",
       "         [1, 0, 0, 0, 0, 0, 0, 0],\n",
       "         [0, 0, 0, 0, 1, 0, 0, 0]],\n",
       "\n",
       "        [[0, 0, 0, 0, 0, 0, 1, 0],\n",
       "         [0, 1, 0, 0, 0, 0, 0, 0],\n",
       "         [1, 0, 0, 0, 0, 0, 0, 0],\n",
       "         [0, 0, 0, 0, 0, 0, 1, 0],\n",
       "         [0, 0, 0, 0, 1, 0, 0, 0],\n",
       "         [0, 1, 0, 0, 0, 0, 0, 0],\n",
       "         [0, 0, 1, 0, 0, 0, 0, 0],\n",
       "         [0, 1, 0, 0, 0, 0, 0, 0]],\n",
       "\n",
       "        [[0, 0, 0, 0, 1, 0, 0, 0],\n",
       "         [0, 0, 0, 0, 0, 0, 1, 0],\n",
       "         [0, 0, 0, 0, 0, 0, 1, 0],\n",
       "         [1, 0, 0, 0, 0, 0, 0, 0],\n",
       "         [0, 0, 0, 0, 0, 0, 0, 1],\n",
       "         [0, 0, 1, 0, 0, 0, 0, 0],\n",
       "         [0, 1, 0, 0, 0, 0, 0, 0],\n",
       "         [0, 0, 0, 0, 0, 0, 0, 1]],\n",
       "\n",
       "        [[0, 0, 0, 0, 1, 0, 0, 0],\n",
       "         [0, 0, 0, 0, 1, 0, 0, 0],\n",
       "         [0, 0, 0, 0, 1, 0, 0, 0],\n",
       "         [0, 0, 0, 0, 0, 0, 0, 1],\n",
       "         [1, 0, 0, 0, 0, 0, 0, 0],\n",
       "         [1, 0, 0, 0, 0, 0, 0, 0],\n",
       "         [0, 0, 0, 1, 0, 0, 0, 0],\n",
       "         [1, 0, 0, 0, 0, 0, 0, 0]],\n",
       "\n",
       "        [[1, 0, 0, 0, 0, 0, 0, 0],\n",
       "         [0, 0, 0, 0, 0, 0, 0, 1],\n",
       "         [0, 1, 0, 0, 0, 0, 0, 0],\n",
       "         [0, 0, 1, 0, 0, 0, 0, 0],\n",
       "         [1, 0, 0, 0, 0, 0, 0, 0],\n",
       "         [1, 0, 0, 0, 0, 0, 0, 0],\n",
       "         [0, 0, 0, 0, 0, 0, 1, 0],\n",
       "         [0, 0, 0, 0, 0, 0, 1, 0]],\n",
       "\n",
       "        [[0, 0, 0, 0, 0, 0, 1, 0],\n",
       "         [1, 0, 0, 0, 0, 0, 0, 0],\n",
       "         [0, 0, 1, 0, 0, 0, 0, 0],\n",
       "         [0, 1, 0, 0, 0, 0, 0, 0],\n",
       "         [0, 0, 0, 1, 0, 0, 0, 0],\n",
       "         [0, 0, 0, 0, 0, 0, 1, 0],\n",
       "         [1, 0, 0, 0, 0, 0, 0, 0],\n",
       "         [1, 0, 0, 0, 0, 0, 0, 0]],\n",
       "\n",
       "        [[0, 0, 0, 0, 0, 0, 1, 0],\n",
       "         [0, 0, 0, 0, 1, 0, 0, 0],\n",
       "         [0, 1, 0, 0, 0, 0, 0, 0],\n",
       "         [0, 0, 0, 0, 0, 0, 0, 1],\n",
       "         [1, 0, 0, 0, 0, 0, 0, 0],\n",
       "         [0, 0, 0, 0, 0, 0, 1, 0],\n",
       "         [1, 0, 0, 0, 0, 0, 0, 0],\n",
       "         [1, 0, 0, 0, 0, 0, 0, 0]]])"
      ]
     },
     "execution_count": 37,
     "metadata": {},
     "output_type": "execute_result"
    }
   ],
   "source": [
    "importlib.reload(drlqap.nn)\n",
    "drlqap.nn.edge_histogram_embeddings(qap.A, 8)"
   ]
  },
  {
   "cell_type": "code",
   "execution_count": 34,
   "id": "74e32506",
   "metadata": {},
   "outputs": [
    {
     "name": "stdout",
     "output_type": "stream",
     "text": [
      "0.1125\n",
      "tensor([[[0.0000, 0.1125, 0.2250, 0.3375, 0.4500, 0.5625, 0.6750, 0.7875,\n",
      "          0.9000]]])\n",
      "tensor([[[0.1125, 0.2250, 0.3375, 0.4500, 0.5625, 0.6750, 0.7875, 0.9000,\n",
      "          1.0125]]])\n"
     ]
    }
   ],
   "source": [
    "import torch\n",
    "step=0.9/8\n",
    "print(step)\n",
    "range=torch.arange(0.0, 0.9 + step/2, step=step).reshape(1,1,-1)\n",
    "print(range)\n",
    "print(range+step)"
   ]
  },
  {
   "cell_type": "code",
   "execution_count": null,
   "id": "ff6b0f57",
   "metadata": {},
   "outputs": [],
   "source": []
  }
 ],
 "metadata": {
  "kernelspec": {
   "display_name": "Python 3 (ipykernel)",
   "language": "python",
   "name": "python3"
  },
  "language_info": {
   "codemirror_mode": {
    "name": "ipython",
    "version": 3
   },
   "file_extension": ".py",
   "mimetype": "text/x-python",
   "name": "python",
   "nbconvert_exporter": "python",
   "pygments_lexer": "ipython3",
   "version": "3.8.12"
  }
 },
 "nbformat": 4,
 "nbformat_minor": 5
}
