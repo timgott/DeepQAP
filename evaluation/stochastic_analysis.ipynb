{
 "cells": [
  {
   "cell_type": "code",
   "execution_count": 55,
   "id": "d860400b",
   "metadata": {},
   "outputs": [],
   "source": [
    "from qap import GraphAssignmentProblem\n",
    "from evaluate import random_assignment\n",
    "import numpy as np\n",
    "import matplotlib.pyplot as plt\n",
    "from simplesolver import solve_qap_backtracking"
   ]
  },
  {
   "cell_type": "code",
   "execution_count": 56,
   "id": "0631edee",
   "metadata": {},
   "outputs": [],
   "source": [
    "with open(\"../qapdata/testgraph.dat\", \"r\") as f:\n",
    "    qap = GraphAssignmentProblem.from_qaplib_string(f.read())"
   ]
  },
  {
   "cell_type": "code",
   "execution_count": 57,
   "id": "2a50d11d",
   "metadata": {},
   "outputs": [],
   "source": [
    "n = qap.size\n",
    "counts = np.zeros((n,n))\n",
    "sums = np.zeros((n,n))\n",
    "\n",
    "samples = 10000\n",
    "for _ in range(samples):\n",
    "    assignment = random_assignment(qap)\n",
    "    value = qap.compute_value(assignment)\n",
    "    for i,j in enumerate(assignment):\n",
    "        counts[i,j] += 1\n",
    "        sums[i,j] += value"
   ]
  },
  {
   "cell_type": "code",
   "execution_count": 58,
   "id": "a9e060f0",
   "metadata": {},
   "outputs": [],
   "source": [
    "averages = sums / counts"
   ]
  },
  {
   "cell_type": "code",
   "execution_count": 59,
   "id": "72eddb0a",
   "metadata": {
    "scrolled": true
   },
   "outputs": [
    {
     "data": {
      "text/plain": [
       "<matplotlib.colorbar.Colorbar at 0x7fcff15dc6a0>"
      ]
     },
     "execution_count": 59,
     "metadata": {},
     "output_type": "execute_result"
    },
    {
     "data": {
      "image/png": "[encoded data removed]",
      "text/plain": [
       "<Figure size 432x288 with 2 Axes>"
      ]
     },
     "metadata": {
      "needs_background": "light"
     },
     "output_type": "display_data"
    }
   ],
   "source": [
    "%matplotlib inline\n",
    "plt.imshow(averages, cmap=plt.get_cmap(\"viridis_r\"))\n",
    "plt.colorbar()"
   ]
  },
  {
   "cell_type": "code",
   "execution_count": 60,
   "id": "9cd66a6d",
   "metadata": {},
   "outputs": [],
   "source": [
    "optimal_value, optimal_assignment = solve_qap_backtracking(qap)"
   ]
  },
  {
   "cell_type": "code",
   "execution_count": 61,
   "id": "829572d1",
   "metadata": {
    "scrolled": true
   },
   "outputs": [
    {
     "data": {
      "text/plain": [
       "9.8513011701651"
      ]
     },
     "execution_count": 61,
     "metadata": {},
     "output_type": "execute_result"
    }
   ],
   "source": [
    "optimal_value"
   ]
  },
  {
   "cell_type": "code",
   "execution_count": 62,
   "id": "50e66340",
   "metadata": {},
   "outputs": [
    {
     "data": {
      "text/plain": [
       "[0, 6, 4, 7, 2, 3, 1, 5]"
      ]
     },
     "execution_count": 62,
     "metadata": {},
     "output_type": "execute_result"
    }
   ],
   "source": [
    "optimal_assignment"
   ]
  },
  {
   "cell_type": "code",
   "execution_count": 63,
   "id": "9052da7c",
   "metadata": {},
   "outputs": [
    {
     "data": {
      "text/plain": [
       "<matplotlib.image.AxesImage at 0x7fcff1244e50>"
      ]
     },
     "execution_count": 63,
     "metadata": {},
     "output_type": "execute_result"
    },
    {
     "data": {
      "image/png": "[encoded data removed]",
      "text/plain": [
       "<Figure size 432x288 with 1 Axes>"
      ]
     },
     "metadata": {
      "needs_background": "light"
     },
     "output_type": "display_data"
    }
   ],
   "source": [
    "plt.imshow(np.eye(qap.size)[optimal_assignment])"
   ]
  },
  {
   "cell_type": "code",
   "execution_count": 66,
   "id": "ea787231",
   "metadata": {},
   "outputs": [
    {
     "data": {
      "text/plain": [
       "9.7621125766285"
      ]
     },
     "execution_count": 66,
     "metadata": {},
     "output_type": "execute_result"
    }
   ],
   "source": [
    "qap.compute_value([7, 0, 3, 6, 5, 4, 1, 2])"
   ]
  },
  {
   "cell_type": "code",
   "execution_count": null,
   "id": "3c39bf69",
   "metadata": {},
   "outputs": [],
   "source": []
  }
 ],
 "metadata": {
  "kernelspec": {
   "display_name": "Python 3 (ipykernel)",
   "language": "python",
   "name": "python3"
  },
  "language_info": {
   "codemirror_mode": {
    "name": "ipython",
    "version": 3
   },
   "file_extension": ".py",
   "mimetype": "text/x-python",
   "name": "python",
   "nbconvert_exporter": "python",
   "pygments_lexer": "ipython3",
   "version": "3.8.12"
  }
 },
 "nbformat": 4,
 "nbformat_minor": 5
}
