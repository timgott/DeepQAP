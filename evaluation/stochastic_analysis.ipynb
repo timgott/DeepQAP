{
 "cells": [
  {
   "cell_type": "code",
   "execution_count": 1,
   "id": "3dbd179e",
   "metadata": {},
   "outputs": [],
   "source": [
    "from qap import GraphAssignmentProblem\n",
    "from evaluate import random_assignment\n",
    "import numpy as np\n",
    "import matplotlib.pyplot as plt\n",
    "from simplesolver import solve_qap_backtracking"
   ]
  },
  {
   "cell_type": "code",
   "execution_count": 2,
   "id": "b4aa40e5",
   "metadata": {},
   "outputs": [],
   "source": [
    "with open(\"../qapdata/testgraph.dat\", \"r\") as f:\n",
    "    qap = GraphAssignmentProblem.from_qaplib_string(f.read())"
   ]
  },
  {
   "cell_type": "code",
   "execution_count": 3,
   "id": "3a4692ac",
   "metadata": {},
   "outputs": [],
   "source": [
    "n = qap.size\n",
    "counts = np.zeros((n,n))\n",
    "sums = np.zeros((n,n))\n",
    "\n",
    "samples = 10000\n",
    "for _ in range(samples):\n",
    "    assignment = random_assignment(qap)\n",
    "    value = qap.compute_value(assignment)\n",
    "    for i,j in enumerate(assignment):\n",
    "        counts[i,j] += 1\n",
    "        sums[i,j] += value"
   ]
  },
  {
   "cell_type": "code",
   "execution_count": 4,
   "id": "e4876f50",
   "metadata": {},
   "outputs": [],
   "source": [
    "averages = sums / counts"
   ]
  },
  {
   "cell_type": "code",
   "execution_count": 5,
   "id": "5767b592",
   "metadata": {
    "scrolled": true
   },
   "outputs": [
    {
     "data": {
      "text/plain": [
       "<matplotlib.colorbar.Colorbar at 0x7fafbb8c93d0>"
      ]
     },
     "execution_count": 5,
     "metadata": {},
     "output_type": "execute_result"
    },
    {
     "data": {
      "image/png": "[encoded data removed]",
      "text/plain": [
       "<Figure size 432x288 with 2 Axes>"
      ]
     },
     "metadata": {
      "needs_background": "light"
     },
     "output_type": "display_data"
    }
   ],
   "source": [
    "%matplotlib inline\n",
    "plt.imshow(averages, cmap=plt.get_cmap(\"viridis_r\"))\n",
    "plt.colorbar()"
   ]
  },
  {
   "cell_type": "code",
   "execution_count": 6,
   "id": "17f2f438",
   "metadata": {},
   "outputs": [],
   "source": [
    "optimal_value, optimal_assignment = solve_qap_backtracking(qap)"
   ]
  },
  {
   "cell_type": "code",
   "execution_count": 7,
   "id": "caf4af2f",
   "metadata": {
    "scrolled": true
   },
   "outputs": [
    {
     "data": {
      "text/plain": [
       "9.300413957696541"
      ]
     },
     "execution_count": 7,
     "metadata": {},
     "output_type": "execute_result"
    }
   ],
   "source": [
    "optimal_value"
   ]
  },
  {
   "cell_type": "code",
   "execution_count": 8,
   "id": "12437330",
   "metadata": {},
   "outputs": [
    {
     "data": {
      "text/plain": [
       "[7, 6, 4, 0, 2, 3, 1, 5]"
      ]
     },
     "execution_count": 8,
     "metadata": {},
     "output_type": "execute_result"
    }
   ],
   "source": [
    "optimal_assignment"
   ]
  },
  {
   "cell_type": "code",
   "execution_count": 9,
   "id": "62b93e68",
   "metadata": {},
   "outputs": [
    {
     "data": {
      "text/plain": [
       "<matplotlib.image.AxesImage at 0x7fafbb780c40>"
      ]
     },
     "execution_count": 9,
     "metadata": {},
     "output_type": "execute_result"
    },
    {
     "data": {
      "image/png": "[encoded data removed]",
      "text/plain": [
       "<Figure size 432x288 with 1 Axes>"
      ]
     },
     "metadata": {
      "needs_background": "light"
     },
     "output_type": "display_data"
    }
   ],
   "source": [
    "plt.imshow(np.eye(qap.size)[optimal_assignment])"
   ]
  },
  {
   "cell_type": "code",
   "execution_count": 10,
   "id": "fc49ff34",
   "metadata": {},
   "outputs": [
    {
     "data": {
      "text/plain": [
       "9.7621125766285"
      ]
     },
     "execution_count": 10,
     "metadata": {},
     "output_type": "execute_result"
    }
   ],
   "source": [
    "qap.compute_value([7, 0, 3, 6, 5, 4, 1, 2])"
   ]
  },
  {
   "cell_type": "code",
   "execution_count": null,
   "id": "5315ef0d",
   "metadata": {},
   "outputs": [],
   "source": []
  }
 ],
 "metadata": {
  "kernelspec": {
   "display_name": "Python 3 (ipykernel)",
   "language": "python",
   "name": "python3"
  },
  "language_info": {
   "codemirror_mode": {
    "name": "ipython",
    "version": 3
   },
   "file_extension": ".py",
   "mimetype": "text/x-python",
   "name": "python",
   "nbconvert_exporter": "python",
   "pygments_lexer": "ipython3",
   "version": "3.8.12"
  }
 },
 "nbformat": 4,
 "nbformat_minor": 5
}
