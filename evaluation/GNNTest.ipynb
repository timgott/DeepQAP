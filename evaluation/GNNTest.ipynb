{
 "cells": [
  {
   "cell_type": "code",
   "execution_count": 23,
   "id": "310670fc",
   "metadata": {},
   "outputs": [],
   "source": [
    "import torch\n",
    "import numpy as np\n",
    "from drlqap.qap import GraphAssignmentProblem\n",
    "from drlqap import dqn_nets, reinforce_nets, taskgenerators\n",
    "from drlqap.simplesolver import solve_qap_backtracking\n",
    "import matplotlib.pyplot as plt\n",
    "from bokeh.plotting import figure, show\n",
    "from numpy.lib.stride_tricks import sliding_window_view"
   ]
  },
  {
   "cell_type": "code",
   "execution_count": 27,
   "id": "2acb3faf",
   "metadata": {},
   "outputs": [
    {
     "data": {
      "text/html": [
       "\n",
       "    <div class=\"bk-root\">\n",
       "        <a href=\"https://bokeh.org\" target=\"_blank\" class=\"bk-logo bk-logo-small bk-logo-notebook\"></a>\n",
       "        <span id=\"1343\">Loading BokehJS ...</span>\n",
       "    </div>"
      ]
     },
     "metadata": {},
     "output_type": "display_data"
    },
    {
     "data": {
      "application/javascript": [
       "\n",
       "(function(root) {\n",
       "  function now() {\n",
       "    return new Date();\n",
       "  }\n",
       "\n",
       "  const force = true;\n",
       "\n",
       "  if (typeof root._bokeh_onload_callbacks === \"undefined\" || force === true) {\n",
       "    root._bokeh_onload_callbacks = [];\n",
       "    root._bokeh_is_loading = undefined;\n",
       "  }\n",
       "\n",
       "  const JS_MIME_TYPE = 'application/javascript';\n",
       "  const HTML_MIME_TYPE = 'text/html';\n",
       "  const EXEC_MIME_TYPE = 'application/vnd.bokehjs_exec.v0+json';\n",
       "  const CLASS_NAME = 'output_bokeh rendered_html';\n",
       "\n",
       "  /**\n",
       "   * Render data to the DOM node\n",
       "   */\n",
       "  function render(props, node) {\n",
       "    const script = document.createElement(\"script\");\n",
       "    node.appendChild(script);\n",
       "  }\n",
       "\n",
       "  /**\n",
       "   * Handle when an output is cleared or removed\n",
       "   */\n",
       "  function handleClearOutput(event, handle) {\n",
       "    const cell = handle.cell;\n",
       "\n",
       "    const id = cell.output_area._bokeh_element_id;\n",
       "    const server_id = cell.output_area._bokeh_server_id;\n",
       "    // Clean up Bokeh references\n",
       "    if (id != null && id in Bokeh.index) {\n",
       "      Bokeh.index[id].model.document.clear();\n",
       "      delete Bokeh.index[id];\n",
       "    }\n",
       "\n",
       "    if (server_id !== undefined) {\n",
       "      // Clean up Bokeh references\n",
       "      const cmd_clean = \"from bokeh.io.state import curstate; print(curstate().uuid_to_server['\" + server_id + \"'].get_sessions()[0].document.roots[0]._id)\";\n",
       "      cell.notebook.kernel.execute(cmd_clean, {\n",
       "        iopub: {\n",
       "          output: function(msg) {\n",
       "            const id = msg.content.text.trim();\n",
       "            if (id in Bokeh.index) {\n",
       "              Bokeh.index[id].model.document.clear();\n",
       "              delete Bokeh.index[id];\n",
       "            }\n",
       "          }\n",
       "        }\n",
       "      });\n",
       "      // Destroy server and session\n",
       "      const cmd_destroy = \"import bokeh.io.notebook as ion; ion.destroy_server('\" + server_id + \"')\";\n",
       "      cell.notebook.kernel.execute(cmd_destroy);\n",
       "    }\n",
       "  }\n",
       "\n",
       "  /**\n",
       "   * Handle when a new output is added\n",
       "   */\n",
       "  function handleAddOutput(event, handle) {\n",
       "    const output_area = handle.output_area;\n",
       "    const output = handle.output;\n",
       "\n",
       "    // limit handleAddOutput to display_data with EXEC_MIME_TYPE content only\n",
       "    if ((output.output_type != \"display_data\") || (!Object.prototype.hasOwnProperty.call(output.data, EXEC_MIME_TYPE))) {\n",
       "      return\n",
       "    }\n",
       "\n",
       "    const toinsert = output_area.element.find(\".\" + CLASS_NAME.split(' ')[0]);\n",
       "\n",
       "    if (output.metadata[EXEC_MIME_TYPE][\"id\"] !== undefined) {\n",
       "      toinsert[toinsert.length - 1].firstChild.textContent = output.data[JS_MIME_TYPE];\n",
       "      // store reference to embed id on output_area\n",
       "      output_area._bokeh_element_id = output.metadata[EXEC_MIME_TYPE][\"id\"];\n",
       "    }\n",
       "    if (output.metadata[EXEC_MIME_TYPE][\"server_id\"] !== undefined) {\n",
       "      const bk_div = document.createElement(\"div\");\n",
       "      bk_div.innerHTML = output.data[HTML_MIME_TYPE];\n",
       "      const script_attrs = bk_div.children[0].attributes;\n",
       "      for (let i = 0; i < script_attrs.length; i++) {\n",
       "        toinsert[toinsert.length - 1].firstChild.setAttribute(script_attrs[i].name, script_attrs[i].value);\n",
       "        toinsert[toinsert.length - 1].firstChild.textContent = bk_div.children[0].textContent\n",
       "      }\n",
       "      // store reference to server id on output_area\n",
       "      output_area._bokeh_server_id = output.metadata[EXEC_MIME_TYPE][\"server_id\"];\n",
       "    }\n",
       "  }\n",
       "\n",
       "  function register_renderer(events, OutputArea) {\n",
       "\n",
       "    function append_mime(data, metadata, element) {\n",
       "      // create a DOM node to render to\n",
       "      const toinsert = this.create_output_subarea(\n",
       "        metadata,\n",
       "        CLASS_NAME,\n",
       "        EXEC_MIME_TYPE\n",
       "      );\n",
       "      this.keyboard_manager.register_events(toinsert);\n",
       "      // Render to node\n",
       "      const props = {data: data, metadata: metadata[EXEC_MIME_TYPE]};\n",
       "      render(props, toinsert[toinsert.length - 1]);\n",
       "      element.append(toinsert);\n",
       "      return toinsert\n",
       "    }\n",
       "\n",
       "    /* Handle when an output is cleared or removed */\n",
       "    events.on('clear_output.CodeCell', handleClearOutput);\n",
       "    events.on('delete.Cell', handleClearOutput);\n",
       "\n",
       "    /* Handle when a new output is added */\n",
       "    events.on('output_added.OutputArea', handleAddOutput);\n",
       "\n",
       "    /**\n",
       "     * Register the mime type and append_mime function with output_area\n",
       "     */\n",
       "    OutputArea.prototype.register_mime_type(EXEC_MIME_TYPE, append_mime, {\n",
       "      /* Is output safe? */\n",
       "      safe: true,\n",
       "      /* Index of renderer in `output_area.display_order` */\n",
       "      index: 0\n",
       "    });\n",
       "  }\n",
       "\n",
       "  // register the mime type if in Jupyter Notebook environment and previously unregistered\n",
       "  if (root.Jupyter !== undefined) {\n",
       "    const events = require('base/js/events');\n",
       "    const OutputArea = require('notebook/js/outputarea').OutputArea;\n",
       "\n",
       "    if (OutputArea.prototype.mime_types().indexOf(EXEC_MIME_TYPE) == -1) {\n",
       "      register_renderer(events, OutputArea);\n",
       "    }\n",
       "  }\n",
       "\n",
       "  \n",
       "  if (typeof (root._bokeh_timeout) === \"undefined\" || force === true) {\n",
       "    root._bokeh_timeout = Date.now() + 5000;\n",
       "    root._bokeh_failed_load = false;\n",
       "  }\n",
       "\n",
       "  const NB_LOAD_WARNING = {'data': {'text/html':\n",
       "     \"<div style='background-color: #fdd'>\\n\"+\n",
       "     \"<p>\\n\"+\n",
       "     \"BokehJS does not appear to have successfully loaded. If loading BokehJS from CDN, this \\n\"+\n",
       "     \"may be due to a slow or bad network connection. Possible fixes:\\n\"+\n",
       "     \"</p>\\n\"+\n",
       "     \"<ul>\\n\"+\n",
       "     \"<li>re-rerun `output_notebook()` to attempt to load from CDN again, or</li>\\n\"+\n",
       "     \"<li>use INLINE resources instead, as so:</li>\\n\"+\n",
       "     \"</ul>\\n\"+\n",
       "     \"<code>\\n\"+\n",
       "     \"from bokeh.resources import INLINE\\n\"+\n",
       "     \"output_notebook(resources=INLINE)\\n\"+\n",
       "     \"</code>\\n\"+\n",
       "     \"</div>\"}};\n",
       "\n",
       "  function display_loaded() {\n",
       "    const el = document.getElementById(\"1343\");\n",
       "    if (el != null) {\n",
       "      el.textContent = \"BokehJS is loading...\";\n",
       "    }\n",
       "    if (root.Bokeh !== undefined) {\n",
       "      if (el != null) {\n",
       "        el.textContent = \"BokehJS \" + root.Bokeh.version + \" successfully loaded.\";\n",
       "      }\n",
       "    } else if (Date.now() < root._bokeh_timeout) {\n",
       "      setTimeout(display_loaded, 100)\n",
       "    }\n",
       "  }\n",
       "\n",
       "\n",
       "  function run_callbacks() {\n",
       "    try {\n",
       "      root._bokeh_onload_callbacks.forEach(function(callback) {\n",
       "        if (callback != null)\n",
       "          callback();\n",
       "      });\n",
       "    } finally {\n",
       "      delete root._bokeh_onload_callbacks\n",
       "    }\n",
       "    console.debug(\"Bokeh: all callbacks have finished\");\n",
       "  }\n",
       "\n",
       "  function load_libs(css_urls, js_urls, callback) {\n",
       "    if (css_urls == null) css_urls = [];\n",
       "    if (js_urls == null) js_urls = [];\n",
       "\n",
       "    root._bokeh_onload_callbacks.push(callback);\n",
       "    if (root._bokeh_is_loading > 0) {\n",
       "      console.debug(\"Bokeh: BokehJS is being loaded, scheduling callback at\", now());\n",
       "      return null;\n",
       "    }\n",
       "    if (js_urls == null || js_urls.length === 0) {\n",
       "      run_callbacks();\n",
       "      return null;\n",
       "    }\n",
       "    console.debug(\"Bokeh: BokehJS not loaded, scheduling load and callback at\", now());\n",
       "    root._bokeh_is_loading = css_urls.length + js_urls.length;\n",
       "\n",
       "    function on_load() {\n",
       "      root._bokeh_is_loading--;\n",
       "      if (root._bokeh_is_loading === 0) {\n",
       "        console.debug(\"Bokeh: all BokehJS libraries/stylesheets loaded\");\n",
       "        run_callbacks()\n",
       "      }\n",
       "    }\n",
       "\n",
       "    function on_error(url) {\n",
       "      console.error(\"failed to load \" + url);\n",
       "    }\n",
       "\n",
       "    for (let i = 0; i < css_urls.length; i++) {\n",
       "      const url = css_urls[i];\n",
       "      const element = document.createElement(\"link\");\n",
       "      element.onload = on_load;\n",
       "      element.onerror = on_error.bind(null, url);\n",
       "      element.rel = \"stylesheet\";\n",
       "      element.type = \"text/css\";\n",
       "      element.href = url;\n",
       "      console.debug(\"Bokeh: injecting link tag for BokehJS stylesheet: \", url);\n",
       "      document.body.appendChild(element);\n",
       "    }\n",
       "\n",
       "    for (let i = 0; i < js_urls.length; i++) {\n",
       "      const url = js_urls[i];\n",
       "      const element = document.createElement('script');\n",
       "      element.onload = on_load;\n",
       "      element.onerror = on_error.bind(null, url);\n",
       "      element.async = false;\n",
       "      element.src = url;\n",
       "      console.debug(\"Bokeh: injecting script tag for BokehJS library: \", url);\n",
       "      document.head.appendChild(element);\n",
       "    }\n",
       "  };\n",
       "\n",
       "  function inject_raw_css(css) {\n",
       "    const element = document.createElement(\"style\");\n",
       "    element.appendChild(document.createTextNode(css));\n",
       "    document.body.appendChild(element);\n",
       "  }\n",
       "\n",
       "  \n",
       "  const js_urls = [\"https://cdn.bokeh.org/bokeh/release/bokeh-2.4.2.min.js\", \"https://cdn.bokeh.org/bokeh/release/bokeh-gl-2.4.2.min.js\", \"https://cdn.bokeh.org/bokeh/release/bokeh-widgets-2.4.2.min.js\", \"https://cdn.bokeh.org/bokeh/release/bokeh-tables-2.4.2.min.js\", \"https://cdn.bokeh.org/bokeh/release/bokeh-mathjax-2.4.2.min.js\"];\n",
       "  const css_urls = [];\n",
       "  \n",
       "\n",
       "  const inline_js = [\n",
       "    function(Bokeh) {\n",
       "      Bokeh.set_log_level(\"info\");\n",
       "    },\n",
       "    function(Bokeh) {\n",
       "    \n",
       "    \n",
       "    }\n",
       "  ];\n",
       "\n",
       "  function run_inline_js() {\n",
       "    \n",
       "    if (root.Bokeh !== undefined || force === true) {\n",
       "      \n",
       "    for (let i = 0; i < inline_js.length; i++) {\n",
       "      inline_js[i].call(root, root.Bokeh);\n",
       "    }\n",
       "    if (force === true) {\n",
       "        display_loaded();\n",
       "      }} else if (Date.now() < root._bokeh_timeout) {\n",
       "      setTimeout(run_inline_js, 100);\n",
       "    } else if (!root._bokeh_failed_load) {\n",
       "      console.log(\"Bokeh: BokehJS failed to load within specified timeout.\");\n",
       "      root._bokeh_failed_load = true;\n",
       "    } else if (force !== true) {\n",
       "      const cell = $(document.getElementById(\"1343\")).parents('.cell').data().cell;\n",
       "      cell.output_area.append_execute_result(NB_LOAD_WARNING)\n",
       "    }\n",
       "\n",
       "  }\n",
       "\n",
       "  if (root._bokeh_is_loading === 0) {\n",
       "    console.debug(\"Bokeh: BokehJS loaded, going straight to plotting\");\n",
       "    run_inline_js();\n",
       "  } else {\n",
       "    load_libs(css_urls, js_urls, function() {\n",
       "      console.debug(\"Bokeh: BokehJS plotting callback run at\", now());\n",
       "      run_inline_js();\n",
       "    });\n",
       "  }\n",
       "}(window));"
      ],
      "application/vnd.bokehjs_load.v0+json": "\n(function(root) {\n  function now() {\n    return new Date();\n  }\n\n  const force = true;\n\n  if (typeof root._bokeh_onload_callbacks === \"undefined\" || force === true) {\n    root._bokeh_onload_callbacks = [];\n    root._bokeh_is_loading = undefined;\n  }\n\n  \n\n  \n  if (typeof (root._bokeh_timeout) === \"undefined\" || force === true) {\n    root._bokeh_timeout = Date.now() + 5000;\n    root._bokeh_failed_load = false;\n  }\n\n  const NB_LOAD_WARNING = {'data': {'text/html':\n     \"<div style='background-color: #fdd'>\\n\"+\n     \"<p>\\n\"+\n     \"BokehJS does not appear to have successfully loaded. If loading BokehJS from CDN, this \\n\"+\n     \"may be due to a slow or bad network connection. Possible fixes:\\n\"+\n     \"</p>\\n\"+\n     \"<ul>\\n\"+\n     \"<li>re-rerun `output_notebook()` to attempt to load from CDN again, or</li>\\n\"+\n     \"<li>use INLINE resources instead, as so:</li>\\n\"+\n     \"</ul>\\n\"+\n     \"<code>\\n\"+\n     \"from bokeh.resources import INLINE\\n\"+\n     \"output_notebook(resources=INLINE)\\n\"+\n     \"</code>\\n\"+\n     \"</div>\"}};\n\n  function display_loaded() {\n    const el = document.getElementById(\"1343\");\n    if (el != null) {\n      el.textContent = \"BokehJS is loading...\";\n    }\n    if (root.Bokeh !== undefined) {\n      if (el != null) {\n        el.textContent = \"BokehJS \" + root.Bokeh.version + \" successfully loaded.\";\n      }\n    } else if (Date.now() < root._bokeh_timeout) {\n      setTimeout(display_loaded, 100)\n    }\n  }\n\n\n  function run_callbacks() {\n    try {\n      root._bokeh_onload_callbacks.forEach(function(callback) {\n        if (callback != null)\n          callback();\n      });\n    } finally {\n      delete root._bokeh_onload_callbacks\n    }\n    console.debug(\"Bokeh: all callbacks have finished\");\n  }\n\n  function load_libs(css_urls, js_urls, callback) {\n    if (css_urls == null) css_urls = [];\n    if (js_urls == null) js_urls = [];\n\n    root._bokeh_onload_callbacks.push(callback);\n    if (root._bokeh_is_loading > 0) {\n      console.debug(\"Bokeh: BokehJS is being loaded, scheduling callback at\", now());\n      return null;\n    }\n    if (js_urls == null || js_urls.length === 0) {\n      run_callbacks();\n      return null;\n    }\n    console.debug(\"Bokeh: BokehJS not loaded, scheduling load and callback at\", now());\n    root._bokeh_is_loading = css_urls.length + js_urls.length;\n\n    function on_load() {\n      root._bokeh_is_loading--;\n      if (root._bokeh_is_loading === 0) {\n        console.debug(\"Bokeh: all BokehJS libraries/stylesheets loaded\");\n        run_callbacks()\n      }\n    }\n\n    function on_error(url) {\n      console.error(\"failed to load \" + url);\n    }\n\n    for (let i = 0; i < css_urls.length; i++) {\n      const url = css_urls[i];\n      const element = document.createElement(\"link\");\n      element.onload = on_load;\n      element.onerror = on_error.bind(null, url);\n      element.rel = \"stylesheet\";\n      element.type = \"text/css\";\n      element.href = url;\n      console.debug(\"Bokeh: injecting link tag for BokehJS stylesheet: \", url);\n      document.body.appendChild(element);\n    }\n\n    for (let i = 0; i < js_urls.length; i++) {\n      const url = js_urls[i];\n      const element = document.createElement('script');\n      element.onload = on_load;\n      element.onerror = on_error.bind(null, url);\n      element.async = false;\n      element.src = url;\n      console.debug(\"Bokeh: injecting script tag for BokehJS library: \", url);\n      document.head.appendChild(element);\n    }\n  };\n\n  function inject_raw_css(css) {\n    const element = document.createElement(\"style\");\n    element.appendChild(document.createTextNode(css));\n    document.body.appendChild(element);\n  }\n\n  \n  const js_urls = [\"https://cdn.bokeh.org/bokeh/release/bokeh-2.4.2.min.js\", \"https://cdn.bokeh.org/bokeh/release/bokeh-gl-2.4.2.min.js\", \"https://cdn.bokeh.org/bokeh/release/bokeh-widgets-2.4.2.min.js\", \"https://cdn.bokeh.org/bokeh/release/bokeh-tables-2.4.2.min.js\", \"https://cdn.bokeh.org/bokeh/release/bokeh-mathjax-2.4.2.min.js\"];\n  const css_urls = [];\n  \n\n  const inline_js = [\n    function(Bokeh) {\n      Bokeh.set_log_level(\"info\");\n    },\n    function(Bokeh) {\n    \n    \n    }\n  ];\n\n  function run_inline_js() {\n    \n    if (root.Bokeh !== undefined || force === true) {\n      \n    for (let i = 0; i < inline_js.length; i++) {\n      inline_js[i].call(root, root.Bokeh);\n    }\n    if (force === true) {\n        display_loaded();\n      }} else if (Date.now() < root._bokeh_timeout) {\n      setTimeout(run_inline_js, 100);\n    } else if (!root._bokeh_failed_load) {\n      console.log(\"Bokeh: BokehJS failed to load within specified timeout.\");\n      root._bokeh_failed_load = true;\n    } else if (force !== true) {\n      const cell = $(document.getElementById(\"1343\")).parents('.cell').data().cell;\n      cell.output_area.append_execute_result(NB_LOAD_WARNING)\n    }\n\n  }\n\n  if (root._bokeh_is_loading === 0) {\n    console.debug(\"Bokeh: BokehJS loaded, going straight to plotting\");\n    run_inline_js();\n  } else {\n    load_libs(css_urls, js_urls, function() {\n      console.debug(\"Bokeh: BokehJS plotting callback run at\", now());\n      run_inline_js();\n    });\n  }\n}(window));"
     },
     "metadata": {},
     "output_type": "display_data"
    }
   ],
   "source": [
    "import bokeh.io\n",
    "bokeh.io.output_notebook()"
   ]
  },
  {
   "cell_type": "markdown",
   "id": "249cb582",
   "metadata": {},
   "source": [
    "# Setup"
   ]
  },
  {
   "cell_type": "code",
   "execution_count": 2,
   "id": "a1da53ca",
   "metadata": {
    "scrolled": true
   },
   "outputs": [],
   "source": [
    "with open(\"../qapdata/testgraph.dat\", \"r\") as f:\n",
    "    qap = GraphAssignmentProblem.from_qaplib_string(f.read())\n",
    "\n",
    "nets = {\n",
    "    \"dqn.mp_gat\": lambda: dqn_nets.mp_gat(32, 32, 32, 3), \n",
    "    \"dqn.mp_gat_no_lp\": lambda: dqn_nets.mp_gat_no_lp(64, 64, 64, 3), \n",
    "    \"dqn.simple_link_prediction\": lambda: dqn_nets.simple_link_prediction_undirected(32, 32, 3),\n",
    "    \"dqn.mp_histogram_gat\": lambda: dqn_nets.mp_histogram_gat(32, 32, 3),\n",
    "}"
   ]
  },
  {
   "cell_type": "markdown",
   "id": "a692b224",
   "metadata": {},
   "source": [
    "# Target matrix"
   ]
  },
  {
   "cell_type": "code",
   "execution_count": 3,
   "id": "000fb02a",
   "metadata": {},
   "outputs": [],
   "source": [
    "optimal_value, optimal_assignment = solve_qap_backtracking(qap)"
   ]
  },
  {
   "cell_type": "code",
   "execution_count": 4,
   "id": "de00a90a",
   "metadata": {},
   "outputs": [
    {
     "data": {
      "text/plain": [
       "[7, 6, 4, 0, 2, 3, 1, 5]"
      ]
     },
     "execution_count": 4,
     "metadata": {},
     "output_type": "execute_result"
    }
   ],
   "source": [
    "optimal_assignment"
   ]
  },
  {
   "cell_type": "code",
   "execution_count": 5,
   "id": "d62ab8ad",
   "metadata": {},
   "outputs": [],
   "source": [
    "optimal_matrix = torch.eye(qap.size)[optimal_assignment]\n"
   ]
  },
  {
   "cell_type": "code",
   "execution_count": 6,
   "id": "cc8da4b7",
   "metadata": {},
   "outputs": [
    {
     "data": {
      "text/plain": [
       "<matplotlib.image.AxesImage at 0x7f40922df670>"
      ]
     },
     "execution_count": 6,
     "metadata": {},
     "output_type": "execute_result"
    },
    {
     "data": {
      "image/png": "[encoded data removed]",
      "text/plain": [
       "<Figure size 432x288 with 1 Axes>"
      ]
     },
     "metadata": {
      "needs_background": "light"
     },
     "output_type": "display_data"
    }
   ],
   "source": [
    "plt.imshow(optimal_matrix)"
   ]
  },
  {
   "cell_type": "markdown",
   "id": "a5f2035c",
   "metadata": {},
   "source": [
    "# Initial output"
   ]
  },
  {
   "cell_type": "code",
   "execution_count": 7,
   "id": "5f7a0add",
   "metadata": {},
   "outputs": [],
   "source": [
    "def show_output(net):\n",
    "    net_output = net(qap)\n",
    "    plt.imshow(net_output.detach())"
   ]
  },
  {
   "cell_type": "code",
   "execution_count": 8,
   "id": "9fbbecb3",
   "metadata": {},
   "outputs": [
    {
     "data": {
      "image/png": "[encoded data removed]",
      "text/plain": [
       "<Figure size 432x288 with 1 Axes>"
      ]
     },
     "metadata": {
      "needs_background": "light"
     },
     "output_type": "display_data"
    }
   ],
   "source": [
    "show_output(nets[\"dqn.mp_gat\"]())"
   ]
  },
  {
   "cell_type": "markdown",
   "id": "9178bb88",
   "metadata": {},
   "source": [
    "# Train"
   ]
  },
  {
   "cell_type": "code",
   "execution_count": 9,
   "id": "33b004a9",
   "metadata": {},
   "outputs": [],
   "source": [
    "def train(net, epochs):\n",
    "    optimizer = torch.optim.Adam(params=net.parameters(), lr=0.01)   \n",
    "    losses = []\n",
    "    for i in range(epochs):\n",
    "        optimizer.zero_grad(set_to_none=True)\n",
    "        net_output = net(qap)\n",
    "        loss = torch.nn.functional.mse_loss(net_output.flatten(), optimal_matrix.flatten())\n",
    "        loss.backward()\n",
    "        optimizer.step()\n",
    "        losses.append(loss.item())\n",
    "    return losses"
   ]
  },
  {
   "cell_type": "code",
   "execution_count": 10,
   "id": "41e654df",
   "metadata": {},
   "outputs": [],
   "source": [
    "results = {}"
   ]
  },
  {
   "cell_type": "code",
   "execution_count": 11,
   "id": "ca3d4576",
   "metadata": {},
   "outputs": [
    {
     "name": "stdout",
     "output_type": "stream",
     "text": [
      "dqn.mp_gat final loss: 0.1093750074505806\n",
      "dqn.mp_gat final loss: 0.10938020050525665\n",
      "dqn.mp_gat_no_lp final loss: 0.10940548032522202\n",
      "dqn.mp_gat_no_lp final loss: 0.1136152520775795\n",
      "dqn.simple_link_prediction final loss: 1.4516039481549114e-09\n",
      "dqn.simple_link_prediction final loss: 0.0002148861822206527\n",
      "dqn.mp_histogram_gat final loss: 9.75365037447773e-06\n",
      "dqn.mp_histogram_gat final loss: 4.984330735169351e-05\n",
      "done\n"
     ]
    }
   ],
   "source": [
    "repetitions = 2\n",
    "for name, net_constructor in nets.items():\n",
    "    current_results = results[name] if name in results else []\n",
    "    for i in range(len(current_results), repetitions):\n",
    "        net = net_constructor()\n",
    "        losses = train(net, 400)\n",
    "        print(f\"{name} final loss: {losses[-1]}\")\n",
    "        current_results.append((net, losses))\n",
    "    results[name] = current_results\n",
    "\n",
    "print(\"done\")"
   ]
  },
  {
   "cell_type": "markdown",
   "id": "4d08e553",
   "metadata": {},
   "source": [
    "\n",
    "# Loss curves"
   ]
  },
  {
   "cell_type": "code",
   "execution_count": 43,
   "id": "aca202e6",
   "metadata": {
    "scrolled": false
   },
   "outputs": [
    {
     "data": {
      "text/html": [
       "\n",
       "\n",
       "\n",
       "\n",
       "\n",
       "\n",
       "  <div class=\"bk-root\" id=\"e94c07a3-e60a-4197-9852-b2533e629d5a\" data-root-id=\"7319\"></div>\n"
      ]
     },
     "metadata": {},
     "output_type": "display_data"
    },
    {
     "data": {
      "application/javascript": [
       "(function(root) {\n",
       "  function embed_document(root) {\n",
       "    \n",
       "  const docs_json = {\"0f30ac3e-7a67-4505-be58-00ecd2335761\":{\"defs\":[],\"roots\":{\"references\":[{\"attributes\":{\"below\":[{\"id\":\"7328\"}],\"center\":[{\"id\":\"7331\"},{\"id\":\"7335\"},{\"id\":\"7367\"}],\"left\":[{\"id\":\"7332\"}],\"renderers\":[{\"id\":\"7354\"},{\"id\":\"7373\"},{\"id\":\"7393\"},{\"id\":\"7415\"}],\"title\":{\"id\":\"7356\"},\"toolbar\":{\"id\":\"7343\"},\"x_range\":{\"id\":\"7320\"},\"x_scale\":{\"id\":\"7324\"},\"y_range\":{\"id\":\"7435\"},\"y_scale\":{\"id\":\"7326\"}},\"id\":\"7319\",\"subtype\":\"Figure\",\"type\":\"Plot\"},{\"attributes\":{\"source\":{\"id\":\"7350\"}},\"id\":\"7355\",\"type\":\"CDSView\"},{\"attributes\":{},\"id\":\"7386\",\"type\":\"Selection\"},{\"attributes\":{\"line_color\":\"#1b9e77\",\"x\":{\"field\":\"x\"},\"y\":{\"field\":\"y\"}},\"id\":\"7351\",\"type\":\"Line\"},{\"attributes\":{\"tools\":[{\"id\":\"7336\"},{\"id\":\"7337\"},{\"id\":\"7338\"},{\"id\":\"7339\"},{\"id\":\"7340\"},{\"id\":\"7341\"}]},\"id\":\"7343\",\"type\":\"Toolbar\"},{\"attributes\":{\"coordinates\":null,\"data_source\":{\"id\":\"7350\"},\"glyph\":{\"id\":\"7351\"},\"group\":null,\"hover_glyph\":null,\"muted_glyph\":{\"id\":\"7353\"},\"nonselection_glyph\":{\"id\":\"7352\"},\"view\":{\"id\":\"7355\"}},\"id\":\"7354\",\"type\":\"GlyphRenderer\"},{\"attributes\":{},\"id\":\"7333\",\"type\":\"BasicTicker\"},{\"attributes\":{},\"id\":\"7359\",\"type\":\"BasicTickFormatter\"},{\"attributes\":{},\"id\":\"7324\",\"type\":\"LinearScale\"},{\"attributes\":{\"axis\":{\"id\":\"7328\"},\"coordinates\":null,\"group\":null,\"ticker\":null},\"id\":\"7331\",\"type\":\"Grid\"},{\"attributes\":{},\"id\":\"7360\",\"type\":\"AllLabels\"},{\"attributes\":{\"label\":{\"value\":\"dqn.mp_gat\"},\"renderers\":[{\"id\":\"7354\"}]},\"id\":\"7368\",\"type\":\"LegendItem\"},{\"attributes\":{},\"id\":\"7362\",\"type\":\"BasicTickFormatter\"},{\"attributes\":{\"overlay\":{\"id\":\"7342\"}},\"id\":\"7338\",\"type\":\"BoxZoomTool\"},{\"attributes\":{\"label\":{\"value\":\"dqn.mp_histogram_gat\"},\"renderers\":[{\"id\":\"7415\"}]},\"id\":\"7434\",\"type\":\"LegendItem\"},{\"attributes\":{\"coordinates\":null,\"data_source\":{\"id\":\"7369\"},\"glyph\":{\"id\":\"7370\"},\"group\":null,\"hover_glyph\":null,\"muted_glyph\":{\"id\":\"7372\"},\"nonselection_glyph\":{\"id\":\"7371\"},\"view\":{\"id\":\"7374\"}},\"id\":\"7373\",\"type\":\"GlyphRenderer\"},{\"attributes\":{\"click_policy\":\"hide\",\"coordinates\":null,\"group\":null,\"items\":[{\"id\":\"7368\"},{\"id\":\"7388\"},{\"id\":\"7410\"},{\"id\":\"7434\"}]},\"id\":\"7367\",\"type\":\"Legend\"},{\"attributes\":{},\"id\":\"7340\",\"type\":\"ResetTool\"},{\"attributes\":{},\"id\":\"7363\",\"type\":\"AllLabels\"},{\"attributes\":{\"coordinates\":null,\"formatter\":{\"id\":\"7359\"},\"group\":null,\"major_label_policy\":{\"id\":\"7360\"},\"ticker\":{\"id\":\"7333\"}},\"id\":\"7332\",\"type\":\"LinearAxis\"},{\"attributes\":{},\"id\":\"7339\",\"type\":\"SaveTool\"},{\"attributes\":{},\"id\":\"7407\",\"type\":\"UnionRenderers\"},{\"attributes\":{},\"id\":\"7329\",\"type\":\"BasicTicker\"},{\"attributes\":{\"data\":{\"x\":[0,1,2,3,4,5,6,7,8,9,10,11,12,13,14,15,16,17,18,19,20,21,22,23,24,25,26,27,28,29,30,31,32,33,34,35,36,37,38,39,40,41,42,43,44,45,46,47,48,49,50,51,52,53,54,55,56,57,58,59,60,61,62,63,64,65,66,67,68,69,70,71,72,73,74,75,76,77,78,79,80,81,82,83,84,85,86,87,88,89,90,91,92,93,94,95,96,97,98,99,100,101,102,103,104,105,106,107,108,109,110,111,112,113,114,115,116,117,118,119,120,121,122,123,124,125,126,127,128,129,130,131,132,133,134,135,136,137,138,139,140,141,142,143,144,145,146,147,148,149,150,151,152,153,154,155,156,157,158,159,160,161,162,163,164,165,166,167,168,169,170,171,172,173,174,175,176,177,178,179,180,181,182,183,184,185,186,187,188,189,190,191,192,193,194,195,196,197,198,199,200,201,202,203,204,205,206,207,208,209,210,211,212,213,214,215,216,217,218,219,220,221,222,223,224,225,226,227,228,229,230,231,232,233,234,235,236,237,238,239,240,241,242,243,244,245,246,247,248,249,250,251,252,253,254,255,256,257,258,259,260,261,262,263,264,265,266,267,268,269,270,271,272,273,274,275,276,277,278,279,280,281,282,283,284,285,286,287,288,289,290,291,292,293,294,295,296,297,298,299,300,301,302,303,304,305,306,307,308,309,310,311,312,313,314,315,316,317,318,319,320,321,322,323,324,325,326,327,328,329,330,331,332,333,334,335,336,337,338,339,340,341,342,343,344,345,346,347,348,349,350,351,352,353,354,355,356,357,358,359,360,361,362,363,364,365,366,367,368,369,370,371,372,373,374,375,376,377,378,379,380,381,382,383,384,385,386,387,388,389,390,391,392,393,394,395,396,397,398,399],\"y\":{\"__ndarray__\":\"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\",\"dtype\":\"float64\",\"order\":\"little\",\"shape\":[400]}},\"selected\":{\"id\":\"7365\"},\"selection_policy\":{\"id\":\"7364\"}},\"id\":\"7350\",\"type\":\"ColumnDataSource\"},{\"attributes\":{\"line_alpha\":0.2,\"line_color\":\"#d95f02\",\"x\":{\"field\":\"x\"},\"y\":{\"field\":\"y\"}},\"id\":\"7372\",\"type\":\"Line\"},{\"attributes\":{\"coordinates\":null,\"group\":null},\"id\":\"7356\",\"type\":\"Title\"},{\"attributes\":{\"end\":0.2},\"id\":\"7435\",\"type\":\"Range1d\"},{\"attributes\":{\"line_color\":\"#d95f02\",\"x\":{\"field\":\"x\"},\"y\":{\"field\":\"y\"}},\"id\":\"7370\",\"type\":\"Line\"},{\"attributes\":{\"line_color\":\"#7570b3\",\"x\":{\"field\":\"x\"},\"y\":{\"field\":\"y\"}},\"id\":\"7390\",\"type\":\"Line\"},{\"attributes\":{\"axis\":{\"id\":\"7332\"},\"coordinates\":null,\"dimension\":1,\"group\":null,\"ticker\":null},\"id\":\"7335\",\"type\":\"Grid\"},{\"attributes\":{},\"id\":\"7431\",\"type\":\"UnionRenderers\"},{\"attributes\":{\"line_alpha\":0.2,\"line_color\":\"#e7298a\",\"x\":{\"field\":\"x\"},\"y\":{\"field\":\"y\"}},\"id\":\"7414\",\"type\":\"Line\"},{\"attributes\":{},\"id\":\"7337\",\"type\":\"WheelZoomTool\"},{\"attributes\":{},\"id\":\"7364\",\"type\":\"UnionRenderers\"},{\"attributes\":{\"line_color\":\"#e7298a\",\"x\":{\"field\":\"x\"},\"y\":{\"field\":\"y\"}},\"id\":\"7412\",\"type\":\"Line\"},{\"attributes\":{\"bottom_units\":\"screen\",\"coordinates\":null,\"fill_alpha\":0.5,\"fill_color\":\"lightgrey\",\"group\":null,\"left_units\":\"screen\",\"level\":\"overlay\",\"line_alpha\":1.0,\"line_color\":\"black\",\"line_dash\":[4,4],\"line_width\":2,\"right_units\":\"screen\",\"syncable\":false,\"top_units\":\"screen\"},\"id\":\"7342\",\"type\":\"BoxAnnotation\"},{\"attributes\":{\"coordinates\":null,\"data_source\":{\"id\":\"7411\"},\"glyph\":{\"id\":\"7412\"},\"group\":null,\"hover_glyph\":null,\"muted_glyph\":{\"id\":\"7414\"},\"nonselection_glyph\":{\"id\":\"7413\"},\"view\":{\"id\":\"7416\"}},\"id\":\"7415\",\"type\":\"GlyphRenderer\"},{\"attributes\":{},\"id\":\"7326\",\"type\":\"LinearScale\"},{\"attributes\":{\"coordinates\":null,\"data_source\":{\"id\":\"7389\"},\"glyph\":{\"id\":\"7390\"},\"group\":null,\"hover_glyph\":null,\"muted_glyph\":{\"id\":\"7392\"},\"nonselection_glyph\":{\"id\":\"7391\"},\"view\":{\"id\":\"7394\"}},\"id\":\"7393\",\"type\":\"GlyphRenderer\"},{\"attributes\":{\"data\":{\"x\":[0,1,2,3,4,5,6,7,8,9,10,11,12,13,14,15,16,17,18,19,20,21,22,23,24,25,26,27,28,29,30,31,32,33,34,35,36,37,38,39,40,41,42,43,44,45,46,47,48,49,50,51,52,53,54,55,56,57,58,59,60,61,62,63,64,65,66,67,68,69,70,71,72,73,74,75,76,77,78,79,80,81,82,83,84,85,86,87,88,89,90,91,92,93,94,95,96,97,98,99,100,101,102,103,104,105,106,107,108,109,110,111,112,113,114,115,116,117,118,119,120,121,122,123,124,125,126,127,128,129,130,131,132,133,134,135,136,137,138,139,140,141,142,143,144,145,146,147,148,149,150,151,152,153,154,155,156,157,158,159,160,161,162,163,164,165,166,167,168,169,170,171,172,173,174,175,176,177,178,179,180,181,182,183,184,185,186,187,188,189,190,191,192,193,194,195,196,197,198,199,200,201,202,203,204,205,206,207,208,209,210,211,212,213,214,215,216,217,218,219,220,221,222,223,224,225,226,227,228,229,230,231,232,233,234,235,236,237,238,239,240,241,242,243,244,245,246,247,248,249,250,251,252,253,254,255,256,257,258,259,260,261,262,263,264,265,266,267,268,269,270,271,272,273,274,275,276,277,278,279,280,281,282,283,284,285,286,287,288,289,290,291,292,293,294,295,296,297,298,299,300,301,302,303,304,305,306,307,308,309,310,311,312,313,314,315,316,317,318,319,320,321,322,323,324,325,326,327,328,329,330,331,332,333,334,335,336,337,338,339,340,341,342,343,344,345,346,347,348,349,350,351,352,353,354,355,356,357,358,359,360,361,362,363,364,365,366,367,368,369,370,371,372,373,374,375,376,377,378,379,380,381,382,383,384,385,386,387,388,389,390,391,392,393,394,395,396,397,398,399],\"y\":{\"__ndarray__\":\"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\",\"dtype\":\"float64\",\"order\":\"little\",\"shape\":[400]}},\"selected\":{\"id\":\"7386\"},\"selection_policy\":{\"id\":\"7385\"}},\"id\":\"7369\",\"type\":\"ColumnDataSource\"},{\"attributes\":{\"data\":{\"x\":[0,1,2,3,4,5,6,7,8,9,10,11,12,13,14,15,16,17,18,19,20,21,22,23,24,25,26,27,28,29,30,31,32,33,34,35,36,37,38,39,40,41,42,43,44,45,46,47,48,49,50,51,52,53,54,55,56,57,58,59,60,61,62,63,64,65,66,67,68,69,70,71,72,73,74,75,76,77,78,79,80,81,82,83,84,85,86,87,88,89,90,91,92,93,94,95,96,97,98,99,100,101,102,103,104,105,106,107,108,109,110,111,112,113,114,115,116,117,118,119,120,121,122,123,124,125,126,127,128,129,130,131,132,133,134,135,136,137,138,139,140,141,142,143,144,145,146,147,148,149,150,151,152,153,154,155,156,157,158,159,160,161,162,163,164,165,166,167,168,169,170,171,172,173,174,175,176,177,178,179,180,181,182,183,184,185,186,187,188,189,190,191,192,193,194,195,196,197,198,199,200,201,202,203,204,205,206,207,208,209,210,211,212,213,214,215,216,217,218,219,220,221,222,223,224,225,226,227,228,229,230,231,232,233,234,235,236,237,238,239,240,241,242,243,244,245,246,247,248,249,250,251,252,253,254,255,256,257,258,259,260,261,262,263,264,265,266,267,268,269,270,271,272,273,274,275,276,277,278,279,280,281,282,283,284,285,286,287,288,289,290,291,292,293,294,295,296,297,298,299,300,301,302,303,304,305,306,307,308,309,310,311,312,313,314,315,316,317,318,319,320,321,322,323,324,325,326,327,328,329,330,331,332,333,334,335,336,337,338,339,340,341,342,343,344,345,346,347,348,349,350,351,352,353,354,355,356,357,358,359,360,361,362,363,364,365,366,367,368,369,370,371,372,373,374,375,376,377,378,379,380,381,382,383,384,385,386,387,388,389,390,391,392,393,394,395,396,397,398,399],\"y\":{\"__ndarray__\":\"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\",\"dtype\":\"float64\",\"order\":\"little\",\"shape\":[400]}},\"selected\":{\"id\":\"7408\"},\"selection_policy\":{\"id\":\"7407\"}},\"id\":\"7389\",\"type\":\"ColumnDataSource\"},{\"attributes\":{\"data\":{\"x\":[0,1,2,3,4,5,6,7,8,9,10,11,12,13,14,15,16,17,18,19,20,21,22,23,24,25,26,27,28,29,30,31,32,33,34,35,36,37,38,39,40,41,42,43,44,45,46,47,48,49,50,51,52,53,54,55,56,57,58,59,60,61,62,63,64,65,66,67,68,69,70,71,72,73,74,75,76,77,78,79,80,81,82,83,84,85,86,87,88,89,90,91,92,93,94,95,96,97,98,99,100,101,102,103,104,105,106,107,108,109,110,111,112,113,114,115,116,117,118,119,120,121,122,123,124,125,126,127,128,129,130,131,132,133,134,135,136,137,138,139,140,141,142,143,144,145,146,147,148,149,150,151,152,153,154,155,156,157,158,159,160,161,162,163,164,165,166,167,168,169,170,171,172,173,174,175,176,177,178,179,180,181,182,183,184,185,186,187,188,189,190,191,192,193,194,195,196,197,198,199,200,201,202,203,204,205,206,207,208,209,210,211,212,213,214,215,216,217,218,219,220,221,222,223,224,225,226,227,228,229,230,231,232,233,234,235,236,237,238,239,240,241,242,243,244,245,246,247,248,249,250,251,252,253,254,255,256,257,258,259,260,261,262,263,264,265,266,267,268,269,270,271,272,273,274,275,276,277,278,279,280,281,282,283,284,285,286,287,288,289,290,291,292,293,294,295,296,297,298,299,300,301,302,303,304,305,306,307,308,309,310,311,312,313,314,315,316,317,318,319,320,321,322,323,324,325,326,327,328,329,330,331,332,333,334,335,336,337,338,339,340,341,342,343,344,345,346,347,348,349,350,351,352,353,354,355,356,357,358,359,360,361,362,363,364,365,366,367,368,369,370,371,372,373,374,375,376,377,378,379,380,381,382,383,384,385,386,387,388,389,390,391,392,393,394,395,396,397,398,399],\"y\":{\"__ndarray__\":\"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\",\"dtype\":\"float64\",\"order\":\"little\",\"shape\":[400]}},\"selected\":{\"id\":\"7432\"},\"selection_policy\":{\"id\":\"7431\"}},\"id\":\"7411\",\"type\":\"ColumnDataSource\"},{\"attributes\":{},\"id\":\"7341\",\"type\":\"HelpTool\"},{\"attributes\":{},\"id\":\"7365\",\"type\":\"Selection\"},{\"attributes\":{\"source\":{\"id\":\"7369\"}},\"id\":\"7374\",\"type\":\"CDSView\"},{\"attributes\":{},\"id\":\"7320\",\"type\":\"DataRange1d\"},{\"attributes\":{\"source\":{\"id\":\"7389\"}},\"id\":\"7394\",\"type\":\"CDSView\"},{\"attributes\":{\"line_alpha\":0.1,\"line_color\":\"#1b9e77\",\"x\":{\"field\":\"x\"},\"y\":{\"field\":\"y\"}},\"id\":\"7352\",\"type\":\"Line\"},{\"attributes\":{\"line_alpha\":0.2,\"line_color\":\"#1b9e77\",\"x\":{\"field\":\"x\"},\"y\":{\"field\":\"y\"}},\"id\":\"7353\",\"type\":\"Line\"},{\"attributes\":{\"line_alpha\":0.1,\"line_color\":\"#d95f02\",\"x\":{\"field\":\"x\"},\"y\":{\"field\":\"y\"}},\"id\":\"7371\",\"type\":\"Line\"},{\"attributes\":{\"line_alpha\":0.2,\"line_color\":\"#7570b3\",\"x\":{\"field\":\"x\"},\"y\":{\"field\":\"y\"}},\"id\":\"7392\",\"type\":\"Line\"},{\"attributes\":{\"line_alpha\":0.1,\"line_color\":\"#7570b3\",\"x\":{\"field\":\"x\"},\"y\":{\"field\":\"y\"}},\"id\":\"7391\",\"type\":\"Line\"},{\"attributes\":{\"source\":{\"id\":\"7411\"}},\"id\":\"7416\",\"type\":\"CDSView\"},{\"attributes\":{\"line_alpha\":0.1,\"line_color\":\"#e7298a\",\"x\":{\"field\":\"x\"},\"y\":{\"field\":\"y\"}},\"id\":\"7413\",\"type\":\"Line\"},{\"attributes\":{},\"id\":\"7385\",\"type\":\"UnionRenderers\"},{\"attributes\":{},\"id\":\"7432\",\"type\":\"Selection\"},{\"attributes\":{},\"id\":\"7408\",\"type\":\"Selection\"},{\"attributes\":{\"label\":{\"value\":\"dqn.mp_gat_no_lp\"},\"renderers\":[{\"id\":\"7373\"}]},\"id\":\"7388\",\"type\":\"LegendItem\"},{\"attributes\":{\"coordinates\":null,\"formatter\":{\"id\":\"7362\"},\"group\":null,\"major_label_policy\":{\"id\":\"7363\"},\"ticker\":{\"id\":\"7329\"}},\"id\":\"7328\",\"type\":\"LinearAxis\"},{\"attributes\":{\"label\":{\"value\":\"dqn.simple_link_prediction\"},\"renderers\":[{\"id\":\"7393\"}]},\"id\":\"7410\",\"type\":\"LegendItem\"},{\"attributes\":{},\"id\":\"7336\",\"type\":\"PanTool\"}],\"root_ids\":[\"7319\"]},\"title\":\"Bokeh Application\",\"version\":\"2.4.2\"}};\n",
       "  const render_items = [{\"docid\":\"0f30ac3e-7a67-4505-be58-00ecd2335761\",\"root_ids\":[\"7319\"],\"roots\":{\"7319\":\"e94c07a3-e60a-4197-9852-b2533e629d5a\"}}];\n",
       "  root.Bokeh.embed.embed_items_notebook(docs_json, render_items);\n",
       "\n",
       "  }\n",
       "  if (root.Bokeh !== undefined) {\n",
       "    embed_document(root);\n",
       "  } else {\n",
       "    let attempts = 0;\n",
       "    const timer = setInterval(function(root) {\n",
       "      if (root.Bokeh !== undefined) {\n",
       "        clearInterval(timer);\n",
       "        embed_document(root);\n",
       "      } else {\n",
       "        attempts++;\n",
       "        if (attempts > 100) {\n",
       "          clearInterval(timer);\n",
       "          console.log(\"Bokeh: ERROR: Unable to run BokehJS code because BokehJS library is missing\");\n",
       "        }\n",
       "      }\n",
       "    }, 10, root)\n",
       "  }\n",
       "})(window);"
      ],
      "application/vnd.bokehjs_exec.v0+json": ""
     },
     "metadata": {
      "application/vnd.bokehjs_exec.v0+json": {
       "id": "7319"
      }
     },
     "output_type": "display_data"
    }
   ],
   "source": [
    "from bokeh.palettes import Dark2_5 \n",
    "from bokeh.models import Range1d\n",
    "\n",
    "fig = figure()\n",
    "\n",
    "def moving_average(x, n=3) :\n",
    "    return np.mean(sliding_window_view(x, window_shape=n), axis=-1)\n",
    "\n",
    "for i, (name, net_runs) in enumerate(results.items()):\n",
    "    #for net, loss in net_runs:\n",
    "    #    plt.plot(loss, label=name)\n",
    "    average_loss = np.mean([run[1] for run in net_runs], axis=0)\n",
    "    fig.line(x=range(len(average_loss)), y=average_loss, legend_label=name, color=Dark2_5[i])\n",
    "\n",
    "fig.y_range = Range1d(0,0.2)\n",
    "fig.legend.click_policy = \"hide\"\n",
    "show(fig)"
   ]
  },
  {
   "cell_type": "markdown",
   "id": "4f6fdd75",
   "metadata": {},
   "source": [
    "# Outputs"
   ]
  },
  {
   "cell_type": "code",
   "execution_count": 59,
   "id": "902b185e",
   "metadata": {},
   "outputs": [
    {
     "data": {
      "text/html": [
       "\n",
       "\n",
       "\n",
       "\n",
       "\n",
       "\n",
       "  <div class=\"bk-root\" id=\"a846a87a-1eb3-4064-80b6-a54dfad09752\" data-root-id=\"10025\"></div>\n"
      ]
     },
     "metadata": {},
     "output_type": "display_data"
    },
    {
     "data": {
      "application/javascript": [
       "(function(root) {\n",
       "  function embed_document(root) {\n",
       "    \n",
       "  const docs_json = {\"7235aafb-79ce-4c82-a5c4-4a863c2c2371\":{\"defs\":[],\"roots\":{\"references\":[{\"attributes\":{\"below\":[{\"id\":\"10034\"}],\"center\":[{\"id\":\"10037\"},{\"id\":\"10041\"}],\"left\":[{\"id\":\"10038\"}],\"renderers\":[{\"id\":\"10066\"}],\"title\":{\"id\":\"10380\"},\"toolbar\":{\"id\":\"10049\"},\"x_range\":{\"id\":\"10026\"},\"x_scale\":{\"id\":\"10030\"},\"y_range\":{\"id\":\"10028\"},\"y_scale\":{\"id\":\"10032\"}},\"id\":\"10025\",\"subtype\":\"Figure\",\"type\":\"Plot\"},{\"attributes\":{},\"id\":\"10039\",\"type\":\"BasicTicker\"},{\"attributes\":{\"coordinates\":null,\"formatter\":{\"id\":\"10383\"},\"group\":null,\"major_label_policy\":{\"id\":\"10384\"},\"ticker\":{\"id\":\"10039\"}},\"id\":\"10038\",\"type\":\"LinearAxis\"},{\"attributes\":{},\"id\":\"10047\",\"type\":\"HelpTool\"},{\"attributes\":{},\"id\":\"10026\",\"type\":\"DataRange1d\"},{\"attributes\":{},\"id\":\"10030\",\"type\":\"LinearScale\"},{\"attributes\":{\"axis\":{\"id\":\"10038\"},\"coordinates\":null,\"dimension\":1,\"group\":null,\"ticker\":null},\"id\":\"10041\",\"type\":\"Grid\"},{\"attributes\":{},\"id\":\"10388\",\"type\":\"UnionRenderers\"},{\"attributes\":{},\"id\":\"10035\",\"type\":\"BasicTicker\"},{\"attributes\":{\"coordinates\":null,\"formatter\":{\"id\":\"10386\"},\"group\":null,\"major_label_policy\":{\"id\":\"10387\"},\"ticker\":{\"id\":\"10035\"}},\"id\":\"10034\",\"type\":\"LinearAxis\"},{\"attributes\":{\"tools\":[{\"id\":\"10042\"},{\"id\":\"10043\"},{\"id\":\"10044\"},{\"id\":\"10045\"},{\"id\":\"10046\"},{\"id\":\"10047\"}]},\"id\":\"10049\",\"type\":\"Toolbar\"},{\"attributes\":{},\"id\":\"10389\",\"type\":\"Selection\"},{\"attributes\":{},\"id\":\"10043\",\"type\":\"WheelZoomTool\"},{\"attributes\":{},\"id\":\"10042\",\"type\":\"PanTool\"},{\"attributes\":{\"overlay\":{\"id\":\"10048\"}},\"id\":\"10044\",\"type\":\"BoxZoomTool\"},{\"attributes\":{},\"id\":\"10045\",\"type\":\"SaveTool\"},{\"attributes\":{},\"id\":\"10028\",\"type\":\"DataRange1d\"},{\"attributes\":{},\"id\":\"10046\",\"type\":\"ResetTool\"},{\"attributes\":{\"palette\":[\"#000000\",\"#252525\",\"#525252\",\"#737373\",\"#969696\",\"#bdbdbd\",\"#d9d9d9\",\"#f0f0f0\",\"#ffffff\"]},\"id\":\"10058\",\"type\":\"LinearColorMapper\"},{\"attributes\":{\"axis\":{\"id\":\"10034\"},\"coordinates\":null,\"group\":null,\"ticker\":null},\"id\":\"10037\",\"type\":\"Grid\"},{\"attributes\":{\"bottom_units\":\"screen\",\"coordinates\":null,\"fill_alpha\":0.5,\"fill_color\":\"lightgrey\",\"group\":null,\"left_units\":\"screen\",\"level\":\"overlay\",\"line_alpha\":1.0,\"line_color\":\"black\",\"line_dash\":[4,4],\"line_width\":2,\"right_units\":\"screen\",\"syncable\":false,\"top_units\":\"screen\"},\"id\":\"10048\",\"type\":\"BoxAnnotation\"},{\"attributes\":{},\"id\":\"10384\",\"type\":\"AllLabels\"},{\"attributes\":{\"color_mapper\":{\"id\":\"10061\"},\"dh\":{\"value\":8},\"dw\":{\"value\":8},\"global_alpha\":{\"value\":0.1},\"image\":{\"field\":\"image\"},\"x\":{\"value\":0},\"y\":{\"value\":0}},\"id\":\"10060\",\"type\":\"Image\"},{\"attributes\":{\"palette\":[\"#000000\",\"#252525\",\"#525252\",\"#737373\",\"#969696\",\"#bdbdbd\",\"#d9d9d9\",\"#f0f0f0\",\"#ffffff\"]},\"id\":\"10061\",\"type\":\"LinearColorMapper\"},{\"attributes\":{\"color_mapper\":{\"id\":\"10064\"},\"dh\":{\"value\":8},\"dw\":{\"value\":8},\"global_alpha\":{\"value\":0.2},\"image\":{\"field\":\"image\"},\"x\":{\"value\":0},\"y\":{\"value\":0}},\"id\":\"10063\",\"type\":\"Image\"},{\"attributes\":{\"data\":{\"image\":[{\"__ndarray__\":\"5DSAvODEWjt4swM8iO9AvHg+RTwARPm4ADeMObXKfz/gThs7yC1/vDhVAzwA/4E5EKS/u4CDBjoZwH8/cNHqO3CjujtwzJU7ADhBOJAyhrssAYA/SCE0vMCHgzrA6446rbx/P+C9TDvgmTw7eIkPPPBjizvwfeU78JeDO8gkObyAn2Y6iKswvG/9fz9wu5g7IJRauwCSFbnwBbU7ID4qu/D5lDsAAm+58CugO90agD9IYDG84H4eO3DaxTvEj5m8cOu5O6/kfz/IrE28gOt9OvAVmztw6ok7CLNDvHBK/DvwwtM7eA4XPHCf3DvgXUg7yHZWvALKfz9I6Ay8cJjfOw==\",\"dtype\":\"float32\",\"order\":\"little\",\"shape\":[8,8]}]},\"selected\":{\"id\":\"10389\"},\"selection_policy\":{\"id\":\"10388\"}},\"id\":\"10056\",\"type\":\"ColumnDataSource\"},{\"attributes\":{},\"id\":\"10387\",\"type\":\"AllLabels\"},{\"attributes\":{\"palette\":[\"#000000\",\"#252525\",\"#525252\",\"#737373\",\"#969696\",\"#bdbdbd\",\"#d9d9d9\",\"#f0f0f0\",\"#ffffff\"]},\"id\":\"10064\",\"type\":\"LinearColorMapper\"},{\"attributes\":{},\"id\":\"10032\",\"type\":\"LinearScale\"},{\"attributes\":{\"source\":{\"id\":\"10056\"}},\"id\":\"10067\",\"type\":\"CDSView\"},{\"attributes\":{\"coordinates\":null,\"group\":null},\"id\":\"10380\",\"type\":\"Title\"},{\"attributes\":{},\"id\":\"10383\",\"type\":\"BasicTickFormatter\"},{\"attributes\":{\"color_mapper\":{\"id\":\"10058\"},\"dh\":{\"value\":8},\"dw\":{\"value\":8},\"image\":{\"field\":\"image\"},\"x\":{\"value\":0},\"y\":{\"value\":0}},\"id\":\"10057\",\"type\":\"Image\"},{\"attributes\":{},\"id\":\"10386\",\"type\":\"BasicTickFormatter\"},{\"attributes\":{\"coordinates\":null,\"data_source\":{\"id\":\"10056\"},\"glyph\":{\"id\":\"10057\"},\"group\":null,\"hover_glyph\":null,\"muted_glyph\":{\"id\":\"10063\"},\"nonselection_glyph\":{\"id\":\"10060\"},\"view\":{\"id\":\"10067\"}},\"id\":\"10066\",\"type\":\"GlyphRenderer\"}],\"root_ids\":[\"10025\"]},\"title\":\"Bokeh Application\",\"version\":\"2.4.2\"}};\n",
       "  const render_items = [{\"docid\":\"7235aafb-79ce-4c82-a5c4-4a863c2c2371\",\"root_ids\":[\"10025\"],\"roots\":{\"10025\":\"a846a87a-1eb3-4064-80b6-a54dfad09752\"}}];\n",
       "  root.Bokeh.embed.embed_items_notebook(docs_json, render_items);\n",
       "\n",
       "  }\n",
       "  if (root.Bokeh !== undefined) {\n",
       "    embed_document(root);\n",
       "  } else {\n",
       "    let attempts = 0;\n",
       "    const timer = setInterval(function(root) {\n",
       "      if (root.Bokeh !== undefined) {\n",
       "        clearInterval(timer);\n",
       "        embed_document(root);\n",
       "      } else {\n",
       "        attempts++;\n",
       "        if (attempts > 100) {\n",
       "          clearInterval(timer);\n",
       "          console.log(\"Bokeh: ERROR: Unable to run BokehJS code because BokehJS library is missing\");\n",
       "        }\n",
       "      }\n",
       "    }, 10, root)\n",
       "  }\n",
       "})(window);"
      ],
      "application/vnd.bokehjs_exec.v0+json": ""
     },
     "metadata": {
      "application/vnd.bokehjs_exec.v0+json": {
       "id": "10025"
      }
     },
     "output_type": "display_data"
    }
   ],
   "source": [
    "fig = figure()\n",
    "net_output = net(qap)\n",
    "fig.image(image=[net_output.detach().numpy()], x=0, y=0, dw=qap.size, dh=qap.size)\n",
    "show(fig)"
   ]
  },
  {
   "cell_type": "code",
   "execution_count": null,
   "id": "8767b790",
   "metadata": {},
   "outputs": [],
   "source": []
  }
 ],
 "metadata": {
  "kernelspec": {
   "display_name": "Python 3 (ipykernel)",
   "language": "python",
   "name": "python3"
  },
  "language_info": {
   "codemirror_mode": {
    "name": "ipython",
    "version": 3
   },
   "file_extension": ".py",
   "mimetype": "text/x-python",
   "name": "python",
   "nbconvert_exporter": "python",
   "pygments_lexer": "ipython3",
   "version": "3.8.12"
  }
 },
 "nbformat": 4,
 "nbformat_minor": 5
}
