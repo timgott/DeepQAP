{
 "cells": [
  {
   "cell_type": "code",
   "execution_count": 1,
   "id": "310670fc",
   "metadata": {},
   "outputs": [],
   "source": [
    "import torch\n",
    "import numpy as np\n",
    "from drlqap.qap import GraphAssignmentProblem\n",
    "from drlqap import dqn_nets, reinforce_nets, taskgenerators\n",
    "from drlqap.simplesolver import solve_qap_backtracking\n",
    "import matplotlib.pyplot as plt\n",
    "import bokeh\n",
    "from bokeh.plotting import figure, show, gridplot\n",
    "from numpy.lib.stride_tricks import sliding_window_view\n",
    "import drlqap.nn"
   ]
  },
  {
   "cell_type": "code",
   "execution_count": 2,
   "id": "2acb3faf",
   "metadata": {},
   "outputs": [
    {
     "data": {
      "text/html": [
       "\n",
       "    <div class=\"bk-root\">\n",
       "        <a href=\"https://bokeh.org\" target=\"_blank\" class=\"bk-logo bk-logo-small bk-logo-notebook\"></a>\n",
       "        <span id=\"1002\">Loading BokehJS ...</span>\n",
       "    </div>"
      ]
     },
     "metadata": {},
     "output_type": "display_data"
    },
    {
     "data": {
      "application/javascript": [
       "\n",
       "(function(root) {\n",
       "  function now() {\n",
       "    return new Date();\n",
       "  }\n",
       "\n",
       "  const force = true;\n",
       "\n",
       "  if (typeof root._bokeh_onload_callbacks === \"undefined\" || force === true) {\n",
       "    root._bokeh_onload_callbacks = [];\n",
       "    root._bokeh_is_loading = undefined;\n",
       "  }\n",
       "\n",
       "  const JS_MIME_TYPE = 'application/javascript';\n",
       "  const HTML_MIME_TYPE = 'text/html';\n",
       "  const EXEC_MIME_TYPE = 'application/vnd.bokehjs_exec.v0+json';\n",
       "  const CLASS_NAME = 'output_bokeh rendered_html';\n",
       "\n",
       "  /**\n",
       "   * Render data to the DOM node\n",
       "   */\n",
       "  function render(props, node) {\n",
       "    const script = document.createElement(\"script\");\n",
       "    node.appendChild(script);\n",
       "  }\n",
       "\n",
       "  /**\n",
       "   * Handle when an output is cleared or removed\n",
       "   */\n",
       "  function handleClearOutput(event, handle) {\n",
       "    const cell = handle.cell;\n",
       "\n",
       "    const id = cell.output_area._bokeh_element_id;\n",
       "    const server_id = cell.output_area._bokeh_server_id;\n",
       "    // Clean up Bokeh references\n",
       "    if (id != null && id in Bokeh.index) {\n",
       "      Bokeh.index[id].model.document.clear();\n",
       "      delete Bokeh.index[id];\n",
       "    }\n",
       "\n",
       "    if (server_id !== undefined) {\n",
       "      // Clean up Bokeh references\n",
       "      const cmd_clean = \"from bokeh.io.state import curstate; print(curstate().uuid_to_server['\" + server_id + \"'].get_sessions()[0].document.roots[0]._id)\";\n",
       "      cell.notebook.kernel.execute(cmd_clean, {\n",
       "        iopub: {\n",
       "          output: function(msg) {\n",
       "            const id = msg.content.text.trim();\n",
       "            if (id in Bokeh.index) {\n",
       "              Bokeh.index[id].model.document.clear();\n",
       "              delete Bokeh.index[id];\n",
       "            }\n",
       "          }\n",
       "        }\n",
       "      });\n",
       "      // Destroy server and session\n",
       "      const cmd_destroy = \"import bokeh.io.notebook as ion; ion.destroy_server('\" + server_id + \"')\";\n",
       "      cell.notebook.kernel.execute(cmd_destroy);\n",
       "    }\n",
       "  }\n",
       "\n",
       "  /**\n",
       "   * Handle when a new output is added\n",
       "   */\n",
       "  function handleAddOutput(event, handle) {\n",
       "    const output_area = handle.output_area;\n",
       "    const output = handle.output;\n",
       "\n",
       "    // limit handleAddOutput to display_data with EXEC_MIME_TYPE content only\n",
       "    if ((output.output_type != \"display_data\") || (!Object.prototype.hasOwnProperty.call(output.data, EXEC_MIME_TYPE))) {\n",
       "      return\n",
       "    }\n",
       "\n",
       "    const toinsert = output_area.element.find(\".\" + CLASS_NAME.split(' ')[0]);\n",
       "\n",
       "    if (output.metadata[EXEC_MIME_TYPE][\"id\"] !== undefined) {\n",
       "      toinsert[toinsert.length - 1].firstChild.textContent = output.data[JS_MIME_TYPE];\n",
       "      // store reference to embed id on output_area\n",
       "      output_area._bokeh_element_id = output.metadata[EXEC_MIME_TYPE][\"id\"];\n",
       "    }\n",
       "    if (output.metadata[EXEC_MIME_TYPE][\"server_id\"] !== undefined) {\n",
       "      const bk_div = document.createElement(\"div\");\n",
       "      bk_div.innerHTML = output.data[HTML_MIME_TYPE];\n",
       "      const script_attrs = bk_div.children[0].attributes;\n",
       "      for (let i = 0; i < script_attrs.length; i++) {\n",
       "        toinsert[toinsert.length - 1].firstChild.setAttribute(script_attrs[i].name, script_attrs[i].value);\n",
       "        toinsert[toinsert.length - 1].firstChild.textContent = bk_div.children[0].textContent\n",
       "      }\n",
       "      // store reference to server id on output_area\n",
       "      output_area._bokeh_server_id = output.metadata[EXEC_MIME_TYPE][\"server_id\"];\n",
       "    }\n",
       "  }\n",
       "\n",
       "  function register_renderer(events, OutputArea) {\n",
       "\n",
       "    function append_mime(data, metadata, element) {\n",
       "      // create a DOM node to render to\n",
       "      const toinsert = this.create_output_subarea(\n",
       "        metadata,\n",
       "        CLASS_NAME,\n",
       "        EXEC_MIME_TYPE\n",
       "      );\n",
       "      this.keyboard_manager.register_events(toinsert);\n",
       "      // Render to node\n",
       "      const props = {data: data, metadata: metadata[EXEC_MIME_TYPE]};\n",
       "      render(props, toinsert[toinsert.length - 1]);\n",
       "      element.append(toinsert);\n",
       "      return toinsert\n",
       "    }\n",
       "\n",
       "    /* Handle when an output is cleared or removed */\n",
       "    events.on('clear_output.CodeCell', handleClearOutput);\n",
       "    events.on('delete.Cell', handleClearOutput);\n",
       "\n",
       "    /* Handle when a new output is added */\n",
       "    events.on('output_added.OutputArea', handleAddOutput);\n",
       "\n",
       "    /**\n",
       "     * Register the mime type and append_mime function with output_area\n",
       "     */\n",
       "    OutputArea.prototype.register_mime_type(EXEC_MIME_TYPE, append_mime, {\n",
       "      /* Is output safe? */\n",
       "      safe: true,\n",
       "      /* Index of renderer in `output_area.display_order` */\n",
       "      index: 0\n",
       "    });\n",
       "  }\n",
       "\n",
       "  // register the mime type if in Jupyter Notebook environment and previously unregistered\n",
       "  if (root.Jupyter !== undefined) {\n",
       "    const events = require('base/js/events');\n",
       "    const OutputArea = require('notebook/js/outputarea').OutputArea;\n",
       "\n",
       "    if (OutputArea.prototype.mime_types().indexOf(EXEC_MIME_TYPE) == -1) {\n",
       "      register_renderer(events, OutputArea);\n",
       "    }\n",
       "  }\n",
       "\n",
       "  \n",
       "  if (typeof (root._bokeh_timeout) === \"undefined\" || force === true) {\n",
       "    root._bokeh_timeout = Date.now() + 5000;\n",
       "    root._bokeh_failed_load = false;\n",
       "  }\n",
       "\n",
       "  const NB_LOAD_WARNING = {'data': {'text/html':\n",
       "     \"<div style='background-color: #fdd'>\\n\"+\n",
       "     \"<p>\\n\"+\n",
       "     \"BokehJS does not appear to have successfully loaded. If loading BokehJS from CDN, this \\n\"+\n",
       "     \"may be due to a slow or bad network connection. Possible fixes:\\n\"+\n",
       "     \"</p>\\n\"+\n",
       "     \"<ul>\\n\"+\n",
       "     \"<li>re-rerun `output_notebook()` to attempt to load from CDN again, or</li>\\n\"+\n",
       "     \"<li>use INLINE resources instead, as so:</li>\\n\"+\n",
       "     \"</ul>\\n\"+\n",
       "     \"<code>\\n\"+\n",
       "     \"from bokeh.resources import INLINE\\n\"+\n",
       "     \"output_notebook(resources=INLINE)\\n\"+\n",
       "     \"</code>\\n\"+\n",
       "     \"</div>\"}};\n",
       "\n",
       "  function display_loaded() {\n",
       "    const el = document.getElementById(\"1002\");\n",
       "    if (el != null) {\n",
       "      el.textContent = \"BokehJS is loading...\";\n",
       "    }\n",
       "    if (root.Bokeh !== undefined) {\n",
       "      if (el != null) {\n",
       "        el.textContent = \"BokehJS \" + root.Bokeh.version + \" successfully loaded.\";\n",
       "      }\n",
       "    } else if (Date.now() < root._bokeh_timeout) {\n",
       "      setTimeout(display_loaded, 100)\n",
       "    }\n",
       "  }\n",
       "\n",
       "\n",
       "  function run_callbacks() {\n",
       "    try {\n",
       "      root._bokeh_onload_callbacks.forEach(function(callback) {\n",
       "        if (callback != null)\n",
       "          callback();\n",
       "      });\n",
       "    } finally {\n",
       "      delete root._bokeh_onload_callbacks\n",
       "    }\n",
       "    console.debug(\"Bokeh: all callbacks have finished\");\n",
       "  }\n",
       "\n",
       "  function load_libs(css_urls, js_urls, callback) {\n",
       "    if (css_urls == null) css_urls = [];\n",
       "    if (js_urls == null) js_urls = [];\n",
       "\n",
       "    root._bokeh_onload_callbacks.push(callback);\n",
       "    if (root._bokeh_is_loading > 0) {\n",
       "      console.debug(\"Bokeh: BokehJS is being loaded, scheduling callback at\", now());\n",
       "      return null;\n",
       "    }\n",
       "    if (js_urls == null || js_urls.length === 0) {\n",
       "      run_callbacks();\n",
       "      return null;\n",
       "    }\n",
       "    console.debug(\"Bokeh: BokehJS not loaded, scheduling load and callback at\", now());\n",
       "    root._bokeh_is_loading = css_urls.length + js_urls.length;\n",
       "\n",
       "    function on_load() {\n",
       "      root._bokeh_is_loading--;\n",
       "      if (root._bokeh_is_loading === 0) {\n",
       "        console.debug(\"Bokeh: all BokehJS libraries/stylesheets loaded\");\n",
       "        run_callbacks()\n",
       "      }\n",
       "    }\n",
       "\n",
       "    function on_error(url) {\n",
       "      console.error(\"failed to load \" + url);\n",
       "    }\n",
       "\n",
       "    for (let i = 0; i < css_urls.length; i++) {\n",
       "      const url = css_urls[i];\n",
       "      const element = document.createElement(\"link\");\n",
       "      element.onload = on_load;\n",
       "      element.onerror = on_error.bind(null, url);\n",
       "      element.rel = \"stylesheet\";\n",
       "      element.type = \"text/css\";\n",
       "      element.href = url;\n",
       "      console.debug(\"Bokeh: injecting link tag for BokehJS stylesheet: \", url);\n",
       "      document.body.appendChild(element);\n",
       "    }\n",
       "\n",
       "    for (let i = 0; i < js_urls.length; i++) {\n",
       "      const url = js_urls[i];\n",
       "      const element = document.createElement('script');\n",
       "      element.onload = on_load;\n",
       "      element.onerror = on_error.bind(null, url);\n",
       "      element.async = false;\n",
       "      element.src = url;\n",
       "      console.debug(\"Bokeh: injecting script tag for BokehJS library: \", url);\n",
       "      document.head.appendChild(element);\n",
       "    }\n",
       "  };\n",
       "\n",
       "  function inject_raw_css(css) {\n",
       "    const element = document.createElement(\"style\");\n",
       "    element.appendChild(document.createTextNode(css));\n",
       "    document.body.appendChild(element);\n",
       "  }\n",
       "\n",
       "  \n",
       "  const js_urls = [\"https://cdn.bokeh.org/bokeh/release/bokeh-2.4.2.min.js\", \"https://cdn.bokeh.org/bokeh/release/bokeh-gl-2.4.2.min.js\", \"https://cdn.bokeh.org/bokeh/release/bokeh-widgets-2.4.2.min.js\", \"https://cdn.bokeh.org/bokeh/release/bokeh-tables-2.4.2.min.js\", \"https://cdn.bokeh.org/bokeh/release/bokeh-mathjax-2.4.2.min.js\"];\n",
       "  const css_urls = [];\n",
       "  \n",
       "\n",
       "  const inline_js = [\n",
       "    function(Bokeh) {\n",
       "      Bokeh.set_log_level(\"info\");\n",
       "    },\n",
       "    function(Bokeh) {\n",
       "    \n",
       "    \n",
       "    }\n",
       "  ];\n",
       "\n",
       "  function run_inline_js() {\n",
       "    \n",
       "    if (root.Bokeh !== undefined || force === true) {\n",
       "      \n",
       "    for (let i = 0; i < inline_js.length; i++) {\n",
       "      inline_js[i].call(root, root.Bokeh);\n",
       "    }\n",
       "    if (force === true) {\n",
       "        display_loaded();\n",
       "      }} else if (Date.now() < root._bokeh_timeout) {\n",
       "      setTimeout(run_inline_js, 100);\n",
       "    } else if (!root._bokeh_failed_load) {\n",
       "      console.log(\"Bokeh: BokehJS failed to load within specified timeout.\");\n",
       "      root._bokeh_failed_load = true;\n",
       "    } else if (force !== true) {\n",
       "      const cell = $(document.getElementById(\"1002\")).parents('.cell').data().cell;\n",
       "      cell.output_area.append_execute_result(NB_LOAD_WARNING)\n",
       "    }\n",
       "\n",
       "  }\n",
       "\n",
       "  if (root._bokeh_is_loading === 0) {\n",
       "    console.debug(\"Bokeh: BokehJS loaded, going straight to plotting\");\n",
       "    run_inline_js();\n",
       "  } else {\n",
       "    load_libs(css_urls, js_urls, function() {\n",
       "      console.debug(\"Bokeh: BokehJS plotting callback run at\", now());\n",
       "      run_inline_js();\n",
       "    });\n",
       "  }\n",
       "}(window));"
      ],
      "application/vnd.bokehjs_load.v0+json": "\n(function(root) {\n  function now() {\n    return new Date();\n  }\n\n  const force = true;\n\n  if (typeof root._bokeh_onload_callbacks === \"undefined\" || force === true) {\n    root._bokeh_onload_callbacks = [];\n    root._bokeh_is_loading = undefined;\n  }\n\n  \n\n  \n  if (typeof (root._bokeh_timeout) === \"undefined\" || force === true) {\n    root._bokeh_timeout = Date.now() + 5000;\n    root._bokeh_failed_load = false;\n  }\n\n  const NB_LOAD_WARNING = {'data': {'text/html':\n     \"<div style='background-color: #fdd'>\\n\"+\n     \"<p>\\n\"+\n     \"BokehJS does not appear to have successfully loaded. If loading BokehJS from CDN, this \\n\"+\n     \"may be due to a slow or bad network connection. Possible fixes:\\n\"+\n     \"</p>\\n\"+\n     \"<ul>\\n\"+\n     \"<li>re-rerun `output_notebook()` to attempt to load from CDN again, or</li>\\n\"+\n     \"<li>use INLINE resources instead, as so:</li>\\n\"+\n     \"</ul>\\n\"+\n     \"<code>\\n\"+\n     \"from bokeh.resources import INLINE\\n\"+\n     \"output_notebook(resources=INLINE)\\n\"+\n     \"</code>\\n\"+\n     \"</div>\"}};\n\n  function display_loaded() {\n    const el = document.getElementById(\"1002\");\n    if (el != null) {\n      el.textContent = \"BokehJS is loading...\";\n    }\n    if (root.Bokeh !== undefined) {\n      if (el != null) {\n        el.textContent = \"BokehJS \" + root.Bokeh.version + \" successfully loaded.\";\n      }\n    } else if (Date.now() < root._bokeh_timeout) {\n      setTimeout(display_loaded, 100)\n    }\n  }\n\n\n  function run_callbacks() {\n    try {\n      root._bokeh_onload_callbacks.forEach(function(callback) {\n        if (callback != null)\n          callback();\n      });\n    } finally {\n      delete root._bokeh_onload_callbacks\n    }\n    console.debug(\"Bokeh: all callbacks have finished\");\n  }\n\n  function load_libs(css_urls, js_urls, callback) {\n    if (css_urls == null) css_urls = [];\n    if (js_urls == null) js_urls = [];\n\n    root._bokeh_onload_callbacks.push(callback);\n    if (root._bokeh_is_loading > 0) {\n      console.debug(\"Bokeh: BokehJS is being loaded, scheduling callback at\", now());\n      return null;\n    }\n    if (js_urls == null || js_urls.length === 0) {\n      run_callbacks();\n      return null;\n    }\n    console.debug(\"Bokeh: BokehJS not loaded, scheduling load and callback at\", now());\n    root._bokeh_is_loading = css_urls.length + js_urls.length;\n\n    function on_load() {\n      root._bokeh_is_loading--;\n      if (root._bokeh_is_loading === 0) {\n        console.debug(\"Bokeh: all BokehJS libraries/stylesheets loaded\");\n        run_callbacks()\n      }\n    }\n\n    function on_error(url) {\n      console.error(\"failed to load \" + url);\n    }\n\n    for (let i = 0; i < css_urls.length; i++) {\n      const url = css_urls[i];\n      const element = document.createElement(\"link\");\n      element.onload = on_load;\n      element.onerror = on_error.bind(null, url);\n      element.rel = \"stylesheet\";\n      element.type = \"text/css\";\n      element.href = url;\n      console.debug(\"Bokeh: injecting link tag for BokehJS stylesheet: \", url);\n      document.body.appendChild(element);\n    }\n\n    for (let i = 0; i < js_urls.length; i++) {\n      const url = js_urls[i];\n      const element = document.createElement('script');\n      element.onload = on_load;\n      element.onerror = on_error.bind(null, url);\n      element.async = false;\n      element.src = url;\n      console.debug(\"Bokeh: injecting script tag for BokehJS library: \", url);\n      document.head.appendChild(element);\n    }\n  };\n\n  function inject_raw_css(css) {\n    const element = document.createElement(\"style\");\n    element.appendChild(document.createTextNode(css));\n    document.body.appendChild(element);\n  }\n\n  \n  const js_urls = [\"https://cdn.bokeh.org/bokeh/release/bokeh-2.4.2.min.js\", \"https://cdn.bokeh.org/bokeh/release/bokeh-gl-2.4.2.min.js\", \"https://cdn.bokeh.org/bokeh/release/bokeh-widgets-2.4.2.min.js\", \"https://cdn.bokeh.org/bokeh/release/bokeh-tables-2.4.2.min.js\", \"https://cdn.bokeh.org/bokeh/release/bokeh-mathjax-2.4.2.min.js\"];\n  const css_urls = [];\n  \n\n  const inline_js = [\n    function(Bokeh) {\n      Bokeh.set_log_level(\"info\");\n    },\n    function(Bokeh) {\n    \n    \n    }\n  ];\n\n  function run_inline_js() {\n    \n    if (root.Bokeh !== undefined || force === true) {\n      \n    for (let i = 0; i < inline_js.length; i++) {\n      inline_js[i].call(root, root.Bokeh);\n    }\n    if (force === true) {\n        display_loaded();\n      }} else if (Date.now() < root._bokeh_timeout) {\n      setTimeout(run_inline_js, 100);\n    } else if (!root._bokeh_failed_load) {\n      console.log(\"Bokeh: BokehJS failed to load within specified timeout.\");\n      root._bokeh_failed_load = true;\n    } else if (force !== true) {\n      const cell = $(document.getElementById(\"1002\")).parents('.cell').data().cell;\n      cell.output_area.append_execute_result(NB_LOAD_WARNING)\n    }\n\n  }\n\n  if (root._bokeh_is_loading === 0) {\n    console.debug(\"Bokeh: BokehJS loaded, going straight to plotting\");\n    run_inline_js();\n  } else {\n    load_libs(css_urls, js_urls, function() {\n      console.debug(\"Bokeh: BokehJS plotting callback run at\", now());\n      run_inline_js();\n    });\n  }\n}(window));"
     },
     "metadata": {},
     "output_type": "display_data"
    }
   ],
   "source": [
    "import bokeh.io\n",
    "bokeh.io.output_notebook()"
   ]
  },
  {
   "cell_type": "markdown",
   "id": "249cb582",
   "metadata": {},
   "source": [
    "# Setup"
   ]
  },
  {
   "cell_type": "code",
   "execution_count": 3,
   "id": "72cc4bee",
   "metadata": {},
   "outputs": [],
   "source": [
    "results = {}"
   ]
  },
  {
   "cell_type": "code",
   "execution_count": 4,
   "id": "cb64de7f",
   "metadata": {},
   "outputs": [
    {
     "data": {
      "text/plain": [
       "<module 'drlqap.nn' from '/media/windows/Users/Tim/Documents/Uni/thesis/repo/src/drlqap/nn.py'>"
      ]
     },
     "execution_count": 4,
     "metadata": {},
     "output_type": "execute_result"
    }
   ],
   "source": [
    "import importlib\n",
    "importlib.reload(dqn_nets)\n",
    "importlib.reload(reinforce_nets)\n",
    "importlib.reload(taskgenerators)\n",
    "importlib.reload(drlqap.nn)"
   ]
  },
  {
   "cell_type": "code",
   "execution_count": 5,
   "id": "a1da53ca",
   "metadata": {
    "scrolled": true
   },
   "outputs": [],
   "source": [
    "with open(\"../qapdata/testgraph.dat\", \"r\") as f:\n",
    "    qap = GraphAssignmentProblem.from_qaplib_string(f.read())\n",
    "\n",
    "nets = {\n",
    "    \"dense\": lambda: dqn_nets.dense(8, 3, 1),\n",
    "    #\"mp_gat\": lambda: dqn_nets.mp_gat(8, 8, 8, 3), \n",
    "    #\"mp_gat_no_edge_nn\": lambda: dqn_nets.mp_gat_no_edge_nn(32, 32, 32, 3), \n",
    "    #\"mp_gat_no_edge_nn_undirected\": lambda: dqn_nets.mp_gat_no_edge_nn_undirected(32, 32, 32, 3), \n",
    "    #\"mp_gat_no_lp\": lambda: dqn_nets.mp_gat_no_lp(32, 32, 32, 3), \n",
    "    \"simple_link_prediction\": lambda: dqn_nets.simple_link_prediction_undirected(32, 32, 3),\n",
    "    #\"mp_histogram_gat\": lambda: dqn_nets.mp_histogram_gat(32, 32, 3),\n",
    "}"
   ]
  },
  {
   "cell_type": "markdown",
   "id": "a692b224",
   "metadata": {},
   "source": [
    "# Target matrix"
   ]
  },
  {
   "cell_type": "code",
   "execution_count": 6,
   "id": "000fb02a",
   "metadata": {},
   "outputs": [],
   "source": [
    "optimal_value, optimal_assignment = solve_qap_backtracking(qap)"
   ]
  },
  {
   "cell_type": "code",
   "execution_count": 7,
   "id": "de00a90a",
   "metadata": {},
   "outputs": [
    {
     "data": {
      "text/plain": [
       "[7, 6, 4, 0, 2, 3, 1, 5]"
      ]
     },
     "execution_count": 7,
     "metadata": {},
     "output_type": "execute_result"
    }
   ],
   "source": [
    "optimal_assignment"
   ]
  },
  {
   "cell_type": "code",
   "execution_count": 8,
   "id": "d62ab8ad",
   "metadata": {},
   "outputs": [],
   "source": [
    "optimal_matrix = torch.eye(qap.size)[optimal_assignment]\n"
   ]
  },
  {
   "cell_type": "code",
   "execution_count": 9,
   "id": "cc8da4b7",
   "metadata": {},
   "outputs": [
    {
     "data": {
      "text/plain": [
       "<matplotlib.image.AxesImage at 0x7fc392d68760>"
      ]
     },
     "execution_count": 9,
     "metadata": {},
     "output_type": "execute_result"
    },
    {
     "data": {
      "image/png": "[encoded data removed]",
      "text/plain": [
       "<Figure size 432x288 with 1 Axes>"
      ]
     },
     "metadata": {
      "needs_background": "light"
     },
     "output_type": "display_data"
    }
   ],
   "source": [
    "plt.imshow(optimal_matrix)"
   ]
  },
  {
   "cell_type": "code",
   "execution_count": 10,
   "id": "2a02fea2",
   "metadata": {},
   "outputs": [
    {
     "name": "stdout",
     "output_type": "stream",
     "text": [
      "tensor(0.4868)\n"
     ]
    },
    {
     "data": {
      "text/plain": [
       "<matplotlib.image.AxesImage at 0x7fc392c71cd0>"
      ]
     },
     "execution_count": 10,
     "metadata": {},
     "output_type": "execute_result"
    },
    {
     "data": {
      "image/png": "[encoded data removed]",
      "text/plain": [
       "<Figure size 432x288 with 1 Axes>"
      ]
     },
     "metadata": {
      "needs_background": "light"
     },
     "output_type": "display_data"
    }
   ],
   "source": [
    "random_matrix = torch.rand((qap.size, qap.size))\n",
    "print(random_matrix.mean())\n",
    "plt.imshow(random_matrix)"
   ]
  },
  {
   "cell_type": "markdown",
   "id": "a5f2035c",
   "metadata": {},
   "source": [
    "# Initial output"
   ]
  },
  {
   "cell_type": "code",
   "execution_count": 11,
   "id": "5f7a0add",
   "metadata": {},
   "outputs": [],
   "source": [
    "def show_output(net):\n",
    "    net_output = net(qap)\n",
    "    plt.imshow(net_output.detach())"
   ]
  },
  {
   "cell_type": "code",
   "execution_count": 12,
   "id": "9fbbecb3",
   "metadata": {},
   "outputs": [
    {
     "data": {
      "image/png": "[encoded data removed]",
      "text/plain": [
       "<Figure size 432x288 with 1 Axes>"
      ]
     },
     "metadata": {
      "needs_background": "light"
     },
     "output_type": "display_data"
    }
   ],
   "source": [
    "show_output(nets[\"dense\"]())"
   ]
  },
  {
   "cell_type": "markdown",
   "id": "9178bb88",
   "metadata": {},
   "source": [
    "# Train"
   ]
  },
  {
   "cell_type": "code",
   "execution_count": 13,
   "id": "33b004a9",
   "metadata": {},
   "outputs": [],
   "source": [
    "def train(net, epochs):\n",
    "    optimizer = torch.optim.Adam(params=net.parameters(), lr=0.01)   \n",
    "    losses = []\n",
    "    target = optimal_matrix\n",
    "    for i in range(epochs):\n",
    "        optimizer.zero_grad(set_to_none=True)\n",
    "        net_output = net(qap)\n",
    "        loss = torch.nn.functional.mse_loss(net_output.flatten(), target.flatten())\n",
    "        loss.backward()\n",
    "        optimizer.step()\n",
    "        losses.append(loss.item())\n",
    "    return losses"
   ]
  },
  {
   "cell_type": "code",
   "execution_count": 14,
   "id": "ca3d4576",
   "metadata": {
    "scrolled": false
   },
   "outputs": [
    {
     "name": "stdout",
     "output_type": "stream",
     "text": [
      "dense final loss: 0.10937503725290298\n",
      "simple_link_prediction final loss: 4.055246763390308e-11\n",
      "done\n"
     ]
    }
   ],
   "source": [
    "repetitions = 1\n",
    "for name, net_constructor in nets.items():\n",
    "    current_results = results[name] if name in results else []\n",
    "    for i in range(len(current_results), repetitions):\n",
    "        net = net_constructor()\n",
    "        losses = train(net, 1000)\n",
    "        print(f\"{name} final loss: {losses[-1]}\")\n",
    "        current_results.append((net, losses))\n",
    "    results[name] = current_results\n",
    "\n",
    "print(\"done\")"
   ]
  },
  {
   "cell_type": "markdown",
   "id": "4d08e553",
   "metadata": {},
   "source": [
    "\n",
    "# Loss curves"
   ]
  },
  {
   "cell_type": "code",
   "execution_count": 15,
   "id": "aca202e6",
   "metadata": {
    "scrolled": false
   },
   "outputs": [
    {
     "data": {
      "text/html": [
       "\n",
       "\n",
       "\n",
       "\n",
       "\n",
       "\n",
       "  <div class=\"bk-root\" id=\"1343a786-6548-4810-8f13-5535a8b5f2cd\" data-root-id=\"1003\"></div>\n"
      ]
     },
     "metadata": {},
     "output_type": "display_data"
    },
    {
     "data": {
      "application/javascript": [
       "(function(root) {\n",
       "  function embed_document(root) {\n",
       "    \n",
       "  const docs_json = {\"b2793578-1f10-44b2-9ff5-9a38c59b6ddb\":{\"defs\":[],\"roots\":{\"references\":[{\"attributes\":{\"below\":[{\"id\":\"1012\"}],\"center\":[{\"id\":\"1015\"},{\"id\":\"1019\"},{\"id\":\"1051\"}],\"left\":[{\"id\":\"1016\"}],\"renderers\":[{\"id\":\"1038\"},{\"id\":\"1057\"}],\"title\":{\"id\":\"1040\"},\"toolbar\":{\"id\":\"1027\"},\"x_range\":{\"id\":\"1004\"},\"x_scale\":{\"id\":\"1008\"},\"y_range\":{\"id\":\"1073\"},\"y_scale\":{\"id\":\"1010\"}},\"id\":\"1003\",\"subtype\":\"Figure\",\"type\":\"Plot\"},{\"attributes\":{},\"id\":\"1048\",\"type\":\"UnionRenderers\"},{\"attributes\":{},\"id\":\"1049\",\"type\":\"Selection\"},{\"attributes\":{},\"id\":\"1023\",\"type\":\"SaveTool\"},{\"attributes\":{\"tools\":[{\"id\":\"1020\"},{\"id\":\"1021\"},{\"id\":\"1022\"},{\"id\":\"1023\"},{\"id\":\"1024\"},{\"id\":\"1025\"}]},\"id\":\"1027\",\"type\":\"Toolbar\"},{\"attributes\":{\"overlay\":{\"id\":\"1026\"}},\"id\":\"1022\",\"type\":\"BoxZoomTool\"},{\"attributes\":{},\"id\":\"1024\",\"type\":\"ResetTool\"},{\"attributes\":{},\"id\":\"1004\",\"type\":\"DataRange1d\"},{\"attributes\":{\"line_color\":\"#d95f02\",\"x\":{\"field\":\"x\"},\"y\":{\"field\":\"y\"}},\"id\":\"1054\",\"type\":\"Line\"},{\"attributes\":{\"data\":{\"x\":[0,1,2,3,4,5,6,7,8,9,10,11,12,13,14,15,16,17,18,19,20,21,22,23,24,25,26,27,28,29,30,31,32,33,34,35,36,37,38,39,40,41,42,43,44,45,46,47,48,49,50,51,52,53,54,55,56,57,58,59,60,61,62,63,64,65,66,67,68,69,70,71,72,73,74,75,76,77,78,79,80,81,82,83,84,85,86,87,88,89,90,91,92,93,94,95,96,97,98,99,100,101,102,103,104,105,106,107,108,109,110,111,112,113,114,115,116,117,118,119,120,121,122,123,124,125,126,127,128,129,130,131,132,133,134,135,136,137,138,139,140,141,142,143,144,145,146,147,148,149,150,151,152,153,154,155,156,157,158,159,160,161,162,163,164,165,166,167,168,169,170,171,172,173,174,175,176,177,178,179,180,181,182,183,184,185,186,187,188,189,190,191,192,193,194,195,196,197,198,199,200,201,202,203,204,205,206,207,208,209,210,211,212,213,214,215,216,217,218,219,220,221,222,223,224,225,226,227,228,229,230,231,232,233,234,235,236,237,238,239,240,241,242,243,244,245,246,247,248,249,250,251,252,253,254,255,256,257,258,259,260,261,262,263,264,265,266,267,268,269,270,271,272,273,274,275,276,277,278,279,280,281,282,283,284,285,286,287,288,289,290,291,292,293,294,295,296,297,298,299,300,301,302,303,304,305,306,307,308,309,310,311,312,313,314,315,316,317,318,319,320,321,322,323,324,325,326,327,328,329,330,331,332,333,334,335,336,337,338,339,340,341,342,343,344,345,346,347,348,349,350,351,352,353,354,355,356,357,358,359,360,361,362,363,364,365,366,367,368,369,370,371,372,373,374,375,376,377,378,379,380,381,382,383,384,385,386,387,388,389,390,391,392,393,394,395,396,397,398,399,400,401,402,403,404,405,406,407,408,409,410,411,412,413,414,415,416,417,418,419,420,421,422,423,424,425,426,427,428,429,430,431,432,433,434,435,436,437,438,439,440,441,442,443,444,445,446,447,448,449,450,451,452,453,454,455,456,457,458,459,460,461,462,463,464,465,466,467,468,469,470,471,472,473,474,475,476,477,478,479,480,481,482,483,484,485,486,487,488,489,490,491,492,493,494,495,496,497,498,499,500,501,502,503,504,505,506,507,508,509,510,511,512,513,514,515,516,517,518,519,520,521,522,523,524,525,526,527,528,529,530,531,532,533,534,535,536,537,538,539,540,541,542,543,544,545,546,547,548,549,550,551,552,553,554,555,556,557,558,559,560,561,562,563,564,565,566,567,568,569,570,571,572,573,574,575,576,577,578,579,580,581,582,583,584,585,586,587,588,589,590,591,592,593,594,595,596,597,598,599,600,601,602,603,604,605,606,607,608,609,610,611,612,613,614,615,616,617,618,619,620,621,622,623,624,625,626,627,628,629,630,631,632,633,634,635,636,637,638,639,640,641,642,643,644,645,646,647,648,649,650,651,652,653,654,655,656,657,658,659,660,661,662,663,664,665,666,667,668,669,670,671,672,673,674,675,676,677,678,679,680,681,682,683,684,685,686,687,688,689,690,691,692,693,694,695,696,697,698,699,700,701,702,703,704,705,706,707,708,709,710,711,712,713,714,715,716,717,718,719,720,721,722,723,724,725,726,727,728,729,730,731,732,733,734,735,736,737,738,739,740,741,742,743,744,745,746,747,748,749,750,751,752,753,754,755,756,757,758,759,760,761,762,763,764,765,766,767,768,769,770,771,772,773,774,775,776,777,778,779,780,781,782,783,784,785,786,787,788,789,790,791,792,793,794,795,796,797,798,799,800,801,802,803,804,805,806,807,808,809,810,811,812,813,814,815,816,817,818,819,820,821,822,823,824,825,826,827,828,829,830,831,832,833,834,835,836,837,838,839,840,841,842,843,844,845,846,847,848,849,850,851,852,853,854,855,856,857,858,859,860,861,862,863,864,865,866,867,868,869,870,871,872,873,874,875,876,877,878,879,880,881,882,883,884,885,886,887,888,889,890,891,892,893,894,895,896,897,898,899,900,901,902,903,904,905,906,907,908,909,910,911,912,913,914,915,916,917,918,919,920,921,922,923,924,925,926,927,928,929,930,931,932,933,934,935,936,937,938,939,940,941,942,943,944,945,946,947,948,949,950,951,952,953,954,955,956,957,958,959,960,961,962,963,964,965,966,967,968,969,970,971,972,973,974,975,976,977,978,979,980,981,982,983,984,985,986,987,988,989,990,991,992,993,994,995,996,997,998,999],\"y\":[19.26273536682129,7.859532356262207,2.932516098022461,0.5290617942810059,0.13782623410224915,0.6026544570922852,1.0127029418945312,1.0916014909744263,1.005986213684082,0.8595917820930481,0.6867505311965942,0.5315506458282471,0.18947197496891022,0.18395903706550598,0.24078556895256042,0.1311616450548172,0.13053704798221588,0.15236085653305054,0.1373579204082489,0.12434834241867065,0.115312859416008,0.11035212129354477,0.10952054709196091,0.11220088601112366,0.11625099927186966,0.11961428821086884,0.12156705558300018,0.12240006029605865,0.12147554010152817,0.11919626593589783,0.11622480303049088,0.11328569054603577,0.11098107695579529,0.1096656396985054,0.1093994602560997,0.10997274518013,0.11101359874010086,0.11210399866104126,0.1128900870680809,0.11316234618425369,0.11288631707429886,0.11218245327472687,0.11126874387264252,0.11038637161254883,0.10973120480775833,0.1094277948141098,0.10938210785388947,0.10950708389282227,0.10972636938095093,0.10995427519083023,0.11011867970228195,0.1101767048239708,0.1101209744811058,0.10997551679611206,0.10978473722934723,0.10959826409816742,0.10945724695920944,0.10938455164432526,0.10938164591789246,0.1094314381480217,0.10950589179992676,0.10957539081573486,0.10961711406707764,0.10962020605802536,0.10958696901798248,0.10952991992235184,0.10946661233901978,0.10941372811794281,0.10938230156898499,0.10937555134296417,0.10938908159732819,0.10941340029239655,0.10943768173456192,0.10945302993059158,0.10945501178503036,0.10944408178329468,0.10942468792200089,0.10940331220626831,0.10938595235347748,0.10937649011611938,0.10937568545341492,0.10938156396150589,0.10939039289951324,0.10939821600914001,0.1094021201133728,0.10940110683441162,0.10939586907625198,0.10938849300146103,0.10938144475221634,0.10937666147947311,0.10937505215406418,0.10937628895044327,0.10937920212745667,0.10938229411840439,0.10938423871994019,0.10938438773155212,0.10938286781311035,0.1093803346157074,0.10937768220901489,0.10937581956386566,0.10937505960464478,0.10937540978193283,0.1093764454126358,0.10937759280204773,0.10937832295894623,0.1093783974647522,0.10937781631946564,0.10937688499689102,0.10937590897083282,0.10937526822090149,0.10937503725290298,0.10937522351741791,0.10937565565109253,0.10937604308128357,0.10937626659870148,0.10937624424695969,0.1093759685754776,0.10937558859586716,0.10937526077032089,0.10937507450580597,0.10937505960464478,0.10937516391277313,0.10937533527612686,0.10937546193599701,0.10937551409006119,0.10937546193599701,0.10937531292438507,0.10937518626451492,0.10937507450580597,0.10937502980232239,0.10937505960464478,0.10937513411045074,0.10937520861625671,0.10937522351741791,0.10937522351741791,0.10937516391277313,0.10937510430812836,0.10937506705522537,0.10937503725290298,0.10937505960464478,0.10937507450580597,0.10937510430812836,0.10937511920928955,0.10937510430812836,0.10937509685754776,0.10937507450580597,0.10937504470348358,0.10937505960464478,0.10937504470348358,0.10937506705522537,0.10937505960464478,0.10937508940696716,0.10937506705522537,0.10937505215406418,0.10937505960464478,0.10937505215406418,0.10937504470348358,0.10937503725290298,0.10937504470348358,0.10937505960464478,0.10937505960464478,0.10937505215406418,0.10937504470348358,0.10937504470348358,0.10937504470348358,0.10937504470348358,0.10937504470348358,0.10937505215406418,0.10937503725290298,0.10937503725290298,0.10937504470348358,0.10937505960464478,0.10937504470348358,0.10937503725290298,0.10937502980232239,0.10937505215406418,0.10937505215406418,0.10937503725290298,0.10937504470348358,0.10937503725290298,0.10937503725290298,0.10937503725290298,0.10937505960464478,0.10937505215406418,0.10937504470348358,0.10937503725290298,0.10937503725290298,0.10937504470348358,0.10937504470348358,0.10937503725290298,0.10937503725290298,0.10937504470348358,0.10937503725290298,0.10937505215406418,0.10937502235174179,0.10937503725290298,0.10937503725290298,0.10937503725290298,0.10937504470348358,0.10937502980232239,0.10937504470348358,0.10937504470348358,0.10937504470348358,0.10937504470348358,0.10937505215406418,0.10937504470348358,0.10937504470348358,0.10937504470348358,0.10937502980232239,0.10937505215406418,0.10937504470348358,0.10937503725290298,0.10937504470348358,0.10937503725290298,0.10937504470348358,0.10937505215406418,0.10937502980232239,0.10937502980232239,0.10937504470348358,0.10937503725290298,0.10937504470348358,0.10937504470348358,0.10937503725290298,0.10937504470348358,0.10937503725290298,0.10937503725290298,0.10937503725290298,0.10937504470348358,0.10937504470348358,0.10937505215406418,0.10937503725290298,0.10937505215406418,0.10937504470348358,0.10937505960464478,0.10937504470348358,0.10937503725290298,0.10937503725290298,0.10937502980232239,0.10937502980232239,0.10937505215406418,0.10937504470348358,0.10937502980232239,0.10937504470348358,0.10937503725290298,0.10937503725290298,0.10937502980232239,0.10937503725290298,0.10937504470348358,0.10937502980232239,0.10937502980232239,0.10937504470348358,0.10937504470348358,0.10937505215406418,0.10937503725290298,0.10937504470348358,0.10937504470348358,0.10937504470348358,0.10937503725290298,0.10937505215406418,0.10937505215406418,0.10937505215406418,0.10937504470348358,0.10937505215406418,0.10937505960464478,0.10937505215406418,0.10937504470348358,0.10937504470348358,0.10937503725290298,0.10937503725290298,0.10937504470348358,0.10937505215406418,0.10937502980232239,0.10937502980232239,0.10937504470348358,0.10937504470348358,0.10937503725290298,0.10937504470348358,0.10937504470348358,0.10937504470348358,0.10937505215406418,0.10937504470348358,0.10937504470348358,0.10937504470348358,0.10937503725290298,0.10937504470348358,0.10937504470348358,0.10937505215406418,0.10937504470348358,0.10937503725290298,0.10937504470348358,0.10937503725290298,0.10937504470348358,0.10937504470348358,0.10937503725290298,0.10937503725290298,0.10937505960464478,0.10937505960464478,0.10937504470348358,0.10937505960464478,0.10937505960464478,0.10937505215406418,0.10937505215406418,0.10937505215406418,0.10937504470348358,0.10937505215406418,0.10937504470348358,0.10937503725290298,0.10937503725290298,0.10937503725290298,0.10937503725290298,0.10937503725290298,0.10937503725290298,0.10937503725290298,0.10937504470348358,0.10937505960464478,0.10937505960464478,0.10937505960464478,0.10937504470348358,0.10937505215406418,0.10937505960464478,0.10937504470348358,0.10937504470348358,0.10937505960464478,0.10937504470348358,0.10937504470348358,0.10937505960464478,0.10937504470348358,0.10937505215406418,0.10937504470348358,0.10937504470348358,0.10937503725290298,0.10937503725290298,0.10937503725290298,0.10937503725290298,0.10937504470348358,0.10937504470348358,0.10937502980232239,0.10937503725290298,0.10937504470348358,0.10937502980232239,0.10937503725290298,0.10937504470348358,0.10937504470348358,0.10937504470348358,0.10937503725290298,0.10937505960464478,0.10937506705522537,0.10937505215406418,0.10937505215406418,0.10937504470348358,0.10937502980232239,0.10937503725290298,0.10937503725290298,0.10937505215406418,0.10937505960464478,0.10937504470348358,0.10937504470348358,0.10937505960464478,0.10937504470348358,0.10937502980232239,0.10937504470348358,0.10937504470348358,0.10937503725290298,0.10937503725290298,0.10937503725290298,0.10937502980232239,0.10937502980232239,0.10937504470348358,0.10937504470348358,0.10937504470348358,0.10937504470348358,0.10937504470348358,0.10937503725290298,0.10937503725290298,0.10937503725290298,0.10937505215406418,0.10937503725290298,0.10937504470348358,0.10937503725290298,0.10937503725290298,0.10937503725290298,0.10937503725290298,0.10937503725290298,0.10937504470348358,0.10937504470348358,0.10937502980232239,0.10937504470348358,0.10937504470348358,0.10937505960464478,0.10937504470348358,0.10937503725290298,0.10937502980232239,0.10937502980232239,0.10937505215406418,0.10937504470348358,0.10937505215406418,0.10937504470348358,0.10937504470348358,0.10937504470348358,0.10937503725290298,0.10937504470348358,0.10937503725290298,0.10937502980232239,0.10937503725290298,0.10937503725290298,0.10937502235174179,0.10937504470348358,0.10937503725290298,0.10937504470348358,0.10937504470348358,0.10937504470348358,0.10937503725290298,0.10937503725290298,0.10937504470348358,0.10937504470348358,0.10937505960464478,0.10937505960464478,0.10937505960464478,0.10937504470348358,0.10937503725290298,0.10937505215406418,0.10937503725290298,0.10937503725290298,0.10937503725290298,0.10937503725290298,0.10937504470348358,0.10937504470348358,0.10937504470348358,0.10937503725290298,0.10937503725290298,0.10937504470348358,0.10937503725290298,0.10937504470348358,0.10937503725290298,0.10937504470348358,0.10937504470348358,0.10937503725290298,0.10937503725290298,0.10937504470348358,0.10937504470348358,0.10937504470348358,0.10937504470348358,0.10937505215406418,0.10937504470348358,0.10937504470348358,0.10937503725290298,0.10937503725290298,0.10937504470348358,0.10937503725290298,0.10937504470348358,0.10937504470348358,0.10937503725290298,0.10937505215406418,0.10937505215406418,0.10937504470348358,0.10937504470348358,0.10937504470348358,0.10937504470348358,0.10937503725290298,0.10937503725290298,0.10937503725290298,0.10937503725290298,0.10937503725290298,0.10937504470348358,0.10937504470348358,0.10937504470348358,0.10937505215406418,0.10937504470348358,0.10937505215406418,0.10937505960464478,0.10937504470348358,0.10937504470348358,0.10937504470348358,0.10937504470348358,0.10937504470348358,0.10937504470348358,0.10937502980232239,0.10937505215406418,0.10937504470348358,0.10937504470348358,0.10937503725290298,0.10937504470348358,0.10937504470348358,0.10937502980232239,0.10937502980232239,0.10937502235174179,0.10937504470348358,0.10937505215406418,0.10937502980232239,0.10937504470348358,0.10937503725290298,0.10937503725290298,0.10937503725290298,0.10937503725290298,0.10937504470348358,0.10937504470348358,0.10937505215406418,0.10937504470348358,0.10937505215406418,0.10937503725290298,0.10937504470348358,0.10937504470348358,0.10937504470348358,0.10937504470348358,0.10937504470348358,0.10937504470348358,0.10937505960464478,0.10937505215406418,0.10937504470348358,0.10937505215406418,0.10937504470348358,0.10937504470348358,0.10937504470348358,0.10937504470348358,0.10937504470348358,0.10937504470348358,0.10937504470348358,0.10937503725290298,0.10937503725290298,0.10937503725290298,0.10937504470348358,0.10937504470348358,0.10937504470348358,0.10937504470348358,0.10937504470348358,0.10937503725290298,0.10937504470348358,0.10937503725290298,0.10937502980232239,0.10937504470348358,0.10937504470348358,0.10937505215406418,0.10937504470348358,0.10937504470348358,0.10937504470348358,0.10937502980232239,0.10937502980232239,0.10937502980232239,0.10937502980232239,0.10937502980232239,0.10937502980232239,0.10937502980232239,0.10937502980232239,0.10937504470348358,0.10937504470348358,0.10937502980232239,0.10937502980232239,0.10937504470348358,0.10937504470348358,0.10937503725290298,0.10937503725290298,0.10937504470348358,0.10937504470348358,0.10937504470348358,0.10937504470348358,0.10937503725290298,0.10937502980232239,0.10937503725290298,0.10937503725290298,0.10937503725290298,0.10937504470348358,0.10937504470348358,0.10937504470348358,0.10937504470348358,0.10937502980232239,0.10937503725290298,0.10937503725290298,0.10937503725290298,0.10937502980232239,0.10937503725290298,0.10937503725290298,0.10937504470348358,0.10937505215406418,0.10937503725290298,0.10937503725290298,0.10937505215406418,0.10937505215406418,0.10937505215406418,0.10937505960464478,0.10937504470348358,0.10937503725290298,0.10937502980232239,0.10937502980232239,0.10937505960464478,0.10937504470348358,0.10937504470348358,0.10937505215406418,0.10937504470348358,0.10937505215406418,0.10937504470348358,0.10937504470348358,0.10937505215406418,0.10937505215406418,0.10937504470348358,0.10937504470348358,0.10937504470348358,0.10937505215406418,0.10937505215406418,0.10937504470348358,0.10937503725290298,0.10937504470348358,0.10937504470348358,0.10937505960464478,0.10937504470348358,0.10937504470348358,0.10937504470348358,0.10937504470348358,0.10937505215406418,0.10937503725290298,0.10937502980232239,0.10937503725290298,0.10937505215406418,0.10937505215406418,0.10937503725290298,0.10937504470348358,0.10937504470348358,0.10937503725290298,0.10937503725290298,0.10937504470348358,0.10937504470348358,0.10937502980232239,0.10937502980232239,0.10937503725290298,0.10937504470348358,0.10937503725290298,0.10937504470348358,0.10937504470348358,0.10937504470348358,0.10937505215406418,0.10937502980232239,0.10937502980232239,0.10937503725290298,0.10937503725290298,0.10937505215406418,0.10937504470348358,0.10937504470348358,0.10937503725290298,0.10937504470348358,0.10937503725290298,0.10937504470348358,0.10937504470348358,0.10937503725290298,0.10937503725290298,0.10937504470348358,0.10937503725290298,0.10937504470348358,0.10937504470348358,0.10937504470348358,0.10937504470348358,0.10937504470348358,0.10937504470348358,0.10937504470348358,0.10937504470348358,0.10937504470348358,0.10937504470348358,0.10937503725290298,0.10937505215406418,0.10937504470348358,0.10937502980232239,0.10937504470348358,0.10937504470348358,0.10937503725290298,0.10937503725290298,0.10937503725290298,0.10937503725290298,0.10937505215406418,0.10937505215406418,0.10937504470348358,0.10937504470348358,0.10937504470348358,0.10937503725290298,0.10937504470348358,0.10937504470348358,0.10937502980232239,0.10937504470348358,0.10937504470348358,0.10937505215406418,0.10937504470348358,0.10937505215406418,0.10937504470348358,0.10937504470348358,0.10937504470348358,0.10937505215406418,0.10937505215406418,0.10937504470348358,0.10937504470348358,0.10937504470348358,0.10937504470348358,0.10937505215406418,0.10937504470348358,0.10937504470348358,0.10937505960464478,0.10937505215406418,0.10937504470348358,0.10937504470348358,0.10937504470348358,0.10937504470348358,0.10937504470348358,0.10937504470348358,0.10937504470348358,0.10937504470348358,0.10937503725290298,0.10937504470348358,0.10937503725290298,0.10937502980232239,0.10937503725290298,0.10937502980232239,0.10937503725290298,0.10937502980232239,0.10937504470348358,0.10937504470348358,0.10937504470348358,0.10937503725290298,0.10937503725290298,0.10937504470348358,0.10937502980232239,0.10937502980232239,0.10937504470348358,0.10937505215406418,0.10937504470348358,0.10937504470348358,0.10937504470348358,0.10937503725290298,0.10937502980232239,0.10937503725290298,0.10937502980232239,0.10937504470348358,0.10937504470348358,0.10937504470348358,0.10937503725290298,0.10937504470348358,0.10937504470348358,0.10937504470348358,0.10937503725290298,0.10937503725290298,0.10937504470348358,0.10937504470348358,0.10937503725290298,0.10937504470348358,0.10937504470348358,0.10937504470348358,0.10937504470348358,0.10937504470348358,0.10937503725290298,0.10937503725290298,0.10937502980232239,0.10937502980232239,0.10937502980232239,0.10937502980232239,0.10937504470348358,0.10937502980232239,0.10937502980232239,0.10937502980232239,0.10937502235174179,0.10937502980232239,0.10937504470348358,0.10937502980232239,0.10937503725290298,0.10937503725290298,0.10937503725290298,0.10937502980232239,0.10937502980232239,0.10937502980232239,0.10937503725290298,0.10937503725290298,0.10937504470348358,0.10937504470348358,0.10937504470348358,0.10937505215406418,0.10937503725290298,0.10937505215406418,0.10937503725290298,0.10937504470348358,0.10937504470348358,0.10937504470348358,0.10937503725290298,0.10937505215406418,0.10937504470348358,0.10937504470348358,0.10937503725290298,0.10937504470348358,0.10937504470348358,0.10937504470348358,0.10937503725290298,0.10937503725290298,0.10937503725290298,0.10937502980232239,0.10937502980232239,0.10937503725290298,0.10937502980232239,0.10937504470348358,0.10937505960464478,0.10937505215406418,0.10937504470348358,0.10937504470348358,0.10937504470348358,0.10937503725290298,0.10937502980232239,0.10937503725290298,0.10937503725290298,0.10937503725290298,0.10937502980232239,0.10937504470348358,0.10937505215406418,0.10937503725290298,0.10937505960464478,0.10937505960464478,0.10937504470348358,0.10937505215406418,0.10937504470348358,0.10937504470348358,0.10937503725290298,0.10937503725290298,0.10937503725290298,0.10937503725290298,0.10937505215406418,0.10937504470348358,0.10937504470348358,0.10937505960464478,0.10937503725290298,0.10937503725290298,0.10937502235174179,0.10937502980232239,0.10937504470348358,0.10937502980232239,0.10937502980232239,0.10937503725290298,0.10937502980232239,0.10937504470348358,0.10937503725290298,0.10937503725290298,0.10937503725290298,0.10937503725290298,0.10937502980232239,0.10937503725290298,0.10937502980232239,0.10937502980232239,0.10937502980232239,0.10937503725290298,0.10937502980232239,0.10937502980232239,0.10937503725290298,0.10937502980232239,0.10937502980232239,0.10937502980232239,0.10937502235174179,0.10937503725290298,0.10937502980232239,0.10937504470348358,0.10937503725290298,0.10937504470348358,0.10937502980232239,0.10937503725290298,0.10937502980232239,0.10937502980232239,0.10937503725290298,0.10937503725290298,0.10937503725290298,0.10937503725290298,0.10937504470348358,0.10937504470348358,0.10937505215406418,0.10937504470348358,0.10937504470348358,0.10937504470348358,0.10937504470348358,0.10937504470348358,0.10937503725290298,0.10937503725290298,0.10937502235174179,0.10937502235174179,0.10937503725290298,0.10937503725290298,0.10937502980232239,0.10937502980232239,0.10937503725290298,0.10937504470348358,0.10937504470348358,0.10937505215406418,0.10937504470348358,0.10937504470348358,0.10937504470348358,0.10937504470348358,0.10937504470348358,0.10937504470348358,0.10937504470348358,0.10937504470348358,0.10937504470348358,0.10937505960464478,0.10937505215406418,0.10937504470348358,0.10937505215406418,0.10937505215406418,0.10937504470348358,0.10937504470348358,0.10937504470348358,0.10937505960464478,0.10937505215406418,0.10937504470348358,0.10937503725290298,0.10937503725290298,0.10937503725290298,0.10937504470348358,0.10937505960464478,0.10937505215406418,0.10937504470348358,0.10937503725290298,0.10937504470348358,0.10937503725290298,0.10937504470348358,0.10937505215406418,0.10937503725290298,0.10937503725290298,0.10937504470348358,0.10937505215406418,0.10937504470348358,0.10937503725290298,0.10937504470348358,0.10937504470348358,0.10937504470348358,0.10937503725290298,0.10937504470348358,0.10937503725290298,0.10937504470348358,0.10937503725290298,0.10937502980232239,0.10937503725290298,0.10937504470348358,0.10937504470348358,0.10937502980232239,0.10937502980232239,0.10937502980232239,0.10937502980232239,0.10937502980232239,0.10937502980232239,0.10937502235174179,0.10937503725290298,0.10937503725290298,0.10937502980232239,0.10937502980232239,0.10937504470348358,0.10937504470348358,0.10937504470348358,0.10937504470348358,0.10937504470348358,0.10937503725290298,0.10937503725290298,0.10937504470348358,0.10937504470348358,0.10937503725290298,0.10937503725290298,0.10937504470348358,0.10937504470348358,0.10937504470348358,0.10937502235174179,0.10937505215406418,0.10937504470348358,0.10937504470348358,0.10937504470348358,0.10937504470348358,0.10937504470348358,0.10937504470348358,0.10937504470348358,0.10937504470348358,0.10937504470348358,0.10937504470348358,0.10937503725290298,0.10937504470348358,0.10937505215406418,0.10937504470348358,0.10937505215406418,0.10937505215406418,0.10937504470348358,0.10937505215406418,0.10937504470348358,0.10937503725290298,0.10937504470348358,0.10937504470348358,0.10937502980232239,0.10937504470348358,0.10937503725290298,0.10937503725290298,0.10937505215406418,0.10937504470348358,0.10937504470348358,0.10937504470348358,0.10937502980232239,0.10937504470348358,0.10937502980232239,0.10937502980232239,0.10937504470348358,0.10937503725290298,0.10937504470348358,0.10937504470348358,0.10937502980232239,0.10937504470348358,0.10937503725290298,0.10937502980232239,0.10937502980232239,0.10937503725290298]},\"selected\":{\"id\":\"1049\"},\"selection_policy\":{\"id\":\"1048\"}},\"id\":\"1034\",\"type\":\"ColumnDataSource\"},{\"attributes\":{\"line_alpha\":0.2,\"line_color\":\"#d95f02\",\"x\":{\"field\":\"x\"},\"y\":{\"field\":\"y\"}},\"id\":\"1056\",\"type\":\"Line\"},{\"attributes\":{\"line_color\":\"#1b9e77\",\"x\":{\"field\":\"x\"},\"y\":{\"field\":\"y\"}},\"id\":\"1035\",\"type\":\"Line\"},{\"attributes\":{},\"id\":\"1008\",\"type\":\"LinearScale\"},{\"attributes\":{\"coordinates\":null,\"formatter\":{\"id\":\"1046\"},\"group\":null,\"major_label_policy\":{\"id\":\"1047\"},\"ticker\":{\"id\":\"1013\"}},\"id\":\"1012\",\"type\":\"LinearAxis\"},{\"attributes\":{},\"id\":\"1043\",\"type\":\"BasicTickFormatter\"},{\"attributes\":{\"source\":{\"id\":\"1034\"}},\"id\":\"1039\",\"type\":\"CDSView\"},{\"attributes\":{\"coordinates\":null,\"data_source\":{\"id\":\"1053\"},\"glyph\":{\"id\":\"1054\"},\"group\":null,\"hover_glyph\":null,\"muted_glyph\":{\"id\":\"1056\"},\"nonselection_glyph\":{\"id\":\"1055\"},\"view\":{\"id\":\"1058\"}},\"id\":\"1057\",\"type\":\"GlyphRenderer\"},{\"attributes\":{\"coordinates\":null,\"formatter\":{\"id\":\"1043\"},\"group\":null,\"major_label_policy\":{\"id\":\"1044\"},\"ticker\":{\"id\":\"1017\"}},\"id\":\"1016\",\"type\":\"LinearAxis\"},{\"attributes\":{\"line_alpha\":0.2,\"line_color\":\"#1b9e77\",\"x\":{\"field\":\"x\"},\"y\":{\"field\":\"y\"}},\"id\":\"1037\",\"type\":\"Line\"},{\"attributes\":{},\"id\":\"1010\",\"type\":\"LinearScale\"},{\"attributes\":{\"data\":{\"x\":[0,1,2,3,4,5,6,7,8,9,10,11,12,13,14,15,16,17,18,19,20,21,22,23,24,25,26,27,28,29,30,31,32,33,34,35,36,37,38,39,40,41,42,43,44,45,46,47,48,49,50,51,52,53,54,55,56,57,58,59,60,61,62,63,64,65,66,67,68,69,70,71,72,73,74,75,76,77,78,79,80,81,82,83,84,85,86,87,88,89,90,91,92,93,94,95,96,97,98,99,100,101,102,103,104,105,106,107,108,109,110,111,112,113,114,115,116,117,118,119,120,121,122,123,124,125,126,127,128,129,130,131,132,133,134,135,136,137,138,139,140,141,142,143,144,145,146,147,148,149,150,151,152,153,154,155,156,157,158,159,160,161,162,163,164,165,166,167,168,169,170,171,172,173,174,175,176,177,178,179,180,181,182,183,184,185,186,187,188,189,190,191,192,193,194,195,196,197,198,199,200,201,202,203,204,205,206,207,208,209,210,211,212,213,214,215,216,217,218,219,220,221,222,223,224,225,226,227,228,229,230,231,232,233,234,235,236,237,238,239,240,241,242,243,244,245,246,247,248,249,250,251,252,253,254,255,256,257,258,259,260,261,262,263,264,265,266,267,268,269,270,271,272,273,274,275,276,277,278,279,280,281,282,283,284,285,286,287,288,289,290,291,292,293,294,295,296,297,298,299,300,301,302,303,304,305,306,307,308,309,310,311,312,313,314,315,316,317,318,319,320,321,322,323,324,325,326,327,328,329,330,331,332,333,334,335,336,337,338,339,340,341,342,343,344,345,346,347,348,349,350,351,352,353,354,355,356,357,358,359,360,361,362,363,364,365,366,367,368,369,370,371,372,373,374,375,376,377,378,379,380,381,382,383,384,385,386,387,388,389,390,391,392,393,394,395,396,397,398,399,400,401,402,403,404,405,406,407,408,409,410,411,412,413,414,415,416,417,418,419,420,421,422,423,424,425,426,427,428,429,430,431,432,433,434,435,436,437,438,439,440,441,442,443,444,445,446,447,448,449,450,451,452,453,454,455,456,457,458,459,460,461,462,463,464,465,466,467,468,469,470,471,472,473,474,475,476,477,478,479,480,481,482,483,484,485,486,487,488,489,490,491,492,493,494,495,496,497,498,499,500,501,502,503,504,505,506,507,508,509,510,511,512,513,514,515,516,517,518,519,520,521,522,523,524,525,526,527,528,529,530,531,532,533,534,535,536,537,538,539,540,541,542,543,544,545,546,547,548,549,550,551,552,553,554,555,556,557,558,559,560,561,562,563,564,565,566,567,568,569,570,571,572,573,574,575,576,577,578,579,580,581,582,583,584,585,586,587,588,589,590,591,592,593,594,595,596,597,598,599,600,601,602,603,604,605,606,607,608,609,610,611,612,613,614,615,616,617,618,619,620,621,622,623,624,625,626,627,628,629,630,631,632,633,634,635,636,637,638,639,640,641,642,643,644,645,646,647,648,649,650,651,652,653,654,655,656,657,658,659,660,661,662,663,664,665,666,667,668,669,670,671,672,673,674,675,676,677,678,679,680,681,682,683,684,685,686,687,688,689,690,691,692,693,694,695,696,697,698,699,700,701,702,703,704,705,706,707,708,709,710,711,712,713,714,715,716,717,718,719,720,721,722,723,724,725,726,727,728,729,730,731,732,733,734,735,736,737,738,739,740,741,742,743,744,745,746,747,748,749,750,751,752,753,754,755,756,757,758,759,760,761,762,763,764,765,766,767,768,769,770,771,772,773,774,775,776,777,778,779,780,781,782,783,784,785,786,787,788,789,790,791,792,793,794,795,796,797,798,799,800,801,802,803,804,805,806,807,808,809,810,811,812,813,814,815,816,817,818,819,820,821,822,823,824,825,826,827,828,829,830,831,832,833,834,835,836,837,838,839,840,841,842,843,844,845,846,847,848,849,850,851,852,853,854,855,856,857,858,859,860,861,862,863,864,865,866,867,868,869,870,871,872,873,874,875,876,877,878,879,880,881,882,883,884,885,886,887,888,889,890,891,892,893,894,895,896,897,898,899,900,901,902,903,904,905,906,907,908,909,910,911,912,913,914,915,916,917,918,919,920,921,922,923,924,925,926,927,928,929,930,931,932,933,934,935,936,937,938,939,940,941,942,943,944,945,946,947,948,949,950,951,952,953,954,955,956,957,958,959,960,961,962,963,964,965,966,967,968,969,970,971,972,973,974,975,976,977,978,979,980,981,982,983,984,985,986,987,988,989,990,991,992,993,994,995,996,997,998,999],\"y\":[0.11393019556999207,0.23102101683616638,0.11328640580177307,0.12464127689599991,0.12143805623054504,0.11037589609622955,0.11370819061994553,0.1175205186009407,0.11142641305923462,0.1110311895608902,0.116839200258255,0.11469025164842606,0.10963098704814911,0.110191710293293,0.11302924156188965,0.11194106191396713,0.10919857770204544,0.1089811772108078,0.11062832176685333,0.11108037829399109,0.10976690798997879,0.10855651646852493,0.10872097313404083,0.10952816158533096,0.10959456115961075,0.1088031530380249,0.10812770575284958,0.10814908146858215,0.10849407315254211,0.10849979519844055,0.10800293833017349,0.10741465538740158,0.10716723650693893,0.1071961373090744,0.1070421114563942,0.1064889207482338,0.10586100816726685,0.10552066564559937,0.10527115315198898,0.10461468994617462,0.10361911356449127,0.10280545055866241,0.10196620970964432,0.10046590864658356,0.09881752729415894,0.09716648608446121,0.09447230398654938,0.09188009053468704,0.08810682594776154,0.08440867066383362,0.07926326990127563,0.07342887669801712,0.06749097257852554,0.06394821405410767,0.0991145670413971,0.1517866998910904,0.05722009763121605,0.12081243842840195,0.06883912533521652,0.06878409534692764,0.08954863995313644,0.066541887819767,0.06093848496675491,0.07456153631210327,0.07617001235485077,0.06569259613752365,0.06032831221818924,0.0648338794708252,0.06839849054813385,0.06295646727085114,0.05608166754245758,0.05656614527106285,0.05908741429448128,0.054242394864559174,0.04797636717557907,0.049710191786289215,0.0497719906270504,0.04346589744091034,0.044504355639219284,0.04496277868747711,0.04029063880443573,0.04258064553141594,0.039337158203125,0.03881280496716499,0.03847423568367958,0.03445158153772354,0.03610248863697052,0.03229095786809921,0.032563090324401855,0.03099401295185089,0.029475899413228035,0.029573600739240646,0.027293941006064415,0.027692385017871857,0.025654882192611694,0.025504441931843758,0.023860327899456024,0.023395027965307236,0.022118184715509415,0.021256327629089355,0.02034139446914196,0.01958334632217884,0.018496382981538773,0.018102670088410378,0.016777854412794113,0.016572894528508186,0.015253148972988129,0.01485710684210062,0.013917493633925915,0.013083845376968384,0.012586619704961777,0.011547494679689407,0.011072318069636822,0.010349618270993233,0.00952242687344551,0.009114225395023823,0.008296777494251728,0.007640157826244831,0.007182606961578131,0.006464567966759205,0.0058283088728785515,0.005429327953606844,0.0049390909262001514,0.004348395857959986,0.0038587097078561783,0.0035500579979270697,0.0032584096770733595,0.0029533952474594116,0.0026200099382549524,0.0023038785438984632,0.002038164995610714,0.0018058737041428685,0.0016310826176777482,0.001497092074714601,0.0014438540674746037,0.0015648134285584092,0.002198259811848402,0.004328354261815548,0.011088783852756023,0.023686358705163002,0.03293829783797264,0.006994429975748062,0.008156504482030869,0.015406650491058826,0.002729191677644849,0.013818344101309776,0.0022876812145113945,0.010501742362976074,0.0020838440395891666,0.008415685035288334,0.0019667535088956356,0.006200502160936594,0.0020018478389829397,0.004538223147392273,0.002254209714010358,0.003020036965608597,0.0024634478613734245,0.0019071882124990225,0.0026190998032689095,0.0011972954962402582,0.002558561507612467,0.000752511085011065,0.002274994971230626,0.00048443645937368274,0.0018681909423321486,0.00035318449954502285,0.0014585048193112016,0.00035675562685355544,0.001093636266887188,0.00043533314601518214,0.0007907688850536942,0.0005109885823912919,0.0005391525919549167,0.0005418309010565281,0.00034288811730220914,0.0005319365300238132,0.0002074607036774978,0.00048831821186468,0.00013292083167470992,0.0004272090154699981,0.00010077851766254753,0.0003513498813845217,9.724371193442494e-05,0.0002774956519715488,0.00011182309390278533,0.00020430254517123103,0.00012455580872483552,0.00013903318904340267,0.00012593067367561162,9.07982830540277e-05,0.00011809248826466501,6.440066499635577e-05,0.00010617139196256176,5.490811599884182e-05,9.223689266946167e-05,5.2916602726327255e-05,7.56581430323422e-05,5.100982525618747e-05,5.870824679732323e-05,4.681191057898104e-05,4.62215393781662e-05,4.090197762707248e-05,3.986626325058751e-05,3.3457126846769825e-05,3.7423982576001436e-05,2.562337976996787e-05,3.5827721148962155e-05,1.9591814634623006e-05,3.304243728052825e-05,1.646510099817533e-05,2.833058897522278e-05,1.5795383660588413e-05,2.2718346372130327e-05,1.604702447366435e-05,1.7833555830293335e-05,1.5751975297462195e-05,1.4900666428729892e-05,1.434120895282831e-05,1.3821214452036656e-05,1.209609217767138e-05,1.335176875727484e-05,9.857379154709633e-06,1.2442941624613013e-05,8.506139238306787e-06,1.0938967534457333e-05,8.123094630718697e-06,9.273060641135089e-06,8.025225724850316e-06,7.998280125320889e-06,7.564896804979071e-06,7.3336841523996554e-06,6.681632385152625e-06,7.007990006968612e-06,5.7912225202017e-06,6.592088084289571e-06,5.265360869088909e-06,5.927578968112357e-06,5.0641501729842275e-06,5.219713330006925e-06,4.891050593869295e-06,4.7324365368695e-06,4.55133567811572e-06,4.460799118533032e-06,4.115500360057922e-06,4.207731308270013e-06,3.7804857129231095e-06,3.858688160107704e-06,3.5999439660372445e-06,3.485671641101362e-06,3.447944664003444e-06,3.209615670130006e-06,3.220165808670572e-06,3.0320807127282023e-06,2.9622622150782263e-06,2.8597396521945484e-06,2.7638552637654357e-06,2.6504612833377905e-06,2.6196541966783116e-06,2.4537209810659988e-06,2.461523081365158e-06,2.3114500891097123e-06,2.2780877770856023e-06,2.1958273919153726e-06,2.1161326912988443e-06,2.0637080524466e-06,1.990877763091703e-06,1.9246213014412206e-06,1.8718740193435224e-06,1.8089298237100593e-06,1.7456541172578e-06,1.7099735032388708e-06,1.6328825722666807e-06,1.6051659486038261e-06,1.5417110716953175e-06,1.4984373137849616e-06,1.4538907180394745e-06,1.4055352721698e-06,1.3625357269120286e-06,1.322600382991368e-06,1.2795460406778147e-06,1.2395812518661842e-06,1.20632194011705e-06,1.1617159998422721e-06,1.1333227121212985e-06,1.0940271977233351e-06,1.0613414360705065e-06,1.029941586239147e-06,9.966986453946447e-07,9.664966000855202e-07,9.370143629894301e-07,9.081134635380295e-07,8.789938306108525e-07,8.542317004867073e-07,8.25431129669596e-07,8.015330763555539e-07,7.766510634610313e-07,7.517802487200242e-07,7.294830766113591e-07,7.063474072310783e-07,6.845805273769656e-07,6.632213285229227e-07,6.43184364435001e-07,6.224531148291135e-07,6.036697755007481e-07,5.848041269018722e-07,5.66123617318226e-07,5.490902594829095e-07,5.31545140347589e-07,5.15029398684419e-07,4.989221338291827e-07,4.833165689888119e-07,4.680216818542249e-07,4.533841035936348e-07,4.392293533328484e-07,4.2514997744547145e-07,4.119820573578181e-07,3.988268417742802e-07,3.8617943687313527e-07,3.7401915164991806e-07,3.6210863640917523e-07,3.505698771277821e-07,3.393927556771814e-07,3.2864932109077927e-07,3.180827548021625e-07,3.079094597069343e-07,2.9808916224283166e-07,2.8844414146078634e-07,2.792108091398404e-07,2.702196866266604e-07,2.614746392737288e-07,2.530355232011061e-07,2.4485024141540634e-07,2.3691580963713932e-07,2.291872363002767e-07,2.2177793823630054e-07,2.1453662668591278e-07,2.075110501209565e-07,2.0073782991403277e-07,1.941575078490132e-07,1.8775810417537286e-07,1.8160390879984334e-07,1.7562527432346542e-07,1.6982149020350334e-07,1.6419738813056028e-07,1.587775102507294e-07,1.534822331450414e-07,1.4838245476767042e-07,1.4344024634738162e-07,1.3864800507690234e-07,1.3401675857949158e-07,1.295159961500758e-07,1.2517909908638103e-07,1.2096960233520804e-07,1.1688670298326542e-07,1.129366822283373e-07,1.0911455206041865e-07,1.0542327544271757e-07,1.0183583043499311e-07,9.837003034363079e-08,9.503258979748352e-08,9.178350524052803e-08,8.862459566216785e-08,8.560729725104466e-08,8.264842676908302e-08,7.981783056720815e-08,7.70566117580529e-08,7.439732740976979e-08,7.181495220720535e-08,6.933460383606871e-08,6.69276687403908e-08,6.458009949028565e-08,6.23281692924138e-08,6.016636433514577e-08,5.8040150463511964e-08,5.601485852935184e-08,5.404350034154959e-08,5.214341314285775e-08,5.030199190514395e-08,4.8522775131232265e-08,4.680145693214399e-08,4.5140598814441546e-08,4.353366733766961e-08,4.197128333771616e-08,4.047833357390118e-08,3.904021994571849e-08,3.7636183947142854e-08,3.627987510412822e-08,3.4978828722387334e-08,3.371774326410559e-08,3.24995852452048e-08,3.1324137950150543e-08,3.018519834085964e-08,2.9092580788869782e-08,2.8029536025542257e-08,2.7011891390316123e-08,2.602901716386441e-08,2.5070319153996934e-08,2.4153450794983655e-08,2.3262867188122982e-08,2.2410880262668798e-08,2.1582501119610242e-08,2.078791183635076e-08,2.0017056456822502e-08,1.9276262364087415e-08,1.8554024094896704e-08,1.7866076618133775e-08,1.720035669450226e-08,1.65590030576368e-08,1.5938990571839895e-08,1.5335634984126045e-08,1.4762377098520574e-08,1.4208263010573319e-08,1.3671582976826357e-08,1.3153924172115694e-08,1.2659085335542386e-08,1.2173840602258679e-08,1.1710444169921175e-08,1.1269409405656461e-08,1.0836537889247211e-08,1.042259611949703e-08,1.0019860496868205e-08,9.641254905545793e-09,9.268434908449308e-09,8.912495630397643e-09,8.565542053418085e-09,8.234072979007578e-09,7.917547506508527e-09,7.611981267530155e-09,7.312230820843979e-09,7.0313559419332705e-09,6.756271098140587e-09,6.491320370116682e-09,6.23625506790404e-09,5.9918776607048585e-09,5.7574753853373295e-09,5.5318403191506604e-09,5.313447903887436e-09,5.101186140166192e-09,4.901437478110893e-09,4.70457184320594e-09,4.517959784067216e-09,4.3386192416505764e-09,4.168390521641641e-09,3.9991312483778074e-09,3.8391179124630526e-09,3.6861040886293495e-09,3.5396185982250472e-09,3.3959326461996397e-09,3.258757264035239e-09,3.1268325706435007e-09,2.998483239480265e-09,2.8803557317047535e-09,2.760992767747439e-09,2.649846564395375e-09,2.5419273352866867e-09,2.4394908315628072e-09,2.338425231229735e-09,2.2433892521434018e-09,2.1516144421696026e-09,2.062068071850831e-09,1.9776718040986907e-09,1.895901213799789e-09,1.819758121968107e-09,1.7435330956772077e-09,1.670669935727176e-09,1.6003028902034089e-09,1.533803195563621e-09,1.4696628358734642e-09,1.4090707489700094e-09,1.3511272101141003e-09,1.2924513681511485e-09,1.2395662274400365e-09,1.1877019368000674e-09,1.1362951690685463e-09,1.0903442593246382e-09,1.0431072672290043e-09,9.984600923829134e-10,9.565966907487677e-10,9.148770074851598e-10,8.765040915292843e-10,8.395989459231146e-10,8.039119925307148e-10,7.69700581049193e-10,7.36306682291854e-10,7.048039374346615e-10,6.738186675292468e-10,6.456820633715665e-10,6.181331557719716e-10,5.903287858544104e-10,5.651258350169996e-10,5.405225711463402e-10,5.172099415418074e-10,4.948977894159157e-10,4.727249147684631e-10,4.5338405252337566e-10,4.3313860831339923e-10,4.1497782987676146e-10,3.9693023867748423e-10,3.7989286716388904e-10,3.6285549565029385e-10,3.4741248766678723e-10,3.313844476604544e-10,3.176437446406055e-10,3.043378327127755e-10,2.914294361389125e-10,2.7920307732465233e-10,2.687901290432393e-10,2.604317872467732e-10,2.5451937779585876e-10,2.528870168827524e-10,2.5700833128361467e-10,2.711562363533204e-10,3.0092853209318093e-10,3.5361794048505146e-10,4.4714915103938324e-10,6.103741401197738e-10,8.963648157056525e-10,1.394225623840839e-09,2.271422161470582e-09,3.84048792767544e-09,6.6893504069298615e-09,1.193700782664564e-08,2.1730652832729902e-08,4.024089150789223e-08,7.57125633299438e-08,1.4443220663906686e-07,2.794223519231309e-07,5.47707259102026e-07,1.0887016514971037e-06,2.1893138182349503e-06,4.4640573833021335e-06,9.192512152367271e-06,1.9212222468922846e-05,4.04242382501252e-05,8.65005495143123e-05,0.00018497183918952942,0.000403245649067685,0.0008603472961112857,0.0018616775050759315,0.0036768396385014057,0.006943706423044205,0.00934620201587677,0.008928695693612099,0.002620579907670617,0.0011111805215477943,0.004434347618371248,0.0027728918939828873,0.001095438958145678,0.002119219396263361,0.0018047328339889646,0.0018989946693181992,0.0014349118573591113,0.00034659288940019906,0.001424026326276362,0.0015891945222392678,0.00031515368027612567,0.0006830946658737957,0.000883194908965379,0.0005206086789257824,0.0006142869824543595,0.0002518438268452883,0.00043321936391294,0.0005862894468009472,8.848773723002523e-05,0.0003302873228676617,0.0004098147910553962,0.00010946071415673941,0.00022171535238157958,0.00016306170437019318,0.00018529535736888647,0.00016649422468617558,4.321509550209157e-05,0.00020100816618651152,0.0001207522363984026,3.838710836134851e-05,0.00012993591371923685,7.304796599783003e-05,8.061408152570948e-05,5.081166455056518e-05,3.157099854433909e-05,8.723983773961663e-05,2.177574970119167e-05,3.2016050681704655e-05,6.20606733718887e-05,2.3312684788834304e-05,3.396536340005696e-05,2.1642585124936886e-05,2.8700749680865556e-05,3.0365468774107285e-05,4.428383363119792e-06,2.7105663320980966e-05,2.251768091809936e-05,7.067897513479693e-06,1.5916661141091026e-05,9.812883035920095e-06,1.4260173884395044e-05,8.907254596124403e-06,3.0402920856431592e-06,1.3865021173842251e-05,6.232221949176164e-06,3.7597351365548093e-06,8.062500455707777e-06,4.948643436364364e-06,6.626720733038383e-06,2.7734429295378504e-06,2.4891660359571688e-06,6.2219955907494295e-06,1.7214819081345922e-06,2.1407126951089595e-06,3.5815480714518344e-06,2.1873495370527962e-06,2.870076741601224e-06,1.0226841595795122e-06,1.4210536392056383e-06,2.775930624920875e-06,6.952184889996715e-07,1.019271394397947e-06,1.4574046645066119e-06,9.432135925635521e-07,1.2948902394782635e-06,4.590138473758998e-07,6.589505687770725e-07,1.2500206594268093e-06,3.462724862401956e-07,4.2705613623184036e-07,5.957729740657669e-07,4.29009560320992e-07,6.368306912918342e-07,2.4543308541069564e-07,2.3140978555602487e-07,5.48922173493338e-07,2.2010559064256086e-07,1.800283655484236e-07,2.399789593710011e-07,1.6569163108215434e-07,3.0247048243836616e-07,1.564085465588505e-07,5.7629662819635996e-08,2.1925629312136152e-07,1.4943364590180863e-07,1.027540790232706e-07,1.151055997183903e-07,5.120706703110045e-08,1.2107570057651174e-07,1.1385327525204048e-07,2.850594071901469e-08,7.133483848065225e-08,7.552431924295888e-08,5.5162992396162736e-08,6.734538260388945e-08,2.300596690929524e-08,2.903136753218405e-08,6.212370351477148e-08,3.2689651874306946e-08,2.6757014381928457e-08,3.0126571459732077e-08,1.8586669980891202e-08,3.422831440502705e-08,2.7435280713916654e-08,8.123225647693744e-09,1.9183561406066474e-08,1.9698818576330268e-08,1.5175428913494216e-08,1.8593356188034704e-08,8.904701864764775e-09,7.943449453762241e-09,1.6184966256105326e-08,1.0501061353807017e-08,7.707348537167036e-09,8.525826267202774e-09,5.027964267156904e-09,8.277117657939925e-09,9.776867315736126e-09,4.582685342313653e-09,4.618051718807692e-09,5.312295492387875e-09,4.025072719571199e-09,5.700293570498616e-09,4.642140449817589e-09,2.185384539998836e-09,3.3866622839440197e-09,3.6425733540568217e-09,2.884201544262055e-09,3.40231443018979e-09,2.3302604290620366e-09,1.46153023017348e-09,2.4107162932551773e-09,2.2802653099063264e-09,1.8100737575466042e-09,1.9799417660948393e-09,1.3708936208445266e-09,1.1120735443626018e-09,1.6447251338647106e-09,1.4269869730298979e-09,1.1303499247716786e-09,1.1917185016585563e-09,8.766546932825747e-10,7.990102468546922e-10,1.0808817174634555e-09,9.292852043429889e-10,7.403909707548451e-10,7.562764303692404e-10,5.775357969639572e-10,5.256231006001144e-10,6.688097298201967e-10,5.992582541303193e-10,4.989096913377011e-10,5.089552113091145e-10,4.078746507207853e-10,3.5331959580275907e-10,4.221626659361988e-10,3.9200781509762805e-10,3.3401914567576796e-10,3.377581825336762e-10,2.864029569060733e-10,2.366766505002005e-10,2.634908125020985e-10,2.5876076281683424e-10,2.2843019142904097e-10,2.305199364727173e-10,2.0855507598671608e-10,1.6628705357124574e-10,1.6637480282355455e-10,1.665045462617698e-10,1.4887364951921e-10,1.504698310395014e-10,1.4679230053715742e-10,1.2135439875216036e-10,1.1104109992610134e-10,1.1003169902989995e-10,9.791274041548448e-11,9.582651339101744e-11,9.936550887656992e-11,9.10162084588606e-11,8.278677743334129e-11,7.918408984064484e-11,6.949577024961684e-11,6.121495671473909e-11,6.095707272280038e-11,5.87853515865433e-11,5.459551907782689e-11,5.437902558802499e-11,5.167057406940678e-11,4.5452735325524074e-11,4.184242882732114e-11,3.965785339010708e-11,3.5106275525498276e-11,3.3387809877938324e-11,3.376937618426723e-11,3.121891287150014e-11,2.9341380020087016e-11,2.8653496242370124e-11,2.6759382903973616e-11,2.3701207663151536e-11,2.2430595575384515e-11,2.0984448553806878e-11,1.8546941760178015e-11,1.7866883320061255e-11,1.728304999115693e-11,1.624781038878087e-11,1.541043161135125e-11,1.5102859934890134e-11,1.4427352541812599e-11,1.3246387493837108e-11,1.2810663987949944e-11,1.1942324733282828e-11,1.0802149973121455e-11,9.990910876389592e-12,9.297669405217146e-12,8.289750830225984e-12,7.536508743466452e-12,7.585680347754753e-12,7.642757954284818e-12,7.871255730540483e-12,8.507665058554714e-12,9.335195810811214e-12,1.0042971662627131e-11,1.0880414624825363e-11,1.1951755557459975e-11,1.3219168815137294e-11,1.4989049931801723e-11,1.7912506547479445e-11,2.2549524747450533e-11,2.9100631626644002e-11,3.725823122247007e-11,4.770140879517548e-11,6.247457412511537e-11,8.411726176715817e-11,1.1575799346852378e-10,1.6154402815438118e-10,2.2940011001892913e-10,3.3230856955057675e-10,4.911068773871818e-10,7.403714863407629e-10,1.133954929954939e-09,1.7571186727849408e-09,2.7545197234246643e-09,4.382780804945696e-09,7.085649844640329e-09,1.1621965612107488e-08,1.9330069989109688e-08,3.25607700801811e-08,5.554531412599317e-08,9.588980276475922e-08,1.676288832186401e-07,2.962227654279559e-07,5.298380187923613e-07,9.568228733769502e-07,1.749371222103946e-06,3.2247207855107263e-06,6.0235802266106475e-06,1.131698809331283e-05,2.1588957679341547e-05,4.123869075556286e-05,8.028881711652502e-05,0.00015507596253883094,0.0003071501269005239,0.0005905464640818536,0.001170200644992292,0.0021257668267935514,0.003916327841579914,0.005626570899039507,0.0072433617897331715,0.004683671053498983,0.0012311199679970741,0.0006875781109556556,0.002767846453934908,0.002888480434194207,0.0008782641962170601,0.0006082002655602992,0.0015034301904961467,0.0019694266375154257,0.0018045215401798487,0.000637764809653163,0.00016159043298102915,0.0010700374841690063,0.0011680787429213524,0.00028387963538989425,0.0002499808615539223,0.0006886115297675133,0.000552311132196337,0.0002470010076649487,0.00023080030223354697,0.00038990419125184417,0.00040971447015181184,0.00014840957010164857,8.739059558138251e-05,0.00032471984741277993,0.000239541259361431,1.7297543308814056e-05,0.00015518840518780053,0.00024152567493729293,7.72358471294865e-05,4.759525472763926e-05,0.00012888963101431727,0.00011879518569912761,5.962123759672977e-05,3.4366330510238186e-05,7.576013740617782e-05,8.723564678803086e-05,2.296977436344605e-05,2.8836071578552946e-05,7.636896771145985e-05,3.3481555874459445e-05,3.69279541700962e-06,4.237343091517687e-05,4.2115811083931476e-05,1.2468191926018335e-05,1.5200532288872637e-05,2.6340687327319756e-05,2.255112849525176e-05,1.0761675184767228e-05,7.88769557402702e-06,1.9327058907947503e-05,1.633926876820624e-05,2.06918684853008e-06,8.342753972101491e-06,1.6342972230631858e-05,5.801925453852164e-06,1.840341042225191e-06,9.001429134514183e-06,7.989574442035519e-06,2.956669504783349e-06,3.097661647188943e-06,5.2721266001753975e-06,5.440524091682164e-06,2.490199221938383e-06,1.1781276043620892e-06,4.054234977957094e-06,3.886164449795615e-06,5.120124910718005e-07,1.3692051652469672e-06,3.3768517369026085e-06,1.702372628642479e-06,4.218803724143072e-07,1.4198562894307543e-06,1.7941454188985517e-06,1.1194960052307579e-06,5.337787456483056e-07,6.630758662140579e-07,1.2674174740823219e-06,9.378061918141611e-07,1.414000223576295e-07,5.072744215794955e-07,1.0053539654109045e-06,4.310675763008476e-07,6.788489770315209e-08,4.595281097863335e-07,5.673011287399277e-07,2.9124632305865816e-07,1.594729184262178e-07,2.2554304734967445e-07,3.408528073123307e-07,2.769074285424722e-07,6.76356464168748e-08,1.0842006759048672e-07,2.8487625058915e-07,1.8139080282253417e-07,2.0542087142416676e-08,9.77447029981704e-08,1.7698179988201446e-07,1.0496267321968844e-07,4.2881548978357387e-08,5.44094369558934e-08,8.720392941086175e-08,9.570256054303172e-08,4.6687475219187036e-08,1.3066042470200045e-08,5.5405333654334754e-08,7.569742166424476e-08,2.661643883072884e-08,7.029823834159288e-09,3.8575109329030965e-08,4.5572885909450633e-08,2.361438689035822e-08,1.2200424670538723e-08,1.5569687761285422e-08,2.4725828495775204e-08,2.5739179676520507e-08,1.0587235976800002e-08,3.063603148945049e-09,1.579444131039054e-08,2.0624874252916925e-08,8.077014612695166e-09,2.4641648721512865e-09,8.731322331811953e-09,1.1342169869976715e-08,7.86792764273514e-09,4.3349701606132385e-09,3.0478237711406564e-09,5.4975837215920365e-09,7.837304139002299e-09,4.528796004876767e-09,6.135590924216672e-10,2.510172958380963e-09,5.34198774104766e-09,3.774809353984665e-09,1.3641480167692066e-09,1.3801838560922874e-09,2.2902928442647408e-09,2.744233951190722e-09,2.292682932392154e-09,9.663319033847984e-10,4.822983123986546e-10,1.5905325945198001e-09,2.1074866296544315e-09,1.0448240050919821e-09,2.946992649910385e-10,7.048527317365938e-10,1.1290635093530454e-09,9.949004953213603e-10,6.582971945334748e-10,3.541721360633687e-10,3.389958314059527e-10,6.759688364610383e-10,7.639678889503898e-10,3.6157860039409684e-10,9.729179267781163e-11,2.8391050621578984e-10,4.737037428981239e-10,3.906489576266381e-10,2.348000960328278e-10,1.468418303618435e-10,1.4477560816850144e-10,2.373883312145608e-10,2.956591360625538e-10,1.9050028221556659e-10,5.713602507784188e-11,7.66128341322947e-11,1.6516223111384676e-10,1.7049049672035466e-10,1.1430829893743777e-10,7.048037847789956e-11,5.16771729575094e-11,6.353675224834987e-11,9.814893342507958e-11,9.849943083395374e-11,5.128100721840667e-11,2.1919530426850464e-11,4.055246763390308e-11]},\"selected\":{\"id\":\"1070\"},\"selection_policy\":{\"id\":\"1069\"}},\"id\":\"1053\",\"type\":\"ColumnDataSource\"},{\"attributes\":{},\"id\":\"1013\",\"type\":\"BasicTicker\"},{\"attributes\":{},\"id\":\"1069\",\"type\":\"UnionRenderers\"},{\"attributes\":{\"end\":0.2},\"id\":\"1073\",\"type\":\"Range1d\"},{\"attributes\":{\"axis\":{\"id\":\"1012\"},\"coordinates\":null,\"group\":null,\"ticker\":null},\"id\":\"1015\",\"type\":\"Grid\"},{\"attributes\":{\"source\":{\"id\":\"1053\"}},\"id\":\"1058\",\"type\":\"CDSView\"},{\"attributes\":{\"click_policy\":\"hide\",\"coordinates\":null,\"group\":null,\"items\":[{\"id\":\"1052\"},{\"id\":\"1072\"}]},\"id\":\"1051\",\"type\":\"Legend\"},{\"attributes\":{\"line_alpha\":0.1,\"line_color\":\"#d95f02\",\"x\":{\"field\":\"x\"},\"y\":{\"field\":\"y\"}},\"id\":\"1055\",\"type\":\"Line\"},{\"attributes\":{},\"id\":\"1044\",\"type\":\"AllLabels\"},{\"attributes\":{\"line_alpha\":0.1,\"line_color\":\"#1b9e77\",\"x\":{\"field\":\"x\"},\"y\":{\"field\":\"y\"}},\"id\":\"1036\",\"type\":\"Line\"},{\"attributes\":{\"bottom_units\":\"screen\",\"coordinates\":null,\"fill_alpha\":0.5,\"fill_color\":\"lightgrey\",\"group\":null,\"left_units\":\"screen\",\"level\":\"overlay\",\"line_alpha\":1.0,\"line_color\":\"black\",\"line_dash\":[4,4],\"line_width\":2,\"right_units\":\"screen\",\"syncable\":false,\"top_units\":\"screen\"},\"id\":\"1026\",\"type\":\"BoxAnnotation\"},{\"attributes\":{},\"id\":\"1046\",\"type\":\"BasicTickFormatter\"},{\"attributes\":{\"axis\":{\"id\":\"1016\"},\"coordinates\":null,\"dimension\":1,\"group\":null,\"ticker\":null},\"id\":\"1019\",\"type\":\"Grid\"},{\"attributes\":{},\"id\":\"1025\",\"type\":\"HelpTool\"},{\"attributes\":{\"coordinates\":null,\"group\":null},\"id\":\"1040\",\"type\":\"Title\"},{\"attributes\":{},\"id\":\"1017\",\"type\":\"BasicTicker\"},{\"attributes\":{\"label\":{\"value\":\"simple_link_prediction\"},\"renderers\":[{\"id\":\"1057\"}]},\"id\":\"1072\",\"type\":\"LegendItem\"},{\"attributes\":{\"label\":{\"value\":\"dense\"},\"renderers\":[{\"id\":\"1038\"}]},\"id\":\"1052\",\"type\":\"LegendItem\"},{\"attributes\":{\"coordinates\":null,\"data_source\":{\"id\":\"1034\"},\"glyph\":{\"id\":\"1035\"},\"group\":null,\"hover_glyph\":null,\"muted_glyph\":{\"id\":\"1037\"},\"nonselection_glyph\":{\"id\":\"1036\"},\"view\":{\"id\":\"1039\"}},\"id\":\"1038\",\"type\":\"GlyphRenderer\"},{\"attributes\":{},\"id\":\"1047\",\"type\":\"AllLabels\"},{\"attributes\":{},\"id\":\"1021\",\"type\":\"WheelZoomTool\"},{\"attributes\":{},\"id\":\"1020\",\"type\":\"PanTool\"},{\"attributes\":{},\"id\":\"1070\",\"type\":\"Selection\"}],\"root_ids\":[\"1003\"]},\"title\":\"Bokeh Application\",\"version\":\"2.4.2\"}};\n",
       "  const render_items = [{\"docid\":\"b2793578-1f10-44b2-9ff5-9a38c59b6ddb\",\"root_ids\":[\"1003\"],\"roots\":{\"1003\":\"1343a786-6548-4810-8f13-5535a8b5f2cd\"}}];\n",
       "  root.Bokeh.embed.embed_items_notebook(docs_json, render_items);\n",
       "\n",
       "  }\n",
       "  if (root.Bokeh !== undefined) {\n",
       "    embed_document(root);\n",
       "  } else {\n",
       "    let attempts = 0;\n",
       "    const timer = setInterval(function(root) {\n",
       "      if (root.Bokeh !== undefined) {\n",
       "        clearInterval(timer);\n",
       "        embed_document(root);\n",
       "      } else {\n",
       "        attempts++;\n",
       "        if (attempts > 100) {\n",
       "          clearInterval(timer);\n",
       "          console.log(\"Bokeh: ERROR: Unable to run BokehJS code because BokehJS library is missing\");\n",
       "        }\n",
       "      }\n",
       "    }, 10, root)\n",
       "  }\n",
       "})(window);"
      ],
      "application/vnd.bokehjs_exec.v0+json": ""
     },
     "metadata": {
      "application/vnd.bokehjs_exec.v0+json": {
       "id": "1003"
      }
     },
     "output_type": "display_data"
    }
   ],
   "source": [
    "from bokeh.palettes import Dark2_8\n",
    "from bokeh.models import Range1d\n",
    "\n",
    "fig = figure()\n",
    "\n",
    "def moving_average(x, n=3) :\n",
    "    return np.mean(sliding_window_view(x, window_shape=n), axis=-1)\n",
    "\n",
    "\n",
    "for i, (name, net_runs) in enumerate(results.items()):\n",
    "    x = range(len(net_runs[0][1]))\n",
    "    for net, loss in net_runs:\n",
    "        fig.line(x=x, y=loss, legend_label=name, color=Dark2_8[i])\n",
    "    #average_loss = np.mean([run[1] for run in net_runs], axis=0)\n",
    "    #fig.line(x=x, y=average_loss, legend_label=name, color=Dark2_5[i])\n",
    "\n",
    "fig.y_range = Range1d(0,0.2)\n",
    "fig.legend.click_policy = \"hide\"\n",
    "show(fig)"
   ]
  },
  {
   "cell_type": "markdown",
   "id": "4f6fdd75",
   "metadata": {},
   "source": [
    "# Outputs"
   ]
  },
  {
   "cell_type": "code",
   "execution_count": 16,
   "id": "902b185e",
   "metadata": {
    "scrolled": false
   },
   "outputs": [
    {
     "data": {
      "text/html": [
       "\n",
       "\n",
       "\n",
       "\n",
       "\n",
       "\n",
       "  <div class=\"bk-root\" id=\"11e9e125-a631-48d1-93ab-e449a1b88bfd\" data-root-id=\"1245\"></div>\n"
      ]
     },
     "metadata": {},
     "output_type": "display_data"
    },
    {
     "data": {
      "application/javascript": [
       "(function(root) {\n",
       "  function embed_document(root) {\n",
       "    \n",
       "  const docs_json = {\"77018c78-2d0d-4d23-ba22-b1f7113c75cb\":{\"defs\":[],\"roots\":{\"references\":[{\"attributes\":{\"children\":[{\"id\":\"1244\"},{\"id\":\"1242\"}],\"sizing_mode\":\"scale_width\"},\"id\":\"1245\",\"type\":\"Column\"},{\"attributes\":{\"axis\":{\"id\":\"1202\"},\"coordinates\":null,\"dimension\":1,\"group\":null,\"ticker\":null},\"id\":\"1205\",\"type\":\"Grid\"},{\"attributes\":{},\"id\":\"1224\",\"type\":\"BasicTickFormatter\"},{\"attributes\":{\"color_mapper\":{\"id\":\"1215\"},\"dh\":{\"value\":8},\"dw\":{\"value\":8},\"global_alpha\":{\"value\":0.1},\"image\":{\"field\":\"value\"},\"x\":{\"value\":0},\"y\":{\"value\":0}},\"id\":\"1214\",\"type\":\"Image\"},{\"attributes\":{},\"id\":\"1161\",\"type\":\"LinearScale\"},{\"attributes\":{},\"id\":\"1203\",\"type\":\"BasicTicker\"},{\"attributes\":{},\"id\":\"1225\",\"type\":\"AllLabels\"},{\"attributes\":{\"data\":{\"value\":[{\"__ndarray__\":\"AIBeNQDIQLcAWCW3AFDONgAMubcAEMu2ALgNt1T/fz8AGG+3AMCKtQBgTLYADIa3AGhSNwAw+bZm/38/AEgItwDw87YAwO61AHCKtgDww7Y8/38/AMCktQCAKbUAgG41bP9/PwBgUrYAMOq2AJgKtwCYALcAYGC2AIA5tQBgS7YAsMW2APD9tmT/fz8AeBO3AJghtwBYLLcAMJi2APgTtwCYDbcAsIy2ALDftlD/fz8AOAu3AMDytQBgaLYAMJC2AAgDt1z/fz8AsPa2APDOtgBYJrcAsOO2ADCntgAwvrYAOAi3AGA+tgAwyrYAGBC3AGA9tmL/fz8AcK22ACBLtg==\",\"dtype\":\"float32\",\"order\":\"little\",\"shape\":[8,8]}]},\"selected\":{\"id\":\"1240\"},\"selection_policy\":{\"id\":\"1239\"}},\"id\":\"1209\",\"type\":\"ColumnDataSource\"},{\"attributes\":{\"palette\":[\"#440154\",\"#440255\",\"#440357\",\"#450558\",\"#45065A\",\"#45085B\",\"#46095C\",\"#460B5E\",\"#460C5F\",\"#460E61\",\"#470F62\",\"#471163\",\"#471265\",\"#471466\",\"#471567\",\"#471669\",\"#47186A\",\"#48196B\",\"#481A6C\",\"#481C6E\",\"#481D6F\",\"#481E70\",\"#482071\",\"#482172\",\"#482273\",\"#482374\",\"#472575\",\"#472676\",\"#472777\",\"#472878\",\"#472A79\",\"#472B7A\",\"#472C7B\",\"#462D7C\",\"#462F7C\",\"#46307D\",\"#46317E\",\"#45327F\",\"#45347F\",\"#453580\",\"#453681\",\"#443781\",\"#443982\",\"#433A83\",\"#433B83\",\"#433C84\",\"#423D84\",\"#423E85\",\"#424085\",\"#414186\",\"#414286\",\"#404387\",\"#404487\",\"#3F4587\",\"#3F4788\",\"#3E4888\",\"#3E4989\",\"#3D4A89\",\"#3D4B89\",\"#3D4C89\",\"#3C4D8A\",\"#3C4E8A\",\"#3B508A\",\"#3B518A\",\"#3A528B\",\"#3A538B\",\"#39548B\",\"#39558B\",\"#38568B\",\"#38578C\",\"#37588C\",\"#37598C\",\"#365A8C\",\"#365B8C\",\"#355C8C\",\"#355D8C\",\"#345E8D\",\"#345F8D\",\"#33608D\",\"#33618D\",\"#32628D\",\"#32638D\",\"#31648D\",\"#31658D\",\"#31668D\",\"#30678D\",\"#30688D\",\"#2F698D\",\"#2F6A8D\",\"#2E6B8E\",\"#2E6C8E\",\"#2E6D8E\",\"#2D6E8E\",\"#2D6F8E\",\"#2C708E\",\"#2C718E\",\"#2C728E\",\"#2B738E\",\"#2B748E\",\"#2A758E\",\"#2A768E\",\"#2A778E\",\"#29788E\",\"#29798E\",\"#287A8E\",\"#287A8E\",\"#287B8E\",\"#277C8E\",\"#277D8E\",\"#277E8E\",\"#267F8E\",\"#26808E\",\"#26818E\",\"#25828E\",\"#25838D\",\"#24848D\",\"#24858D\",\"#24868D\",\"#23878D\",\"#23888D\",\"#23898D\",\"#22898D\",\"#228A8D\",\"#228B8D\",\"#218C8D\",\"#218D8C\",\"#218E8C\",\"#208F8C\",\"#20908C\",\"#20918C\",\"#1F928C\",\"#1F938B\",\"#1F948B\",\"#1F958B\",\"#1F968B\",\"#1E978A\",\"#1E988A\",\"#1E998A\",\"#1E998A\",\"#1E9A89\",\"#1E9B89\",\"#1E9C89\",\"#1E9D88\",\"#1E9E88\",\"#1E9F88\",\"#1EA087\",\"#1FA187\",\"#1FA286\",\"#1FA386\",\"#20A485\",\"#20A585\",\"#21A685\",\"#21A784\",\"#22A784\",\"#23A883\",\"#23A982\",\"#24AA82\",\"#25AB81\",\"#26AC81\",\"#27AD80\",\"#28AE7F\",\"#29AF7F\",\"#2AB07E\",\"#2BB17D\",\"#2CB17D\",\"#2EB27C\",\"#2FB37B\",\"#30B47A\",\"#32B57A\",\"#33B679\",\"#35B778\",\"#36B877\",\"#38B976\",\"#39B976\",\"#3BBA75\",\"#3DBB74\",\"#3EBC73\",\"#40BD72\",\"#42BE71\",\"#44BE70\",\"#45BF6F\",\"#47C06E\",\"#49C16D\",\"#4BC26C\",\"#4DC26B\",\"#4FC369\",\"#51C468\",\"#53C567\",\"#55C666\",\"#57C665\",\"#59C764\",\"#5BC862\",\"#5EC961\",\"#60C960\",\"#62CA5F\",\"#64CB5D\",\"#67CC5C\",\"#69CC5B\",\"#6BCD59\",\"#6DCE58\",\"#70CE56\",\"#72CF55\",\"#74D054\",\"#77D052\",\"#79D151\",\"#7CD24F\",\"#7ED24E\",\"#81D34C\",\"#83D34B\",\"#86D449\",\"#88D547\",\"#8BD546\",\"#8DD644\",\"#90D643\",\"#92D741\",\"#95D73F\",\"#97D83E\",\"#9AD83C\",\"#9DD93A\",\"#9FD938\",\"#A2DA37\",\"#A5DA35\",\"#A7DB33\",\"#AADB32\",\"#ADDC30\",\"#AFDC2E\",\"#B2DD2C\",\"#B5DD2B\",\"#B7DD29\",\"#BADE27\",\"#BDDE26\",\"#BFDF24\",\"#C2DF22\",\"#C5DF21\",\"#C7E01F\",\"#CAE01E\",\"#CDE01D\",\"#CFE11C\",\"#D2E11B\",\"#D4E11A\",\"#D7E219\",\"#DAE218\",\"#DCE218\",\"#DFE318\",\"#E1E318\",\"#E4E318\",\"#E7E419\",\"#E9E419\",\"#ECE41A\",\"#EEE51B\",\"#F1E51C\",\"#F3E51E\",\"#F6E61F\",\"#F8E621\",\"#FAE622\",\"#FDE724\"]},\"id\":\"1212\",\"type\":\"LinearColorMapper\"},{\"attributes\":{\"coordinates\":null,\"formatter\":{\"id\":\"1237\"},\"group\":null,\"major_label_policy\":{\"id\":\"1238\"},\"ticker\":{\"id\":\"1199\"}},\"id\":\"1198\",\"type\":\"LinearAxis\"},{\"attributes\":{},\"id\":\"1164\",\"type\":\"BasicTicker\"},{\"attributes\":{\"palette\":[\"#440154\",\"#440255\",\"#440357\",\"#450558\",\"#45065A\",\"#45085B\",\"#46095C\",\"#460B5E\",\"#460C5F\",\"#460E61\",\"#470F62\",\"#471163\",\"#471265\",\"#471466\",\"#471567\",\"#471669\",\"#47186A\",\"#48196B\",\"#481A6C\",\"#481C6E\",\"#481D6F\",\"#481E70\",\"#482071\",\"#482172\",\"#482273\",\"#482374\",\"#472575\",\"#472676\",\"#472777\",\"#472878\",\"#472A79\",\"#472B7A\",\"#472C7B\",\"#462D7C\",\"#462F7C\",\"#46307D\",\"#46317E\",\"#45327F\",\"#45347F\",\"#453580\",\"#453681\",\"#443781\",\"#443982\",\"#433A83\",\"#433B83\",\"#433C84\",\"#423D84\",\"#423E85\",\"#424085\",\"#414186\",\"#414286\",\"#404387\",\"#404487\",\"#3F4587\",\"#3F4788\",\"#3E4888\",\"#3E4989\",\"#3D4A89\",\"#3D4B89\",\"#3D4C89\",\"#3C4D8A\",\"#3C4E8A\",\"#3B508A\",\"#3B518A\",\"#3A528B\",\"#3A538B\",\"#39548B\",\"#39558B\",\"#38568B\",\"#38578C\",\"#37588C\",\"#37598C\",\"#365A8C\",\"#365B8C\",\"#355C8C\",\"#355D8C\",\"#345E8D\",\"#345F8D\",\"#33608D\",\"#33618D\",\"#32628D\",\"#32638D\",\"#31648D\",\"#31658D\",\"#31668D\",\"#30678D\",\"#30688D\",\"#2F698D\",\"#2F6A8D\",\"#2E6B8E\",\"#2E6C8E\",\"#2E6D8E\",\"#2D6E8E\",\"#2D6F8E\",\"#2C708E\",\"#2C718E\",\"#2C728E\",\"#2B738E\",\"#2B748E\",\"#2A758E\",\"#2A768E\",\"#2A778E\",\"#29788E\",\"#29798E\",\"#287A8E\",\"#287A8E\",\"#287B8E\",\"#277C8E\",\"#277D8E\",\"#277E8E\",\"#267F8E\",\"#26808E\",\"#26818E\",\"#25828E\",\"#25838D\",\"#24848D\",\"#24858D\",\"#24868D\",\"#23878D\",\"#23888D\",\"#23898D\",\"#22898D\",\"#228A8D\",\"#228B8D\",\"#218C8D\",\"#218D8C\",\"#218E8C\",\"#208F8C\",\"#20908C\",\"#20918C\",\"#1F928C\",\"#1F938B\",\"#1F948B\",\"#1F958B\",\"#1F968B\",\"#1E978A\",\"#1E988A\",\"#1E998A\",\"#1E998A\",\"#1E9A89\",\"#1E9B89\",\"#1E9C89\",\"#1E9D88\",\"#1E9E88\",\"#1E9F88\",\"#1EA087\",\"#1FA187\",\"#1FA286\",\"#1FA386\",\"#20A485\",\"#20A585\",\"#21A685\",\"#21A784\",\"#22A784\",\"#23A883\",\"#23A982\",\"#24AA82\",\"#25AB81\",\"#26AC81\",\"#27AD80\",\"#28AE7F\",\"#29AF7F\",\"#2AB07E\",\"#2BB17D\",\"#2CB17D\",\"#2EB27C\",\"#2FB37B\",\"#30B47A\",\"#32B57A\",\"#33B679\",\"#35B778\",\"#36B877\",\"#38B976\",\"#39B976\",\"#3BBA75\",\"#3DBB74\",\"#3EBC73\",\"#40BD72\",\"#42BE71\",\"#44BE70\",\"#45BF6F\",\"#47C06E\",\"#49C16D\",\"#4BC26C\",\"#4DC26B\",\"#4FC369\",\"#51C468\",\"#53C567\",\"#55C666\",\"#57C665\",\"#59C764\",\"#5BC862\",\"#5EC961\",\"#60C960\",\"#62CA5F\",\"#64CB5D\",\"#67CC5C\",\"#69CC5B\",\"#6BCD59\",\"#6DCE58\",\"#70CE56\",\"#72CF55\",\"#74D054\",\"#77D052\",\"#79D151\",\"#7CD24F\",\"#7ED24E\",\"#81D34C\",\"#83D34B\",\"#86D449\",\"#88D547\",\"#8BD546\",\"#8DD644\",\"#90D643\",\"#92D741\",\"#95D73F\",\"#97D83E\",\"#9AD83C\",\"#9DD93A\",\"#9FD938\",\"#A2DA37\",\"#A5DA35\",\"#A7DB33\",\"#AADB32\",\"#ADDC30\",\"#AFDC2E\",\"#B2DD2C\",\"#B5DD2B\",\"#B7DD29\",\"#BADE27\",\"#BDDE26\",\"#BFDF24\",\"#C2DF22\",\"#C5DF21\",\"#C7E01F\",\"#CAE01E\",\"#CDE01D\",\"#CFE11C\",\"#D2E11B\",\"#D4E11A\",\"#D7E219\",\"#DAE218\",\"#DCE218\",\"#DFE318\",\"#E1E318\",\"#E4E318\",\"#E7E419\",\"#E9E419\",\"#ECE41A\",\"#EEE51B\",\"#F1E51C\",\"#F3E51E\",\"#F6E61F\",\"#F8E621\",\"#FAE622\",\"#FDE724\"]},\"id\":\"1177\",\"type\":\"LinearColorMapper\"},{\"attributes\":{\"coordinates\":null,\"group\":null,\"text\":\"dense\"},\"id\":\"1153\",\"type\":\"Title\"},{\"attributes\":{\"toolbar\":{\"id\":\"1243\"},\"toolbar_location\":\"above\"},\"id\":\"1244\",\"type\":\"ToolbarBox\"},{\"attributes\":{},\"id\":\"1227\",\"type\":\"BasicTickFormatter\"},{\"attributes\":{\"color_mapper\":{\"id\":\"1180\"},\"dh\":{\"value\":8},\"dw\":{\"value\":8},\"global_alpha\":{\"value\":0.1},\"image\":{\"field\":\"value\"},\"x\":{\"value\":0},\"y\":{\"value\":0}},\"id\":\"1179\",\"type\":\"Image\"},{\"attributes\":{\"palette\":[\"#440154\",\"#440255\",\"#440357\",\"#450558\",\"#45065A\",\"#45085B\",\"#46095C\",\"#460B5E\",\"#460C5F\",\"#460E61\",\"#470F62\",\"#471163\",\"#471265\",\"#471466\",\"#471567\",\"#471669\",\"#47186A\",\"#48196B\",\"#481A6C\",\"#481C6E\",\"#481D6F\",\"#481E70\",\"#482071\",\"#482172\",\"#482273\",\"#482374\",\"#472575\",\"#472676\",\"#472777\",\"#472878\",\"#472A79\",\"#472B7A\",\"#472C7B\",\"#462D7C\",\"#462F7C\",\"#46307D\",\"#46317E\",\"#45327F\",\"#45347F\",\"#453580\",\"#453681\",\"#443781\",\"#443982\",\"#433A83\",\"#433B83\",\"#433C84\",\"#423D84\",\"#423E85\",\"#424085\",\"#414186\",\"#414286\",\"#404387\",\"#404487\",\"#3F4587\",\"#3F4788\",\"#3E4888\",\"#3E4989\",\"#3D4A89\",\"#3D4B89\",\"#3D4C89\",\"#3C4D8A\",\"#3C4E8A\",\"#3B508A\",\"#3B518A\",\"#3A528B\",\"#3A538B\",\"#39548B\",\"#39558B\",\"#38568B\",\"#38578C\",\"#37588C\",\"#37598C\",\"#365A8C\",\"#365B8C\",\"#355C8C\",\"#355D8C\",\"#345E8D\",\"#345F8D\",\"#33608D\",\"#33618D\",\"#32628D\",\"#32638D\",\"#31648D\",\"#31658D\",\"#31668D\",\"#30678D\",\"#30688D\",\"#2F698D\",\"#2F6A8D\",\"#2E6B8E\",\"#2E6C8E\",\"#2E6D8E\",\"#2D6E8E\",\"#2D6F8E\",\"#2C708E\",\"#2C718E\",\"#2C728E\",\"#2B738E\",\"#2B748E\",\"#2A758E\",\"#2A768E\",\"#2A778E\",\"#29788E\",\"#29798E\",\"#287A8E\",\"#287A8E\",\"#287B8E\",\"#277C8E\",\"#277D8E\",\"#277E8E\",\"#267F8E\",\"#26808E\",\"#26818E\",\"#25828E\",\"#25838D\",\"#24848D\",\"#24858D\",\"#24868D\",\"#23878D\",\"#23888D\",\"#23898D\",\"#22898D\",\"#228A8D\",\"#228B8D\",\"#218C8D\",\"#218D8C\",\"#218E8C\",\"#208F8C\",\"#20908C\",\"#20918C\",\"#1F928C\",\"#1F938B\",\"#1F948B\",\"#1F958B\",\"#1F968B\",\"#1E978A\",\"#1E988A\",\"#1E998A\",\"#1E998A\",\"#1E9A89\",\"#1E9B89\",\"#1E9C89\",\"#1E9D88\",\"#1E9E88\",\"#1E9F88\",\"#1EA087\",\"#1FA187\",\"#1FA286\",\"#1FA386\",\"#20A485\",\"#20A585\",\"#21A685\",\"#21A784\",\"#22A784\",\"#23A883\",\"#23A982\",\"#24AA82\",\"#25AB81\",\"#26AC81\",\"#27AD80\",\"#28AE7F\",\"#29AF7F\",\"#2AB07E\",\"#2BB17D\",\"#2CB17D\",\"#2EB27C\",\"#2FB37B\",\"#30B47A\",\"#32B57A\",\"#33B679\",\"#35B778\",\"#36B877\",\"#38B976\",\"#39B976\",\"#3BBA75\",\"#3DBB74\",\"#3EBC73\",\"#40BD72\",\"#42BE71\",\"#44BE70\",\"#45BF6F\",\"#47C06E\",\"#49C16D\",\"#4BC26C\",\"#4DC26B\",\"#4FC369\",\"#51C468\",\"#53C567\",\"#55C666\",\"#57C665\",\"#59C764\",\"#5BC862\",\"#5EC961\",\"#60C960\",\"#62CA5F\",\"#64CB5D\",\"#67CC5C\",\"#69CC5B\",\"#6BCD59\",\"#6DCE58\",\"#70CE56\",\"#72CF55\",\"#74D054\",\"#77D052\",\"#79D151\",\"#7CD24F\",\"#7ED24E\",\"#81D34C\",\"#83D34B\",\"#86D449\",\"#88D547\",\"#8BD546\",\"#8DD644\",\"#90D643\",\"#92D741\",\"#95D73F\",\"#97D83E\",\"#9AD83C\",\"#9DD93A\",\"#9FD938\",\"#A2DA37\",\"#A5DA35\",\"#A7DB33\",\"#AADB32\",\"#ADDC30\",\"#AFDC2E\",\"#B2DD2C\",\"#B5DD2B\",\"#B7DD29\",\"#BADE27\",\"#BDDE26\",\"#BFDF24\",\"#C2DF22\",\"#C5DF21\",\"#C7E01F\",\"#CAE01E\",\"#CDE01D\",\"#CFE11C\",\"#D2E11B\",\"#D4E11A\",\"#D7E219\",\"#DAE218\",\"#DCE218\",\"#DFE318\",\"#E1E318\",\"#E4E318\",\"#E7E419\",\"#E9E419\",\"#ECE41A\",\"#EEE51B\",\"#F1E51C\",\"#F3E51E\",\"#F6E61F\",\"#F8E621\",\"#FAE622\",\"#FDE724\"]},\"id\":\"1215\",\"type\":\"LinearColorMapper\"},{\"attributes\":{\"palette\":[\"#440154\",\"#440255\",\"#440357\",\"#450558\",\"#45065A\",\"#45085B\",\"#46095C\",\"#460B5E\",\"#460C5F\",\"#460E61\",\"#470F62\",\"#471163\",\"#471265\",\"#471466\",\"#471567\",\"#471669\",\"#47186A\",\"#48196B\",\"#481A6C\",\"#481C6E\",\"#481D6F\",\"#481E70\",\"#482071\",\"#482172\",\"#482273\",\"#482374\",\"#472575\",\"#472676\",\"#472777\",\"#472878\",\"#472A79\",\"#472B7A\",\"#472C7B\",\"#462D7C\",\"#462F7C\",\"#46307D\",\"#46317E\",\"#45327F\",\"#45347F\",\"#453580\",\"#453681\",\"#443781\",\"#443982\",\"#433A83\",\"#433B83\",\"#433C84\",\"#423D84\",\"#423E85\",\"#424085\",\"#414186\",\"#414286\",\"#404387\",\"#404487\",\"#3F4587\",\"#3F4788\",\"#3E4888\",\"#3E4989\",\"#3D4A89\",\"#3D4B89\",\"#3D4C89\",\"#3C4D8A\",\"#3C4E8A\",\"#3B508A\",\"#3B518A\",\"#3A528B\",\"#3A538B\",\"#39548B\",\"#39558B\",\"#38568B\",\"#38578C\",\"#37588C\",\"#37598C\",\"#365A8C\",\"#365B8C\",\"#355C8C\",\"#355D8C\",\"#345E8D\",\"#345F8D\",\"#33608D\",\"#33618D\",\"#32628D\",\"#32638D\",\"#31648D\",\"#31658D\",\"#31668D\",\"#30678D\",\"#30688D\",\"#2F698D\",\"#2F6A8D\",\"#2E6B8E\",\"#2E6C8E\",\"#2E6D8E\",\"#2D6E8E\",\"#2D6F8E\",\"#2C708E\",\"#2C718E\",\"#2C728E\",\"#2B738E\",\"#2B748E\",\"#2A758E\",\"#2A768E\",\"#2A778E\",\"#29788E\",\"#29798E\",\"#287A8E\",\"#287A8E\",\"#287B8E\",\"#277C8E\",\"#277D8E\",\"#277E8E\",\"#267F8E\",\"#26808E\",\"#26818E\",\"#25828E\",\"#25838D\",\"#24848D\",\"#24858D\",\"#24868D\",\"#23878D\",\"#23888D\",\"#23898D\",\"#22898D\",\"#228A8D\",\"#228B8D\",\"#218C8D\",\"#218D8C\",\"#218E8C\",\"#208F8C\",\"#20908C\",\"#20918C\",\"#1F928C\",\"#1F938B\",\"#1F948B\",\"#1F958B\",\"#1F968B\",\"#1E978A\",\"#1E988A\",\"#1E998A\",\"#1E998A\",\"#1E9A89\",\"#1E9B89\",\"#1E9C89\",\"#1E9D88\",\"#1E9E88\",\"#1E9F88\",\"#1EA087\",\"#1FA187\",\"#1FA286\",\"#1FA386\",\"#20A485\",\"#20A585\",\"#21A685\",\"#21A784\",\"#22A784\",\"#23A883\",\"#23A982\",\"#24AA82\",\"#25AB81\",\"#26AC81\",\"#27AD80\",\"#28AE7F\",\"#29AF7F\",\"#2AB07E\",\"#2BB17D\",\"#2CB17D\",\"#2EB27C\",\"#2FB37B\",\"#30B47A\",\"#32B57A\",\"#33B679\",\"#35B778\",\"#36B877\",\"#38B976\",\"#39B976\",\"#3BBA75\",\"#3DBB74\",\"#3EBC73\",\"#40BD72\",\"#42BE71\",\"#44BE70\",\"#45BF6F\",\"#47C06E\",\"#49C16D\",\"#4BC26C\",\"#4DC26B\",\"#4FC369\",\"#51C468\",\"#53C567\",\"#55C666\",\"#57C665\",\"#59C764\",\"#5BC862\",\"#5EC961\",\"#60C960\",\"#62CA5F\",\"#64CB5D\",\"#67CC5C\",\"#69CC5B\",\"#6BCD59\",\"#6DCE58\",\"#70CE56\",\"#72CF55\",\"#74D054\",\"#77D052\",\"#79D151\",\"#7CD24F\",\"#7ED24E\",\"#81D34C\",\"#83D34B\",\"#86D449\",\"#88D547\",\"#8BD546\",\"#8DD644\",\"#90D643\",\"#92D741\",\"#95D73F\",\"#97D83E\",\"#9AD83C\",\"#9DD93A\",\"#9FD938\",\"#A2DA37\",\"#A5DA35\",\"#A7DB33\",\"#AADB32\",\"#ADDC30\",\"#AFDC2E\",\"#B2DD2C\",\"#B5DD2B\",\"#B7DD29\",\"#BADE27\",\"#BDDE26\",\"#BFDF24\",\"#C2DF22\",\"#C5DF21\",\"#C7E01F\",\"#CAE01E\",\"#CDE01D\",\"#CFE11C\",\"#D2E11B\",\"#D4E11A\",\"#D7E219\",\"#DAE218\",\"#DCE218\",\"#DFE318\",\"#E1E318\",\"#E4E318\",\"#E7E419\",\"#E9E419\",\"#ECE41A\",\"#EEE51B\",\"#F1E51C\",\"#F3E51E\",\"#F6E61F\",\"#F8E621\",\"#FAE622\",\"#FDE724\"]},\"id\":\"1180\",\"type\":\"LinearColorMapper\"},{\"attributes\":{\"color_mapper\":{\"id\":\"1218\"},\"dh\":{\"value\":8},\"dw\":{\"value\":8},\"global_alpha\":{\"value\":0.2},\"image\":{\"field\":\"value\"},\"x\":{\"value\":0},\"y\":{\"value\":0}},\"id\":\"1217\",\"type\":\"Image\"},{\"attributes\":{\"palette\":[\"#440154\",\"#440255\",\"#440357\",\"#450558\",\"#45065A\",\"#45085B\",\"#46095C\",\"#460B5E\",\"#460C5F\",\"#460E61\",\"#470F62\",\"#471163\",\"#471265\",\"#471466\",\"#471567\",\"#471669\",\"#47186A\",\"#48196B\",\"#481A6C\",\"#481C6E\",\"#481D6F\",\"#481E70\",\"#482071\",\"#482172\",\"#482273\",\"#482374\",\"#472575\",\"#472676\",\"#472777\",\"#472878\",\"#472A79\",\"#472B7A\",\"#472C7B\",\"#462D7C\",\"#462F7C\",\"#46307D\",\"#46317E\",\"#45327F\",\"#45347F\",\"#453580\",\"#453681\",\"#443781\",\"#443982\",\"#433A83\",\"#433B83\",\"#433C84\",\"#423D84\",\"#423E85\",\"#424085\",\"#414186\",\"#414286\",\"#404387\",\"#404487\",\"#3F4587\",\"#3F4788\",\"#3E4888\",\"#3E4989\",\"#3D4A89\",\"#3D4B89\",\"#3D4C89\",\"#3C4D8A\",\"#3C4E8A\",\"#3B508A\",\"#3B518A\",\"#3A528B\",\"#3A538B\",\"#39548B\",\"#39558B\",\"#38568B\",\"#38578C\",\"#37588C\",\"#37598C\",\"#365A8C\",\"#365B8C\",\"#355C8C\",\"#355D8C\",\"#345E8D\",\"#345F8D\",\"#33608D\",\"#33618D\",\"#32628D\",\"#32638D\",\"#31648D\",\"#31658D\",\"#31668D\",\"#30678D\",\"#30688D\",\"#2F698D\",\"#2F6A8D\",\"#2E6B8E\",\"#2E6C8E\",\"#2E6D8E\",\"#2D6E8E\",\"#2D6F8E\",\"#2C708E\",\"#2C718E\",\"#2C728E\",\"#2B738E\",\"#2B748E\",\"#2A758E\",\"#2A768E\",\"#2A778E\",\"#29788E\",\"#29798E\",\"#287A8E\",\"#287A8E\",\"#287B8E\",\"#277C8E\",\"#277D8E\",\"#277E8E\",\"#267F8E\",\"#26808E\",\"#26818E\",\"#25828E\",\"#25838D\",\"#24848D\",\"#24858D\",\"#24868D\",\"#23878D\",\"#23888D\",\"#23898D\",\"#22898D\",\"#228A8D\",\"#228B8D\",\"#218C8D\",\"#218D8C\",\"#218E8C\",\"#208F8C\",\"#20908C\",\"#20918C\",\"#1F928C\",\"#1F938B\",\"#1F948B\",\"#1F958B\",\"#1F968B\",\"#1E978A\",\"#1E988A\",\"#1E998A\",\"#1E998A\",\"#1E9A89\",\"#1E9B89\",\"#1E9C89\",\"#1E9D88\",\"#1E9E88\",\"#1E9F88\",\"#1EA087\",\"#1FA187\",\"#1FA286\",\"#1FA386\",\"#20A485\",\"#20A585\",\"#21A685\",\"#21A784\",\"#22A784\",\"#23A883\",\"#23A982\",\"#24AA82\",\"#25AB81\",\"#26AC81\",\"#27AD80\",\"#28AE7F\",\"#29AF7F\",\"#2AB07E\",\"#2BB17D\",\"#2CB17D\",\"#2EB27C\",\"#2FB37B\",\"#30B47A\",\"#32B57A\",\"#33B679\",\"#35B778\",\"#36B877\",\"#38B976\",\"#39B976\",\"#3BBA75\",\"#3DBB74\",\"#3EBC73\",\"#40BD72\",\"#42BE71\",\"#44BE70\",\"#45BF6F\",\"#47C06E\",\"#49C16D\",\"#4BC26C\",\"#4DC26B\",\"#4FC369\",\"#51C468\",\"#53C567\",\"#55C666\",\"#57C665\",\"#59C764\",\"#5BC862\",\"#5EC961\",\"#60C960\",\"#62CA5F\",\"#64CB5D\",\"#67CC5C\",\"#69CC5B\",\"#6BCD59\",\"#6DCE58\",\"#70CE56\",\"#72CF55\",\"#74D054\",\"#77D052\",\"#79D151\",\"#7CD24F\",\"#7ED24E\",\"#81D34C\",\"#83D34B\",\"#86D449\",\"#88D547\",\"#8BD546\",\"#8DD644\",\"#90D643\",\"#92D741\",\"#95D73F\",\"#97D83E\",\"#9AD83C\",\"#9DD93A\",\"#9FD938\",\"#A2DA37\",\"#A5DA35\",\"#A7DB33\",\"#AADB32\",\"#ADDC30\",\"#AFDC2E\",\"#B2DD2C\",\"#B5DD2B\",\"#B7DD29\",\"#BADE27\",\"#BDDE26\",\"#BFDF24\",\"#C2DF22\",\"#C5DF21\",\"#C7E01F\",\"#CAE01E\",\"#CDE01D\",\"#CFE11C\",\"#D2E11B\",\"#D4E11A\",\"#D7E219\",\"#DAE218\",\"#DCE218\",\"#DFE318\",\"#E1E318\",\"#E4E318\",\"#E7E419\",\"#E9E419\",\"#ECE41A\",\"#EEE51B\",\"#F1E51C\",\"#F3E51E\",\"#F6E61F\",\"#F8E621\",\"#FAE622\",\"#FDE724\"]},\"id\":\"1218\",\"type\":\"LinearColorMapper\"},{\"attributes\":{},\"id\":\"1228\",\"type\":\"AllLabels\"},{\"attributes\":{\"coordinates\":null,\"data_source\":{\"id\":\"1209\"},\"glyph\":{\"id\":\"1211\"},\"group\":null,\"hover_glyph\":null,\"muted_glyph\":{\"id\":\"1217\"},\"nonselection_glyph\":{\"id\":\"1214\"},\"view\":{\"id\":\"1221\"}},\"id\":\"1220\",\"type\":\"GlyphRenderer\"},{\"attributes\":{\"color_mapper\":{\"id\":\"1183\"},\"dh\":{\"value\":8},\"dw\":{\"value\":8},\"global_alpha\":{\"value\":0.2},\"image\":{\"field\":\"value\"},\"x\":{\"value\":0},\"y\":{\"value\":0}},\"id\":\"1182\",\"type\":\"Image\"},{\"attributes\":{\"palette\":[\"#440154\",\"#440255\",\"#440357\",\"#450558\",\"#45065A\",\"#45085B\",\"#46095C\",\"#460B5E\",\"#460C5F\",\"#460E61\",\"#470F62\",\"#471163\",\"#471265\",\"#471466\",\"#471567\",\"#471669\",\"#47186A\",\"#48196B\",\"#481A6C\",\"#481C6E\",\"#481D6F\",\"#481E70\",\"#482071\",\"#482172\",\"#482273\",\"#482374\",\"#472575\",\"#472676\",\"#472777\",\"#472878\",\"#472A79\",\"#472B7A\",\"#472C7B\",\"#462D7C\",\"#462F7C\",\"#46307D\",\"#46317E\",\"#45327F\",\"#45347F\",\"#453580\",\"#453681\",\"#443781\",\"#443982\",\"#433A83\",\"#433B83\",\"#433C84\",\"#423D84\",\"#423E85\",\"#424085\",\"#414186\",\"#414286\",\"#404387\",\"#404487\",\"#3F4587\",\"#3F4788\",\"#3E4888\",\"#3E4989\",\"#3D4A89\",\"#3D4B89\",\"#3D4C89\",\"#3C4D8A\",\"#3C4E8A\",\"#3B508A\",\"#3B518A\",\"#3A528B\",\"#3A538B\",\"#39548B\",\"#39558B\",\"#38568B\",\"#38578C\",\"#37588C\",\"#37598C\",\"#365A8C\",\"#365B8C\",\"#355C8C\",\"#355D8C\",\"#345E8D\",\"#345F8D\",\"#33608D\",\"#33618D\",\"#32628D\",\"#32638D\",\"#31648D\",\"#31658D\",\"#31668D\",\"#30678D\",\"#30688D\",\"#2F698D\",\"#2F6A8D\",\"#2E6B8E\",\"#2E6C8E\",\"#2E6D8E\",\"#2D6E8E\",\"#2D6F8E\",\"#2C708E\",\"#2C718E\",\"#2C728E\",\"#2B738E\",\"#2B748E\",\"#2A758E\",\"#2A768E\",\"#2A778E\",\"#29788E\",\"#29798E\",\"#287A8E\",\"#287A8E\",\"#287B8E\",\"#277C8E\",\"#277D8E\",\"#277E8E\",\"#267F8E\",\"#26808E\",\"#26818E\",\"#25828E\",\"#25838D\",\"#24848D\",\"#24858D\",\"#24868D\",\"#23878D\",\"#23888D\",\"#23898D\",\"#22898D\",\"#228A8D\",\"#228B8D\",\"#218C8D\",\"#218D8C\",\"#218E8C\",\"#208F8C\",\"#20908C\",\"#20918C\",\"#1F928C\",\"#1F938B\",\"#1F948B\",\"#1F958B\",\"#1F968B\",\"#1E978A\",\"#1E988A\",\"#1E998A\",\"#1E998A\",\"#1E9A89\",\"#1E9B89\",\"#1E9C89\",\"#1E9D88\",\"#1E9E88\",\"#1E9F88\",\"#1EA087\",\"#1FA187\",\"#1FA286\",\"#1FA386\",\"#20A485\",\"#20A585\",\"#21A685\",\"#21A784\",\"#22A784\",\"#23A883\",\"#23A982\",\"#24AA82\",\"#25AB81\",\"#26AC81\",\"#27AD80\",\"#28AE7F\",\"#29AF7F\",\"#2AB07E\",\"#2BB17D\",\"#2CB17D\",\"#2EB27C\",\"#2FB37B\",\"#30B47A\",\"#32B57A\",\"#33B679\",\"#35B778\",\"#36B877\",\"#38B976\",\"#39B976\",\"#3BBA75\",\"#3DBB74\",\"#3EBC73\",\"#40BD72\",\"#42BE71\",\"#44BE70\",\"#45BF6F\",\"#47C06E\",\"#49C16D\",\"#4BC26C\",\"#4DC26B\",\"#4FC369\",\"#51C468\",\"#53C567\",\"#55C666\",\"#57C665\",\"#59C764\",\"#5BC862\",\"#5EC961\",\"#60C960\",\"#62CA5F\",\"#64CB5D\",\"#67CC5C\",\"#69CC5B\",\"#6BCD59\",\"#6DCE58\",\"#70CE56\",\"#72CF55\",\"#74D054\",\"#77D052\",\"#79D151\",\"#7CD24F\",\"#7ED24E\",\"#81D34C\",\"#83D34B\",\"#86D449\",\"#88D547\",\"#8BD546\",\"#8DD644\",\"#90D643\",\"#92D741\",\"#95D73F\",\"#97D83E\",\"#9AD83C\",\"#9DD93A\",\"#9FD938\",\"#A2DA37\",\"#A5DA35\",\"#A7DB33\",\"#AADB32\",\"#ADDC30\",\"#AFDC2E\",\"#B2DD2C\",\"#B5DD2B\",\"#B7DD29\",\"#BADE27\",\"#BDDE26\",\"#BFDF24\",\"#C2DF22\",\"#C5DF21\",\"#C7E01F\",\"#CAE01E\",\"#CDE01D\",\"#CFE11C\",\"#D2E11B\",\"#D4E11A\",\"#D7E219\",\"#DAE218\",\"#DCE218\",\"#DFE318\",\"#E1E318\",\"#E4E318\",\"#E7E419\",\"#E9E419\",\"#ECE41A\",\"#EEE51B\",\"#F1E51C\",\"#F3E51E\",\"#F6E61F\",\"#F8E621\",\"#FAE622\",\"#FDE724\"]},\"id\":\"1183\",\"type\":\"LinearColorMapper\"},{\"attributes\":{\"data\":{\"value\":[{\"__ndarray__\":\"eKj/PaRwAD4g2P891AAAPmj5/z2g0f89SJr/PaB8/z3Iu/89THoAPmDr/z14CgA+XAYAPvjk/z2grf898I//PdDK/z3QgQA+ePr/PQgSAD7oDQA+8PP/PZi8/z0In/89GKr/PWxxAD7A2f89qAEAPij7/z1I0/898Jv/PVB+/z0wvv89gHsAPtjt/z24CwA+oAcAPmjn/z0IsP89WJL/PfDR/z1ghQA+1AAAPqgVAD6AEQA+KPv/PejD/z04pv89ONT/PXSGAD7oAQA+tBYAPpwSAD5g/f89AMb/PVCo/z2QwP89qHwAPjjw/z3cDAA+0AgAPsDp/z1osv89qJT/PQ==\",\"dtype\":\"float32\",\"order\":\"little\",\"shape\":[8,8]}]},\"selected\":{\"id\":\"1230\"},\"selection_policy\":{\"id\":\"1229\"}},\"id\":\"1174\",\"type\":\"ColumnDataSource\"},{\"attributes\":{\"source\":{\"id\":\"1209\"}},\"id\":\"1221\",\"type\":\"CDSView\"},{\"attributes\":{\"coordinates\":null,\"data_source\":{\"id\":\"1174\"},\"glyph\":{\"id\":\"1176\"},\"group\":null,\"hover_glyph\":null,\"muted_glyph\":{\"id\":\"1182\"},\"nonselection_glyph\":{\"id\":\"1179\"},\"view\":{\"id\":\"1186\"}},\"id\":\"1185\",\"type\":\"GlyphRenderer\"},{\"attributes\":{\"source\":{\"id\":\"1174\"}},\"id\":\"1186\",\"type\":\"CDSView\"},{\"attributes\":{},\"id\":\"1157\",\"type\":\"DataRange1d\"},{\"attributes\":{},\"id\":\"1159\",\"type\":\"LinearScale\"},{\"attributes\":{\"coordinates\":null,\"formatter\":{\"id\":\"1227\"},\"group\":null,\"major_label_policy\":{\"id\":\"1228\"},\"ticker\":{\"id\":\"1164\"}},\"id\":\"1163\",\"type\":\"LinearAxis\"},{\"attributes\":{\"axis\":{\"id\":\"1198\"},\"coordinates\":null,\"group\":null,\"ticker\":null},\"id\":\"1201\",\"type\":\"Grid\"},{\"attributes\":{\"below\":[{\"id\":\"1163\"}],\"center\":[{\"id\":\"1166\"},{\"id\":\"1170\"}],\"left\":[{\"id\":\"1167\"}],\"renderers\":[{\"id\":\"1185\"}],\"sizing_mode\":\"scale_width\",\"title\":{\"id\":\"1153\"},\"toolbar\":{\"id\":\"1172\"},\"toolbar_location\":null,\"x_range\":{\"id\":\"1155\"},\"x_scale\":{\"id\":\"1159\"},\"y_range\":{\"id\":\"1157\"},\"y_scale\":{\"id\":\"1161\"}},\"id\":\"1152\",\"subtype\":\"Figure\",\"type\":\"Plot\"},{\"attributes\":{},\"id\":\"1194\",\"type\":\"LinearScale\"},{\"attributes\":{},\"id\":\"1234\",\"type\":\"BasicTickFormatter\"},{\"attributes\":{\"coordinates\":null,\"formatter\":{\"id\":\"1234\"},\"group\":null,\"major_label_policy\":{\"id\":\"1235\"},\"ticker\":{\"id\":\"1203\"}},\"id\":\"1202\",\"type\":\"LinearAxis\"},{\"attributes\":{},\"id\":\"1199\",\"type\":\"BasicTicker\"},{\"attributes\":{\"axis\":{\"id\":\"1163\"},\"coordinates\":null,\"group\":null,\"ticker\":null},\"id\":\"1166\",\"type\":\"Grid\"},{\"attributes\":{\"coordinates\":null,\"group\":null,\"text\":\"simple_link_prediction\"},\"id\":\"1188\",\"type\":\"Title\"},{\"attributes\":{},\"id\":\"1235\",\"type\":\"AllLabels\"},{\"attributes\":{},\"id\":\"1192\",\"type\":\"DataRange1d\"},{\"attributes\":{\"axis\":{\"id\":\"1167\"},\"coordinates\":null,\"dimension\":1,\"group\":null,\"ticker\":null},\"id\":\"1170\",\"type\":\"Grid\"},{\"attributes\":{},\"id\":\"1229\",\"type\":\"UnionRenderers\"},{\"attributes\":{},\"id\":\"1196\",\"type\":\"LinearScale\"},{\"attributes\":{},\"id\":\"1168\",\"type\":\"BasicTicker\"},{\"attributes\":{},\"id\":\"1237\",\"type\":\"BasicTickFormatter\"},{\"attributes\":{\"toolbars\":[{\"id\":\"1172\"},{\"id\":\"1207\"}],\"tools\":[{\"id\":\"1171\"},{\"id\":\"1206\"}]},\"id\":\"1243\",\"type\":\"ProxyToolbar\"},{\"attributes\":{},\"id\":\"1230\",\"type\":\"Selection\"},{\"attributes\":{},\"id\":\"1155\",\"type\":\"DataRange1d\"},{\"attributes\":{\"coordinates\":null,\"formatter\":{\"id\":\"1224\"},\"group\":null,\"major_label_policy\":{\"id\":\"1225\"},\"ticker\":{\"id\":\"1168\"}},\"id\":\"1167\",\"type\":\"LinearAxis\"},{\"attributes\":{\"callback\":null,\"tooltips\":[[\"Value\",\"@value\"]]},\"id\":\"1206\",\"type\":\"HoverTool\"},{\"attributes\":{},\"id\":\"1238\",\"type\":\"AllLabels\"},{\"attributes\":{\"color_mapper\":{\"id\":\"1177\"},\"dh\":{\"value\":8},\"dw\":{\"value\":8},\"image\":{\"field\":\"value\"},\"x\":{\"value\":0},\"y\":{\"value\":0}},\"id\":\"1176\",\"type\":\"Image\"},{\"attributes\":{},\"id\":\"1239\",\"type\":\"UnionRenderers\"},{\"attributes\":{\"callback\":null,\"tooltips\":[[\"Value\",\"@value\"]]},\"id\":\"1171\",\"type\":\"HoverTool\"},{\"attributes\":{},\"id\":\"1240\",\"type\":\"Selection\"},{\"attributes\":{\"tools\":[{\"id\":\"1206\"}]},\"id\":\"1207\",\"type\":\"Toolbar\"},{\"attributes\":{\"below\":[{\"id\":\"1198\"}],\"center\":[{\"id\":\"1201\"},{\"id\":\"1205\"}],\"left\":[{\"id\":\"1202\"}],\"renderers\":[{\"id\":\"1220\"}],\"sizing_mode\":\"scale_width\",\"title\":{\"id\":\"1188\"},\"toolbar\":{\"id\":\"1207\"},\"toolbar_location\":null,\"x_range\":{\"id\":\"1190\"},\"x_scale\":{\"id\":\"1194\"},\"y_range\":{\"id\":\"1192\"},\"y_scale\":{\"id\":\"1196\"}},\"id\":\"1187\",\"subtype\":\"Figure\",\"type\":\"Plot\"},{\"attributes\":{},\"id\":\"1190\",\"type\":\"DataRange1d\"},{\"attributes\":{\"children\":[[{\"id\":\"1152\"},0,0],[{\"id\":\"1187\"},1,0]]},\"id\":\"1242\",\"type\":\"GridBox\"},{\"attributes\":{\"tools\":[{\"id\":\"1171\"}]},\"id\":\"1172\",\"type\":\"Toolbar\"},{\"attributes\":{\"color_mapper\":{\"id\":\"1212\"},\"dh\":{\"value\":8},\"dw\":{\"value\":8},\"image\":{\"field\":\"value\"},\"x\":{\"value\":0},\"y\":{\"value\":0}},\"id\":\"1211\",\"type\":\"Image\"}],\"root_ids\":[\"1245\"]},\"title\":\"Bokeh Application\",\"version\":\"2.4.2\"}};\n",
       "  const render_items = [{\"docid\":\"77018c78-2d0d-4d23-ba22-b1f7113c75cb\",\"root_ids\":[\"1245\"],\"roots\":{\"1245\":\"11e9e125-a631-48d1-93ab-e449a1b88bfd\"}}];\n",
       "  root.Bokeh.embed.embed_items_notebook(docs_json, render_items);\n",
       "\n",
       "  }\n",
       "  if (root.Bokeh !== undefined) {\n",
       "    embed_document(root);\n",
       "  } else {\n",
       "    let attempts = 0;\n",
       "    const timer = setInterval(function(root) {\n",
       "      if (root.Bokeh !== undefined) {\n",
       "        clearInterval(timer);\n",
       "        embed_document(root);\n",
       "      } else {\n",
       "        attempts++;\n",
       "        if (attempts > 100) {\n",
       "          clearInterval(timer);\n",
       "          console.log(\"Bokeh: ERROR: Unable to run BokehJS code because BokehJS library is missing\");\n",
       "        }\n",
       "      }\n",
       "    }, 10, root)\n",
       "  }\n",
       "})(window);"
      ],
      "application/vnd.bokehjs_exec.v0+json": ""
     },
     "metadata": {
      "application/vnd.bokehjs_exec.v0+json": {
       "id": "1245"
      }
     },
     "output_type": "display_data"
    }
   ],
   "source": [
    "grid = []\n",
    "\n",
    "for name, net_results in results.items():\n",
    "    gridrow = []\n",
    "    for net, losses in net_results:\n",
    "        net_output = net(qap)\n",
    "        data = dict(value=[net_output.detach().numpy()])\n",
    "        fig = figure(\n",
    "            title=name,\n",
    "            tools=\"hover\",\n",
    "            tooltips=[(\"Value\", \"@value\")]\n",
    "        )\n",
    "        fig.image(\n",
    "            source=data, \n",
    "            image=\"value\",\n",
    "            x=0, y=0, \n",
    "            dw=qap.size, dh=qap.size, \n",
    "            palette=\"Viridis256\"\n",
    "        )\n",
    "        gridrow.append(fig)\n",
    "    grid.append(gridrow)\n",
    "show(gridplot(grid, sizing_mode=\"scale_width\"))"
   ]
  },
  {
   "cell_type": "code",
   "execution_count": null,
   "id": "8767b790",
   "metadata": {},
   "outputs": [],
   "source": []
  }
 ],
 "metadata": {
  "kernelspec": {
   "display_name": "Python 3 (ipykernel)",
   "language": "python",
   "name": "python3"
  },
  "language_info": {
   "codemirror_mode": {
    "name": "ipython",
    "version": 3
   },
   "file_extension": ".py",
   "mimetype": "text/x-python",
   "name": "python",
   "nbconvert_exporter": "python",
   "pygments_lexer": "ipython3",
   "version": "3.8.12"
  }
 },
 "nbformat": 4,
 "nbformat_minor": 5
}
