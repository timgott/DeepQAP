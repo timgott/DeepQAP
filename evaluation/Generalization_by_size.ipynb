{
 "cells": [
  {
   "cell_type": "code",
   "execution_count": 1,
   "metadata": {},
   "outputs": [
    {
     "name": "stdout",
     "output_type": "stream",
     "text": [
      "/home/jupyter-tim/ba-tim\n"
     ]
    }
   ],
   "source": [
    "%cd .."
   ]
  },
  {
   "cell_type": "code",
   "execution_count": 2,
   "metadata": {},
   "outputs": [],
   "source": [
    "from drlqap.taskgenerators import generators, RandomWeightsTaskGenerator, RandomMatricesTaskGenerator, LinearTaskGenerator\n",
    "from collections import defaultdict"
   ]
  },
  {
   "cell_type": "code",
   "execution_count": 3,
   "metadata": {},
   "outputs": [],
   "source": [
    "# Generate new problems\n",
    "sizes = [2,4,8,16,32,64,128,256]\n",
    "count = 20\n",
    "problems = {\n",
    "    i: [RandomWeightsTaskGenerator(i).sample() for _ in range(count)] for i in sizes\n",
    "}"
   ]
  },
  {
   "cell_type": "code",
   "execution_count": 4,
   "metadata": {},
   "outputs": [],
   "source": [
    "# Clear results\n",
    "results = {}"
   ]
  },
  {
   "cell_type": "code",
   "execution_count": 5,
   "metadata": {},
   "outputs": [],
   "source": [
    "import scipy.optimize\n",
    "from drlqap.simplesolver import solve_qap_backtracking, solve_qap_maxgreedy, solve_qap_faq, solve_random, solve_partial_random, solve_best_of_k\n",
    "from drlqap.gurobi import solve_qap_gurobi\n",
    "import numpy as np\n",
    "from drlqap.qap import QAP\n",
    "from drlqap.evaltools import load_checkpoints\n",
    "from pathlib import Path\n",
    "import random\n",
    "import matplotlib.pyplot as plt\n",
    "import time\n",
    "import importlib\n",
    "import torch"
   ]
  },
  {
   "cell_type": "code",
   "execution_count": 6,
   "metadata": {},
   "outputs": [],
   "source": [
    "def evaluate(solver, problem, samples):\n",
    "    if type(problem) == str:\n",
    "        generator = generators[problem]\n",
    "    else:\n",
    "        generator = problem\n",
    "    qaps = [generator.sample() for i in range(samples)]\n",
    "    return evaluate_set(solver, qaps)\n",
    "    \n",
    "def evaluate_set(solver, problems):\n",
    "    with torch.no_grad():\n",
    "        start = time.perf_counter()\n",
    "        values = []\n",
    "        correct = 0\n",
    "        for qap in problems:\n",
    "            v_solver, assignment = solver(qap)\n",
    "            v = qap.compute_value(assignment)\n",
    "            if not np.isclose(v, v_solver):\n",
    "                print (f\"solver outputs incorrect value (got {v_solver}, actual {v})\")\n",
    "            values.append(v)\n",
    "        end = time.perf_counter()\n",
    "        mean = np.mean(values)\n",
    "        variance = np.var(values)\n",
    "        return mean, variance, (end - start) / len(problems)"
   ]
  },
  {
   "cell_type": "code",
   "execution_count": 7,
   "metadata": {},
   "outputs": [],
   "source": [
    "def evaluate_full_and_store(solver_name, force=False):\n",
    "    if solver_name not in results or force:\n",
    "        solver = solvers[solver_name]\n",
    "        means = []\n",
    "        variances = []\n",
    "        times = []\n",
    "        for n in sizes:\n",
    "            m, v, t = evaluate_set(solver, problems[n])\n",
    "            means.append(m)\n",
    "            variances.append(v)\n",
    "            times.append(t)\n",
    "            print(f\"{solver_name} on n={n}: mean={m:.3f}, var={v:.3f}, t={t:.3f}\")\n",
    "        results[solver_name] = {\n",
    "            \"means\": np.array(means),\n",
    "            \"vars\": np.array(variances),\n",
    "            \"times\": np.array(times)\n",
    "        }"
   ]
  },
  {
   "cell_type": "code",
   "execution_count": 23,
   "metadata": {
    "scrolled": true
   },
   "outputs": [
    {
     "name": "stdout",
     "output_type": "stream",
     "text": [
      "runs/a2c_ms100x_mediumrandoms/lr4e-5_s3/checkpoint_0.pth\n",
      "runs/a2c_ms100x_mediumrandoms/lr4e-5_s3/checkpoint_1000.pth\n",
      "runs/a2c_ms100x_mediumrandoms/lr4e-5_s3/checkpoint_2000.pth\n",
      "runs/a2c_ms100x_mediumrandoms/lr4e-5_s3/checkpoint_3000.pth\n",
      "runs/a2c_ms100x_mediumrandoms/lr4e-5_s3/checkpoint_4000.pth\n",
      "runs/a2c_ms100x_mediumrandoms/lr4e-5_s3/checkpoint_5000.pth\n",
      "runs/a2c_ms100x_mediumrandoms/lr4e-5_s3/checkpoint_6000.pth\n",
      "runs/a2c_ms100x_mediumrandoms/lr4e-5_s3/checkpoint_7000.pth\n",
      "runs/a2c_ms100x_mediumrandoms/lr4e-5_s3/checkpoint_8000.pth\n",
      "runs/a2c_ms100x_mediumrandoms/lr4e-5_s3/checkpoint_9000.pth\n",
      "runs/a2c_ms100x_mediumrandoms/lr4e-5_s3/checkpoint_10000.pth\n",
      "runs/a2c_ms100x_mediumrandoms/lr4e-5_s3/checkpoint_11000.pth\n",
      "runs/a2c_ms100x_mediumrandoms/lr4e-5_s3/checkpoint_12000.pth\n",
      "runs/a2c_ms100x_mediumrandoms/lr4e-5_s3/checkpoint_13000.pth\n",
      "runs/a2c_ms100x_mediumrandoms/lr4e-5_s3/checkpoint_14000.pth\n",
      "runs/a2c_ms100x_mediumrandoms/lr4e-5_s3/checkpoint_15000.pth\n",
      "runs/a2c_ms100x_mediumrandoms/lr4e-5_s3/checkpoint_16000.pth\n",
      "runs/a2c_ms100x_mediumrandoms/lr4e-5_s3/checkpoint_17000.pth\n",
      "runs/a2c_ms100x_mediumrandoms/lr4e-5_s3/checkpoint_18000.pth\n",
      "runs/a2c_ms100x_mediumrandoms/lr4e-5_s3/checkpoint_19000.pth\n",
      "runs/a2c_ms100x_mediumrandoms/lr4e-5_s3/checkpoint_20000.pth\n",
      "runs/a2c_ms100x_mediumrandoms/lr4e-5_s3/checkpoint_21000.pth\n",
      "runs/a2c_ms100x_mediumrandoms/lr4e-5_s3/checkpoint_22000.pth\n",
      "runs/a2c_ms100x_mediumrandoms/lr4e-5_s3/checkpoint_23000.pth\n",
      "runs/a2c_ms100x_mediumrandoms/lr4e-5_s3/checkpoint_24000.pth\n",
      "runs/a2c_ms100x_mediumrandoms/lr4e-5_s3/checkpoint_25000.pth\n",
      "runs/a2c_ms100x_mediumrandoms/lr4e-5_s3/checkpoint_26000.pth\n",
      "runs/a2c_ms100x_mediumrandoms/lr4e-5_s3/checkpoint_27000.pth\n",
      "runs/a2c_ms100x_mediumrandoms/lr4e-5_s3/checkpoint_28000.pth\n",
      "runs/a2c_ms100x_mediumrandoms/lr4e-5_s3/checkpoint_29000.pth\n",
      "runs/a2c_ms100x_mediumrandoms/lr4e-5_s3/checkpoint_end.pth\n",
      "runs/dqn_dense_ms_ec_eps0_smallrandoms/lr5e-4_s1/checkpoint_0.pth\n",
      "runs/dqn_dense_ms_ec_eps0_smallrandoms/lr5e-4_s1/checkpoint_1000.pth\n",
      "runs/dqn_dense_ms_ec_eps0_smallrandoms/lr5e-4_s1/checkpoint_2000.pth\n",
      "runs/dqn_dense_ms_ec_eps0_smallrandoms/lr5e-4_s1/checkpoint_3000.pth\n",
      "runs/dqn_dense_ms_ec_eps0_smallrandoms/lr5e-4_s1/checkpoint_4000.pth\n",
      "runs/dqn_dense_ms_ec_eps0_smallrandoms/lr5e-4_s1/checkpoint_5000.pth\n",
      "runs/dqn_dense_ms_ec_eps0_smallrandoms/lr5e-4_s1/checkpoint_6000.pth\n",
      "runs/dqn_dense_ms_ec_eps0_smallrandoms/lr5e-4_s1/checkpoint_7000.pth\n",
      "runs/dqn_dense_ms_ec_eps0_smallrandoms/lr5e-4_s1/checkpoint_8000.pth\n",
      "runs/dqn_dense_ms_ec_eps0_smallrandoms/lr5e-4_s1/checkpoint_9000.pth\n",
      "runs/dqn_dense_ms_ec_eps0_smallrandoms/lr5e-4_s1/checkpoint_end.pth\n",
      "runs/dqn_dense_ms_ec_eps0_mediumrandoms/lr5e-4_s1/checkpoint_0.pth\n",
      "runs/dqn_dense_ms_ec_eps0_mediumrandoms/lr5e-4_s1/checkpoint_1000.pth\n",
      "runs/dqn_dense_ms_ec_eps0_mediumrandoms/lr5e-4_s1/checkpoint_2000.pth\n",
      "runs/dqn_dense_ms_ec_eps0_mediumrandoms/lr5e-4_s1/checkpoint_3000.pth\n",
      "runs/dqn_dense_ms_ec_eps0_mediumrandoms/lr5e-4_s1/checkpoint_4000.pth\n",
      "runs/dqn_dense_ms_ec_eps0_mediumrandoms/lr5e-4_s1/checkpoint_5000.pth\n",
      "runs/dqn_dense_ms_ec_eps0_mediumrandoms/lr5e-4_s1/checkpoint_6000.pth\n",
      "runs/dqn_dense_ms_ec_eps0_mediumrandoms/lr5e-4_s1/checkpoint_7000.pth\n",
      "runs/dqn_dense_ms_ec_eps0_mediumrandoms/lr5e-4_s1/checkpoint_8000.pth\n",
      "runs/dqn_dense_ms_ec_eps0_mediumrandoms/lr5e-4_s1/checkpoint_9000.pth\n",
      "runs/dqn_dense_ms_ec_eps0_mediumrandoms/lr5e-4_s1/checkpoint_end.pth\n",
      "runs/reinforce_ms100x_smallrandoms/lr1e-4_s4/checkpoint_0.pth\n",
      "runs/reinforce_ms100x_smallrandoms/lr1e-4_s4/checkpoint_1000.pth\n",
      "runs/reinforce_ms100x_smallrandoms/lr1e-4_s4/checkpoint_2000.pth\n",
      "runs/reinforce_ms100x_smallrandoms/lr1e-4_s4/checkpoint_3000.pth\n",
      "runs/reinforce_ms100x_smallrandoms/lr1e-4_s4/checkpoint_4000.pth\n",
      "runs/reinforce_ms100x_smallrandoms/lr1e-4_s4/checkpoint_5000.pth\n",
      "runs/reinforce_ms100x_smallrandoms/lr1e-4_s4/checkpoint_6000.pth\n",
      "runs/reinforce_ms100x_smallrandoms/lr1e-4_s4/checkpoint_7000.pth\n",
      "runs/reinforce_ms100x_smallrandoms/lr1e-4_s4/checkpoint_8000.pth\n",
      "runs/reinforce_ms100x_smallrandoms/lr1e-4_s4/checkpoint_9000.pth\n",
      "runs/reinforce_ms100x_smallrandoms/lr1e-4_s4/checkpoint_10000.pth\n",
      "runs/reinforce_ms100x_smallrandoms/lr1e-4_s4/checkpoint_11000.pth\n",
      "runs/reinforce_ms100x_smallrandoms/lr1e-4_s4/checkpoint_12000.pth\n",
      "runs/reinforce_ms100x_smallrandoms/lr1e-4_s4/checkpoint_13000.pth\n",
      "runs/reinforce_ms100x_smallrandoms/lr1e-4_s4/checkpoint_14000.pth\n",
      "runs/reinforce_ms100x_smallrandoms/lr1e-4_s4/checkpoint_15000.pth\n",
      "runs/reinforce_ms100x_smallrandoms/lr1e-4_s4/checkpoint_16000.pth\n",
      "runs/reinforce_ms100x_smallrandoms/lr1e-4_s4/checkpoint_17000.pth\n",
      "runs/reinforce_ms100x_smallrandoms/lr1e-4_s4/checkpoint_18000.pth\n",
      "runs/reinforce_ms100x_smallrandoms/lr1e-4_s4/checkpoint_19000.pth\n",
      "runs/reinforce_ms100x_smallrandoms/lr1e-4_s4/checkpoint_20000.pth\n",
      "runs/reinforce_ms100x_smallrandoms/lr1e-4_s4/checkpoint_21000.pth\n",
      "runs/reinforce_ms100x_smallrandoms/lr1e-4_s4/checkpoint_22000.pth\n",
      "runs/reinforce_ms100x_smallrandoms/lr1e-4_s4/checkpoint_23000.pth\n",
      "runs/reinforce_ms100x_smallrandoms/lr1e-4_s4/checkpoint_24000.pth\n",
      "runs/reinforce_ms100x_smallrandoms/lr1e-4_s4/checkpoint_25000.pth\n",
      "runs/reinforce_ms100x_smallrandoms/lr1e-4_s4/checkpoint_26000.pth\n",
      "runs/reinforce_ms100x_smallrandoms/lr1e-4_s4/checkpoint_27000.pth\n",
      "runs/reinforce_ms100x_smallrandoms/lr1e-4_s4/checkpoint_28000.pth\n",
      "runs/reinforce_ms100x_smallrandoms/lr1e-4_s4/checkpoint_29000.pth\n",
      "runs/reinforce_ms100x_smallrandoms/lr1e-4_s4/checkpoint_end.pth\n",
      "runs/a2c_ms100x_smallrandoms/lr4e-5_s2/checkpoint_0.pth\n",
      "runs/a2c_ms100x_smallrandoms/lr4e-5_s2/checkpoint_1000.pth\n",
      "runs/a2c_ms100x_smallrandoms/lr4e-5_s2/checkpoint_2000.pth\n",
      "runs/a2c_ms100x_smallrandoms/lr4e-5_s2/checkpoint_3000.pth\n",
      "runs/a2c_ms100x_smallrandoms/lr4e-5_s2/checkpoint_4000.pth\n",
      "runs/a2c_ms100x_smallrandoms/lr4e-5_s2/checkpoint_5000.pth\n",
      "runs/a2c_ms100x_smallrandoms/lr4e-5_s2/checkpoint_6000.pth\n",
      "runs/a2c_ms100x_smallrandoms/lr4e-5_s2/checkpoint_7000.pth\n",
      "runs/a2c_ms100x_smallrandoms/lr4e-5_s2/checkpoint_8000.pth\n",
      "runs/a2c_ms100x_smallrandoms/lr4e-5_s2/checkpoint_9000.pth\n",
      "runs/a2c_ms100x_smallrandoms/lr4e-5_s2/checkpoint_10000.pth\n",
      "runs/a2c_ms100x_smallrandoms/lr4e-5_s2/checkpoint_11000.pth\n",
      "runs/a2c_ms100x_smallrandoms/lr4e-5_s2/checkpoint_12000.pth\n",
      "runs/a2c_ms100x_smallrandoms/lr4e-5_s2/checkpoint_13000.pth\n",
      "runs/a2c_ms100x_smallrandoms/lr4e-5_s2/checkpoint_14000.pth\n",
      "runs/a2c_ms100x_smallrandoms/lr4e-5_s2/checkpoint_15000.pth\n",
      "runs/a2c_ms100x_smallrandoms/lr4e-5_s2/checkpoint_16000.pth\n",
      "runs/a2c_ms100x_smallrandoms/lr4e-5_s2/checkpoint_17000.pth\n",
      "runs/a2c_ms100x_smallrandoms/lr4e-5_s2/checkpoint_18000.pth\n",
      "runs/a2c_ms100x_smallrandoms/lr4e-5_s2/checkpoint_19000.pth\n",
      "runs/a2c_ms100x_smallrandoms/lr4e-5_s2/checkpoint_20000.pth\n",
      "runs/a2c_ms100x_smallrandoms/lr4e-5_s2/checkpoint_21000.pth\n",
      "runs/a2c_ms100x_smallrandoms/lr4e-5_s2/checkpoint_22000.pth\n",
      "runs/a2c_ms100x_smallrandoms/lr4e-5_s2/checkpoint_23000.pth\n",
      "runs/a2c_ms100x_smallrandoms/lr4e-5_s2/checkpoint_24000.pth\n",
      "runs/a2c_ms100x_smallrandoms/lr4e-5_s2/checkpoint_25000.pth\n",
      "runs/a2c_ms100x_smallrandoms/lr4e-5_s2/checkpoint_26000.pth\n",
      "runs/a2c_ms100x_smallrandoms/lr4e-5_s2/checkpoint_27000.pth\n",
      "runs/a2c_ms100x_smallrandoms/lr4e-5_s2/checkpoint_28000.pth\n",
      "runs/a2c_ms100x_smallrandoms/lr4e-5_s2/checkpoint_29000.pth\n",
      "runs/a2c_ms100x_smallrandoms/lr4e-5_s2/checkpoint_30000.pth\n",
      "runs/a2c_ms100x_smallrandoms/lr4e-5_s2/checkpoint_31000.pth\n",
      "runs/a2c_ms100x_smallrandoms/lr4e-5_s2/checkpoint_32000.pth\n",
      "runs/a2c_ms100x_smallrandoms/lr4e-5_s2/checkpoint_33000.pth\n",
      "runs/a2c_ms100x_smallrandoms/lr4e-5_s2/checkpoint_34000.pth\n",
      "runs/a2c_ms100x_smallrandoms/lr4e-5_s2/checkpoint_35000.pth\n",
      "runs/a2c_ms100x_smallrandoms/lr4e-5_s2/checkpoint_36000.pth\n",
      "runs/a2c_ms100x_smallrandoms/lr4e-5_s2/checkpoint_37000.pth\n",
      "runs/a2c_ms100x_smallrandoms/lr4e-5_s2/checkpoint_38000.pth\n",
      "runs/a2c_ms100x_smallrandoms/lr4e-5_s2/checkpoint_39000.pth\n",
      "runs/a2c_ms100x_smallrandoms/lr4e-5_s2/checkpoint_end.pth\n",
      "runs/mcq_eps0_smallrandoms/lr3e-4_s2/checkpoint_0.pth\n",
      "runs/mcq_eps0_smallrandoms/lr3e-4_s2/checkpoint_1000.pth\n",
      "runs/mcq_eps0_smallrandoms/lr3e-4_s2/checkpoint_2000.pth\n",
      "runs/mcq_eps0_smallrandoms/lr3e-4_s2/checkpoint_3000.pth\n",
      "runs/mcq_eps0_smallrandoms/lr3e-4_s2/checkpoint_4000.pth\n",
      "runs/mcq_eps0_smallrandoms/lr3e-4_s2/checkpoint_5000.pth\n",
      "runs/mcq_eps0_smallrandoms/lr3e-4_s2/checkpoint_6000.pth\n",
      "runs/mcq_eps0_smallrandoms/lr3e-4_s2/checkpoint_7000.pth\n"
     ]
    },
    {
     "name": "stdout",
     "output_type": "stream",
     "text": [
      "runs/mcq_eps0_smallrandoms/lr3e-4_s2/checkpoint_8000.pth\n",
      "runs/mcq_eps0_smallrandoms/lr3e-4_s2/checkpoint_9000.pth\n",
      "runs/mcq_eps0_smallrandoms/lr3e-4_s2/checkpoint_10000.pth\n",
      "runs/mcq_eps0_smallrandoms/lr3e-4_s2/checkpoint_11000.pth\n",
      "runs/mcq_eps0_smallrandoms/lr3e-4_s2/checkpoint_12000.pth\n",
      "runs/mcq_eps0_smallrandoms/lr3e-4_s2/checkpoint_13000.pth\n",
      "runs/mcq_eps0_smallrandoms/lr3e-4_s2/checkpoint_14000.pth\n",
      "runs/mcq_eps0_smallrandoms/lr3e-4_s2/checkpoint_15000.pth\n",
      "runs/mcq_eps0_smallrandoms/lr3e-4_s2/checkpoint_16000.pth\n",
      "runs/mcq_eps0_smallrandoms/lr3e-4_s2/checkpoint_17000.pth\n",
      "runs/mcq_eps0_smallrandoms/lr3e-4_s2/checkpoint_18000.pth\n",
      "runs/mcq_eps0_smallrandoms/lr3e-4_s2/checkpoint_19000.pth\n",
      "runs/mcq_eps0_smallrandoms/lr3e-4_s2/checkpoint_20000.pth\n",
      "runs/mcq_eps0_smallrandoms/lr3e-4_s2/checkpoint_21000.pth\n",
      "runs/mcq_eps0_smallrandoms/lr3e-4_s2/checkpoint_22000.pth\n",
      "runs/mcq_eps0_smallrandoms/lr3e-4_s2/checkpoint_23000.pth\n",
      "runs/mcq_eps0_smallrandoms/lr3e-4_s2/checkpoint_24000.pth\n",
      "runs/mcq_eps0_smallrandoms/lr3e-4_s2/checkpoint_25000.pth\n",
      "runs/mcq_eps0_smallrandoms/lr3e-4_s2/checkpoint_26000.pth\n",
      "runs/mcq_eps0_smallrandoms/lr3e-4_s2/checkpoint_27000.pth\n",
      "runs/mcq_eps0_smallrandoms/lr3e-4_s2/checkpoint_28000.pth\n",
      "runs/mcq_eps0_smallrandoms/lr3e-4_s2/checkpoint_29000.pth\n",
      "runs/mcq_eps0_smallrandoms/lr3e-4_s2/checkpoint_end.pth\n"
     ]
    }
   ],
   "source": [
    "solvers = {\n",
    "    'faq': solve_qap_faq,\n",
    "    'a2c_md': load_checkpoints(Path('runs/a2c_ms100x_mediumrandoms/lr4e-5_s3'))[-1].solve,\n",
    "    'random': solve_random,\n",
    "    'max_greedy': solve_qap_maxgreedy,\n",
    "    'dqn_sm': load_checkpoints(Path('runs/dqn_dense_ms_ec_eps0_smallrandoms/lr5e-4_s1'))[-1].solve,\n",
    "    'dqn_md': load_checkpoints(Path('runs/dqn_dense_ms_ec_eps0_mediumrandoms/lr5e-4_s1'))[-1].solve,\n",
    "    'rf': load_checkpoints(Path('runs/reinforce_ms100x_smallrandoms/lr1e-4_s4/'))[-1].solve,\n",
    "    'last7opt': lambda qap: solve_partial_random(qap, 7),\n",
    "    'last8opt': lambda qap: solve_partial_random(qap, 8),\n",
    "    'rand1k': lambda qap: solve_best_of_k(qap, 1000, solve_random),\n",
    "    'rand5k': lambda qap: solve_best_of_k(qap, 5000, solve_random),\n",
    "    'rand10k': lambda qap: solve_best_of_k(qap, 10000, solve_random),\n",
    "    'a2c_sm': load_checkpoints(Path('runs/a2c_ms100x_smallrandoms/lr4e-5_s2'))[-1].solve,\n",
    "    'mcq_sm': load_checkpoints(Path('runs/mcq_eps0_smallrandoms/lr3e-4_s2'))[-1].solve,\n",
    "}"
   ]
  },
  {
   "cell_type": "code",
   "execution_count": 9,
   "metadata": {},
   "outputs": [
    {
     "name": "stdout",
     "output_type": "stream",
     "text": [
      "random on n=2: mean=0.536, var=0.273, t=0.000\n",
      "random on n=4: mean=3.012, var=1.464, t=0.000\n",
      "random on n=8: mean=14.500, var=5.037, t=0.000\n",
      "random on n=16: mean=59.894, var=26.578, t=0.000\n",
      "random on n=32: mean=245.235, var=99.301, t=0.000\n",
      "random on n=64: mean=1008.389, var=365.995, t=0.003\n",
      "random on n=128: mean=4064.551, var=1347.886, t=0.001\n",
      "random on n=256: mean=16349.414, var=5933.042, t=0.001\n"
     ]
    }
   ],
   "source": [
    "evaluate_full_and_store(\"random\")"
   ]
  },
  {
   "cell_type": "code",
   "execution_count": 10,
   "metadata": {},
   "outputs": [
    {
     "name": "stdout",
     "output_type": "stream",
     "text": [
      "faq on n=2: mean=0.536, var=0.273, t=0.001\n",
      "faq on n=4: mean=2.572, var=1.692, t=0.002\n",
      "faq on n=8: mean=12.065, var=4.620, t=0.003\n",
      "faq on n=16: mean=49.688, var=23.693, t=0.004\n",
      "faq on n=32: mean=210.211, var=124.411, t=0.008\n",
      "faq on n=64: mean=889.543, var=326.041, t=0.031\n",
      "faq on n=128: mean=3679.150, var=963.445, t=0.135\n",
      "faq on n=256: mean=15150.896, var=6019.247, t=0.524\n"
     ]
    }
   ],
   "source": [
    "evaluate_full_and_store(\"faq\")"
   ]
  },
  {
   "cell_type": "code",
   "execution_count": 11,
   "metadata": {
    "scrolled": false
   },
   "outputs": [
    {
     "name": "stdout",
     "output_type": "stream",
     "text": [
      "a2c_md on n=2: mean=0.536, var=0.273, t=0.007\n",
      "a2c_md on n=4: mean=2.520, var=1.780, t=0.011\n",
      "a2c_md on n=8: mean=12.208, var=4.352, t=0.025\n",
      "a2c_md on n=16: mean=52.576, var=23.675, t=0.057\n",
      "a2c_md on n=32: mean=225.728, var=115.141, t=0.397\n",
      "a2c_md on n=64: mean=965.812, var=375.201, t=0.628\n",
      "a2c_md on n=128: mean=3997.009, var=2025.127, t=1.449\n",
      "a2c_md on n=256: mean=16242.347, var=5997.001, t=7.739\n",
      "a2c_sm on n=2: mean=0.536, var=0.273, t=0.004\n",
      "a2c_sm on n=4: mean=2.424, var=1.671, t=0.011\n",
      "a2c_sm on n=8: mean=12.070, var=4.758, t=0.025\n",
      "a2c_sm on n=16: mean=53.490, var=20.794, t=0.059\n",
      "a2c_sm on n=32: mean=228.647, var=135.031, t=0.362\n",
      "a2c_sm on n=64: mean=968.876, var=363.573, t=0.610\n",
      "a2c_sm on n=128: mean=3977.084, var=1613.342, t=1.434\n",
      "a2c_sm on n=256: mean=16164.350, var=7279.446, t=7.758\n",
      "rf on n=2: mean=0.536, var=0.273, t=0.005\n",
      "rf on n=4: mean=2.633, var=1.792, t=0.012\n",
      "rf on n=8: mean=13.082, var=4.125, t=0.027\n",
      "rf on n=16: mean=55.296, var=25.488, t=0.060\n",
      "rf on n=32: mean=236.657, var=161.885, t=0.352\n",
      "rf on n=64: mean=984.955, var=373.500, t=0.622\n",
      "rf on n=128: mean=3997.332, var=2030.105, t=1.455\n",
      "rf on n=256: mean=16212.078, var=5486.532, t=7.737\n"
     ]
    }
   ],
   "source": [
    "evaluate_full_and_store(\"a2c_md\")\n",
    "evaluate_full_and_store(\"a2c_sm\")\n",
    "evaluate_full_and_store(\"rf\")"
   ]
  },
  {
   "cell_type": "code",
   "execution_count": 24,
   "metadata": {},
   "outputs": [
    {
     "name": "stdout",
     "output_type": "stream",
     "text": [
      "mcq_sm on n=2: mean=0.536, var=0.273, t=0.008\n",
      "mcq_sm on n=4: mean=2.465, var=1.745, t=0.011\n",
      "mcq_sm on n=8: mean=12.217, var=3.889, t=0.024\n",
      "mcq_sm on n=16: mean=53.816, var=20.507, t=0.055\n",
      "mcq_sm on n=32: mean=235.344, var=139.756, t=0.133\n",
      "mcq_sm on n=64: mean=978.019, var=327.626, t=0.351\n",
      "mcq_sm on n=128: mean=3992.891, var=853.613, t=1.226\n",
      "mcq_sm on n=256: mean=16173.154, var=4128.421, t=7.447\n"
     ]
    }
   ],
   "source": [
    "evaluate_full_and_store(\"mcq_sm\")"
   ]
  },
  {
   "cell_type": "code",
   "execution_count": 12,
   "metadata": {},
   "outputs": [
    {
     "name": "stdout",
     "output_type": "stream",
     "text": [
      "last8opt on n=2: mean=0.536, var=0.273, t=0.000\n",
      "last8opt on n=4: mean=2.366, var=1.654, t=0.002\n",
      "last8opt on n=8: mean=11.373, var=3.826, t=3.392\n",
      "last8opt on n=16: mean=54.098, var=22.549, t=3.386\n",
      "last8opt on n=32: mean=237.520, var=120.567, t=3.382\n",
      "last8opt on n=64: mean=995.548, var=249.499, t=3.433\n",
      "last8opt on n=128: mean=4039.116, var=1130.007, t=3.454\n",
      "last8opt on n=256: mean=16306.987, var=7822.518, t=3.550\n"
     ]
    }
   ],
   "source": [
    "evaluate_full_and_store(\"last8opt\")"
   ]
  },
  {
   "cell_type": "code",
   "execution_count": 29,
   "metadata": {},
   "outputs": [
    {
     "data": {
      "text/plain": [
       "[]"
      ]
     },
     "execution_count": 29,
     "metadata": {},
     "output_type": "execute_result"
    },
    {
     "data": {
      "image/png": "[encoded data removed]",
      "text/plain": [
       "<Figure size 432x288 with 1 Axes>"
      ]
     },
     "metadata": {
      "needs_background": "light"
     },
     "output_type": "display_data"
    }
   ],
   "source": [
    "for s in [\"a2c_md\", \"a2c_sm\", \"rf\", \"faq\", \"random\", \"last8opt\"]:\n",
    "    rm = results[\"random\"][\"means\"]\n",
    "    rv = results[\"random\"][\"vars\"]\n",
    "    plt.plot(sizes, (results[s][\"means\"] - rm) / rv, label=s)\n",
    "plt.legend()\n",
    "plt.semilogx(base=2)"
   ]
  },
  {
   "cell_type": "code",
   "execution_count": 19,
   "metadata": {},
   "outputs": [
    {
     "data": {
      "text/plain": [
       "<matplotlib.legend.Legend at 0x7f9d786cfc70>"
      ]
     },
     "execution_count": 19,
     "metadata": {},
     "output_type": "execute_result"
    },
    {
     "data": {
      "image/png": "[encoded data removed]",
      "text/plain": [
       "<Figure size 432x288 with 1 Axes>"
      ]
     },
     "metadata": {
      "needs_background": "light"
     },
     "output_type": "display_data"
    }
   ],
   "source": [
    "for s in [\"a2c_sm\", \"a2c_sm\", \"rf\", \"faq\", \"random\"]:\n",
    "    plt.plot(sizes, results[s][\"times\"], label=s)\n",
    "plt.legend()"
   ]
  },
  {
   "cell_type": "code",
   "execution_count": 20,
   "metadata": {},
   "outputs": [
    {
     "data": {
      "text/plain": [
       "array([ 5.49620557,  6.83723718,  8.51939748, 14.12378333, 44.39186938,\n",
       "       20.26813869, 10.7770451 , 14.7763351 ])"
      ]
     },
     "execution_count": 20,
     "metadata": {},
     "output_type": "execute_result"
    }
   ],
   "source": [
    "results[\"rf\"][\"times\"] / results[\"faq\"][\"times\"]"
   ]
  },
  {
   "cell_type": "code",
   "execution_count": 21,
   "metadata": {},
   "outputs": [
    {
     "data": {
      "text/plain": [
       "array([  15.10575442,   45.05193466,  109.77997091,  213.10385363,\n",
       "       1250.00404767,  212.12879014, 2525.86246504, 8163.13250565])"
      ]
     },
     "execution_count": 21,
     "metadata": {},
     "output_type": "execute_result"
    }
   ],
   "source": [
    "results[\"rf\"][\"times\"] / results[\"random\"][\"times\"]"
   ]
  },
  {
   "cell_type": "code",
   "execution_count": null,
   "metadata": {},
   "outputs": [],
   "source": []
  }
 ],
 "metadata": {
  "kernelspec": {
   "display_name": "drlqap",
   "language": "python",
   "name": "drlqap"
  },
  "language_info": {
   "codemirror_mode": {
    "name": "ipython",
    "version": 3
   },
   "file_extension": ".py",
   "mimetype": "text/x-python",
   "name": "python",
   "nbconvert_exporter": "python",
   "pygments_lexer": "ipython3",
   "version": "3.9.9"
  }
 },
 "nbformat": 4,
 "nbformat_minor": 2
}
