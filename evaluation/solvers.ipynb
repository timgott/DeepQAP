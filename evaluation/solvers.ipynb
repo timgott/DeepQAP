{
 "cells": [
  {
   "cell_type": "code",
   "execution_count": 1,
   "id": "d955bf5c",
   "metadata": {},
   "outputs": [],
   "source": [
    "from drlqap.taskgenerators import generators\n",
    "import scipy.optimize\n",
    "from drlqap.simplesolver import solve_qap_backtracking, solve_qap_maxgreedy, solve_qap_faq\n",
    "from drlqap.gurobi import solve_qap_gurobi"
   ]
  },
  {
   "cell_type": "code",
   "execution_count": 2,
   "id": "0ae5f5b1",
   "metadata": {},
   "outputs": [
    {
     "data": {
      "text/plain": [
       "{'small_random_graphs': <drlqap.taskgenerators.RandomWeightsTaskGenerator at 0x7fd50839e5b0>,\n",
       " 'medium_random_graphs': <drlqap.taskgenerators.RandomWeightsTaskGenerator at 0x7fd4692725b0>,\n",
       " 'qaplib_bur26a': <drlqap.taskgenerators.LazyGlobTaskGenerator at 0x7fd469272670>,\n",
       " 'qaplib_bur26a_normalized': <drlqap.taskgenerators.LazyGlobTaskGenerator at 0x7fd4692726d0>,\n",
       " 'small_fixed': <drlqap.taskgenerators.LazyGlobTaskGenerator at 0x7fd469272760>,\n",
       " 'triangle': <drlqap.taskgenerators.SingleTask at 0x7fd4692727f0>,\n",
       " 'qaplib_all_bur': <drlqap.taskgenerators.LazyGlobTaskGenerator at 0x7fd4692728e0>,\n",
       " 'qaplib_sko_42_64_normalized': <drlqap.taskgenerators.LazyGlobTaskGenerator at 0x7fd469272880>,\n",
       " 'qaplib_all_bur_normalized': <drlqap.taskgenerators.LazyGlobTaskGenerator at 0x7fd4692729a0>,\n",
       " 'qaplib_all_chr_normalized': <drlqap.taskgenerators.LazyGlobTaskGenerator at 0x7fd469272a00>,\n",
       " 'qaplib_all_esc_normalized': <drlqap.taskgenerators.LazyGlobTaskGenerator at 0x7fd469272a60>,\n",
       " 'qaplib_all_had_normalized': <drlqap.taskgenerators.LazyGlobTaskGenerator at 0x7fd469272ac0>,\n",
       " 'qaplib_all_kra_normalized': <drlqap.taskgenerators.LazyGlobTaskGenerator at 0x7fd469272b20>,\n",
       " 'qaplib_all_lipa_normalized': <drlqap.taskgenerators.LazyGlobTaskGenerator at 0x7fd469272b80>,\n",
       " 'qaplib_all_nug_normalized': <drlqap.taskgenerators.LazyGlobTaskGenerator at 0x7fd469272be0>,\n",
       " 'qaplib_all_rou_normalized': <drlqap.taskgenerators.LazyGlobTaskGenerator at 0x7fd469272c40>,\n",
       " 'qaplib_all_scr_normalized': <drlqap.taskgenerators.LazyGlobTaskGenerator at 0x7fd469272ca0>,\n",
       " 'qaplib_all_sko_normalized': <drlqap.taskgenerators.LazyGlobTaskGenerator at 0x7fd469272d00>,\n",
       " 'qaplib_all_ste_normalized': <drlqap.taskgenerators.LazyGlobTaskGenerator at 0x7fd469272d60>,\n",
       " 'qaplib_all_tai_normalized': <drlqap.taskgenerators.LazyGlobTaskGenerator at 0x7fd469272dc0>,\n",
       " 'qaplib_all_tho_normalized': <drlqap.taskgenerators.LazyGlobTaskGenerator at 0x7fd469272e20>,\n",
       " 'qaplib_all_wil_normalized': <drlqap.taskgenerators.LazyGlobTaskGenerator at 0x7fd469272e80>,\n",
       " 'qaplib_tai35a_normalized': <drlqap.taskgenerators.LazyGlobTaskGenerator at 0x7fd469272970>,\n",
       " 'qaplib_all_64_normalized': <drlqap.taskgenerators.LazyGlobTaskGenerator at 0x7fd469272f10>}"
      ]
     },
     "execution_count": 2,
     "metadata": {},
     "output_type": "execute_result"
    }
   ],
   "source": [
    "generators"
   ]
  },
  {
   "cell_type": "code",
   "execution_count": 3,
   "id": "13cca062",
   "metadata": {},
   "outputs": [],
   "source": [
    "qap = generators['medium_random_graphs'].sample()"
   ]
  },
  {
   "cell_type": "code",
   "execution_count": 4,
   "id": "7045cce3",
   "metadata": {},
   "outputs": [
    {
     "data": {
      "text/plain": [
       "(52.85574521124363, [6, 8, 1, 12, 14, 0, 7, 9, 3, 2, 11, 10, 5, 13, 15, 4])"
      ]
     },
     "execution_count": 4,
     "metadata": {},
     "output_type": "execute_result"
    }
   ],
   "source": [
    "solve_qap_maxgreedy(qap)"
   ]
  },
  {
   "cell_type": "code",
   "execution_count": 5,
   "id": "56fbf846",
   "metadata": {},
   "outputs": [
    {
     "data": {
      "text/plain": [
       "(50.225594,\n",
       " array([ 0,  3, 14,  8, 15, 11,  7, 13,  6,  2,  1,  4,  5, 10,  9, 12]))"
      ]
     },
     "execution_count": 5,
     "metadata": {},
     "output_type": "execute_result"
    }
   ],
   "source": [
    "solve_qap_faq(qap)"
   ]
  },
  {
   "cell_type": "code",
   "execution_count": 6,
   "id": "714926aa",
   "metadata": {},
   "outputs": [
    {
     "name": "stdout",
     "output_type": "stream",
     "text": [
      "Set parameter Username\n",
      "Academic license - for non-commercial use only - expires 2022-07-03\n",
      "Gurobi Optimizer version 9.5.1 build v9.5.1rc2 (linux64)\n",
      "Thread count: 4 physical cores, 8 logical processors, using up to 8 threads\n",
      "Optimize a model with 32 rows, 256 columns and 512 nonzeros\n",
      "Model fingerprint: 0xcf0ad8aa\n",
      "Model has 28800 quadratic objective terms\n",
      "Variable types: 0 continuous, 256 integer (256 binary)\n",
      "Coefficient statistics:\n",
      "  Matrix range     [1e+00, 1e+00]\n",
      "  Objective range  [0e+00, 0e+00]\n",
      "  QObjective range [8e-05, 4e+00]\n",
      "  Bounds range     [1e+00, 1e+00]\n",
      "  RHS range        [1e+00, 1e+00]\n",
      "Found heuristic solution: objective 60.1909698\n",
      "Presolve time: 0.03s\n",
      "Presolved: 32 rows, 256 columns, 512 nonzeros\n",
      "Presolved model has 29056 quadratic objective terms\n",
      "Variable types: 0 continuous, 256 integer (256 binary)\n",
      "\n",
      "Root relaxation: objective -2.160189e+02, 288 iterations, 0.05 seconds (0.04 work units)\n",
      "\n",
      "    Nodes    |    Current Node    |     Objective Bounds      |     Work\n",
      " Expl Unexpl |  Obj  Depth IntInf | Incumbent    BestBd   Gap | It/Node Time\n",
      "\n",
      "H    0     0                      56.7466629    0.00000   100%     -    0s\n",
      "     0     0    0.00000    0  256   56.74666    0.00000   100%     -    0s\n",
      "H    0     0                      56.1120069    0.00000   100%     -    0s\n",
      "     0     0    0.00000    0  256   56.11201    0.00000   100%     -    0s\n",
      "H    0     0                      55.5999352    0.00000   100%     -    0s\n",
      "H    0     0                      54.7737721    0.00000   100%     -    0s\n",
      "H    0     0                      54.0646306    0.00000   100%     -    0s\n",
      "     0     2    0.00000    0  256   54.06463    0.00000   100%     -    0s\n",
      "H   35    40                      53.1801592    0.00000   100%   4.3    0s\n",
      "H  677   597                      53.1797386    0.00000   100%  27.1    2s\n",
      "H 1301   976                      52.8916283    0.00000   100%  33.3    2s\n",
      "H 1378   933                      52.0207785    0.00000   100%  32.3    2s\n",
      "H 1426   950                      51.9690551    0.00000   100%  32.2    2s\n",
      "H 1436   949                      51.6627844    0.00000   100%  32.0    2s\n",
      "H 1447   949                      51.5107930    0.00000   100%  31.9    2s\n",
      "  1675  1121    5.13090   65   45   51.51079    0.00000   100%  39.4    5s\n",
      "H 1940  1237                      51.2337206    0.00000   100%  40.1    5s\n",
      "H 2027  1227                      50.5053733    0.00000   100%  40.1    5s\n",
      "H 2029  1183                      50.3369103    0.00000   100%  40.1    5s\n",
      "H 3104  1729                      50.1962091    0.00000   100%  35.2    7s\n",
      "  9189  6778   17.41324  105   38   50.19621    0.94110  98.1%  27.0   10s\n",
      "\n",
      "Interrupt request received\n",
      "\n",
      "Cutting planes:\n",
      "  MIR: 5\n",
      "  Flow cover: 37\n",
      "\n",
      "Explored 21309 nodes (460910 simplex iterations) in 16.42 seconds (20.15 work units)\n",
      "Thread count was 8 (of 8 available processors)\n",
      "\n",
      "Solution count 10: 50.1962 50.3369 50.5054 ... 53.1797\n",
      "\n",
      "Solve interrupted\n",
      "Best objective 5.019620913337e+01, best bound 2.128163624572e+00, gap 95.7603%\n"
     ]
    }
   ],
   "source": [
    "solve_qap_gurobi(qap)"
   ]
  },
  {
   "cell_type": "code",
   "execution_count": 12,
   "id": "252f081a",
   "metadata": {},
   "outputs": [
    {
     "name": "stdout",
     "output_type": "stream",
     "text": [
      "2.95 ms ± 62.7 µs per loop (mean ± std. dev. of 7 runs, 100 loops each)\n"
     ]
    }
   ],
   "source": [
    "%timeit solve_qap_faq(qap)"
   ]
  },
  {
   "cell_type": "code",
   "execution_count": 13,
   "id": "4bfecba6",
   "metadata": {},
   "outputs": [
    {
     "name": "stdout",
     "output_type": "stream",
     "text": [
      "reinforce_bn_fixed\t\t      reinforce_tmn_fast_long_randoms_s0\r\n",
      "reinforce_bn_fixed_2\t\t      reinforce_tmn_fixed\r\n",
      "reinforce_dense_slow_long_randoms_s1  reinforce_tmn_fixed_6\r\n",
      "reinforce_dense_slow_long_randoms_s2  reinforce_tmn_medium_long_fixed\r\n",
      "reinforce_dense_smallfixed\t      reinforce_tmn_medium_long_fixed_seed5\r\n",
      "reinforce_ms100x_fast_deeper_s1       reinforce_tmn_medium_long_randoms\r\n",
      "reinforce_ms100x_fast_s1\t      reinforce_tmn_medium_long_randoms_nobl_s0\r\n",
      "reinforce_ms100x_fast_s2\t      reinforce_tmn_medium_long_randoms_s0\r\n",
      "reinforce_ms100x_s1\t\t      reinforce_tmn_medium_long_randoms_s1\r\n",
      "reinforce_ms100x_s1_2\t\t      reinforce_tmn_medium_long_randoms_s2\r\n",
      "reinforce_ms100x_s1_3\t\t      reinforce_tmn_rni_single\r\n",
      "reinforce_ms100x_s2\t\t      reinforce_tmn_slower_long_fixed\r\n",
      "reinforce_ms_s1\t\t\t      reinforce_tmn_slow_long_fixed\r\n",
      "reinforce_ms_wd_s1\t\t      reinforce_tmn_slow_long_randoms_s0\r\n",
      "reinforce_tmn_fast_long_fixed\t      reinforce_triangle\r\n"
     ]
    }
   ],
   "source": [
    "!ls ../quickruns/reinforce"
   ]
  },
  {
   "cell_type": "code",
   "execution_count": 14,
   "id": "c25cd41e",
   "metadata": {},
   "outputs": [],
   "source": [
    "from drlqap.evaltools import load_checkpoints\n",
    "from pathlib import Path"
   ]
  },
  {
   "cell_type": "code",
   "execution_count": 15,
   "id": "91eab60b",
   "metadata": {},
   "outputs": [
    {
     "name": "stdout",
     "output_type": "stream",
     "text": [
      "../quickruns/reinforce/reinforce_ms100x_s2/checkpoint_0.pth\n",
      "../quickruns/reinforce/reinforce_ms100x_s2/checkpoint_1000.pth\n",
      "../quickruns/reinforce/reinforce_ms100x_s2/checkpoint_2000.pth\n",
      "../quickruns/reinforce/reinforce_ms100x_s2/checkpoint_3000.pth\n",
      "../quickruns/reinforce/reinforce_ms100x_s2/checkpoint_4000.pth\n",
      "../quickruns/reinforce/reinforce_ms100x_s2/checkpoint_5000.pth\n",
      "../quickruns/reinforce/reinforce_ms100x_s2/checkpoint_6000.pth\n",
      "../quickruns/reinforce/reinforce_ms100x_s2/checkpoint_7000.pth\n",
      "../quickruns/reinforce/reinforce_ms100x_s2/checkpoint_8000.pth\n",
      "../quickruns/reinforce/reinforce_ms100x_s2/checkpoint_9000.pth\n",
      "../quickruns/reinforce/reinforce_ms100x_s2/checkpoint_10000.pth\n",
      "../quickruns/reinforce/reinforce_ms100x_s2/checkpoint_11000.pth\n",
      "../quickruns/reinforce/reinforce_ms100x_s2/checkpoint_12000.pth\n",
      "../quickruns/reinforce/reinforce_ms100x_s2/checkpoint_13000.pth\n",
      "../quickruns/reinforce/reinforce_ms100x_s2/checkpoint_14000.pth\n",
      "../quickruns/reinforce/reinforce_ms100x_s2/checkpoint_15000.pth\n",
      "../quickruns/reinforce/reinforce_ms100x_s2/checkpoint_16000.pth\n",
      "../quickruns/reinforce/reinforce_ms100x_s2/checkpoint_17000.pth\n",
      "../quickruns/reinforce/reinforce_ms100x_s2/checkpoint_18000.pth\n",
      "../quickruns/reinforce/reinforce_ms100x_s2/checkpoint_19000.pth\n",
      "../quickruns/reinforce/reinforce_ms100x_s2/checkpoint_20000.pth\n",
      "../quickruns/reinforce/reinforce_ms100x_s2/checkpoint_21000.pth\n",
      "../quickruns/reinforce/reinforce_ms100x_s2/checkpoint_22000.pth\n",
      "../quickruns/reinforce/reinforce_ms100x_s2/checkpoint_23000.pth\n",
      "../quickruns/reinforce/reinforce_ms100x_s2/checkpoint_24000.pth\n",
      "../quickruns/reinforce/reinforce_ms100x_s2/checkpoint_25000.pth\n",
      "../quickruns/reinforce/reinforce_ms100x_s2/checkpoint_26000.pth\n",
      "../quickruns/reinforce/reinforce_ms100x_s2/checkpoint_27000.pth\n",
      "../quickruns/reinforce/reinforce_ms100x_s2/checkpoint_28000.pth\n",
      "../quickruns/reinforce/reinforce_ms100x_s2/checkpoint_29000.pth\n",
      "../quickruns/reinforce/reinforce_ms100x_s2/checkpoint_end.pth\n"
     ]
    }
   ],
   "source": [
    "agents = load_checkpoints(Path('../quickruns/reinforce/reinforce_ms100x_s2/'))"
   ]
  },
  {
   "cell_type": "code",
   "execution_count": 16,
   "id": "fb7c63ca",
   "metadata": {},
   "outputs": [
    {
     "data": {
      "text/plain": [
       "(57.192505583167076, [5, 11, 2, 7, 14, 6, 13, 9, 8, 10, 0, 4, 3, 1, 15, 12])"
      ]
     },
     "execution_count": 16,
     "metadata": {},
     "output_type": "execute_result"
    }
   ],
   "source": [
    "agents[-1].solve(qap)"
   ]
  },
  {
   "cell_type": "code",
   "execution_count": null,
   "id": "2752b20b",
   "metadata": {},
   "outputs": [],
   "source": []
  }
 ],
 "metadata": {
  "kernelspec": {
   "display_name": "Python 3 (ipykernel)",
   "language": "python",
   "name": "python3"
  },
  "language_info": {
   "codemirror_mode": {
    "name": "ipython",
    "version": 3
   },
   "file_extension": ".py",
   "mimetype": "text/x-python",
   "name": "python",
   "nbconvert_exporter": "python",
   "pygments_lexer": "ipython3",
   "version": "3.9.12"
  }
 },
 "nbformat": 4,
 "nbformat_minor": 5
}
