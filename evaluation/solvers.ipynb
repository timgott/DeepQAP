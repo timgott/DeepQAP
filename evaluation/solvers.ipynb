{
 "cells": [
  {
   "cell_type": "code",
   "execution_count": 67,
   "metadata": {},
   "outputs": [],
   "source": [
    "from drlqap.taskgenerators import generators\n",
    "import scipy.optimize\n",
    "from drlqap.simplesolver import solve_qap_backtracking, solve_qap_maxgreedy, solve_qap_faq, solve_random\n",
    "from drlqap.gurobi import solve_qap_gurobi\n",
    "import numpy as np\n",
    "from drlqap.qap import QAP"
   ]
  },
  {
   "cell_type": "code",
   "execution_count": 2,
   "metadata": {},
   "outputs": [
    {
     "name": "stdout",
     "output_type": "stream",
     "text": [
      "/home/jupyter-tim/ba-tim\n"
     ]
    }
   ],
   "source": [
    "# change to project root\n",
    "%cd .."
   ]
  },
  {
   "cell_type": "code",
   "execution_count": 3,
   "metadata": {},
   "outputs": [
    {
     "data": {
      "text/plain": [
       "{'minilinear': <drlqap.taskgenerators.LinearTaskGenerator at 0x7f55d1d0b250>,\n",
       " 'small_random_graphs': <drlqap.taskgenerators.RandomWeightsTaskGenerator at 0x7f55d1d0b310>,\n",
       " 'medium_random_graphs': <drlqap.taskgenerators.RandomWeightsTaskGenerator at 0x7f55d1d0b3d0>,\n",
       " 'qaplib_bur26a': <drlqap.taskgenerators.LazyGlobTaskGenerator at 0x7f55d1d0b490>,\n",
       " 'qaplib_bur26a_normalized': <drlqap.taskgenerators.LazyGlobTaskGenerator at 0x7f55d1d0b4f0>,\n",
       " 'small_fixed': <drlqap.taskgenerators.LazyGlobTaskGenerator at 0x7f55d1d0b580>,\n",
       " 'triangle': <drlqap.taskgenerators.SingleTask at 0x7f55d1d0b610>,\n",
       " 'qaplib_all_bur': <drlqap.taskgenerators.LazyGlobTaskGenerator at 0x7f55d1d0b700>,\n",
       " 'qaplib_sko_42_64_normalized': <drlqap.taskgenerators.LazyGlobTaskGenerator at 0x7f55d1d0b6a0>,\n",
       " 'qaplib_all_bur_normalized': <drlqap.taskgenerators.LazyGlobTaskGenerator at 0x7f55d1d0b7c0>,\n",
       " 'qaplib_all_chr_normalized': <drlqap.taskgenerators.LazyGlobTaskGenerator at 0x7f55d1d0b820>,\n",
       " 'qaplib_all_esc_normalized': <drlqap.taskgenerators.LazyGlobTaskGenerator at 0x7f55d1d0b880>,\n",
       " 'qaplib_all_had_normalized': <drlqap.taskgenerators.LazyGlobTaskGenerator at 0x7f55d1d0b8e0>,\n",
       " 'qaplib_all_kra_normalized': <drlqap.taskgenerators.LazyGlobTaskGenerator at 0x7f55d1d0b940>,\n",
       " 'qaplib_all_lipa_normalized': <drlqap.taskgenerators.LazyGlobTaskGenerator at 0x7f55d1d0b9a0>,\n",
       " 'qaplib_all_nug_normalized': <drlqap.taskgenerators.LazyGlobTaskGenerator at 0x7f55d1d0ba00>,\n",
       " 'qaplib_all_rou_normalized': <drlqap.taskgenerators.LazyGlobTaskGenerator at 0x7f55d1d0ba60>,\n",
       " 'qaplib_all_scr_normalized': <drlqap.taskgenerators.LazyGlobTaskGenerator at 0x7f55d1d0bac0>,\n",
       " 'qaplib_all_sko_normalized': <drlqap.taskgenerators.LazyGlobTaskGenerator at 0x7f55d1d0bb20>,\n",
       " 'qaplib_all_ste_normalized': <drlqap.taskgenerators.LazyGlobTaskGenerator at 0x7f55d1d0bb80>,\n",
       " 'qaplib_all_tai_normalized': <drlqap.taskgenerators.LazyGlobTaskGenerator at 0x7f55d1d0bbe0>,\n",
       " 'qaplib_all_tho_normalized': <drlqap.taskgenerators.LazyGlobTaskGenerator at 0x7f55d1d0bc40>,\n",
       " 'qaplib_all_wil_normalized': <drlqap.taskgenerators.LazyGlobTaskGenerator at 0x7f55d1d0bca0>,\n",
       " 'qaplib_tai35a_normalized': <drlqap.taskgenerators.LazyGlobTaskGenerator at 0x7f55d1d0b790>,\n",
       " 'qaplib_all_64_normalized': <drlqap.taskgenerators.LazyGlobTaskGenerator at 0x7f55d1d0bd30>}"
      ]
     },
     "execution_count": 3,
     "metadata": {},
     "output_type": "execute_result"
    }
   ],
   "source": [
    "generators"
   ]
  },
  {
   "cell_type": "code",
   "execution_count": 4,
   "metadata": {},
   "outputs": [],
   "source": [
    "qap = generators['medium_random_graphs'].sample()"
   ]
  },
  {
   "cell_type": "code",
   "execution_count": 5,
   "metadata": {},
   "outputs": [
    {
     "data": {
      "text/plain": [
       "(51.695816457271576, [0, 2, 3, 10, 6, 1, 13, 7, 12, 9, 11, 15, 4, 5, 14, 8])"
      ]
     },
     "execution_count": 5,
     "metadata": {},
     "output_type": "execute_result"
    }
   ],
   "source": [
    "solve_qap_maxgreedy(qap)"
   ]
  },
  {
   "cell_type": "code",
   "execution_count": 6,
   "metadata": {},
   "outputs": [
    {
     "data": {
      "text/plain": [
       "(47.00905,\n",
       " array([10,  4,  0, 15,  2, 11, 13, 12,  6,  1,  7, 14,  9,  5,  3,  8]))"
      ]
     },
     "execution_count": 6,
     "metadata": {},
     "output_type": "execute_result"
    }
   ],
   "source": [
    "solve_qap_faq(qap)"
   ]
  },
  {
   "cell_type": "code",
   "execution_count": 7,
   "metadata": {},
   "outputs": [],
   "source": [
    "#solve_qap_gurobi(qap)"
   ]
  },
  {
   "cell_type": "code",
   "execution_count": 8,
   "metadata": {},
   "outputs": [
    {
     "name": "stdout",
     "output_type": "stream",
     "text": [
      "3.58 ms ± 30.3 µs per loop (mean ± std. dev. of 7 runs, 100 loops each)\n"
     ]
    }
   ],
   "source": [
    "%timeit solve_qap_faq(qap)"
   ]
  },
  {
   "cell_type": "code",
   "execution_count": 9,
   "metadata": {},
   "outputs": [
    {
     "name": "stdout",
     "output_type": "stream",
     "text": [
      "a2c_mediumrandoms\t\t\t dqn_dense_ms_ec_eps0_mini\r\n",
      "a2c_ms100x_mediumrandoms\t\t dqn_dense_ms_ec_eps0_rni_study\r\n",
      "a2c_ms100x_mediumrandoms_cyclic\t\t dqn_dense_ms_ec_eps0_smallrandoms\r\n",
      "a2c_ms100x_mediumrandoms_cyclic_wronglr  dqn_dense_ms_ec_mediumrandoms\r\n",
      "a2c_ms100x_mediumrandoms_stepped\t dqn_linkedqap_smallrandoms\r\n",
      "dqn_dense_ec_eps0_norm_study\t\t reinforce_ms100x_mediumrandoms\r\n",
      "dqn_dense_ec_eps0_norm_study_2\t\t reinforce_ms100x_smallrandoms\r\n",
      "dqn_dense_ms_ec_eps0_mediumrandoms\r\n"
     ]
    }
   ],
   "source": [
    "!ls runs"
   ]
  },
  {
   "cell_type": "code",
   "execution_count": 10,
   "metadata": {},
   "outputs": [
    {
     "name": "stdout",
     "output_type": "stream",
     "text": [
      "lr1e-4_s1  lr1e-4_s4  lr1e-5_s3  lr3e-4_s2  lr5e-4_s1  lr5e-4_s4\r\n",
      "lr1e-4_s2  lr1e-5_s1  lr1e-5_s4  lr3e-4_s3  lr5e-4_s2\r\n",
      "lr1e-4_s3  lr1e-5_s2  lr3e-4_s1  lr3e-4_s4  lr5e-4_s3\r\n"
     ]
    }
   ],
   "source": [
    "!ls runs/dqn_dense_ms_ec_eps0_smallrandoms"
   ]
  },
  {
   "cell_type": "code",
   "execution_count": 11,
   "metadata": {},
   "outputs": [],
   "source": [
    "from drlqap.evaltools import load_checkpoints\n",
    "from pathlib import Path"
   ]
  },
  {
   "cell_type": "code",
   "execution_count": 12,
   "metadata": {},
   "outputs": [
    {
     "name": "stdout",
     "output_type": "stream",
     "text": [
      "runs/a2c_ms100x_mediumrandoms/lr4e-5_s3/checkpoint_0.pth\n",
      "runs/a2c_ms100x_mediumrandoms/lr4e-5_s3/checkpoint_1000.pth\n",
      "runs/a2c_ms100x_mediumrandoms/lr4e-5_s3/checkpoint_2000.pth\n",
      "runs/a2c_ms100x_mediumrandoms/lr4e-5_s3/checkpoint_3000.pth\n",
      "runs/a2c_ms100x_mediumrandoms/lr4e-5_s3/checkpoint_4000.pth\n",
      "runs/a2c_ms100x_mediumrandoms/lr4e-5_s3/checkpoint_5000.pth\n",
      "runs/a2c_ms100x_mediumrandoms/lr4e-5_s3/checkpoint_6000.pth\n",
      "runs/a2c_ms100x_mediumrandoms/lr4e-5_s3/checkpoint_7000.pth\n",
      "runs/a2c_ms100x_mediumrandoms/lr4e-5_s3/checkpoint_8000.pth\n",
      "runs/a2c_ms100x_mediumrandoms/lr4e-5_s3/checkpoint_9000.pth\n",
      "runs/a2c_ms100x_mediumrandoms/lr4e-5_s3/checkpoint_10000.pth\n",
      "runs/a2c_ms100x_mediumrandoms/lr4e-5_s3/checkpoint_11000.pth\n",
      "runs/a2c_ms100x_mediumrandoms/lr4e-5_s3/checkpoint_12000.pth\n",
      "runs/a2c_ms100x_mediumrandoms/lr4e-5_s3/checkpoint_13000.pth\n",
      "runs/a2c_ms100x_mediumrandoms/lr4e-5_s3/checkpoint_14000.pth\n",
      "runs/a2c_ms100x_mediumrandoms/lr4e-5_s3/checkpoint_15000.pth\n",
      "runs/a2c_ms100x_mediumrandoms/lr4e-5_s3/checkpoint_16000.pth\n",
      "runs/a2c_ms100x_mediumrandoms/lr4e-5_s3/checkpoint_17000.pth\n",
      "runs/a2c_ms100x_mediumrandoms/lr4e-5_s3/checkpoint_18000.pth\n",
      "runs/a2c_ms100x_mediumrandoms/lr4e-5_s3/checkpoint_19000.pth\n",
      "runs/a2c_ms100x_mediumrandoms/lr4e-5_s3/checkpoint_20000.pth\n",
      "runs/a2c_ms100x_mediumrandoms/lr4e-5_s3/checkpoint_21000.pth\n",
      "runs/a2c_ms100x_mediumrandoms/lr4e-5_s3/checkpoint_22000.pth\n",
      "runs/a2c_ms100x_mediumrandoms/lr4e-5_s3/checkpoint_23000.pth\n",
      "runs/a2c_ms100x_mediumrandoms/lr4e-5_s3/checkpoint_24000.pth\n",
      "runs/a2c_ms100x_mediumrandoms/lr4e-5_s3/checkpoint_25000.pth\n",
      "runs/a2c_ms100x_mediumrandoms/lr4e-5_s3/checkpoint_26000.pth\n",
      "runs/a2c_ms100x_mediumrandoms/lr4e-5_s3/checkpoint_27000.pth\n",
      "runs/a2c_ms100x_mediumrandoms/lr4e-5_s3/checkpoint_28000.pth\n",
      "runs/a2c_ms100x_mediumrandoms/lr4e-5_s3/checkpoint_29000.pth\n",
      "runs/a2c_ms100x_mediumrandoms/lr4e-5_s3/checkpoint_end.pth\n"
     ]
    }
   ],
   "source": [
    "agents = load_checkpoints(Path('runs/a2c_ms100x_mediumrandoms/lr4e-5_s3'))"
   ]
  },
  {
   "cell_type": "code",
   "execution_count": 13,
   "metadata": {},
   "outputs": [
    {
     "data": {
      "text/plain": [
       "(51.85995373129845, [11, 6, 7, 1, 10, 2, 15, 5, 3, 0, 12, 9, 4, 14, 13, 8])"
      ]
     },
     "execution_count": 13,
     "metadata": {},
     "output_type": "execute_result"
    }
   ],
   "source": [
    "agents[-1].solve(qap)"
   ]
  },
  {
   "cell_type": "markdown",
   "metadata": {},
   "source": [
    "## Average results"
   ]
  },
  {
   "cell_type": "code",
   "execution_count": 39,
   "metadata": {},
   "outputs": [],
   "source": [
    "def evaluate(solver, problem, samples):\n",
    "    values = []\n",
    "    for i in range(samples):\n",
    "        qap = generators[problem].sample()\n",
    "        v_solver, assignment = solver(qap)\n",
    "        v = qap.compute_value(assignment)\n",
    "        if not np.isclose(v, v_solver):\n",
    "            print (f\"solver outputs incorrect value (got {v_solver}, actual {v})\")\n",
    "        values.append(v)\n",
    "    return np.mean(values)\n",
    "\n",
    "def evaluate_set(solver, problem):\n",
    "    values = []\n",
    "    test_set = generators[problem].test_set()\n",
    "    for qap in test_set:\n",
    "        v_solver, assignment = solver(qap)\n",
    "        v = qap.compute_value(assignment)\n",
    "        if not np.isclose(v, v_solver):\n",
    "            print (f\"solver outputs incorrect value (got {v_solver}, actual {v})\")\n",
    "        values.append(v)\n",
    "    return np.mean(values)"
   ]
  },
  {
   "cell_type": "code",
   "execution_count": 40,
   "metadata": {},
   "outputs": [
    {
     "data": {
      "text/plain": [
       "11.439265"
      ]
     },
     "execution_count": 40,
     "metadata": {},
     "output_type": "execute_result"
    }
   ],
   "source": [
    "evaluate(solve_qap_faq, 'small_random_graphs', 1000)"
   ]
  },
  {
   "cell_type": "code",
   "execution_count": 41,
   "metadata": {},
   "outputs": [
    {
     "data": {
      "text/plain": [
       "11.591277"
      ]
     },
     "execution_count": 41,
     "metadata": {},
     "output_type": "execute_result"
    }
   ],
   "source": [
    "evaluate(agents[-1].solve, 'small_random_graphs', 500)"
   ]
  },
  {
   "cell_type": "code",
   "execution_count": 42,
   "metadata": {},
   "outputs": [
    {
     "data": {
      "text/plain": [
       "49.857094"
      ]
     },
     "execution_count": 42,
     "metadata": {},
     "output_type": "execute_result"
    }
   ],
   "source": [
    "evaluate(solve_qap_faq, 'medium_random_graphs', 1000)"
   ]
  },
  {
   "cell_type": "code",
   "execution_count": 43,
   "metadata": {},
   "outputs": [
    {
     "data": {
      "text/plain": [
       "52.509396"
      ]
     },
     "execution_count": 43,
     "metadata": {},
     "output_type": "execute_result"
    }
   ],
   "source": [
    "evaluate(agents[-1].solve, 'medium_random_graphs', 500)"
   ]
  },
  {
   "cell_type": "code",
   "execution_count": 44,
   "metadata": {},
   "outputs": [
    {
     "name": "stdout",
     "output_type": "stream",
     "text": [
      "solver outputs incorrect value (got 5417189.0, actual 5542958.0)\n",
      "solver outputs incorrect value (got 3797940.0, actual 3885741.0)\n",
      "solver outputs incorrect value (got 5418795.0, actual 5565287.0)\n",
      "solver outputs incorrect value (got 3861501.0, actual 3963769.0)\n",
      "solver outputs incorrect value (got 5338460.0, actual 5489722.0)\n",
      "solver outputs incorrect value (got 3782935.0, actual 3888533.0)\n",
      "solver outputs incorrect value (got 9688100.0, actual 10297388.0)\n",
      "solver outputs incorrect value (got 7239618.0, actual 7664970.0)\n"
     ]
    },
    {
     "data": {
      "text/plain": [
       "31941316.0"
      ]
     },
     "execution_count": 44,
     "metadata": {},
     "output_type": "execute_result"
    }
   ],
   "source": [
    "evaluate_set(solve_qap_faq, 'qaplib_all_64_normalized')"
   ]
  },
  {
   "cell_type": "code",
   "execution_count": 45,
   "metadata": {},
   "outputs": [
    {
     "data": {
      "text/plain": [
       "55563884.0"
      ]
     },
     "execution_count": 45,
     "metadata": {},
     "output_type": "execute_result"
    }
   ],
   "source": [
    "evaluate_set(agents[-1].solve, 'qaplib_all_64_normalized')"
   ]
  },
  {
   "cell_type": "code",
   "execution_count": 46,
   "metadata": {},
   "outputs": [
    {
     "data": {
      "text/plain": [
       "2514002.0"
      ]
     },
     "execution_count": 46,
     "metadata": {},
     "output_type": "execute_result"
    }
   ],
   "source": [
    "evaluate_set(solve_qap_faq, 'qaplib_tai35a_normalized')"
   ]
  },
  {
   "cell_type": "code",
   "execution_count": 47,
   "metadata": {},
   "outputs": [
    {
     "data": {
      "text/plain": [
       "2755434.0"
      ]
     },
     "execution_count": 47,
     "metadata": {},
     "output_type": "execute_result"
    }
   ],
   "source": [
    "evaluate_set(agents[-1].solve, 'qaplib_tai35a_normalized')"
   ]
  },
  {
   "cell_type": "code",
   "execution_count": 48,
   "metadata": {},
   "outputs": [
    {
     "data": {
      "text/plain": [
       "2755434.0"
      ]
     },
     "execution_count": 48,
     "metadata": {},
     "output_type": "execute_result"
    }
   ],
   "source": [
    "evaluate_set(agents[-1].solve, 'qaplib_tai35a_normalized')"
   ]
  },
  {
   "cell_type": "markdown",
   "metadata": {},
   "source": [
    "## Qaplib"
   ]
  },
  {
   "cell_type": "code",
   "execution_count": 49,
   "metadata": {},
   "outputs": [],
   "source": [
    "qaplib = generators[\"qaplib_all_64_normalized\"].test_set()\n",
    "qaplib_by_name = {q.name: q for q in qaplib}"
   ]
  },
  {
   "cell_type": "code",
   "execution_count": 50,
   "metadata": {},
   "outputs": [
    {
     "data": {
      "text/plain": [
       "(6153352.0,\n",
       " [0,\n",
       "  19,\n",
       "  2,\n",
       "  13,\n",
       "  18,\n",
       "  23,\n",
       "  21,\n",
       "  25,\n",
       "  10,\n",
       "  24,\n",
       "  14,\n",
       "  4,\n",
       "  15,\n",
       "  8,\n",
       "  7,\n",
       "  22,\n",
       "  6,\n",
       "  3,\n",
       "  5,\n",
       "  20,\n",
       "  12,\n",
       "  1,\n",
       "  17,\n",
       "  11,\n",
       "  16,\n",
       "  9])"
      ]
     },
     "execution_count": 50,
     "metadata": {},
     "output_type": "execute_result"
    }
   ],
   "source": [
    "agents[-1].solve(qaplib_by_name[\"bur26c\"])"
   ]
  },
  {
   "cell_type": "markdown",
   "metadata": {},
   "source": [
    "# Asymmetry"
   ]
  },
  {
   "cell_type": "code",
   "execution_count": 52,
   "metadata": {},
   "outputs": [],
   "source": [
    "def mirror(qap):\n",
    "    a = qap.A\n",
    "    b = qap.B\n",
    "    return QAP(b, a, qap.linear_costs.transpose(0,1), 0)\n",
    "    \n",
    "def mirror_assignment(assignment):\n",
    "    out = [None] * len(assignment)\n",
    "    for i, j in enumerate(assignment):\n",
    "        out[j] = i\n",
    "    return out"
   ]
  },
  {
   "cell_type": "code",
   "execution_count": 53,
   "metadata": {},
   "outputs": [],
   "source": [
    "qap_mirrored = mirror(qap)"
   ]
  },
  {
   "cell_type": "code",
   "execution_count": 54,
   "metadata": {},
   "outputs": [
    {
     "data": {
      "text/plain": [
       "tensor(56.0204)"
      ]
     },
     "execution_count": 54,
     "metadata": {},
     "output_type": "execute_result"
    }
   ],
   "source": [
    "qap.compute_value([12, 13, 2, 10, 1, 14, 4, 7, 6, 8, 3, 11, 9, 0, 5, 15])"
   ]
  },
  {
   "cell_type": "code",
   "execution_count": 55,
   "metadata": {},
   "outputs": [
    {
     "data": {
      "text/plain": [
       "tensor(56.0204)"
      ]
     },
     "execution_count": 55,
     "metadata": {},
     "output_type": "execute_result"
    }
   ],
   "source": [
    "qap_mirrored.compute_value(mirror_assignment([12, 13, 2, 10, 1, 14, 4, 7, 6, 8, 3, 11, 9, 0, 5, 15]))"
   ]
  },
  {
   "cell_type": "code",
   "execution_count": 56,
   "metadata": {},
   "outputs": [
    {
     "data": {
      "text/plain": [
       "(51.85995373129845, [11, 6, 7, 1, 10, 2, 15, 5, 3, 0, 12, 9, 4, 14, 13, 8])"
      ]
     },
     "execution_count": 56,
     "metadata": {},
     "output_type": "execute_result"
    }
   ],
   "source": [
    "agents[-1].solve(qap)"
   ]
  },
  {
   "cell_type": "code",
   "execution_count": 65,
   "metadata": {
    "scrolled": true
   },
   "outputs": [
    {
     "name": "stdout",
     "output_type": "stream",
     "text": [
      "50.36963647603989 [11, 9, 5, 14, 3, 13, 2, 7, 4, 10, 6, 1, 0, 12, 8, 15] tensor(50.3696)\n"
     ]
    }
   ],
   "source": [
    "v, ass = agents[-1].solve(qap_mirrored)\n",
    "print(v, ass, qap_mirrored.compute_value(ass))"
   ]
  },
  {
   "cell_type": "code",
   "execution_count": 58,
   "metadata": {},
   "outputs": [
    {
     "name": "stdout",
     "output_type": "stream",
     "text": [
      "solver outputs incorrect value (got 5370098.0, actual 5764143.0)\n",
      "solver outputs incorrect value (got 3766727.0, actual 4289858.0)\n",
      "solver outputs incorrect value (got 5474199.0, actual 6011081.0)\n",
      "solver outputs incorrect value (got 3851803.0, actual 4235187.0)\n",
      "solver outputs incorrect value (got 5385812.0, actual 5912032.0)\n",
      "solver outputs incorrect value (got 3753417.0, actual 4236290.0)\n",
      "solver outputs incorrect value (got 9676538.0, actual 11076894.0)\n",
      "solver outputs incorrect value (got 6731962.0, actual 7874443.0)\n",
      "solver outputs incorrect value (got 33082.0, actual 55664.0)\n",
      "solver outputs incorrect value (got 10468.0, actual 39730.0)\n",
      "solver outputs incorrect value (got 13088.0, actual 23448.0)\n",
      "solver outputs incorrect value (got 16398.0, actual 66120.0)\n",
      "solver outputs incorrect value (got 9112.0, actual 61150.0)\n",
      "solver outputs incorrect value (got 11936.0, actual 54186.0)\n",
      "solver outputs incorrect value (got 15440.0, actual 96236.0)\n",
      "solver outputs incorrect value (got 2152.0, actual 3948.0)\n",
      "solver outputs incorrect value (got 3172.0, actual 11112.0)\n",
      "solver outputs incorrect value (got 2764.0, actual 10156.0)\n",
      "solver outputs incorrect value (got 19836.0, actual 102832.0)\n",
      "solver outputs incorrect value (got 8920.0, actual 12988.0)\n",
      "solver outputs incorrect value (got 8430.0, actual 15098.0)\n",
      "solver outputs incorrect value (got 6320.0, actual 21550.0)\n",
      "solver outputs incorrect value (got 21297242.0, actual 42423080.0)\n",
      "solver outputs incorrect value (got 72.0, actual 106.0)\n",
      "solver outputs incorrect value (got 292.0, actual 310.0)\n",
      "solver outputs incorrect value (got 168.0, actual 244.0)\n",
      "solver outputs incorrect value (got 32.0, actual 56.0)\n",
      "solver outputs incorrect value (got 32.0, actual 30.0)\n",
      "solver outputs incorrect value (got 996.0, actual 1478.0)\n",
      "solver outputs incorrect value (got 16.0, actual 36.0)\n",
      "solver outputs incorrect value (got 8.0, actual 26.0)\n",
      "solver outputs incorrect value (got 160.0, actual 416.0)\n",
      "solver outputs incorrect value (got 208.0, actual 496.0)\n",
      "solver outputs incorrect value (got 654.0, actual 956.0)\n",
      "solver outputs incorrect value (got 200.0, actual 302.0)\n",
      "solver outputs incorrect value (got 6.0, actual 26.0)\n",
      "solver outputs incorrect value (got 10.0, actual 32.0)\n",
      "solver outputs incorrect value (got 452.0, actual 718.0)\n",
      "solver outputs incorrect value (got 116.0, actual 272.0)\n",
      "solver outputs incorrect value (got 1680.0, actual 1890.0)\n",
      "solver outputs incorrect value (got 2726.0, actual 3236.0)\n",
      "solver outputs incorrect value (got 3736.0, actual 4174.0)\n",
      "solver outputs incorrect value (got 5422.0, actual 5784.0)\n",
      "solver outputs incorrect value (got 6974.0, actual 7716.0)\n",
      "solver outputs incorrect value (got 94990.0, actual 133770.0)\n",
      "solver outputs incorrect value (got 91990.0, actual 140580.0)\n",
      "solver outputs incorrect value (got 91890.0, actual 137920.0)\n",
      "solver outputs incorrect value (got 3861.0, actual 3909.0)\n",
      "solver outputs incorrect value (got 13493.0, actual 13825.0)\n",
      "solver outputs incorrect value (got 32145.0, actual 32674.0)\n",
      "solver outputs incorrect value (got 63016.0, actual 64119.0)\n",
      "solver outputs incorrect value (got 108898.0, actual 110172.0)\n",
      "solver outputs incorrect value (got 590.0, actual 824.0)\n",
      "solver outputs incorrect value (got 1062.0, actual 1292.0)\n",
      "solver outputs incorrect value (got 1152.0, actual 1492.0)\n",
      "solver outputs incorrect value (got 1634.0, actual 2228.0)\n",
      "solver outputs incorrect value (got 1348.0, actual 1668.0)\n",
      "solver outputs incorrect value (got 1744.0, actual 2288.0)\n",
      "solver outputs incorrect value (got 2000.0, actual 2554.0)\n",
      "solver outputs incorrect value (got 2600.0, actual 3504.0)\n",
      "solver outputs incorrect value (got 2532.0, actual 3420.0)\n",
      "solver outputs incorrect value (got 3622.0, actual 5198.0)\n",
      "solver outputs incorrect value (got 3676.0, actual 4746.0)\n",
      "solver outputs incorrect value (got 3782.0, actual 4770.0)\n",
      "solver outputs incorrect value (got 5498.0, actual 7174.0)\n",
      "solver outputs incorrect value (got 5446.0, actual 6918.0)\n",
      "solver outputs incorrect value (got 6238.0, actual 8200.0)\n",
      "solver outputs incorrect value (got 253938.0, actual 284694.0)\n",
      "solver outputs incorrect value (got 371458.0, actual 447720.0)\n",
      "solver outputs incorrect value (got 743884.0, actual 890424.0)\n",
      "solver outputs incorrect value (got 36396.0, actual 59726.0)\n",
      "solver outputs incorrect value (got 60794.0, actual 110912.0)\n",
      "solver outputs incorrect value (got 129964.0, actual 225800.0)\n",
      "solver outputs incorrect value (got 16220.0, actual 20272.0)\n",
      "solver outputs incorrect value (got 23676.0, actual 28860.0)\n",
      "solver outputs incorrect value (got 34808.0, actual 41944.0)\n",
      "solver outputs incorrect value (got 49054.0, actual 59204.0)\n",
      "solver outputs incorrect value (got 10206.0, actual 18894.0)\n",
      "solver outputs incorrect value (got 17002.0, actual 89030.0)\n",
      "solver outputs incorrect value (got 8823586.0, actual 18050972.0)\n",
      "solver outputs incorrect value (got 157954.0, actual 182804.0)\n",
      "solver outputs incorrect value (got 1386733.0, actual 2536907.0)\n",
      "solver outputs incorrect value (got 244672.0, actual 315280.0)\n",
      "solver outputs incorrect value (got 49891524.0, actual 73572288.0)\n",
      "solver outputs incorrect value (got 397376.0, actual 486564.0)\n",
      "solver outputs incorrect value (got 52028168.0, actual 276325408.0)\n",
      "solver outputs incorrect value (got 529134.0, actual 631706.0)\n",
      "solver outputs incorrect value (got 736140.0, actual 908434.0)\n",
      "solver outputs incorrect value (got 139297728.0, actual 342960960.0)\n",
      "solver outputs incorrect value (got 1218070.0, actual 1375618.0)\n",
      "solver outputs incorrect value (got 368570560.0, actual 686926528.0)\n",
      "solver outputs incorrect value (got 1894640.0, actual 2169096.0)\n",
      "solver outputs incorrect value (got 721752448.0, actual 1193566848.0)\n",
      "solver outputs incorrect value (got 2514002.0, actual 2893220.0)\n",
      "solver outputs incorrect value (got 306237120.0, actual 499297152.0)\n",
      "solver outputs incorrect value (got 3225948.0, actual 3742240.0)\n",
      "solver outputs incorrect value (got 667922496.0, actual 1103452928.0)\n",
      "solver outputs incorrect value (got 5123102.0, actual 5895556.0)\n",
      "solver outputs incorrect value (got 476748736.0, actual 804961472.0)\n",
      "solver outputs incorrect value (got 7440930.0, actual 8636674.0)\n",
      "solver outputs incorrect value (got 647364608.0, actual 1035179840.0)\n",
      "solver outputs incorrect value (got 10.40584659576416, actual 10.227797508239746)\n",
      "solver outputs incorrect value (got 158786.0, actual 209560.0)\n",
      "solver outputs incorrect value (got 254238.0, actual 356170.0)\n",
      "solver outputs incorrect value (got 49094.0, actual 54878.0)\n"
     ]
    },
    {
     "data": {
      "text/plain": [
       "55092540.0"
      ]
     },
     "execution_count": 58,
     "metadata": {},
     "output_type": "execute_result"
    }
   ],
   "source": [
    "evaluate_set(lambda qap: solve_qap_faq(mirror(qap)), 'qaplib_all_64_normalized')"
   ]
  },
  {
   "cell_type": "code",
   "execution_count": 59,
   "metadata": {},
   "outputs": [
    {
     "name": "stdout",
     "output_type": "stream",
     "text": [
      "solver outputs incorrect value (got 5745448.0, actual 5858658.0)\n",
      "solver outputs incorrect value (got 3991486.0, actual 4161468.0)\n",
      "solver outputs incorrect value (got 5657299.0, actual 5853167.0)\n",
      "solver outputs incorrect value (got 4003360.0, actual 4216700.0)\n",
      "solver outputs incorrect value (got 5725134.0, actual 5974355.0)\n",
      "solver outputs incorrect value (got 4027679.0, actual 4116851.0)\n",
      "solver outputs incorrect value (got 10899164.0, actual 11412922.0)\n",
      "solver outputs incorrect value (got 7624172.0, actual 7613862.0)\n",
      "solver outputs incorrect value (got 15432.0, actual 56490.0)\n",
      "solver outputs incorrect value (got 27320.0, actual 47774.0)\n",
      "solver outputs incorrect value (got 25496.0, actual 37966.0)\n",
      "solver outputs incorrect value (got 28998.0, actual 50952.0)\n",
      "solver outputs incorrect value (got 41718.0, actual 75924.0)\n",
      "solver outputs incorrect value (got 29290.0, actual 64786.0)\n",
      "solver outputs incorrect value (got 52546.0, actual 70278.0)\n",
      "solver outputs incorrect value (got 3918.0, actual 5538.0)\n",
      "solver outputs incorrect value (got 8032.0, actual 11014.0)\n",
      "solver outputs incorrect value (got 7360.0, actual 9344.0)\n",
      "solver outputs incorrect value (got 75266.0, actual 92712.0)\n",
      "solver outputs incorrect value (got 10142.0, actual 13716.0)\n",
      "solver outputs incorrect value (got 12322.0, actual 17748.0)\n",
      "solver outputs incorrect value (got 16772.0, actual 17542.0)\n",
      "solver outputs incorrect value (got 23107324.0, actual 26203818.0)\n",
      "solver outputs incorrect value (got 82.0, actual 120.0)\n",
      "solver outputs incorrect value (got 314.0, actual 306.0)\n",
      "solver outputs incorrect value (got 216.0, actual 238.0)\n",
      "solver outputs incorrect value (got 46.0, actual 60.0)\n",
      "solver outputs incorrect value (got 46.0, actual 58.0)\n",
      "solver outputs incorrect value (got 62.0, actual 54.0)\n",
      "solver outputs incorrect value (got 1244.0, actual 1496.0)\n",
      "solver outputs incorrect value (got 24.0, actual 58.0)\n",
      "solver outputs incorrect value (got 16.0, actual 26.0)\n",
      "solver outputs incorrect value (got 344.0, actual 434.0)\n",
      "solver outputs incorrect value (got 368.0, actual 460.0)\n",
      "solver outputs incorrect value (got 898.0, actual 942.0)\n",
      "solver outputs incorrect value (got 288.0, actual 342.0)\n",
      "solver outputs incorrect value (got 32.0, actual 68.0)\n",
      "solver outputs incorrect value (got 28.0, actual 22.0)\n",
      "solver outputs incorrect value (got 610.0, actual 652.0)\n",
      "solver outputs incorrect value (got 244.0, actual 288.0)\n",
      "solver outputs incorrect value (got 1774.0, actual 1910.0)\n",
      "solver outputs incorrect value (got 2892.0, actual 3112.0)\n",
      "solver outputs incorrect value (got 3878.0, actual 4324.0)\n",
      "solver outputs incorrect value (got 5534.0, actual 6208.0)\n",
      "solver outputs incorrect value (got 7496.0, actual 7666.0)\n",
      "solver outputs incorrect value (got 107160.0, actual 141370.0)\n",
      "solver outputs incorrect value (got 114730.0, actual 134990.0)\n",
      "solver outputs incorrect value (got 130890.0, actual 135580.0)\n",
      "solver outputs incorrect value (got 3873.0, actual 3917.0)\n",
      "solver outputs incorrect value (got 33612.0, actual 33816.0)\n",
      "solver outputs incorrect value (got 13591.0, actual 13836.0)\n",
      "solver outputs incorrect value (got 187442.0, actual 187545.0)\n",
      "solver outputs incorrect value (got 32472.0, actual 32649.0)\n",
      "solver outputs incorrect value (got 602575.0, actual 603322.0)\n",
      "solver outputs incorrect value (got 63755.0, actual 64154.0)\n",
      "solver outputs incorrect value (got 1523130.0, actual 1523521.0)\n",
      "solver outputs incorrect value (got 109493.0, actual 110154.0)\n",
      "solver outputs incorrect value (got 3177846.0, actual 3177652.0)\n",
      "solver outputs incorrect value (got 674.0, actual 876.0)\n",
      "solver outputs incorrect value (got 1122.0, actual 1398.0)\n",
      "solver outputs incorrect value (got 1344.0, actual 1594.0)\n",
      "solver outputs incorrect value (got 1698.0, actual 2040.0)\n",
      "solver outputs incorrect value (got 1464.0, actual 1752.0)\n",
      "solver outputs incorrect value (got 1908.0, actual 2094.0)\n",
      "solver outputs incorrect value (got 2288.0, actual 2606.0)\n",
      "solver outputs incorrect value (got 2866.0, actual 3458.0)\n",
      "solver outputs incorrect value (got 2794.0, actual 3102.0)\n",
      "solver outputs incorrect value (got 4324.0, actual 4748.0)\n",
      "solver outputs incorrect value (got 3922.0, actual 4740.0)\n",
      "solver outputs incorrect value (got 4444.0, actual 4968.0)\n",
      "solver outputs incorrect value (got 6530.0, actual 7078.0)\n",
      "solver outputs incorrect value (got 6606.0, actual 7314.0)\n",
      "solver outputs incorrect value (got 7426.0, actual 8254.0)\n",
      "solver outputs incorrect value (got 265464.0, actual 297046.0)\n",
      "solver outputs incorrect value (got 419560.0, actual 463714.0)\n",
      "solver outputs incorrect value (got 819908.0, actual 920572.0)\n",
      "solver outputs incorrect value (got 49046.0, actual 55768.0)\n",
      "solver outputs incorrect value (got 85300.0, actual 112948.0)\n",
      "solver outputs incorrect value (got 181704.0, actual 242422.0)\n",
      "solver outputs incorrect value (got 17952.0, actual 20128.0)\n",
      "solver outputs incorrect value (got 26000.0, actual 28800.0)\n",
      "solver outputs incorrect value (got 39012.0, actual 42960.0)\n",
      "solver outputs incorrect value (got 55116.0, actual 58708.0)\n",
      "solver outputs incorrect value (got 13682.0, actual 20922.0)\n",
      "solver outputs incorrect value (got 28800.0, actual 82018.0)\n",
      "solver outputs incorrect value (got 11848510.0, actual 19911730.0)\n",
      "solver outputs incorrect value (got 165286.0, actual 171554.0)\n",
      "solver outputs incorrect value (got 1371370.0, actual 2532796.0)\n",
      "solver outputs incorrect value (got 261826.0, actual 321530.0)\n",
      "solver outputs incorrect value (got 47961525.0, actual 98021800.0)\n",
      "solver outputs incorrect value (got 460432.0, actual 463504.0)\n",
      "solver outputs incorrect value (got 52474564.0, actual 423078592.0)\n",
      "solver outputs incorrect value (got 544794.0, actual 642826.0)\n",
      "solver outputs incorrect value (got 844804.0, actual 878782.0)\n",
      "solver outputs incorrect value (got 190399561.0, actual 256538992.0)\n",
      "solver outputs incorrect value (got 1308364.0, actual 1492902.0)\n",
      "solver outputs incorrect value (got 573880924.0, actual 782669888.0)\n",
      "solver outputs incorrect value (got 2045854.0, actual 2175734.0)\n",
      "solver outputs incorrect value (got 887868630.0, actual 1581644032.0)\n",
      "solver outputs incorrect value (got 2733298.0, actual 2957228.0)\n",
      "solver outputs incorrect value (got 336706808.0, actual 532625216.0)\n",
      "solver outputs incorrect value (got 3551028.0, actual 3842578.0)\n",
      "solver outputs incorrect value (got 720200495.0, actual 1053539968.0)\n",
      "solver outputs incorrect value (got 5557214.0, actual 5986344.0)\n",
      "solver outputs incorrect value (got 553231118.0, actual 817589120.0)\n",
      "solver outputs incorrect value (got 8269320.0, actual 8440360.0)\n",
      "solver outputs incorrect value (got 768047687.0, actual 955867392.0)\n",
      "solver outputs incorrect value (got 6060900.0, actual 3375180.0)\n",
      "solver outputs incorrect value (got 9.900336384773254, actual 12.246504783630371)\n",
      "solver outputs incorrect value (got 186018.0, actual 218672.0)\n",
      "solver outputs incorrect value (got 291552.0, actual 340826.0)\n",
      "solver outputs incorrect value (got 52762.0, actual 55494.0)\n"
     ]
    },
    {
     "data": {
      "text/plain": [
       "59285356.0"
      ]
     },
     "execution_count": 59,
     "metadata": {},
     "output_type": "execute_result"
    }
   ],
   "source": [
    "evaluate_set(lambda qap: agents[-1].solve(mirror(qap)), 'qaplib_all_64_normalized')"
   ]
  },
  {
   "cell_type": "code",
   "execution_count": 60,
   "metadata": {},
   "outputs": [
    {
     "name": "stdout",
     "output_type": "stream",
     "text": [
      "solver outputs incorrect value (got 62.123902440071106, actual 68.03571319580078)\n",
      "solver outputs incorrect value (got 46.510784359648824, actual 52.41948699951172)\n",
      "solver outputs incorrect value (got 57.94299528375268, actual 63.86463165283203)\n",
      "solver outputs incorrect value (got 60.15311360359192, actual 70.80875396728516)\n",
      "solver outputs incorrect value (got 54.130779184401035, actual 57.546592712402344)\n",
      "solver outputs incorrect value (got 46.388225331902504, actual 53.52107620239258)\n",
      "solver outputs incorrect value (got 52.49503681063652, actual 55.522926330566406)\n",
      "solver outputs incorrect value (got 55.61092674732208, actual 61.49651336669922)\n",
      "solver outputs incorrect value (got 54.242419958114624, actual 62.84373092651367)\n",
      "solver outputs incorrect value (got 51.938814252614975, actual 60.2183952331543)\n",
      "solver outputs incorrect value (got 49.343894615769386, actual 57.36058044433594)\n",
      "solver outputs incorrect value (got 55.91042836755514, actual 64.48477172851562)\n",
      "solver outputs incorrect value (got 54.42770302295685, actual 62.19146728515625)\n",
      "solver outputs incorrect value (got 58.76957494113594, actual 64.09554290771484)\n",
      "solver outputs incorrect value (got 52.10374468564987, actual 61.859588623046875)\n",
      "solver outputs incorrect value (got 54.17116802930832, actual 58.30768585205078)\n",
      "solver outputs incorrect value (got 54.07745184749365, actual 63.636207580566406)\n",
      "solver outputs incorrect value (got 60.28343150019646, actual 69.53726196289062)\n",
      "solver outputs incorrect value (got 58.950378596782684, actual 66.98696899414062)\n",
      "solver outputs incorrect value (got 45.40049437433481, actual 53.696998596191406)\n",
      "solver outputs incorrect value (got 50.68341225385666, actual 53.874446868896484)\n",
      "solver outputs incorrect value (got 54.20761840045452, actual 64.67965698242188)\n",
      "solver outputs incorrect value (got 48.69882548600435, actual 58.86484146118164)\n",
      "solver outputs incorrect value (got 54.33003640174866, actual 64.27725219726562)\n",
      "solver outputs incorrect value (got 46.08418333530426, actual 51.94987487792969)\n",
      "solver outputs incorrect value (got 59.293129205703735, actual 63.548194885253906)\n",
      "solver outputs incorrect value (got 50.53989678621292, actual 58.8102912902832)\n",
      "solver outputs incorrect value (got 56.56285880506039, actual 64.73310089111328)\n",
      "solver outputs incorrect value (got 45.13234855234623, actual 53.10373306274414)\n",
      "solver outputs incorrect value (got 59.64545413851738, actual 63.403175354003906)\n",
      "solver outputs incorrect value (got 52.93979497253895, actual 61.67272186279297)\n",
      "solver outputs incorrect value (got 50.259629029780626, actual 55.44626235961914)\n",
      "solver outputs incorrect value (got 54.40566548705101, actual 59.27064895629883)\n",
      "solver outputs incorrect value (got 52.1364843249321, actual 58.451744079589844)\n",
      "solver outputs incorrect value (got 47.45689885318279, actual 56.197601318359375)\n",
      "solver outputs incorrect value (got 53.914816200733185, actual 66.40674591064453)\n",
      "solver outputs incorrect value (got 54.389842957258224, actual 58.8713493347168)\n",
      "solver outputs incorrect value (got 47.29224291443825, actual 53.293907165527344)\n",
      "solver outputs incorrect value (got 47.70634634792805, actual 55.24871826171875)\n",
      "solver outputs incorrect value (got 51.99966547638178, actual 57.49617385864258)\n",
      "solver outputs incorrect value (got 63.20365905575454, actual 70.23030853271484)\n",
      "solver outputs incorrect value (got 61.13299399614334, actual 69.24225616455078)\n",
      "solver outputs incorrect value (got 56.100030140951276, actual 62.35057830810547)\n",
      "solver outputs incorrect value (got 59.05489502847195, actual 67.14997100830078)\n",
      "solver outputs incorrect value (got 61.11879551410675, actual 66.97626495361328)\n",
      "solver outputs incorrect value (got 56.54593387246132, actual 62.86971664428711)\n",
      "solver outputs incorrect value (got 56.01211676001549, actual 61.652626037597656)\n",
      "solver outputs incorrect value (got 62.28208027034998, actual 69.79588317871094)\n",
      "solver outputs incorrect value (got 55.21502332389355, actual 59.58512878417969)\n",
      "solver outputs incorrect value (got 59.44410973787308, actual 66.78572082519531)\n",
      "solver outputs incorrect value (got 51.48920139670372, actual 55.853572845458984)\n",
      "solver outputs incorrect value (got 56.61389568448067, actual 65.31448364257812)\n",
      "solver outputs incorrect value (got 50.40830399468541, actual 63.20051574707031)\n",
      "solver outputs incorrect value (got 47.88746300339699, actual 55.30418014526367)\n",
      "solver outputs incorrect value (got 52.35280400514603, actual 64.06697082519531)\n",
      "solver outputs incorrect value (got 48.24379771947861, actual 57.038326263427734)\n",
      "solver outputs incorrect value (got 45.90988612174988, actual 53.61940383911133)\n",
      "solver outputs incorrect value (got 51.495430171489716, actual 57.76960754394531)\n",
      "solver outputs incorrect value (got 51.893032282590866, actual 61.329978942871094)\n",
      "solver outputs incorrect value (got 52.77401685714722, actual 63.33346176147461)\n",
      "solver outputs incorrect value (got 61.56129015982151, actual 70.1610336303711)\n",
      "solver outputs incorrect value (got 53.85404568910599, actual 58.625614166259766)\n",
      "solver outputs incorrect value (got 45.40360337495804, actual 57.003868103027344)\n",
      "solver outputs incorrect value (got 42.14078798890114, actual 56.872196197509766)\n",
      "solver outputs incorrect value (got 50.67341062426567, actual 57.671512603759766)\n",
      "solver outputs incorrect value (got 55.090334355831146, actual 59.96049880981445)\n",
      "solver outputs incorrect value (got 48.99280812963843, actual 55.6146354675293)\n",
      "solver outputs incorrect value (got 58.590494967997074, actual 62.694740295410156)\n",
      "solver outputs incorrect value (got 52.66335955262184, actual 60.194026947021484)\n",
      "solver outputs incorrect value (got 62.97362744808197, actual 63.38166046142578)\n",
      "solver outputs incorrect value (got 51.08084663748741, actual 57.596595764160156)\n",
      "solver outputs incorrect value (got 57.01597488671541, actual 65.47758483886719)\n",
      "solver outputs incorrect value (got 59.94551042839885, actual 66.18896484375)\n",
      "solver outputs incorrect value (got 46.639578968286514, actual 52.82996368408203)\n",
      "solver outputs incorrect value (got 50.765895403921604, actual 58.517486572265625)\n",
      "solver outputs incorrect value (got 50.83927208185196, actual 55.13105392456055)\n",
      "solver outputs incorrect value (got 57.92181393504143, actual 63.703155517578125)\n",
      "solver outputs incorrect value (got 46.38426637649536, actual 53.732627868652344)\n",
      "solver outputs incorrect value (got 48.44247233867645, actual 50.7623405456543)\n",
      "solver outputs incorrect value (got 46.90043285489082, actual 56.15241622924805)\n",
      "solver outputs incorrect value (got 52.705159693956375, actual 64.39908599853516)\n",
      "solver outputs incorrect value (got 60.63367336988449, actual 67.93330383300781)\n",
      "solver outputs incorrect value (got 54.74646779894829, actual 61.66862487792969)\n",
      "solver outputs incorrect value (got 53.17998021841049, actual 64.89110565185547)\n",
      "solver outputs incorrect value (got 49.47651247680187, actual 57.67573928833008)\n",
      "solver outputs incorrect value (got 54.218944028019905, actual 61.63484191894531)\n",
      "solver outputs incorrect value (got 49.881987273693085, actual 56.61634063720703)\n",
      "solver outputs incorrect value (got 48.283954441547394, actual 52.66624450683594)\n",
      "solver outputs incorrect value (got 50.93117901682854, actual 55.492305755615234)\n",
      "solver outputs incorrect value (got 49.23049008473754, actual 57.844974517822266)\n",
      "solver outputs incorrect value (got 50.55425429344177, actual 59.387325286865234)\n",
      "solver outputs incorrect value (got 55.38863164186478, actual 61.44796371459961)\n",
      "solver outputs incorrect value (got 45.75516423583031, actual 53.63595199584961)\n",
      "solver outputs incorrect value (got 60.962935626506805, actual 66.36380767822266)\n",
      "solver outputs incorrect value (got 48.18309038877487, actual 50.858848571777344)\n",
      "solver outputs incorrect value (got 55.18014517426491, actual 60.015419006347656)\n",
      "solver outputs incorrect value (got 51.008064575493336, actual 57.6429557800293)\n",
      "solver outputs incorrect value (got 56.21932050585747, actual 59.966060638427734)\n",
      "solver outputs incorrect value (got 59.11893671751022, actual 66.97692108154297)\n",
      "solver outputs incorrect value (got 51.74156326800585, actual 57.25025177001953)\n",
      "solver outputs incorrect value (got 58.66239224746823, actual 64.57635498046875)\n"
     ]
    },
    {
     "name": "stdout",
     "output_type": "stream",
     "text": [
      "solver outputs incorrect value (got 54.91096958518028, actual 59.84571838378906)\n",
      "solver outputs incorrect value (got 49.75399029254913, actual 58.663639068603516)\n",
      "solver outputs incorrect value (got 53.14172950387001, actual 58.13994598388672)\n",
      "solver outputs incorrect value (got 55.34204247780144, actual 58.63999557495117)\n",
      "solver outputs incorrect value (got 53.861756309866905, actual 59.670562744140625)\n",
      "solver outputs incorrect value (got 57.7673060297966, actual 61.61551284790039)\n",
      "solver outputs incorrect value (got 63.53135305643082, actual 68.01343536376953)\n",
      "solver outputs incorrect value (got 54.186367869377136, actual 64.91064453125)\n",
      "solver outputs incorrect value (got 51.47192317247391, actual 58.98811340332031)\n",
      "solver outputs incorrect value (got 61.41011949442327, actual 67.49482727050781)\n",
      "solver outputs incorrect value (got 46.536518052220345, actual 51.850528717041016)\n",
      "solver outputs incorrect value (got 55.10616374015808, actual 57.216148376464844)\n",
      "solver outputs incorrect value (got 53.70354023575783, actual 61.379493713378906)\n",
      "solver outputs incorrect value (got 54.35316501185298, actual 62.8502311706543)\n",
      "solver outputs incorrect value (got 52.28454988449812, actual 58.598079681396484)\n",
      "solver outputs incorrect value (got 55.04667618870735, actual 61.9733772277832)\n",
      "solver outputs incorrect value (got 54.34050843119621, actual 60.46949768066406)\n",
      "solver outputs incorrect value (got 58.06974892318249, actual 62.65138244628906)\n",
      "solver outputs incorrect value (got 63.53770434856415, actual 68.43041229248047)\n",
      "solver outputs incorrect value (got 55.80686992406845, actual 67.04885864257812)\n",
      "solver outputs incorrect value (got 48.029882326722145, actual 54.28168869018555)\n",
      "solver outputs incorrect value (got 53.4995456635952, actual 64.3657455444336)\n",
      "solver outputs incorrect value (got 50.92005480825901, actual 56.99992752075195)\n",
      "solver outputs incorrect value (got 52.35744509100914, actual 62.299720764160156)\n",
      "solver outputs incorrect value (got 55.98701514303684, actual 60.51030731201172)\n",
      "solver outputs incorrect value (got 48.423280000686646, actual 56.46113204956055)\n",
      "solver outputs incorrect value (got 55.83036321401596, actual 60.630393981933594)\n",
      "solver outputs incorrect value (got 52.02895653247833, actual 59.043922424316406)\n",
      "solver outputs incorrect value (got 53.93361896276474, actual 62.76347732543945)\n",
      "solver outputs incorrect value (got 48.37761840224266, actual 57.58694076538086)\n",
      "solver outputs incorrect value (got 48.132708583027124, actual 55.048439025878906)\n",
      "solver outputs incorrect value (got 47.47990474104881, actual 57.1390380859375)\n",
      "solver outputs incorrect value (got 50.604200184345245, actual 59.37965393066406)\n",
      "solver outputs incorrect value (got 51.427933782339096, actual 59.25965881347656)\n",
      "solver outputs incorrect value (got 53.79872089624405, actual 59.19816589355469)\n",
      "solver outputs incorrect value (got 48.63254351913929, actual 54.94644546508789)\n",
      "solver outputs incorrect value (got 50.46637690067291, actual 58.05012512207031)\n",
      "solver outputs incorrect value (got 56.91085070371628, actual 62.71615982055664)\n",
      "solver outputs incorrect value (got 53.97556909918785, actual 56.22129821777344)\n",
      "solver outputs incorrect value (got 48.163653299212456, actual 50.55240249633789)\n",
      "solver outputs incorrect value (got 49.35401725769043, actual 55.94658660888672)\n",
      "solver outputs incorrect value (got 52.20253813266754, actual 60.17292022705078)\n",
      "solver outputs incorrect value (got 50.04354412853718, actual 58.01356506347656)\n",
      "solver outputs incorrect value (got 59.06632328033447, actual 69.40095520019531)\n",
      "solver outputs incorrect value (got 53.657729521393776, actual 60.48270797729492)\n",
      "solver outputs incorrect value (got 62.369913160800934, actual 70.38993072509766)\n",
      "solver outputs incorrect value (got 61.21296492218971, actual 66.26573181152344)\n",
      "solver outputs incorrect value (got 56.592331290245056, actual 65.02540588378906)\n",
      "solver outputs incorrect value (got 54.897872507572174, actual 64.20896911621094)\n",
      "solver outputs incorrect value (got 50.18536387756467, actual 57.286800384521484)\n",
      "solver outputs incorrect value (got 63.76143765449524, actual 67.64447021484375)\n",
      "solver outputs incorrect value (got 51.54125440120697, actual 60.53196334838867)\n",
      "solver outputs incorrect value (got 52.67272809147835, actual 57.00838851928711)\n",
      "solver outputs incorrect value (got 51.41556517779827, actual 59.34309387207031)\n",
      "solver outputs incorrect value (got 63.65359956026077, actual 71.37977600097656)\n",
      "solver outputs incorrect value (got 56.65374755859375, actual 62.033531188964844)\n",
      "solver outputs incorrect value (got 61.87236973270774, actual 66.70465850830078)\n",
      "solver outputs incorrect value (got 48.167824713513255, actual 57.35752868652344)\n",
      "solver outputs incorrect value (got 52.50682803988457, actual 61.853492736816406)\n",
      "solver outputs incorrect value (got 50.10097748041153, actual 52.72599792480469)\n",
      "solver outputs incorrect value (got 53.456110283732414, actual 59.93257141113281)\n",
      "solver outputs incorrect value (got 58.579490803182125, actual 65.5896987915039)\n",
      "solver outputs incorrect value (got 53.142358623445034, actual 59.816444396972656)\n",
      "solver outputs incorrect value (got 55.271516650915146, actual 62.07281494140625)\n",
      "solver outputs incorrect value (got 52.36690967530012, actual 57.132408142089844)\n",
      "solver outputs incorrect value (got 55.9580357670784, actual 65.90231323242188)\n",
      "solver outputs incorrect value (got 51.51364582031965, actual 58.51878356933594)\n",
      "solver outputs incorrect value (got 51.81001514196396, actual 55.343902587890625)\n",
      "solver outputs incorrect value (got 51.83454805612564, actual 62.82251739501953)\n",
      "solver outputs incorrect value (got 50.2554172873497, actual 56.368019104003906)\n",
      "solver outputs incorrect value (got 56.42560476064682, actual 64.93511962890625)\n",
      "solver outputs incorrect value (got 48.5703087747097, actual 59.129737854003906)\n",
      "solver outputs incorrect value (got 49.84631836414337, actual 56.319541931152344)\n",
      "solver outputs incorrect value (got 52.85315075516701, actual 57.696678161621094)\n",
      "solver outputs incorrect value (got 56.49470669031143, actual 61.240684509277344)\n",
      "solver outputs incorrect value (got 51.666015923023224, actual 57.70353698730469)\n",
      "solver outputs incorrect value (got 57.89157295227051, actual 62.68090057373047)\n",
      "solver outputs incorrect value (got 52.934870541095734, actual 60.02310562133789)\n",
      "solver outputs incorrect value (got 51.29602800309658, actual 56.61851119995117)\n",
      "solver outputs incorrect value (got 59.233013927936554, actual 68.93545532226562)\n",
      "solver outputs incorrect value (got 42.60800775885582, actual 48.94153594970703)\n",
      "solver outputs incorrect value (got 54.05586701631546, actual 59.986183166503906)\n",
      "solver outputs incorrect value (got 49.69406282901764, actual 53.17734909057617)\n",
      "solver outputs incorrect value (got 52.7942426353693, actual 62.89129638671875)\n",
      "solver outputs incorrect value (got 50.74864435195923, actual 57.04061508178711)\n",
      "solver outputs incorrect value (got 52.35282963514328, actual 56.03001022338867)\n",
      "solver outputs incorrect value (got 46.91913692653179, actual 49.451133728027344)\n",
      "solver outputs incorrect value (got 54.22678083181381, actual 62.52941131591797)\n",
      "solver outputs incorrect value (got 52.04354836046696, actual 60.387718200683594)\n",
      "solver outputs incorrect value (got 47.19314070418477, actual 52.238285064697266)\n",
      "solver outputs incorrect value (got 54.614155262708664, actual 58.61172103881836)\n",
      "solver outputs incorrect value (got 42.44930696487427, actual 48.50693893432617)\n",
      "solver outputs incorrect value (got 46.48208552598953, actual 54.71272277832031)\n",
      "solver outputs incorrect value (got 50.44268807396293, actual 56.36994171142578)\n",
      "solver outputs incorrect value (got 56.236747313290834, actual 64.28966522216797)\n",
      "solver outputs incorrect value (got 52.874042212963104, actual 56.98308181762695)\n",
      "solver outputs incorrect value (got 51.231926307082176, actual 58.569007873535156)\n",
      "solver outputs incorrect value (got 51.32269909232855, actual 59.98432540893555)\n",
      "solver outputs incorrect value (got 47.97037824988365, actual 58.5982666015625)\n",
      "solver outputs incorrect value (got 53.68057131767273, actual 62.95899200439453)\n",
      "solver outputs incorrect value (got 50.87850096821785, actual 57.695472717285156)\n"
     ]
    },
    {
     "name": "stdout",
     "output_type": "stream",
     "text": [
      "solver outputs incorrect value (got 46.19947502017021, actual 52.54985046386719)\n",
      "solver outputs incorrect value (got 52.35625907545909, actual 62.23399353027344)\n",
      "solver outputs incorrect value (got 53.04157914966345, actual 59.15952682495117)\n",
      "solver outputs incorrect value (got 60.45163545012474, actual 69.4272232055664)\n",
      "solver outputs incorrect value (got 37.35365053266287, actual 46.37726974487305)\n",
      "solver outputs incorrect value (got 57.31477749347687, actual 60.9365348815918)\n",
      "solver outputs incorrect value (got 47.61482137441635, actual 55.0692138671875)\n",
      "solver outputs incorrect value (got 56.088831067085266, actual 61.386260986328125)\n",
      "solver outputs incorrect value (got 53.19412988424301, actual 62.393009185791016)\n",
      "solver outputs incorrect value (got 43.902492955327034, actual 50.91974639892578)\n",
      "solver outputs incorrect value (got 46.74099922180176, actual 53.8012809753418)\n",
      "solver outputs incorrect value (got 56.66469073295593, actual 63.92325973510742)\n",
      "solver outputs incorrect value (got 59.3989701718092, actual 64.50239562988281)\n",
      "solver outputs incorrect value (got 49.83813437819481, actual 57.11974334716797)\n",
      "solver outputs incorrect value (got 60.808396488428116, actual 67.49284362792969)\n",
      "solver outputs incorrect value (got 60.1423436999321, actual 67.5770492553711)\n",
      "solver outputs incorrect value (got 46.11395964026451, actual 55.591705322265625)\n",
      "solver outputs incorrect value (got 59.48091363161802, actual 60.589263916015625)\n",
      "solver outputs incorrect value (got 52.750376522541046, actual 62.21991729736328)\n",
      "solver outputs incorrect value (got 52.5184209048748, actual 61.17401123046875)\n",
      "solver outputs incorrect value (got 48.648936569690704, actual 57.86362838745117)\n",
      "solver outputs incorrect value (got 57.695873990654945, actual 59.31309509277344)\n",
      "solver outputs incorrect value (got 52.484313279390335, actual 56.9172248840332)\n",
      "solver outputs incorrect value (got 54.42644675076008, actual 59.219573974609375)\n",
      "solver outputs incorrect value (got 59.01732775568962, actual 64.01726531982422)\n",
      "solver outputs incorrect value (got 53.135687083005905, actual 62.394920349121094)\n",
      "solver outputs incorrect value (got 57.060367073863745, actual 66.64983367919922)\n",
      "solver outputs incorrect value (got 49.56078939884901, actual 55.5738639831543)\n",
      "solver outputs incorrect value (got 59.77714756131172, actual 69.03531646728516)\n",
      "solver outputs incorrect value (got 56.541479302570224, actual 65.15876770019531)\n",
      "solver outputs incorrect value (got 49.12064591422677, actual 58.710777282714844)\n",
      "solver outputs incorrect value (got 49.36838871240616, actual 53.37399673461914)\n",
      "solver outputs incorrect value (got 52.50166702270508, actual 58.77207946777344)\n",
      "solver outputs incorrect value (got 51.461127668619156, actual 57.04045104980469)\n",
      "solver outputs incorrect value (got 52.95664668083191, actual 61.44514083862305)\n",
      "solver outputs incorrect value (got 49.77484490722418, actual 56.2680549621582)\n",
      "solver outputs incorrect value (got 50.70928797125816, actual 55.34425735473633)\n",
      "solver outputs incorrect value (got 49.29346740245819, actual 56.092079162597656)\n",
      "solver outputs incorrect value (got 52.114658415317535, actual 59.00571823120117)\n",
      "solver outputs incorrect value (got 51.14338164264336, actual 60.82886505126953)\n",
      "solver outputs incorrect value (got 52.45382481813431, actual 60.71037292480469)\n",
      "solver outputs incorrect value (got 54.474571760743856, actual 61.26218032836914)\n",
      "solver outputs incorrect value (got 52.46623137593269, actual 58.81166458129883)\n",
      "solver outputs incorrect value (got 55.88965591788292, actual 62.76085662841797)\n",
      "solver outputs incorrect value (got 63.249369382858276, actual 69.43064880371094)\n",
      "solver outputs incorrect value (got 65.61175000667572, actual 72.01871490478516)\n",
      "solver outputs incorrect value (got 54.728007186204195, actual 62.934329986572266)\n",
      "solver outputs incorrect value (got 60.1717808842659, actual 67.67269897460938)\n",
      "solver outputs incorrect value (got 53.91214168071747, actual 60.0504264831543)\n",
      "solver outputs incorrect value (got 54.894816398620605, actual 63.08980178833008)\n",
      "solver outputs incorrect value (got 51.66436179727316, actual 59.642906188964844)\n",
      "solver outputs incorrect value (got 53.94710439443588, actual 61.55156326293945)\n",
      "solver outputs incorrect value (got 43.31927064061165, actual 51.73033142089844)\n",
      "solver outputs incorrect value (got 46.82840967178345, actual 56.565101623535156)\n",
      "solver outputs incorrect value (got 47.73227734491229, actual 58.10883331298828)\n",
      "solver outputs incorrect value (got 53.431818418204784, actual 61.16936492919922)\n",
      "solver outputs incorrect value (got 45.02229231595993, actual 51.42150115966797)\n",
      "solver outputs incorrect value (got 54.48921342007816, actual 60.959129333496094)\n",
      "solver outputs incorrect value (got 52.99554592370987, actual 62.35403823852539)\n",
      "solver outputs incorrect value (got 51.22756639122963, actual 56.44921112060547)\n",
      "solver outputs incorrect value (got 52.57925146818161, actual 58.98359680175781)\n",
      "solver outputs incorrect value (got 54.10245996713638, actual 59.421260833740234)\n",
      "solver outputs incorrect value (got 52.862480241805315, actual 58.24406433105469)\n",
      "solver outputs incorrect value (got 59.828877963125706, actual 64.81007385253906)\n",
      "solver outputs incorrect value (got 49.80780464410782, actual 56.27183532714844)\n",
      "solver outputs incorrect value (got 47.79684606194496, actual 54.20256423950195)\n",
      "solver outputs incorrect value (got 56.70915824174881, actual 65.56958770751953)\n",
      "solver outputs incorrect value (got 52.79448464512825, actual 62.66445541381836)\n",
      "solver outputs incorrect value (got 52.574578046798706, actual 62.94047546386719)\n",
      "solver outputs incorrect value (got 51.073328390717506, actual 57.9990348815918)\n",
      "solver outputs incorrect value (got 54.948036909103394, actual 63.484397888183594)\n",
      "solver outputs incorrect value (got 55.55029830336571, actual 65.17301940917969)\n",
      "solver outputs incorrect value (got 58.16979148611426, actual 67.734619140625)\n",
      "solver outputs incorrect value (got 57.92338389158249, actual 65.1062240600586)\n",
      "solver outputs incorrect value (got 57.66136182844639, actual 62.5816650390625)\n",
      "solver outputs incorrect value (got 55.94728058576584, actual 65.01031494140625)\n",
      "solver outputs incorrect value (got 52.70676535367966, actual 58.69609451293945)\n",
      "solver outputs incorrect value (got 49.050315618515015, actual 56.731929779052734)\n",
      "solver outputs incorrect value (got 57.1734364926815, actual 68.12448120117188)\n",
      "solver outputs incorrect value (got 50.24810969829559, actual 56.1231575012207)\n",
      "solver outputs incorrect value (got 62.64547351002693, actual 63.169960021972656)\n",
      "solver outputs incorrect value (got 51.58133182208985, actual 57.41693878173828)\n",
      "solver outputs incorrect value (got 54.430168837308884, actual 62.03335952758789)\n",
      "solver outputs incorrect value (got 53.54568091034889, actual 62.55941390991211)\n",
      "solver outputs incorrect value (got 49.70184916257858, actual 56.215248107910156)\n",
      "solver outputs incorrect value (got 50.64381209015846, actual 53.086822509765625)\n",
      "solver outputs incorrect value (got 55.12360070645809, actual 60.20867156982422)\n",
      "solver outputs incorrect value (got 49.88012669980526, actual 55.342445373535156)\n",
      "solver outputs incorrect value (got 55.67284034192562, actual 64.18302917480469)\n",
      "solver outputs incorrect value (got 60.33727152645588, actual 68.24740600585938)\n",
      "solver outputs incorrect value (got 58.713182397186756, actual 68.37653350830078)\n",
      "solver outputs incorrect value (got 54.623231574893, actual 66.50293731689453)\n",
      "solver outputs incorrect value (got 52.61991833150387, actual 59.32017517089844)\n",
      "solver outputs incorrect value (got 48.502973794937134, actual 58.46531677246094)\n",
      "solver outputs incorrect value (got 48.77750404179096, actual 58.05458068847656)\n",
      "solver outputs incorrect value (got 45.53509697318077, actual 52.97138977050781)\n",
      "solver outputs incorrect value (got 61.8922943174839, actual 64.5947265625)\n",
      "solver outputs incorrect value (got 58.51388065516949, actual 64.91587829589844)\n",
      "solver outputs incorrect value (got 47.4866808950901, actual 56.7528190612793)\n",
      "solver outputs incorrect value (got 55.49624454975128, actual 63.24789810180664)\n",
      "solver outputs incorrect value (got 48.028712540864944, actual 49.86363220214844)\n"
     ]
    },
    {
     "name": "stdout",
     "output_type": "stream",
     "text": [
      "solver outputs incorrect value (got 57.75276492815465, actual 62.81904983520508)\n",
      "solver outputs incorrect value (got 45.933306127786636, actual 51.5599365234375)\n",
      "solver outputs incorrect value (got 48.734740652143955, actual 55.182430267333984)\n",
      "solver outputs incorrect value (got 48.96376818418503, actual 59.665061950683594)\n",
      "solver outputs incorrect value (got 47.1704124212265, actual 56.05052185058594)\n",
      "solver outputs incorrect value (got 52.7172589302063, actual 62.82904815673828)\n",
      "solver outputs incorrect value (got 52.187460243701935, actual 59.76036071777344)\n",
      "solver outputs incorrect value (got 58.35999542474747, actual 63.93376922607422)\n",
      "solver outputs incorrect value (got 51.26465791463852, actual 57.95883560180664)\n",
      "solver outputs incorrect value (got 53.56761712580919, actual 58.706443786621094)\n",
      "solver outputs incorrect value (got 52.03050947189331, actual 58.967132568359375)\n",
      "solver outputs incorrect value (got 56.64494113624096, actual 62.89456558227539)\n",
      "solver outputs incorrect value (got 49.33369156718254, actual 57.862945556640625)\n",
      "solver outputs incorrect value (got 51.77825170755386, actual 59.35561752319336)\n",
      "solver outputs incorrect value (got 53.03641265630722, actual 60.083797454833984)\n",
      "solver outputs incorrect value (got 53.86515158414841, actual 65.25404357910156)\n",
      "solver outputs incorrect value (got 46.835133746266365, actual 54.7705078125)\n",
      "solver outputs incorrect value (got 56.871065117418766, actual 63.30392837524414)\n",
      "solver outputs incorrect value (got 49.90194928646088, actual 60.65904235839844)\n",
      "solver outputs incorrect value (got 56.70392921566963, actual 65.58538818359375)\n",
      "solver outputs incorrect value (got 56.101624831557274, actual 63.171043395996094)\n",
      "solver outputs incorrect value (got 56.04628802835941, actual 64.28672790527344)\n",
      "solver outputs incorrect value (got 52.52812111377716, actual 56.24874496459961)\n",
      "solver outputs incorrect value (got 49.04242823179811, actual 57.15574264526367)\n",
      "solver outputs incorrect value (got 45.169612646102905, actual 51.6707878112793)\n",
      "solver outputs incorrect value (got 56.30293381214142, actual 63.83833694458008)\n",
      "solver outputs incorrect value (got 64.50527083873749, actual 71.7566909790039)\n",
      "solver outputs incorrect value (got 53.769800037145615, actual 58.37227249145508)\n",
      "solver outputs incorrect value (got 54.04842692613602, actual 64.7569351196289)\n",
      "solver outputs incorrect value (got 46.25472007319331, actual 53.79362106323242)\n",
      "solver outputs incorrect value (got 54.25535187125206, actual 65.58582305908203)\n",
      "solver outputs incorrect value (got 48.86620119214058, actual 54.00017547607422)\n",
      "solver outputs incorrect value (got 52.67778563126922, actual 59.22210693359375)\n",
      "solver outputs incorrect value (got 53.59712642431259, actual 62.070404052734375)\n",
      "solver outputs incorrect value (got 54.040780544281006, actual 58.369049072265625)\n",
      "solver outputs incorrect value (got 55.125561982393265, actual 62.991878509521484)\n",
      "solver outputs incorrect value (got 61.23203006386757, actual 67.27381896972656)\n",
      "solver outputs incorrect value (got 53.5536624789238, actual 58.55073928833008)\n",
      "solver outputs incorrect value (got 50.659513384103775, actual 56.72099685668945)\n",
      "solver outputs incorrect value (got 55.97945222258568, actual 61.036720275878906)\n",
      "solver outputs incorrect value (got 52.464383482933044, actual 63.55988311767578)\n",
      "solver outputs incorrect value (got 48.84138762950897, actual 53.865501403808594)\n",
      "solver outputs incorrect value (got 48.62577950954437, actual 53.06222152709961)\n",
      "solver outputs incorrect value (got 56.68783754110336, actual 62.31547546386719)\n",
      "solver outputs incorrect value (got 46.962239772081375, actual 59.289817810058594)\n",
      "solver outputs incorrect value (got 52.11680480837822, actual 58.100181579589844)\n",
      "solver outputs incorrect value (got 52.20876416563988, actual 60.09592056274414)\n",
      "solver outputs incorrect value (got 56.68428489565849, actual 61.911888122558594)\n",
      "solver outputs incorrect value (got 51.74141010642052, actual 53.124176025390625)\n",
      "solver outputs incorrect value (got 52.81821894645691, actual 57.62767028808594)\n",
      "solver outputs incorrect value (got 49.88456839323044, actual 54.13920593261719)\n",
      "solver outputs incorrect value (got 53.686889708042145, actual 61.61982727050781)\n",
      "solver outputs incorrect value (got 45.968258053064346, actual 54.86790466308594)\n",
      "solver outputs incorrect value (got 50.41490030288696, actual 59.9296875)\n",
      "solver outputs incorrect value (got 50.264138489961624, actual 56.57579040527344)\n",
      "solver outputs incorrect value (got 46.86211692435609, actual 53.38177490234375)\n",
      "solver outputs incorrect value (got 57.02079029381275, actual 65.79601287841797)\n",
      "solver outputs incorrect value (got 47.11633458733559, actual 54.3426628112793)\n",
      "solver outputs incorrect value (got 49.87623903155327, actual 56.88298797607422)\n",
      "solver outputs incorrect value (got 61.00669368356466, actual 69.53416442871094)\n",
      "solver outputs incorrect value (got 49.93067682534456, actual 57.719947814941406)\n",
      "solver outputs incorrect value (got 50.80389383435249, actual 58.37359619140625)\n",
      "solver outputs incorrect value (got 51.62887477874756, actual 58.23739242553711)\n",
      "solver outputs incorrect value (got 43.653294146060944, actual 53.178165435791016)\n",
      "solver outputs incorrect value (got 50.25573721528053, actual 53.913818359375)\n",
      "solver outputs incorrect value (got 54.92881289124489, actual 60.17573928833008)\n",
      "solver outputs incorrect value (got 56.935355484485626, actual 65.84129333496094)\n",
      "solver outputs incorrect value (got 56.39189819060266, actual 65.45258331298828)\n",
      "solver outputs incorrect value (got 50.8484455011785, actual 57.89231872558594)\n",
      "solver outputs incorrect value (got 49.44128775596619, actual 59.5831184387207)\n",
      "solver outputs incorrect value (got 57.245821833610535, actual 60.722469329833984)\n",
      "solver outputs incorrect value (got 47.38350349664688, actual 56.82563018798828)\n",
      "solver outputs incorrect value (got 44.002109691500664, actual 49.25957107543945)\n",
      "solver outputs incorrect value (got 54.37390065193176, actual 62.21669387817383)\n",
      "solver outputs incorrect value (got 51.46335580945015, actual 62.920352935791016)\n",
      "solver outputs incorrect value (got 58.11669389158487, actual 62.2926139831543)\n",
      "solver outputs incorrect value (got 52.596084885299206, actual 61.43500900268555)\n",
      "solver outputs incorrect value (got 58.52524148626253, actual 63.92264938354492)\n",
      "solver outputs incorrect value (got 62.9731103181839, actual 67.88868713378906)\n",
      "solver outputs incorrect value (got 51.93733212351799, actual 58.29792022705078)\n",
      "solver outputs incorrect value (got 45.02646617591381, actual 55.59828186035156)\n",
      "solver outputs incorrect value (got 59.11622965335846, actual 65.50935363769531)\n",
      "solver outputs incorrect value (got 47.76163616357371, actual 54.953224182128906)\n",
      "solver outputs incorrect value (got 54.837264865636826, actual 63.78119659423828)\n",
      "solver outputs incorrect value (got 51.18160507082939, actual 59.63556671142578)\n",
      "solver outputs incorrect value (got 52.75759321451187, actual 59.99114990234375)\n",
      "solver outputs incorrect value (got 48.97541826590896, actual 58.11594009399414)\n",
      "solver outputs incorrect value (got 52.19628942012787, actual 60.661014556884766)\n",
      "solver outputs incorrect value (got 62.63443723320961, actual 69.697998046875)\n",
      "solver outputs incorrect value (got 46.99756895005703, actual 50.224822998046875)\n",
      "solver outputs incorrect value (got 63.65731763839722, actual 67.63361358642578)\n",
      "solver outputs incorrect value (got 51.578882932662964, actual 54.48023986816406)\n",
      "solver outputs incorrect value (got 43.96161665022373, actual 51.658409118652344)\n",
      "solver outputs incorrect value (got 54.38556161522865, actual 62.102569580078125)\n",
      "solver outputs incorrect value (got 56.604218646883965, actual 61.96026611328125)\n",
      "solver outputs incorrect value (got 44.84100101701915, actual 55.5230827331543)\n",
      "solver outputs incorrect value (got 50.77672690153122, actual 56.434326171875)\n",
      "solver outputs incorrect value (got 51.61222004890442, actual 57.328765869140625)\n",
      "solver outputs incorrect value (got 57.81237514317036, actual 68.1051254272461)\n",
      "solver outputs incorrect value (got 53.95380462706089, actual 65.59846496582031)\n",
      "solver outputs incorrect value (got 53.69524300098419, actual 58.18706130981445)\n"
     ]
    },
    {
     "name": "stdout",
     "output_type": "stream",
     "text": [
      "solver outputs incorrect value (got 50.83274146914482, actual 57.96160125732422)\n",
      "solver outputs incorrect value (got 53.21504789282335, actual 62.4484977722168)\n",
      "solver outputs incorrect value (got 55.38301455974579, actual 63.37984085083008)\n",
      "solver outputs incorrect value (got 50.97127765417099, actual 61.00724411010742)\n",
      "solver outputs incorrect value (got 39.99444341659546, actual 50.23088073730469)\n",
      "solver outputs incorrect value (got 55.45690280199051, actual 58.033668518066406)\n",
      "solver outputs incorrect value (got 44.67476287484169, actual 54.711238861083984)\n",
      "solver outputs incorrect value (got 47.94948276877403, actual 54.124515533447266)\n",
      "solver outputs incorrect value (got 46.11927714943886, actual 49.19157409667969)\n",
      "solver outputs incorrect value (got 60.844832330942154, actual 66.42032623291016)\n",
      "solver outputs incorrect value (got 58.235127389431, actual 61.75398635864258)\n",
      "solver outputs incorrect value (got 57.47826348245144, actual 63.53126907348633)\n",
      "solver outputs incorrect value (got 49.14734926819801, actual 54.482975006103516)\n",
      "solver outputs incorrect value (got 55.715260684490204, actual 60.18780517578125)\n",
      "solver outputs incorrect value (got 44.20817032456398, actual 52.47505569458008)\n",
      "solver outputs incorrect value (got 50.32665619626641, actual 56.541526794433594)\n",
      "solver outputs incorrect value (got 56.482432186603546, actual 67.45006561279297)\n",
      "solver outputs incorrect value (got 51.571640852838755, actual 59.967803955078125)\n",
      "solver outputs incorrect value (got 58.82116171717644, actual 62.88815689086914)\n",
      "solver outputs incorrect value (got 50.534787714481354, actual 57.146671295166016)\n",
      "solver outputs incorrect value (got 50.77707176283002, actual 59.73497772216797)\n",
      "solver outputs incorrect value (got 45.07573822140694, actual 58.7545051574707)\n",
      "solver outputs incorrect value (got 50.61650101840496, actual 54.84055709838867)\n",
      "solver outputs incorrect value (got 47.781286388635635, actual 57.34769058227539)\n",
      "solver outputs incorrect value (got 65.70452311635017, actual 70.8365478515625)\n",
      "solver outputs incorrect value (got 47.42828619480133, actual 50.39250183105469)\n",
      "solver outputs incorrect value (got 59.56788206100464, actual 65.95814514160156)\n",
      "solver outputs incorrect value (got 57.125580072402954, actual 65.89945983886719)\n",
      "solver outputs incorrect value (got 51.13983863592148, actual 60.94246292114258)\n",
      "solver outputs incorrect value (got 52.45084749162197, actual 59.63407897949219)\n",
      "solver outputs incorrect value (got 47.8968061208725, actual 58.95988464355469)\n",
      "solver outputs incorrect value (got 61.778979897499084, actual 67.54664611816406)\n",
      "solver outputs incorrect value (got 50.95862492918968, actual 55.232872009277344)\n",
      "solver outputs incorrect value (got 48.298398120328784, actual 53.13996124267578)\n",
      "solver outputs incorrect value (got 47.39389842003584, actual 57.54728698730469)\n",
      "solver outputs incorrect value (got 47.8725880086422, actual 56.3572998046875)\n",
      "solver outputs incorrect value (got 48.05252629518509, actual 59.311805725097656)\n",
      "solver outputs incorrect value (got 46.94388061761856, actual 50.63530349731445)\n",
      "solver outputs incorrect value (got 49.07171228528023, actual 57.03327560424805)\n",
      "solver outputs incorrect value (got 50.591052286326885, actual 58.940711975097656)\n",
      "solver outputs incorrect value (got 52.45679511129856, actual 58.75432586669922)\n",
      "solver outputs incorrect value (got 47.028212547302246, actual 52.611942291259766)\n",
      "solver outputs incorrect value (got 56.314349092543125, actual 61.82959747314453)\n",
      "solver outputs incorrect value (got 54.61035015434027, actual 63.89209747314453)\n",
      "solver outputs incorrect value (got 43.99928389489651, actual 48.77421951293945)\n",
      "solver outputs incorrect value (got 58.438861671835184, actual 64.84224700927734)\n",
      "solver outputs incorrect value (got 54.925588462501764, actual 61.31697463989258)\n",
      "solver outputs incorrect value (got 50.232139371335506, actual 60.237613677978516)\n",
      "solver outputs incorrect value (got 51.03955018520355, actual 59.51468276977539)\n",
      "solver outputs incorrect value (got 43.2901201993227, actual 52.902122497558594)\n",
      "solver outputs incorrect value (got 53.47531735897064, actual 61.202571868896484)\n",
      "solver outputs incorrect value (got 45.063811749219894, actual 55.936012268066406)\n",
      "solver outputs incorrect value (got 53.18795192241669, actual 59.03293228149414)\n",
      "solver outputs incorrect value (got 54.07964929938316, actual 62.76570129394531)\n",
      "solver outputs incorrect value (got 48.615478709340096, actual 59.21369552612305)\n",
      "solver outputs incorrect value (got 49.16963276267052, actual 57.474281311035156)\n",
      "solver outputs incorrect value (got 54.56906422972679, actual 63.37898635864258)\n",
      "solver outputs incorrect value (got 48.347483575344086, actual 57.21244812011719)\n",
      "solver outputs incorrect value (got 46.73157414793968, actual 53.565269470214844)\n",
      "solver outputs incorrect value (got 48.68513610959053, actual 56.38336944580078)\n",
      "solver outputs incorrect value (got 60.028884053230286, actual 64.70452880859375)\n",
      "solver outputs incorrect value (got 58.829358130693436, actual 69.5029067993164)\n",
      "solver outputs incorrect value (got 48.277571350336075, actual 54.817970275878906)\n",
      "solver outputs incorrect value (got 51.191152572631836, actual 63.18653106689453)\n",
      "solver outputs incorrect value (got 50.39993654191494, actual 56.312950134277344)\n",
      "solver outputs incorrect value (got 52.973478220403194, actual 63.243934631347656)\n",
      "solver outputs incorrect value (got 60.367573618888855, actual 72.73645782470703)\n",
      "solver outputs incorrect value (got 45.73317430913448, actual 54.550472259521484)\n",
      "solver outputs incorrect value (got 55.231520012021065, actual 64.31153869628906)\n",
      "solver outputs incorrect value (got 53.70527267456055, actual 65.42684173583984)\n",
      "solver outputs incorrect value (got 54.37959140539169, actual 61.55649185180664)\n",
      "solver outputs incorrect value (got 43.16043385863304, actual 51.716583251953125)\n",
      "solver outputs incorrect value (got 50.22862081229687, actual 57.96338653564453)\n",
      "solver outputs incorrect value (got 48.675218284130096, actual 55.13262176513672)\n",
      "solver outputs incorrect value (got 55.64631533622742, actual 62.385101318359375)\n",
      "solver outputs incorrect value (got 57.238357067108154, actual 64.3715591430664)\n",
      "solver outputs incorrect value (got 46.884122878313065, actual 56.73748016357422)\n",
      "solver outputs incorrect value (got 56.199842259287834, actual 64.94075012207031)\n",
      "solver outputs incorrect value (got 45.864407271146774, actual 51.83219909667969)\n",
      "solver outputs incorrect value (got 62.5913525223732, actual 66.65090942382812)\n",
      "solver outputs incorrect value (got 55.318055331707, actual 62.01194381713867)\n",
      "solver outputs incorrect value (got 53.11918079853058, actual 60.72223663330078)\n",
      "solver outputs incorrect value (got 47.23585022985935, actual 54.922977447509766)\n",
      "solver outputs incorrect value (got 51.55035559087992, actual 56.580291748046875)\n",
      "solver outputs incorrect value (got 45.787753492593765, actual 55.4156379699707)\n",
      "solver outputs incorrect value (got 58.31340766698122, actual 62.89752197265625)\n",
      "solver outputs incorrect value (got 50.5052874982357, actual 57.78966522216797)\n",
      "solver outputs incorrect value (got 52.73718070983887, actual 57.936405181884766)\n",
      "solver outputs incorrect value (got 55.01199281215668, actual 58.59300231933594)\n",
      "solver outputs incorrect value (got 46.79605329036713, actual 56.426475524902344)\n",
      "solver outputs incorrect value (got 56.07701191306114, actual 63.70254898071289)\n",
      "solver outputs incorrect value (got 56.217220954596996, actual 63.284873962402344)\n",
      "solver outputs incorrect value (got 56.19815996289253, actual 62.5003662109375)\n",
      "solver outputs incorrect value (got 58.06932969391346, actual 63.50870895385742)\n",
      "solver outputs incorrect value (got 52.396558344364166, actual 57.356178283691406)\n",
      "solver outputs incorrect value (got 57.80507545173168, actual 69.67503356933594)\n"
     ]
    },
    {
     "data": {
      "text/plain": [
       "59.986713"
      ]
     },
     "execution_count": 60,
     "metadata": {},
     "output_type": "execute_result"
    }
   ],
   "source": [
    "evaluate(lambda qap: agents[-1].solve(mirror(qap)), 'medium_random_graphs', 500)"
   ]
  },
  {
   "cell_type": "code",
   "execution_count": 61,
   "metadata": {
    "scrolled": true
   },
   "outputs": [
    {
     "name": "stdout",
     "output_type": "stream",
     "text": [
      "solver outputs incorrect value (got 12.829694986343384, actual 15.990316390991211)\n",
      "solver outputs incorrect value (got 14.958448231220245, actual 17.397720336914062)\n",
      "solver outputs incorrect value (got 12.224725686013699, actual 12.743021011352539)\n",
      "solver outputs incorrect value (got 13.535929948091507, actual 16.144622802734375)\n",
      "solver outputs incorrect value (got 14.924028992652893, actual 15.894733428955078)\n",
      "solver outputs incorrect value (got 11.950022898614407, actual 12.804084777832031)\n",
      "solver outputs incorrect value (got 11.009913004934788, actual 12.794928550720215)\n",
      "solver outputs incorrect value (got 11.443582870066166, actual 13.168905258178711)\n",
      "solver outputs incorrect value (got 9.812325403094292, actual 12.278125762939453)\n",
      "solver outputs incorrect value (got 13.295435577630997, actual 15.093351364135742)\n",
      "solver outputs incorrect value (got 10.739628911018372, actual 12.795788764953613)\n",
      "solver outputs incorrect value (got 10.778914749622345, actual 14.402247428894043)\n",
      "solver outputs incorrect value (got 14.68189400434494, actual 17.384498596191406)\n",
      "solver outputs incorrect value (got 10.482382774353027, actual 11.774408340454102)\n",
      "solver outputs incorrect value (got 9.625204155221581, actual 11.561822891235352)\n",
      "solver outputs incorrect value (got 13.074337035417557, actual 14.31419563293457)\n",
      "solver outputs incorrect value (got 12.199124980717897, actual 13.605359077453613)\n",
      "solver outputs incorrect value (got 10.482648760080338, actual 13.18734359741211)\n",
      "solver outputs incorrect value (got 10.114072740077972, actual 12.538905143737793)\n",
      "solver outputs incorrect value (got 9.254145801067352, actual 11.801655769348145)\n",
      "solver outputs incorrect value (got 9.37896453589201, actual 10.227131843566895)\n",
      "solver outputs incorrect value (got 14.098223335109651, actual 15.582538604736328)\n",
      "solver outputs incorrect value (got 13.970068752765656, actual 16.703994750976562)\n",
      "solver outputs incorrect value (got 11.784296318888664, actual 13.75308895111084)\n",
      "solver outputs incorrect value (got 11.020195361226797, actual 13.223159790039062)\n",
      "solver outputs incorrect value (got 15.261043481528759, actual 16.545223236083984)\n",
      "solver outputs incorrect value (got 11.073966949246824, actual 13.669663429260254)\n",
      "solver outputs incorrect value (got 10.962977021932602, actual 12.344982147216797)\n",
      "solver outputs incorrect value (got 17.6981782913208, actual 18.910120010375977)\n",
      "solver outputs incorrect value (got 12.59795966744423, actual 15.474540710449219)\n",
      "solver outputs incorrect value (got 11.644293375313282, actual 14.888236045837402)\n",
      "solver outputs incorrect value (got 10.41755736619234, actual 12.785745620727539)\n",
      "solver outputs incorrect value (got 14.83636075258255, actual 15.846895217895508)\n",
      "solver outputs incorrect value (got 14.874227821826935, actual 17.445045471191406)\n",
      "solver outputs incorrect value (got 11.853578090667725, actual 15.266254425048828)\n",
      "solver outputs incorrect value (got 11.408919274806976, actual 14.280960083007812)\n",
      "solver outputs incorrect value (got 8.992480620741844, actual 12.505189895629883)\n",
      "solver outputs incorrect value (got 14.478639870882034, actual 14.780401229858398)\n",
      "solver outputs incorrect value (got 11.800002232193947, actual 12.782629013061523)\n",
      "solver outputs incorrect value (got 11.92249858379364, actual 12.834339141845703)\n",
      "solver outputs incorrect value (got 11.546786576509476, actual 14.828712463378906)\n",
      "solver outputs incorrect value (got 13.735014079138637, actual 13.978307723999023)\n",
      "solver outputs incorrect value (got 13.409028425812721, actual 14.818460464477539)\n",
      "solver outputs incorrect value (got 9.18868625164032, actual 12.947176933288574)\n",
      "solver outputs incorrect value (got 15.104500621557236, actual 16.944679260253906)\n",
      "solver outputs incorrect value (got 10.553479582071304, actual 13.606600761413574)\n",
      "solver outputs incorrect value (got 14.07974362373352, actual 15.009618759155273)\n",
      "solver outputs incorrect value (got 10.003639966249466, actual 11.43702507019043)\n",
      "solver outputs incorrect value (got 11.416309863328934, actual 12.535139083862305)\n",
      "solver outputs incorrect value (got 12.92666294798255, actual 14.043691635131836)\n",
      "solver outputs incorrect value (got 16.67604001867585, actual 17.37346649169922)\n",
      "solver outputs incorrect value (got 13.284588277339935, actual 15.332599639892578)\n",
      "solver outputs incorrect value (got 16.657322868704796, actual 17.679458618164062)\n",
      "solver outputs incorrect value (got 13.193367421627045, actual 14.885420799255371)\n",
      "solver outputs incorrect value (got 12.763018071651459, actual 15.449710845947266)\n",
      "solver outputs incorrect value (got 10.249644249677658, actual 12.191849708557129)\n",
      "solver outputs incorrect value (got 15.534205138683319, actual 17.513111114501953)\n",
      "solver outputs incorrect value (got 11.601766765117645, actual 16.537738800048828)\n",
      "solver outputs incorrect value (got 14.397469699382782, actual 16.417537689208984)\n",
      "solver outputs incorrect value (got 19.068956553936005, actual 21.368873596191406)\n",
      "solver outputs incorrect value (got 15.103628784418106, actual 17.143896102905273)\n",
      "solver outputs incorrect value (got 15.186417043209076, actual 16.475257873535156)\n",
      "solver outputs incorrect value (got 14.485135853290558, actual 15.37518310546875)\n",
      "solver outputs incorrect value (got 16.209864735603333, actual 17.977977752685547)\n",
      "solver outputs incorrect value (got 14.863253954332322, actual 18.08858871459961)\n",
      "solver outputs incorrect value (got 10.540257036685944, actual 14.13217544555664)\n",
      "solver outputs incorrect value (got 13.25606620311737, actual 16.168001174926758)\n",
      "solver outputs incorrect value (got 6.985412687063217, actual 12.055453300476074)\n",
      "solver outputs incorrect value (got 12.196186065673828, actual 13.888284683227539)\n",
      "solver outputs incorrect value (got 11.850842773914337, actual 15.180273056030273)\n",
      "solver outputs incorrect value (got 10.941794991493225, actual 13.55127239227295)\n",
      "solver outputs incorrect value (got 10.751073405146599, actual 14.274192810058594)\n",
      "solver outputs incorrect value (got 11.319093406200409, actual 15.068826675415039)\n",
      "solver outputs incorrect value (got 12.042547672986984, actual 14.330110549926758)\n",
      "solver outputs incorrect value (got 9.332535058259964, actual 12.54438591003418)\n",
      "solver outputs incorrect value (got 13.49502044916153, actual 15.555259704589844)\n",
      "solver outputs incorrect value (got 13.884574592113495, actual 16.74435043334961)\n",
      "solver outputs incorrect value (got 10.285906434059143, actual 13.715326309204102)\n",
      "solver outputs incorrect value (got 13.270898550748825, actual 14.361714363098145)\n",
      "solver outputs incorrect value (got 7.820054352283478, actual 8.795670509338379)\n",
      "solver outputs incorrect value (got 11.217726388946176, actual 11.585658073425293)\n",
      "solver outputs incorrect value (got 10.54638260602951, actual 12.331665992736816)\n",
      "solver outputs incorrect value (got 8.347934007644653, actual 12.488367080688477)\n",
      "solver outputs incorrect value (got 9.456995159387589, actual 10.661589622497559)\n",
      "solver outputs incorrect value (got 11.183108240365982, actual 12.416143417358398)\n",
      "solver outputs incorrect value (got 14.369406551122665, actual 16.727495193481445)\n",
      "solver outputs incorrect value (got 11.754746243357658, actual 15.895108222961426)\n",
      "solver outputs incorrect value (got 9.425375580787659, actual 12.42662239074707)\n",
      "solver outputs incorrect value (got 14.27892966940999, actual 15.325468063354492)\n",
      "solver outputs incorrect value (got 9.625503037124872, actual 10.73410415649414)\n",
      "solver outputs incorrect value (got 10.877223283052444, actual 10.7648344039917)\n",
      "solver outputs incorrect value (got 11.957329897210002, actual 13.673074722290039)\n",
      "solver outputs incorrect value (got 14.482233107089996, actual 15.761013984680176)\n",
      "solver outputs incorrect value (got 13.105612136423588, actual 15.494354248046875)\n",
      "solver outputs incorrect value (got 15.299414813518524, actual 17.697174072265625)\n",
      "solver outputs incorrect value (got 16.489324927330017, actual 17.953083038330078)\n",
      "solver outputs incorrect value (got 10.593281157314777, actual 11.788187026977539)\n",
      "solver outputs incorrect value (got 12.617852807044983, actual 13.062837600708008)\n",
      "solver outputs incorrect value (got 11.078982591629028, actual 13.957903861999512)\n",
      "solver outputs incorrect value (got 17.156899333000183, actual 19.615121841430664)\n",
      "solver outputs incorrect value (got 11.752872824668884, actual 14.683083534240723)\n",
      "solver outputs incorrect value (got 9.850780725479126, actual 12.908214569091797)\n"
     ]
    },
    {
     "name": "stdout",
     "output_type": "stream",
     "text": [
      "solver outputs incorrect value (got 9.90972200781107, actual 11.580865859985352)\n",
      "solver outputs incorrect value (got 10.187393590807915, actual 10.474275588989258)\n",
      "solver outputs incorrect value (got 13.00329178571701, actual 15.098844528198242)\n",
      "solver outputs incorrect value (got 16.67906880378723, actual 17.853309631347656)\n",
      "solver outputs incorrect value (got 9.25515810586512, actual 11.860898971557617)\n",
      "solver outputs incorrect value (got 9.904480755329132, actual 10.893322944641113)\n",
      "solver outputs incorrect value (got 10.964590728282928, actual 14.57613754272461)\n",
      "solver outputs incorrect value (got 10.539275586605072, actual 13.3040132522583)\n",
      "solver outputs incorrect value (got 17.36543995141983, actual 19.58455467224121)\n",
      "solver outputs incorrect value (got 13.459457740187645, actual 14.926559448242188)\n",
      "solver outputs incorrect value (got 12.392851054668427, actual 14.759224891662598)\n",
      "solver outputs incorrect value (got 13.361527025699615, actual 16.237905502319336)\n",
      "solver outputs incorrect value (got 14.564700216054916, actual 17.098590850830078)\n",
      "solver outputs incorrect value (got 10.761102795600891, actual 14.081860542297363)\n",
      "solver outputs incorrect value (got 14.500584542751312, actual 16.87165069580078)\n",
      "solver outputs incorrect value (got 11.459943234920502, actual 12.68918514251709)\n",
      "solver outputs incorrect value (got 9.916238978505135, actual 13.37525749206543)\n",
      "solver outputs incorrect value (got 12.762254059314728, actual 15.621124267578125)\n",
      "solver outputs incorrect value (got 12.273939788341522, actual 14.667614936828613)\n",
      "solver outputs incorrect value (got 11.165629863739014, actual 14.029264450073242)\n",
      "solver outputs incorrect value (got 11.812904596328735, actual 12.618301391601562)\n",
      "solver outputs incorrect value (got 11.97581785172224, actual 12.572477340698242)\n",
      "solver outputs incorrect value (got 16.74808132648468, actual 17.771997451782227)\n",
      "solver outputs incorrect value (got 13.309198319911957, actual 14.657715797424316)\n",
      "solver outputs incorrect value (got 8.92307936027646, actual 12.500064849853516)\n",
      "solver outputs incorrect value (got 8.713028490543365, actual 11.444425582885742)\n",
      "solver outputs incorrect value (got 9.056947514414787, actual 10.092578887939453)\n",
      "solver outputs incorrect value (got 9.853843592107296, actual 10.577630043029785)\n",
      "solver outputs incorrect value (got 12.667050674557686, actual 12.84310531616211)\n",
      "solver outputs incorrect value (got 10.51196101307869, actual 13.759764671325684)\n",
      "solver outputs incorrect value (got 9.959974855184555, actual 11.367063522338867)\n",
      "solver outputs incorrect value (got 14.141659945249557, actual 15.060102462768555)\n",
      "solver outputs incorrect value (got 14.061251141130924, actual 16.89350700378418)\n",
      "solver outputs incorrect value (got 10.690289467573166, actual 13.364786148071289)\n",
      "solver outputs incorrect value (got 12.84313391149044, actual 14.821538925170898)\n",
      "solver outputs incorrect value (got 11.403128385543823, actual 13.514032363891602)\n",
      "solver outputs incorrect value (got 11.065058916807175, actual 12.046504020690918)\n",
      "solver outputs incorrect value (got 11.752802938222885, actual 15.863443374633789)\n",
      "solver outputs incorrect value (got 12.07518881559372, actual 13.581122398376465)\n",
      "solver outputs incorrect value (got 8.895838901400566, actual 11.221138954162598)\n",
      "solver outputs incorrect value (got 11.014426738023758, actual 12.609265327453613)\n",
      "solver outputs incorrect value (got 11.520635545253754, actual 10.916946411132812)\n",
      "solver outputs incorrect value (got 9.569330483675003, actual 11.713029861450195)\n",
      "solver outputs incorrect value (got 13.68323427438736, actual 14.867108345031738)\n",
      "solver outputs incorrect value (got 10.429583132266998, actual 13.011945724487305)\n",
      "solver outputs incorrect value (got 12.601622492074966, actual 15.04708194732666)\n",
      "solver outputs incorrect value (got 10.710040137171745, actual 12.355522155761719)\n",
      "solver outputs incorrect value (got 10.348051676526666, actual 13.640865325927734)\n",
      "solver outputs incorrect value (got 10.392143696546555, actual 13.050810813903809)\n",
      "solver outputs incorrect value (got 16.17314862459898, actual 17.068239212036133)\n",
      "solver outputs incorrect value (got 11.844902038574219, actual 13.38365650177002)\n",
      "solver outputs incorrect value (got 12.497259199619293, actual 12.753796577453613)\n",
      "solver outputs incorrect value (got 9.77107059955597, actual 13.559606552124023)\n",
      "solver outputs incorrect value (got 13.27073884010315, actual 16.3431339263916)\n",
      "solver outputs incorrect value (got 13.436793327331543, actual 14.966083526611328)\n",
      "solver outputs incorrect value (got 8.694180458784103, actual 11.020764350891113)\n",
      "solver outputs incorrect value (got 11.439191460609436, actual 12.524985313415527)\n",
      "solver outputs incorrect value (got 11.749285787343979, actual 16.444894790649414)\n",
      "solver outputs incorrect value (got 9.224129721522331, actual 11.001726150512695)\n",
      "solver outputs incorrect value (got 11.961601942777634, actual 14.965106010437012)\n",
      "solver outputs incorrect value (got 14.358422040939331, actual 16.835895538330078)\n",
      "solver outputs incorrect value (got 12.412122994661331, actual 13.726558685302734)\n",
      "solver outputs incorrect value (got 12.031733736395836, actual 13.913156509399414)\n",
      "solver outputs incorrect value (got 14.20655643939972, actual 16.697265625)\n",
      "solver outputs incorrect value (got 9.535932153463364, actual 10.488950729370117)\n",
      "solver outputs incorrect value (got 10.16544309258461, actual 12.502734184265137)\n",
      "solver outputs incorrect value (got 12.475893750786781, actual 15.675174713134766)\n",
      "solver outputs incorrect value (got 11.107967525720596, actual 10.79068374633789)\n",
      "solver outputs incorrect value (got 11.043038979172707, actual 12.716426849365234)\n",
      "solver outputs incorrect value (got 15.66396814584732, actual 16.808212280273438)\n",
      "solver outputs incorrect value (got 12.77063399553299, actual 14.774343490600586)\n",
      "solver outputs incorrect value (got 10.519431978464127, actual 14.045942306518555)\n",
      "solver outputs incorrect value (got 12.462771967053413, actual 13.14522647857666)\n",
      "solver outputs incorrect value (got 10.264077574014664, actual 11.803720474243164)\n",
      "solver outputs incorrect value (got 11.07237446308136, actual 13.14548110961914)\n",
      "solver outputs incorrect value (got 9.274743720889091, actual 10.82278823852539)\n",
      "solver outputs incorrect value (got 7.914136052131653, actual 10.006999969482422)\n",
      "solver outputs incorrect value (got 8.910744488239288, actual 12.02227783203125)\n",
      "solver outputs incorrect value (got 8.804136984050274, actual 9.929201126098633)\n",
      "solver outputs incorrect value (got 13.31930786371231, actual 14.988615036010742)\n",
      "solver outputs incorrect value (got 12.222590535879135, actual 14.871370315551758)\n",
      "solver outputs incorrect value (got 11.628773182630539, actual 12.476152420043945)\n",
      "solver outputs incorrect value (got 10.495202332735062, actual 12.752935409545898)\n",
      "solver outputs incorrect value (got 9.728009164333344, actual 12.050300598144531)\n",
      "solver outputs incorrect value (got 10.71065354347229, actual 12.599113464355469)\n",
      "solver outputs incorrect value (got 13.314069986343384, actual 14.175575256347656)\n",
      "solver outputs incorrect value (got 12.06417852640152, actual 13.39962387084961)\n",
      "solver outputs incorrect value (got 16.071894213557243, actual 18.631887435913086)\n",
      "solver outputs incorrect value (got 12.112486824393272, actual 11.679072380065918)\n",
      "solver outputs incorrect value (got 10.765127774327993, actual 12.564920425415039)\n",
      "solver outputs incorrect value (got 12.354762256145477, actual 13.208995819091797)\n",
      "solver outputs incorrect value (got 14.710874855518341, actual 16.88997459411621)\n",
      "solver outputs incorrect value (got 16.438733220100403, actual 19.488943099975586)\n",
      "solver outputs incorrect value (got 12.150690257549286, actual 14.269771575927734)\n",
      "solver outputs incorrect value (got 8.628523051738739, actual 12.004923820495605)\n",
      "solver outputs incorrect value (got 13.570647686719894, actual 15.67880630493164)\n",
      "solver outputs incorrect value (got 15.693938136100769, actual 17.040979385375977)\n",
      "solver outputs incorrect value (got 8.343660086393356, actual 11.091496467590332)\n",
      "solver outputs incorrect value (got 13.646107614040375, actual 15.718189239501953)\n",
      "solver outputs incorrect value (got 9.90775865316391, actual 10.619153022766113)\n",
      "solver outputs incorrect value (got 13.729628503322601, actual 16.263404846191406)\n"
     ]
    },
    {
     "name": "stdout",
     "output_type": "stream",
     "text": [
      "solver outputs incorrect value (got 11.728026330471039, actual 12.843334197998047)\n",
      "solver outputs incorrect value (got 12.462341159582138, actual 14.925896644592285)\n",
      "solver outputs incorrect value (got 7.984726779162884, actual 11.914514541625977)\n",
      "solver outputs incorrect value (got 11.593078196048737, actual 14.87825870513916)\n",
      "solver outputs incorrect value (got 8.025844492018223, actual 12.33630084991455)\n",
      "solver outputs incorrect value (got 12.0622149258852, actual 13.692827224731445)\n",
      "solver outputs incorrect value (got 16.116718888282776, actual 18.074031829833984)\n",
      "solver outputs incorrect value (got 12.203712165355682, actual 14.976927757263184)\n",
      "solver outputs incorrect value (got 15.31250113248825, actual 15.883572578430176)\n",
      "solver outputs incorrect value (got 9.85312204156071, actual 13.393867492675781)\n",
      "solver outputs incorrect value (got 10.40248292684555, actual 13.360122680664062)\n",
      "solver outputs incorrect value (got 10.481021404266357, actual 12.84471607208252)\n",
      "solver outputs incorrect value (got 11.351471617817879, actual 13.877077102661133)\n",
      "solver outputs incorrect value (got 12.951403513550758, actual 17.187782287597656)\n",
      "solver outputs incorrect value (got 9.844358116388321, actual 13.229387283325195)\n",
      "solver outputs incorrect value (got 16.719051778316498, actual 17.01870346069336)\n",
      "solver outputs incorrect value (got 9.1233831346035, actual 12.261497497558594)\n",
      "solver outputs incorrect value (got 8.240581065416336, actual 10.408651351928711)\n",
      "solver outputs incorrect value (got 11.828726083040237, actual 13.730941772460938)\n",
      "solver outputs incorrect value (got 12.340855984482914, actual 14.799776077270508)\n",
      "solver outputs incorrect value (got 9.160943944007158, actual 9.776281356811523)\n",
      "solver outputs incorrect value (got 16.893656820058823, actual 17.99259376525879)\n",
      "solver outputs incorrect value (got 10.408477252349257, actual 10.245744705200195)\n",
      "solver outputs incorrect value (got 18.655107736587524, actual 19.882436752319336)\n",
      "solver outputs incorrect value (got 11.670403391122818, actual 13.910406112670898)\n",
      "solver outputs incorrect value (got 8.023737572133541, actual 8.516603469848633)\n",
      "solver outputs incorrect value (got 9.275024741888046, actual 10.029203414916992)\n",
      "solver outputs incorrect value (got 12.490052074193954, actual 14.50067138671875)\n",
      "solver outputs incorrect value (got 10.320035606622696, actual 13.989537239074707)\n",
      "solver outputs incorrect value (got 12.174879223108292, actual 13.724437713623047)\n",
      "solver outputs incorrect value (got 10.636616598814726, actual 12.776309967041016)\n",
      "solver outputs incorrect value (got 11.357696684077382, actual 11.762931823730469)\n",
      "solver outputs incorrect value (got 15.8997981576249, actual 19.139331817626953)\n",
      "solver outputs incorrect value (got 16.494076246395707, actual 17.779842376708984)\n",
      "solver outputs incorrect value (got 14.377688735723495, actual 17.64430809020996)\n",
      "solver outputs incorrect value (got 9.379978977143764, actual 9.571755409240723)\n",
      "solver outputs incorrect value (got 9.135637700557709, actual 11.822468757629395)\n",
      "solver outputs incorrect value (got 13.494552448391914, actual 16.888498306274414)\n",
      "solver outputs incorrect value (got 8.458794496953487, actual 11.067140579223633)\n",
      "solver outputs incorrect value (got 16.36965399608016, actual 18.617494583129883)\n",
      "solver outputs incorrect value (got 12.682208627462387, actual 16.23019027709961)\n",
      "solver outputs incorrect value (got 13.722216069698334, actual 16.131824493408203)\n",
      "solver outputs incorrect value (got 10.532399982213974, actual 11.24627685546875)\n",
      "solver outputs incorrect value (got 13.847798109054565, actual 16.869733810424805)\n",
      "solver outputs incorrect value (got 10.104510128498077, actual 11.573750495910645)\n",
      "solver outputs incorrect value (got 16.023463785648346, actual 18.845300674438477)\n",
      "solver outputs incorrect value (got 11.653136610984802, actual 12.424065589904785)\n",
      "solver outputs incorrect value (got 14.988224923610687, actual 18.283233642578125)\n",
      "solver outputs incorrect value (got 11.758005365729332, actual 14.098099708557129)\n",
      "solver outputs incorrect value (got 9.979367673397064, actual 12.342718124389648)\n",
      "solver outputs incorrect value (got 10.898641020059586, actual 12.407726287841797)\n",
      "solver outputs incorrect value (got 12.594485610723495, actual 16.431377410888672)\n",
      "solver outputs incorrect value (got 10.219565469771624, actual 13.937021255493164)\n",
      "solver outputs incorrect value (got 10.90134733170271, actual 14.568426132202148)\n",
      "solver outputs incorrect value (got 10.278918981552124, actual 13.333423614501953)\n",
      "solver outputs incorrect value (got 11.139434091746807, actual 11.5677490234375)\n",
      "solver outputs incorrect value (got 13.719070732593536, actual 15.874000549316406)\n",
      "solver outputs incorrect value (got 12.303999930620193, actual 14.781163215637207)\n",
      "solver outputs incorrect value (got 10.257555916905403, actual 14.53587532043457)\n",
      "solver outputs incorrect value (got 6.6341363824903965, actual 9.822492599487305)\n",
      "solver outputs incorrect value (got 12.366203546524048, actual 13.901676177978516)\n",
      "solver outputs incorrect value (got 9.289106339216232, actual 11.518803596496582)\n",
      "solver outputs incorrect value (got 14.687883153557777, actual 17.187416076660156)\n",
      "solver outputs incorrect value (got 12.719767967239022, actual 17.10747528076172)\n",
      "solver outputs incorrect value (got 14.465343445539474, actual 17.86737060546875)\n",
      "solver outputs incorrect value (got 5.510338647291064, actual 8.732478141784668)\n",
      "solver outputs incorrect value (got 10.652714192867279, actual 12.11363697052002)\n",
      "solver outputs incorrect value (got 11.044643521308899, actual 14.642284393310547)\n",
      "solver outputs incorrect value (got 15.602120742201805, actual 18.02082061767578)\n",
      "solver outputs incorrect value (got 13.781270235776901, actual 15.409469604492188)\n",
      "solver outputs incorrect value (got 13.345319777727127, actual 16.110933303833008)\n",
      "solver outputs incorrect value (got 13.763209610246122, actual 16.163959503173828)\n",
      "solver outputs incorrect value (got 10.762309551239014, actual 12.480335235595703)\n",
      "solver outputs incorrect value (got 7.5193314254283905, actual 10.536602973937988)\n",
      "solver outputs incorrect value (got 12.603154867887497, actual 13.931114196777344)\n",
      "solver outputs incorrect value (got 9.557728588581085, actual 12.171711921691895)\n",
      "solver outputs incorrect value (got 14.89668071269989, actual 17.676128387451172)\n",
      "solver outputs incorrect value (got 7.9901721477508545, actual 10.959436416625977)\n",
      "solver outputs incorrect value (got 10.962029844522476, actual 12.22722339630127)\n",
      "solver outputs incorrect value (got 9.560738980770111, actual 12.368169784545898)\n",
      "solver outputs incorrect value (got 7.742462132126093, actual 10.180648803710938)\n",
      "solver outputs incorrect value (got 10.455774627625942, actual 13.00972843170166)\n",
      "solver outputs incorrect value (got 13.860864742193371, actual 15.11129379272461)\n",
      "solver outputs incorrect value (got 14.527978122234344, actual 16.099475860595703)\n",
      "solver outputs incorrect value (got 8.77876527607441, actual 10.497961044311523)\n",
      "solver outputs incorrect value (got 13.771043121814728, actual 17.384960174560547)\n",
      "solver outputs incorrect value (got 10.03189417719841, actual 13.636926651000977)\n",
      "solver outputs incorrect value (got 11.283947348594666, actual 13.79920768737793)\n",
      "solver outputs incorrect value (got 12.459803938865662, actual 15.319838523864746)\n",
      "solver outputs incorrect value (got 10.169381558895111, actual 11.561568260192871)\n",
      "solver outputs incorrect value (got 11.834110622992739, actual 15.135878562927246)\n",
      "solver outputs incorrect value (got 14.633298009634018, actual 16.98401641845703)\n",
      "solver outputs incorrect value (got 13.114047899842262, actual 14.058210372924805)\n",
      "solver outputs incorrect value (got 14.786579549312592, actual 17.025583267211914)\n",
      "solver outputs incorrect value (got 8.356883876025677, actual 9.804422378540039)\n",
      "solver outputs incorrect value (got 10.325394600629807, actual 12.56742000579834)\n",
      "solver outputs incorrect value (got 17.525110326707363, actual 17.690696716308594)\n",
      "solver outputs incorrect value (got 15.596631363034248, actual 16.44911766052246)\n",
      "solver outputs incorrect value (got 9.083721339702606, actual 10.222855567932129)\n",
      "solver outputs incorrect value (got 10.750381231307983, actual 12.927224159240723)\n",
      "solver outputs incorrect value (got 8.940192133188248, actual 12.435080528259277)\n",
      "solver outputs incorrect value (got 10.141873732209206, actual 12.966469764709473)\n",
      "solver outputs incorrect value (got 9.624615006148815, actual 10.764951705932617)\n",
      "solver outputs incorrect value (got 11.901003867387772, actual 13.58272933959961)\n",
      "solver outputs incorrect value (got 11.355120155960321, actual 15.906022071838379)\n"
     ]
    },
    {
     "name": "stdout",
     "output_type": "stream",
     "text": [
      "solver outputs incorrect value (got 8.129860758781433, actual 9.606121063232422)\n",
      "solver outputs incorrect value (got 12.998889550566673, actual 15.177227020263672)\n",
      "solver outputs incorrect value (got 10.930524110794067, actual 12.812888145446777)\n",
      "solver outputs incorrect value (got 14.880101785063744, actual 15.924683570861816)\n",
      "solver outputs incorrect value (got 13.950215220451355, actual 17.191783905029297)\n",
      "solver outputs incorrect value (got 15.280255060642958, actual 16.89116096496582)\n",
      "solver outputs incorrect value (got 9.307730883359909, actual 11.299582481384277)\n",
      "solver outputs incorrect value (got 15.775642551481724, actual 17.590604782104492)\n",
      "solver outputs incorrect value (got 13.527632892131805, actual 15.67641544342041)\n",
      "solver outputs incorrect value (got 13.625615417957306, actual 15.290472030639648)\n",
      "solver outputs incorrect value (got 10.026324450969696, actual 13.560014724731445)\n",
      "solver outputs incorrect value (got 10.613898158073425, actual 11.726999282836914)\n",
      "solver outputs incorrect value (got 10.380858153104782, actual 12.43695068359375)\n",
      "solver outputs incorrect value (got 10.933455601334572, actual 13.655208587646484)\n",
      "solver outputs incorrect value (got 11.599748343229294, actual 13.404975891113281)\n",
      "solver outputs incorrect value (got 12.446414828300476, actual 12.76268482208252)\n",
      "solver outputs incorrect value (got 11.958271831274033, actual 14.454538345336914)\n",
      "solver outputs incorrect value (got 10.26514590345323, actual 11.97801685333252)\n",
      "solver outputs incorrect value (got 12.43540808558464, actual 14.398399353027344)\n",
      "solver outputs incorrect value (got 10.778494533151388, actual 12.142725944519043)\n",
      "solver outputs incorrect value (got 8.486069828271866, actual 12.339583396911621)\n",
      "solver outputs incorrect value (got 12.180106721818447, actual 13.516874313354492)\n",
      "solver outputs incorrect value (got 14.734919250011444, actual 15.677894592285156)\n",
      "solver outputs incorrect value (got 10.055152833461761, actual 11.301685333251953)\n",
      "solver outputs incorrect value (got 14.520812690258026, actual 16.777528762817383)\n",
      "solver outputs incorrect value (got 12.155231766402721, actual 13.683253288269043)\n",
      "solver outputs incorrect value (got 11.510746993822977, actual 12.650617599487305)\n",
      "solver outputs incorrect value (got 9.846812099218369, actual 12.299103736877441)\n",
      "solver outputs incorrect value (got 9.969583958387375, actual 12.811845779418945)\n",
      "solver outputs incorrect value (got 13.537472784519196, actual 15.988542556762695)\n",
      "solver outputs incorrect value (got 11.834842890501022, actual 12.594430923461914)\n",
      "solver outputs incorrect value (got 8.143966168165207, actual 10.09016227722168)\n",
      "solver outputs incorrect value (got 14.156109094619751, actual 17.471168518066406)\n",
      "solver outputs incorrect value (got 12.786091268062592, actual 15.673994064331055)\n",
      "solver outputs incorrect value (got 10.886927366256714, actual 13.722444534301758)\n",
      "solver outputs incorrect value (got 9.306137219071388, actual 11.18076229095459)\n",
      "solver outputs incorrect value (got 12.695785030722618, actual 14.8590087890625)\n",
      "solver outputs incorrect value (got 17.11280570551753, actual 20.05002212524414)\n",
      "solver outputs incorrect value (got 9.52323067560792, actual 10.057738304138184)\n",
      "solver outputs incorrect value (got 16.695631504058838, actual 18.088315963745117)\n",
      "solver outputs incorrect value (got 10.274062812328339, actual 12.065644264221191)\n",
      "solver outputs incorrect value (got 10.937404930591583, actual 13.237602233886719)\n",
      "solver outputs incorrect value (got 10.993486762046814, actual 13.421241760253906)\n",
      "solver outputs incorrect value (got 10.861762672662735, actual 13.874279975891113)\n",
      "solver outputs incorrect value (got 9.137098461389542, actual 10.295088768005371)\n",
      "solver outputs incorrect value (got 11.443528711795807, actual 14.438838958740234)\n",
      "solver outputs incorrect value (got 11.60330218076706, actual 14.166000366210938)\n",
      "solver outputs incorrect value (got 10.252669118344784, actual 10.647363662719727)\n",
      "solver outputs incorrect value (got 12.410157701000571, actual 12.70883560180664)\n",
      "solver outputs incorrect value (got 10.84377345442772, actual 14.09884262084961)\n",
      "solver outputs incorrect value (got 10.452330100350082, actual 10.216816902160645)\n",
      "solver outputs incorrect value (got 14.92107343673706, actual 17.09771156311035)\n",
      "solver outputs incorrect value (got 11.931210696697235, actual 13.610025405883789)\n",
      "solver outputs incorrect value (got 10.846828233450651, actual 12.721623420715332)\n",
      "solver outputs incorrect value (got 7.689459145069122, actual 9.74122142791748)\n",
      "solver outputs incorrect value (got 15.496894717216492, actual 16.657087326049805)\n",
      "solver outputs incorrect value (got 13.691920220851898, actual 16.320087432861328)\n",
      "solver outputs incorrect value (got 15.129670694470406, actual 16.733877182006836)\n",
      "solver outputs incorrect value (got 11.79549491405487, actual 12.781438827514648)\n",
      "solver outputs incorrect value (got 10.4715775847435, actual 12.827237129211426)\n",
      "solver outputs incorrect value (got 12.392760157585144, actual 12.804140090942383)\n",
      "solver outputs incorrect value (got 11.591434955596924, actual 15.978987693786621)\n",
      "solver outputs incorrect value (got 10.565439969301224, actual 12.082494735717773)\n",
      "solver outputs incorrect value (got 9.929384112358093, actual 12.552656173706055)\n",
      "solver outputs incorrect value (got 10.748422682285309, actual 13.983206748962402)\n",
      "solver outputs incorrect value (got 10.229607716202736, actual 12.64069938659668)\n",
      "solver outputs incorrect value (got 8.415196813642979, actual 12.062562942504883)\n",
      "solver outputs incorrect value (got 14.46476824581623, actual 17.122087478637695)\n",
      "solver outputs incorrect value (got 16.58794179558754, actual 17.710878372192383)\n",
      "solver outputs incorrect value (got 10.640144377946854, actual 11.862873077392578)\n",
      "solver outputs incorrect value (got 11.8783468157053, actual 14.96634292602539)\n",
      "solver outputs incorrect value (got 11.928635597229004, actual 12.476347923278809)\n",
      "solver outputs incorrect value (got 15.220301181077957, actual 17.679330825805664)\n",
      "solver outputs incorrect value (got 12.213969647884369, actual 14.776461601257324)\n",
      "solver outputs incorrect value (got 10.54310628771782, actual 12.326355934143066)\n",
      "solver outputs incorrect value (got 14.397816836833954, actual 15.756416320800781)\n",
      "solver outputs incorrect value (got 8.649059124290943, actual 9.614385604858398)\n",
      "solver outputs incorrect value (got 9.49349602125585, actual 10.548910140991211)\n",
      "solver outputs incorrect value (got 13.685727328062057, actual 16.022930145263672)\n",
      "solver outputs incorrect value (got 15.094360828399658, actual 17.705188751220703)\n",
      "solver outputs incorrect value (got 8.77401950955391, actual 11.836722373962402)\n",
      "solver outputs incorrect value (got 9.420670866966248, actual 13.386197090148926)\n",
      "solver outputs incorrect value (got 15.050066471099854, actual 17.703399658203125)\n",
      "solver outputs incorrect value (got 14.855614364147186, actual 17.216623306274414)\n",
      "solver outputs incorrect value (got 14.861602216959, actual 16.64889144897461)\n",
      "solver outputs incorrect value (got 8.873012751340866, actual 11.693201065063477)\n",
      "solver outputs incorrect value (got 11.984549939632416, actual 13.284685134887695)\n",
      "solver outputs incorrect value (got 10.893387794494629, actual 13.477168083190918)\n",
      "solver outputs incorrect value (got 11.056918248534203, actual 11.7730131149292)\n",
      "solver outputs incorrect value (got 12.921833835542202, actual 14.266194343566895)\n",
      "solver outputs incorrect value (got 7.904317006468773, actual 10.773697853088379)\n",
      "solver outputs incorrect value (got 15.314506888389587, actual 15.780366897583008)\n",
      "solver outputs incorrect value (got 12.396278262138367, actual 14.648283004760742)\n",
      "solver outputs incorrect value (got 8.500817783176899, actual 11.188470840454102)\n",
      "solver outputs incorrect value (got 14.763281404972076, actual 15.609164237976074)\n",
      "solver outputs incorrect value (got 14.812622308731079, actual 15.498376846313477)\n",
      "solver outputs incorrect value (got 13.749609172344208, actual 14.213635444641113)\n",
      "solver outputs incorrect value (got 12.823170527815819, actual 13.482776641845703)\n",
      "solver outputs incorrect value (got 10.195718705654144, actual 12.260826110839844)\n",
      "solver outputs incorrect value (got 8.110643088817596, actual 10.579387664794922)\n",
      "solver outputs incorrect value (got 8.33176364004612, actual 10.189685821533203)\n",
      "solver outputs incorrect value (got 9.567500591278076, actual 11.914878845214844)\n",
      "solver outputs incorrect value (got 12.5377456843853, actual 13.836801528930664)\n",
      "solver outputs incorrect value (got 12.659792721271515, actual 14.612719535827637)\n"
     ]
    },
    {
     "name": "stdout",
     "output_type": "stream",
     "text": [
      "solver outputs incorrect value (got 10.86144107580185, actual 11.212926864624023)\n",
      "solver outputs incorrect value (got 8.030446320772171, actual 11.803950309753418)\n",
      "solver outputs incorrect value (got 10.782724276185036, actual 12.898003578186035)\n",
      "solver outputs incorrect value (got 12.91729211807251, actual 14.207369804382324)\n",
      "solver outputs incorrect value (got 8.461907595396042, actual 11.696215629577637)\n",
      "solver outputs incorrect value (got 13.756340535357594, actual 16.887134552001953)\n",
      "solver outputs incorrect value (got 12.3535957634449, actual 14.923394203186035)\n",
      "solver outputs incorrect value (got 15.100824892520905, actual 17.109838485717773)\n",
      "solver outputs incorrect value (got 12.553482204675674, actual 15.471911430358887)\n",
      "solver outputs incorrect value (got 10.955697566270828, actual 11.679359436035156)\n",
      "solver outputs incorrect value (got 7.933312300592661, actual 10.867301940917969)\n",
      "solver outputs incorrect value (got 7.51042303442955, actual 10.348873138427734)\n",
      "solver outputs incorrect value (got 8.192148555070162, actual 12.213741302490234)\n",
      "solver outputs incorrect value (got 8.55283111333847, actual 10.855958938598633)\n",
      "solver outputs incorrect value (got 11.327450171113014, actual 13.93834114074707)\n",
      "solver outputs incorrect value (got 13.261709719896317, actual 17.029083251953125)\n",
      "solver outputs incorrect value (got 10.233637064695358, actual 10.447929382324219)\n",
      "solver outputs incorrect value (got 7.464005351066589, actual 9.37968921661377)\n",
      "solver outputs incorrect value (got 11.178064689040184, actual 14.114632606506348)\n",
      "solver outputs incorrect value (got 9.364402620121837, actual 14.116233825683594)\n",
      "solver outputs incorrect value (got 11.484873339533806, actual 13.466814041137695)\n",
      "solver outputs incorrect value (got 12.13632807508111, actual 14.3356294631958)\n",
      "solver outputs incorrect value (got 11.930516742169857, actual 15.319375038146973)\n",
      "solver outputs incorrect value (got 9.66801281273365, actual 13.018659591674805)\n",
      "solver outputs incorrect value (got 15.071874022483826, actual 16.497346878051758)\n",
      "solver outputs incorrect value (got 11.663743376731873, actual 12.975019454956055)\n",
      "solver outputs incorrect value (got 11.347170352935791, actual 14.803041458129883)\n",
      "solver outputs incorrect value (got 8.26319120824337, actual 11.674355506896973)\n",
      "solver outputs incorrect value (got 13.34854245185852, actual 17.463102340698242)\n",
      "solver outputs incorrect value (got 11.873466581106186, actual 13.717422485351562)\n",
      "solver outputs incorrect value (got 13.145604431629181, actual 13.759114265441895)\n",
      "solver outputs incorrect value (got 10.89747041463852, actual 12.204413414001465)\n",
      "solver outputs incorrect value (got 6.5303298979997635, actual 10.951177597045898)\n",
      "solver outputs incorrect value (got 8.253293991088867, actual 10.689493179321289)\n",
      "solver outputs incorrect value (got 12.998361516743898, actual 15.953550338745117)\n",
      "solver outputs incorrect value (got 10.378098607063293, actual 13.689949035644531)\n",
      "solver outputs incorrect value (got 12.766475319862366, actual 16.769962310791016)\n",
      "solver outputs incorrect value (got 11.998245552182198, actual 13.084137916564941)\n",
      "solver outputs incorrect value (got 13.779133409261703, actual 15.216521263122559)\n",
      "solver outputs incorrect value (got 11.469505541026592, actual 14.519126892089844)\n",
      "solver outputs incorrect value (got 11.134178102016449, actual 12.050387382507324)\n",
      "solver outputs incorrect value (got 10.369269847869873, actual 12.499361038208008)\n",
      "solver outputs incorrect value (got 12.599031507968903, actual 13.707986831665039)\n",
      "solver outputs incorrect value (got 10.725178360939026, actual 12.954521179199219)\n",
      "solver outputs incorrect value (got 12.513183236122131, actual 15.531137466430664)\n",
      "solver outputs incorrect value (got 11.862056352198124, actual 12.780439376831055)\n",
      "solver outputs incorrect value (got 6.964519567787647, actual 8.810998916625977)\n",
      "solver outputs incorrect value (got 10.061107456684113, actual 10.328991889953613)\n",
      "solver outputs incorrect value (got 12.959715425502509, actual 15.872762680053711)\n",
      "solver outputs incorrect value (got 13.823569118976593, actual 15.867237091064453)\n",
      "solver outputs incorrect value (got 15.734659284353256, actual 18.72274398803711)\n",
      "solver outputs incorrect value (got 9.974296659231186, actual 12.656837463378906)\n",
      "solver outputs incorrect value (got 15.096884317696095, actual 16.59339141845703)\n",
      "solver outputs incorrect value (got 9.981896996498108, actual 11.272306442260742)\n",
      "solver outputs incorrect value (got 13.989369176328182, actual 17.09069061279297)\n",
      "solver outputs incorrect value (got 10.403385356068611, actual 12.080543518066406)\n",
      "solver outputs incorrect value (got 10.742471694946289, actual 11.004250526428223)\n",
      "solver outputs incorrect value (got 12.104271084070206, actual 14.540064811706543)\n",
      "solver outputs incorrect value (got 12.020271241664886, actual 14.661293029785156)\n",
      "solver outputs incorrect value (got 14.053714394569397, actual 16.27073860168457)\n",
      "solver outputs incorrect value (got 10.864508032798767, actual 11.262853622436523)\n",
      "solver outputs incorrect value (got 11.204428970813751, actual 12.31080436706543)\n",
      "solver outputs incorrect value (got 11.883616715669632, actual 14.41026782989502)\n",
      "solver outputs incorrect value (got 14.420080453157425, actual 16.575214385986328)\n",
      "solver outputs incorrect value (got 11.491026312112808, actual 13.519391059875488)\n",
      "solver outputs incorrect value (got 7.831375285983086, actual 12.328400611877441)\n",
      "solver outputs incorrect value (got 10.81325226277113, actual 12.170365333557129)\n",
      "solver outputs incorrect value (got 10.22690823674202, actual 14.888479232788086)\n",
      "solver outputs incorrect value (got 13.36257690191269, actual 14.953532218933105)\n",
      "solver outputs incorrect value (got 13.625682651996613, actual 14.707528114318848)\n",
      "solver outputs incorrect value (got 11.53358593583107, actual 14.276205062866211)\n",
      "solver outputs incorrect value (got 14.391229212284088, actual 16.226783752441406)\n",
      "solver outputs incorrect value (got 10.627760529518127, actual 13.796667098999023)\n",
      "solver outputs incorrect value (got 13.008590519428253, actual 14.969181060791016)\n"
     ]
    },
    {
     "data": {
      "text/plain": [
       "13.905738"
      ]
     },
     "execution_count": 61,
     "metadata": {},
     "output_type": "execute_result"
    }
   ],
   "source": [
    "evaluate(lambda qap: agents[-1].solve(mirror(qap)), 'small_random_graphs', 500)"
   ]
  },
  {
   "cell_type": "code",
   "execution_count": 62,
   "metadata": {},
   "outputs": [
    {
     "data": {
      "text/plain": [
       "(5657299.0,\n",
       " [12,\n",
       "  15,\n",
       "  1,\n",
       "  14,\n",
       "  18,\n",
       "  5,\n",
       "  2,\n",
       "  4,\n",
       "  11,\n",
       "  24,\n",
       "  20,\n",
       "  13,\n",
       "  3,\n",
       "  10,\n",
       "  22,\n",
       "  8,\n",
       "  23,\n",
       "  16,\n",
       "  9,\n",
       "  17,\n",
       "  7,\n",
       "  6,\n",
       "  0,\n",
       "  19,\n",
       "  21,\n",
       "  25])"
      ]
     },
     "execution_count": 62,
     "metadata": {},
     "output_type": "execute_result"
    }
   ],
   "source": [
    "agents[-1].solve(mirror(qaplib_by_name[\"bur26c\"]))"
   ]
  },
  {
   "cell_type": "code",
   "execution_count": null,
   "metadata": {},
   "outputs": [],
   "source": [
    "evaluate_set(agents[-1].solve, 'qaplib_all_bur_normalized')"
   ]
  },
  {
   "cell_type": "code",
   "execution_count": null,
   "metadata": {},
   "outputs": [],
   "source": [
    "evaluate_set(lambda qap: agents[-1].solve(mirror(qap)), 'qaplib_all_bur_normalized')"
   ]
  },
  {
   "cell_type": "markdown",
   "metadata": {},
   "source": [
    "# "
   ]
  }
 ],
 "metadata": {
  "kernelspec": {
   "display_name": "drlqap",
   "language": "python",
   "name": "drlqap"
  },
  "language_info": {
   "codemirror_mode": {
    "name": "ipython",
    "version": 3
   },
   "file_extension": ".py",
   "mimetype": "text/x-python",
   "name": "python",
   "nbconvert_exporter": "python",
   "pygments_lexer": "ipython3",
   "version": "3.9.9"
  }
 },
 "nbformat": 4,
 "nbformat_minor": 5
}
