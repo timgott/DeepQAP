{
 "cells": [
  {
   "cell_type": "code",
   "execution_count": 1,
   "metadata": {},
   "outputs": [],
   "source": [
    "from drlqap.taskgenerators import generators\n",
    "import scipy.optimize\n",
    "from drlqap.simplesolver import solve_qap_backtracking, solve_qap_maxgreedy, solve_qap_faq, solve_random, solve_partial, solve_partial_random, solve_best_of_k\n",
    "from drlqap.gurobi import solve_qap_gurobi\n",
    "import numpy as np\n",
    "from drlqap.qap import QAP"
   ]
  },
  {
   "cell_type": "code",
   "execution_count": 2,
   "metadata": {},
   "outputs": [
    {
     "name": "stdout",
     "output_type": "stream",
     "text": [
      "/home/jupyter-tim/ba-tim\n"
     ]
    }
   ],
   "source": [
    "# change to project root\n",
    "%cd .."
   ]
  },
  {
   "cell_type": "code",
   "execution_count": 3,
   "metadata": {},
   "outputs": [
    {
     "data": {
      "text/plain": [
       "{'minilinear': <drlqap.taskgenerators.LinearTaskGenerator at 0x7fe513770640>,\n",
       " 'small_random_graphs': <drlqap.taskgenerators.RandomWeightsTaskGenerator at 0x7fe513770700>,\n",
       " 'medium_random_graphs': <drlqap.taskgenerators.RandomWeightsTaskGenerator at 0x7fe5137707c0>,\n",
       " 'qaplib_bur26a': <drlqap.taskgenerators.LazyGlobTaskGenerator at 0x7fe513770880>,\n",
       " 'qaplib_bur26a_normalized': <drlqap.taskgenerators.LazyGlobTaskGenerator at 0x7fe5137708e0>,\n",
       " 'small_fixed': <drlqap.taskgenerators.LazyGlobTaskGenerator at 0x7fe513770970>,\n",
       " 'triangle': <drlqap.taskgenerators.SingleTask at 0x7fe513770a00>,\n",
       " 'increasing_1000': <drlqap.taskgenerators.SteppedTaskGenerator at 0x7fe513770af0>,\n",
       " 'increasing_simple_1000': <drlqap.taskgenerators.SteppedTaskGenerator at 0x7fe513770b50>,\n",
       " 'qaplib_all_bur': <drlqap.taskgenerators.LazyGlobTaskGenerator at 0x7fe513770c10>,\n",
       " 'qaplib_sko_42_64_normalized': <drlqap.taskgenerators.LazyGlobTaskGenerator at 0x7fe513770d60>,\n",
       " 'qaplib_all_bur_normalized': <drlqap.taskgenerators.LazyGlobTaskGenerator at 0x7fe513770df0>,\n",
       " 'qaplib_all_chr_normalized': <drlqap.taskgenerators.LazyGlobTaskGenerator at 0x7fe513770e50>,\n",
       " 'qaplib_all_esc_normalized': <drlqap.taskgenerators.LazyGlobTaskGenerator at 0x7fe513770eb0>,\n",
       " 'qaplib_all_had_normalized': <drlqap.taskgenerators.LazyGlobTaskGenerator at 0x7fe513770f10>,\n",
       " 'qaplib_all_kra_normalized': <drlqap.taskgenerators.LazyGlobTaskGenerator at 0x7fe513770f70>,\n",
       " 'qaplib_all_lipa_normalized': <drlqap.taskgenerators.LazyGlobTaskGenerator at 0x7fe513770fd0>,\n",
       " 'qaplib_all_nug_normalized': <drlqap.taskgenerators.LazyGlobTaskGenerator at 0x7fe513784070>,\n",
       " 'qaplib_all_rou_normalized': <drlqap.taskgenerators.LazyGlobTaskGenerator at 0x7fe5137840d0>,\n",
       " 'qaplib_all_scr_normalized': <drlqap.taskgenerators.LazyGlobTaskGenerator at 0x7fe513784130>,\n",
       " 'qaplib_all_sko_normalized': <drlqap.taskgenerators.LazyGlobTaskGenerator at 0x7fe513784190>,\n",
       " 'qaplib_all_ste_normalized': <drlqap.taskgenerators.LazyGlobTaskGenerator at 0x7fe5137841f0>,\n",
       " 'qaplib_all_tai_normalized': <drlqap.taskgenerators.LazyGlobTaskGenerator at 0x7fe513784250>,\n",
       " 'qaplib_all_tho_normalized': <drlqap.taskgenerators.LazyGlobTaskGenerator at 0x7fe5137842b0>,\n",
       " 'qaplib_all_wil_normalized': <drlqap.taskgenerators.LazyGlobTaskGenerator at 0x7fe513784310>,\n",
       " 'qaplib_tai35a_normalized': <drlqap.taskgenerators.LazyGlobTaskGenerator at 0x7fe513770dc0>,\n",
       " 'qaplib_all_64_normalized': <drlqap.taskgenerators.LazyGlobTaskGenerator at 0x7fe5137843a0>,\n",
       " 'qaplib_all_100_normalized': <drlqap.taskgenerators.LazyGlobTaskGenerator at 0x7fe5137843d0>,\n",
       " 'qaplib_all_150_normalized': <drlqap.taskgenerators.LazyGlobTaskGenerator at 0x7fe513784430>}"
      ]
     },
     "execution_count": 3,
     "metadata": {},
     "output_type": "execute_result"
    }
   ],
   "source": [
    "generators"
   ]
  },
  {
   "cell_type": "code",
   "execution_count": 4,
   "metadata": {},
   "outputs": [],
   "source": [
    "qap = generators['medium_random_graphs'].sample()"
   ]
  },
  {
   "cell_type": "code",
   "execution_count": 5,
   "metadata": {},
   "outputs": [
    {
     "data": {
      "text/plain": [
       "(53.43719807267189, [3, 6, 11, 9, 15, 0, 2, 1, 8, 10, 12, 13, 5, 14, 4, 7])"
      ]
     },
     "execution_count": 5,
     "metadata": {},
     "output_type": "execute_result"
    }
   ],
   "source": [
    "solve_qap_maxgreedy(qap)"
   ]
  },
  {
   "cell_type": "code",
   "execution_count": 6,
   "metadata": {},
   "outputs": [
    {
     "data": {
      "text/plain": [
       "(45.87282056393812,\n",
       " array([ 8, 13,  9,  0, 15,  5,  6, 14, 11, 10, 12,  1,  3,  2,  4,  7]))"
      ]
     },
     "execution_count": 6,
     "metadata": {},
     "output_type": "execute_result"
    }
   ],
   "source": [
    "solve_qap_faq(qap)"
   ]
  },
  {
   "cell_type": "code",
   "execution_count": 55,
   "metadata": {},
   "outputs": [
    {
     "name": "stdout",
     "output_type": "stream",
     "text": [
      "Gurobi Optimizer version 9.5.1 build v9.5.1rc2 (linux64)\n",
      "Thread count: 8 physical cores, 8 logical processors, using up to 8 threads\n"
     ]
    },
    {
     "ename": "GurobiError",
     "evalue": "Model too large for size-limited license; visit https://www.gurobi.com/free-trial for a full license",
     "output_type": "error",
     "traceback": [
      "\u001b[0;31m---------------------------------------------------------------------------\u001b[0m",
      "\u001b[0;31mGurobiError\u001b[0m                               Traceback (most recent call last)",
      "Input \u001b[0;32mIn [55]\u001b[0m, in \u001b[0;36m<cell line: 1>\u001b[0;34m()\u001b[0m\n\u001b[0;32m----> 1\u001b[0m \u001b[43msolve_qap_gurobi\u001b[49m\u001b[43m(\u001b[49m\u001b[43mqap\u001b[49m\u001b[43m)\u001b[49m\n",
      "File \u001b[0;32m~/ba-tim/src/drlqap/gurobi.py:33\u001b[0m, in \u001b[0;36msolve_qap_gurobi\u001b[0;34m(qap)\u001b[0m\n\u001b[1;32m     31\u001b[0m \u001b[38;5;28;01mdef\u001b[39;00m \u001b[38;5;21msolve_qap_gurobi\u001b[39m(qap: QAP):\n\u001b[1;32m     32\u001b[0m     m \u001b[38;5;241m=\u001b[39m create_gurobi_model(qap)\n\u001b[0;32m---> 33\u001b[0m     \u001b[43mm\u001b[49m\u001b[38;5;241;43m.\u001b[39;49m\u001b[43moptimize\u001b[49m\u001b[43m(\u001b[49m\u001b[43m)\u001b[49m\n",
      "File \u001b[0;32msrc/gurobipy/model.pxi:864\u001b[0m, in \u001b[0;36mgurobipy.Model.optimize\u001b[0;34m()\u001b[0m\n",
      "\u001b[0;31mGurobiError\u001b[0m: Model too large for size-limited license; visit https://www.gurobi.com/free-trial for a full license"
     ]
    }
   ],
   "source": [
    "solve_qap_gurobi(qap)"
   ]
  },
  {
   "cell_type": "code",
   "execution_count": 8,
   "metadata": {},
   "outputs": [
    {
     "name": "stdout",
     "output_type": "stream",
     "text": [
      "2.15 ms ± 37.8 µs per loop (mean ± std. dev. of 7 runs, 100 loops each)\n"
     ]
    }
   ],
   "source": [
    "%timeit solve_qap_faq(qap)"
   ]
  },
  {
   "cell_type": "code",
   "execution_count": 9,
   "metadata": {},
   "outputs": [
    {
     "name": "stdout",
     "output_type": "stream",
     "text": [
      "a2c_mediumrandoms\t\t\t dqn_dense_ms_ec_eps0_mediumrandoms\r\n",
      "a2c_ms100x_increasing\t\t\t dqn_dense_ms_ec_eps0_mini\r\n",
      "a2c_ms100x_mediumrandoms\t\t dqn_dense_ms_ec_eps0_rni_study\r\n",
      "a2c_ms100x_mediumrandoms_cyclic\t\t dqn_dense_ms_ec_eps0_smallrandoms\r\n",
      "a2c_ms100x_mediumrandoms_cyclic_wronglr  dqn_dense_ms_ec_mediumrandoms\r\n",
      "a2c_ms100x_mediumrandoms_stepped\t dqn_dense_ms_ec_tai35a\r\n",
      "dqn_bi_increasing\t\t\t dqn_linkedqap_smallrandoms\r\n",
      "dqn_dense_ec_eps0_norm_study\t\t reinforce_ms100x_mediumrandoms\r\n",
      "dqn_dense_ec_eps0_norm_study_2\t\t reinforce_ms100x_smallrandoms\r\n"
     ]
    }
   ],
   "source": [
    "!ls runs"
   ]
  },
  {
   "cell_type": "code",
   "execution_count": 10,
   "metadata": {},
   "outputs": [
    {
     "name": "stdout",
     "output_type": "stream",
     "text": [
      "lr1e-4_s1  lr1e-4_s4  lr1e-5_s3  lr3e-4_s2  lr5e-4_s1  lr5e-4_s4\r\n",
      "lr1e-4_s2  lr1e-5_s1  lr1e-5_s4  lr3e-4_s3  lr5e-4_s2\r\n",
      "lr1e-4_s3  lr1e-5_s2  lr3e-4_s1  lr3e-4_s4  lr5e-4_s3\r\n"
     ]
    }
   ],
   "source": [
    "!ls runs/dqn_dense_ms_ec_eps0_smallrandoms"
   ]
  },
  {
   "cell_type": "code",
   "execution_count": 11,
   "metadata": {},
   "outputs": [],
   "source": [
    "from drlqap.evaltools import load_checkpoints\n",
    "from pathlib import Path"
   ]
  },
  {
   "cell_type": "code",
   "execution_count": 12,
   "metadata": {},
   "outputs": [
    {
     "name": "stdout",
     "output_type": "stream",
     "text": [
      "runs/a2c_ms100x_mediumrandoms/lr4e-5_s3/checkpoint_0.pth\n",
      "runs/a2c_ms100x_mediumrandoms/lr4e-5_s3/checkpoint_1000.pth\n",
      "runs/a2c_ms100x_mediumrandoms/lr4e-5_s3/checkpoint_2000.pth\n",
      "runs/a2c_ms100x_mediumrandoms/lr4e-5_s3/checkpoint_3000.pth\n",
      "runs/a2c_ms100x_mediumrandoms/lr4e-5_s3/checkpoint_4000.pth\n",
      "runs/a2c_ms100x_mediumrandoms/lr4e-5_s3/checkpoint_5000.pth\n",
      "runs/a2c_ms100x_mediumrandoms/lr4e-5_s3/checkpoint_6000.pth\n",
      "runs/a2c_ms100x_mediumrandoms/lr4e-5_s3/checkpoint_7000.pth\n",
      "runs/a2c_ms100x_mediumrandoms/lr4e-5_s3/checkpoint_8000.pth\n",
      "runs/a2c_ms100x_mediumrandoms/lr4e-5_s3/checkpoint_9000.pth\n",
      "runs/a2c_ms100x_mediumrandoms/lr4e-5_s3/checkpoint_10000.pth\n",
      "runs/a2c_ms100x_mediumrandoms/lr4e-5_s3/checkpoint_11000.pth\n",
      "runs/a2c_ms100x_mediumrandoms/lr4e-5_s3/checkpoint_12000.pth\n",
      "runs/a2c_ms100x_mediumrandoms/lr4e-5_s3/checkpoint_13000.pth\n",
      "runs/a2c_ms100x_mediumrandoms/lr4e-5_s3/checkpoint_14000.pth\n",
      "runs/a2c_ms100x_mediumrandoms/lr4e-5_s3/checkpoint_15000.pth\n",
      "runs/a2c_ms100x_mediumrandoms/lr4e-5_s3/checkpoint_16000.pth\n",
      "runs/a2c_ms100x_mediumrandoms/lr4e-5_s3/checkpoint_17000.pth\n",
      "runs/a2c_ms100x_mediumrandoms/lr4e-5_s3/checkpoint_18000.pth\n",
      "runs/a2c_ms100x_mediumrandoms/lr4e-5_s3/checkpoint_19000.pth\n",
      "runs/a2c_ms100x_mediumrandoms/lr4e-5_s3/checkpoint_20000.pth\n",
      "runs/a2c_ms100x_mediumrandoms/lr4e-5_s3/checkpoint_21000.pth\n",
      "runs/a2c_ms100x_mediumrandoms/lr4e-5_s3/checkpoint_22000.pth\n",
      "runs/a2c_ms100x_mediumrandoms/lr4e-5_s3/checkpoint_23000.pth\n",
      "runs/a2c_ms100x_mediumrandoms/lr4e-5_s3/checkpoint_24000.pth\n",
      "runs/a2c_ms100x_mediumrandoms/lr4e-5_s3/checkpoint_25000.pth\n",
      "runs/a2c_ms100x_mediumrandoms/lr4e-5_s3/checkpoint_26000.pth\n",
      "runs/a2c_ms100x_mediumrandoms/lr4e-5_s3/checkpoint_27000.pth\n",
      "runs/a2c_ms100x_mediumrandoms/lr4e-5_s3/checkpoint_28000.pth\n",
      "runs/a2c_ms100x_mediumrandoms/lr4e-5_s3/checkpoint_29000.pth\n",
      "runs/a2c_ms100x_mediumrandoms/lr4e-5_s3/checkpoint_end.pth\n"
     ]
    }
   ],
   "source": [
    "agents = load_checkpoints(Path('runs/a2c_ms100x_mediumrandoms/lr4e-5_s3'))"
   ]
  },
  {
   "cell_type": "code",
   "execution_count": 13,
   "metadata": {},
   "outputs": [
    {
     "data": {
      "text/plain": [
       "(48.935399532318115, [7, 6, 1, 15, 12, 4, 14, 11, 10, 13, 3, 0, 8, 2, 5, 9])"
      ]
     },
     "execution_count": 13,
     "metadata": {},
     "output_type": "execute_result"
    }
   ],
   "source": [
    "agents[-1].solve(qap)"
   ]
  },
  {
   "cell_type": "markdown",
   "metadata": {},
   "source": [
    "## Average results"
   ]
  },
  {
   "cell_type": "code",
   "execution_count": 14,
   "metadata": {},
   "outputs": [],
   "source": [
    "def evaluate(solver, problem, samples):\n",
    "    values = []\n",
    "    for i in range(samples):\n",
    "        qap = generators[problem].sample()\n",
    "        v_solver, assignment = solver(qap)\n",
    "        v = qap.compute_value(assignment)\n",
    "        if not np.isclose(v, v_solver):\n",
    "            print (f\"solver outputs incorrect value (got {v_solver}, actual {v})\")\n",
    "        values.append(v)\n",
    "    return np.mean(values)\n",
    "\n",
    "def evaluate_set(solver, problem):\n",
    "    values = []\n",
    "    test_set = generators[problem].test_set()\n",
    "    for qap in test_set:\n",
    "        v_solver, assignment = solver(qap)\n",
    "        v = qap.compute_value(assignment)\n",
    "        if not np.isclose(v, v_solver):\n",
    "            print (f\"solver outputs incorrect value (got {v_solver}, actual {v})\")\n",
    "        values.append(v)\n",
    "    return np.mean(values)"
   ]
  },
  {
   "cell_type": "code",
   "execution_count": 15,
   "metadata": {},
   "outputs": [
    {
     "data": {
      "text/plain": [
       "11.531363"
      ]
     },
     "execution_count": 15,
     "metadata": {},
     "output_type": "execute_result"
    }
   ],
   "source": [
    "evaluate(solve_qap_faq, 'small_random_graphs', 1000)"
   ]
  },
  {
   "cell_type": "code",
   "execution_count": 16,
   "metadata": {},
   "outputs": [
    {
     "data": {
      "text/plain": [
       "11.794469"
      ]
     },
     "execution_count": 16,
     "metadata": {},
     "output_type": "execute_result"
    }
   ],
   "source": [
    "evaluate(agents[-1].solve, 'small_random_graphs', 500)"
   ]
  },
  {
   "cell_type": "code",
   "execution_count": 17,
   "metadata": {},
   "outputs": [
    {
     "data": {
      "text/plain": [
       "49.450596"
      ]
     },
     "execution_count": 17,
     "metadata": {},
     "output_type": "execute_result"
    }
   ],
   "source": [
    "evaluate(solve_qap_faq, 'medium_random_graphs', 1000)"
   ]
  },
  {
   "cell_type": "code",
   "execution_count": 18,
   "metadata": {},
   "outputs": [
    {
     "data": {
      "text/plain": [
       "52.99385"
      ]
     },
     "execution_count": 18,
     "metadata": {},
     "output_type": "execute_result"
    }
   ],
   "source": [
    "evaluate(agents[-1].solve, 'medium_random_graphs', 500)"
   ]
  },
  {
   "cell_type": "code",
   "execution_count": 19,
   "metadata": {},
   "outputs": [
    {
     "data": {
      "text/plain": [
       "32217150.0"
      ]
     },
     "execution_count": 19,
     "metadata": {},
     "output_type": "execute_result"
    }
   ],
   "source": [
    "evaluate_set(solve_qap_faq, 'qaplib_all_64_normalized')"
   ]
  },
  {
   "cell_type": "code",
   "execution_count": 49,
   "metadata": {},
   "outputs": [
    {
     "data": {
      "text/plain": [
       "56063988.0"
      ]
     },
     "execution_count": 49,
     "metadata": {},
     "output_type": "execute_result"
    }
   ],
   "source": [
    "evaluate_set(agents[-1].solve, 'qaplib_all_64_normalized')"
   ]
  },
  {
   "cell_type": "code",
   "execution_count": 21,
   "metadata": {},
   "outputs": [
    {
     "data": {
      "text/plain": [
       "2514002.0"
      ]
     },
     "execution_count": 21,
     "metadata": {},
     "output_type": "execute_result"
    }
   ],
   "source": [
    "evaluate_set(solve_qap_faq, 'qaplib_tai35a_normalized')"
   ]
  },
  {
   "cell_type": "code",
   "execution_count": 22,
   "metadata": {},
   "outputs": [
    {
     "data": {
      "text/plain": [
       "2755434.0"
      ]
     },
     "execution_count": 22,
     "metadata": {},
     "output_type": "execute_result"
    }
   ],
   "source": [
    "evaluate_set(agents[-1].solve, 'qaplib_tai35a_normalized')"
   ]
  },
  {
   "cell_type": "code",
   "execution_count": 23,
   "metadata": {},
   "outputs": [
    {
     "data": {
      "text/plain": [
       "2755434.0"
      ]
     },
     "execution_count": 23,
     "metadata": {},
     "output_type": "execute_result"
    }
   ],
   "source": [
    "evaluate_set(agents[-1].solve, 'qaplib_tai35a_normalized')"
   ]
  },
  {
   "cell_type": "markdown",
   "metadata": {},
   "source": [
    "## Qaplib"
   ]
  },
  {
   "cell_type": "code",
   "execution_count": 24,
   "metadata": {},
   "outputs": [],
   "source": [
    "qaplib = generators[\"qaplib_all_64_normalized\"].test_set()\n",
    "qaplib_by_name = {q.name: q for q in qaplib}"
   ]
  },
  {
   "cell_type": "code",
   "execution_count": 25,
   "metadata": {},
   "outputs": [
    {
     "data": {
      "text/plain": [
       "(6153352.0,\n",
       " [0,\n",
       "  2,\n",
       "  19,\n",
       "  13,\n",
       "  18,\n",
       "  23,\n",
       "  21,\n",
       "  25,\n",
       "  10,\n",
       "  24,\n",
       "  14,\n",
       "  15,\n",
       "  4,\n",
       "  8,\n",
       "  7,\n",
       "  22,\n",
       "  6,\n",
       "  3,\n",
       "  5,\n",
       "  20,\n",
       "  1,\n",
       "  12,\n",
       "  17,\n",
       "  11,\n",
       "  16,\n",
       "  9])"
      ]
     },
     "execution_count": 25,
     "metadata": {},
     "output_type": "execute_result"
    }
   ],
   "source": [
    "agents[-1].solve(qaplib_by_name[\"bur26c\"])"
   ]
  },
  {
   "cell_type": "markdown",
   "metadata": {},
   "source": [
    "# Asymmetry"
   ]
  },
  {
   "cell_type": "code",
   "execution_count": 36,
   "metadata": {},
   "outputs": [],
   "source": [
    "def mirror(qap):\n",
    "    a = qap.A\n",
    "    b = qap.B\n",
    "    return QAP(b, a, qap.linear_costs.transpose(0,1), 0)\n",
    "    \n",
    "def mirror_assignment(assignment):\n",
    "    out = [None] * len(assignment)\n",
    "    for i, j in enumerate(assignment):\n",
    "        out[j] = i\n",
    "    return out\n",
    "\n",
    "def mirror_solver(solver):\n",
    "    def solve_mirrored(qap):\n",
    "        v, assignment = solver(mirror(qap))\n",
    "        return v, mirror_assignment(assignment)\n",
    "    return solve_mirrored"
   ]
  },
  {
   "cell_type": "code",
   "execution_count": 37,
   "metadata": {},
   "outputs": [],
   "source": [
    "qap_mirrored = mirror(qap)"
   ]
  },
  {
   "cell_type": "code",
   "execution_count": 38,
   "metadata": {},
   "outputs": [
    {
     "data": {
      "text/plain": [
       "tensor(53.0156)"
      ]
     },
     "execution_count": 38,
     "metadata": {},
     "output_type": "execute_result"
    }
   ],
   "source": [
    "qap.compute_value([12, 13, 2, 10, 1, 14, 4, 7, 6, 8, 3, 11, 9, 0, 5, 15])"
   ]
  },
  {
   "cell_type": "code",
   "execution_count": 39,
   "metadata": {},
   "outputs": [
    {
     "data": {
      "text/plain": [
       "tensor(53.0156)"
      ]
     },
     "execution_count": 39,
     "metadata": {},
     "output_type": "execute_result"
    }
   ],
   "source": [
    "qap_mirrored.compute_value(mirror_assignment([12, 13, 2, 10, 1, 14, 4, 7, 6, 8, 3, 11, 9, 0, 5, 15]))"
   ]
  },
  {
   "cell_type": "code",
   "execution_count": 40,
   "metadata": {},
   "outputs": [
    {
     "data": {
      "text/plain": [
       "(48.935399532318115, [7, 6, 1, 15, 12, 4, 14, 11, 10, 13, 3, 0, 8, 2, 5, 9])"
      ]
     },
     "execution_count": 40,
     "metadata": {},
     "output_type": "execute_result"
    }
   ],
   "source": [
    "agents[-1].solve(qap)"
   ]
  },
  {
   "cell_type": "code",
   "execution_count": 41,
   "metadata": {
    "scrolled": true
   },
   "outputs": [
    {
     "name": "stdout",
     "output_type": "stream",
     "text": [
      "50.66145747900009 [6, 5, 13, 4, 10, 12, 7, 15, 14, 0, 3, 8, 9, 1, 2, 11] tensor(50.6615)\n"
     ]
    }
   ],
   "source": [
    "v, ass = agents[-1].solve(qap_mirrored)\n",
    "print(v, ass, qap_mirrored.compute_value(ass))"
   ]
  },
  {
   "cell_type": "code",
   "execution_count": 42,
   "metadata": {},
   "outputs": [],
   "source": [
    "#evaluate_set(mirror_solver(solve_qap_faq), 'qaplib_all_64_normalized')"
   ]
  },
  {
   "cell_type": "code",
   "execution_count": 48,
   "metadata": {},
   "outputs": [
    {
     "data": {
      "text/plain": [
       "38336068.0"
      ]
     },
     "execution_count": 48,
     "metadata": {},
     "output_type": "execute_result"
    }
   ],
   "source": [
    "evaluate_set(mirror_solver(agents[-1].solve), 'qaplib_all_64_normalized')"
   ]
  },
  {
   "cell_type": "code",
   "execution_count": 44,
   "metadata": {},
   "outputs": [
    {
     "data": {
      "text/plain": [
       "52.9594"
      ]
     },
     "execution_count": 44,
     "metadata": {},
     "output_type": "execute_result"
    }
   ],
   "source": [
    "evaluate(mirror_solver(agents[-1].solve), 'medium_random_graphs', 50)"
   ]
  },
  {
   "cell_type": "code",
   "execution_count": null,
   "metadata": {
    "scrolled": true
   },
   "outputs": [],
   "source": [
    "evaluate(lambda qap: agents[-1].solve(mirror(qap)), 'small_random_graphs', 500)"
   ]
  },
  {
   "cell_type": "code",
   "execution_count": null,
   "metadata": {},
   "outputs": [],
   "source": [
    "agents[-1].solve(mirror(qaplib_by_name[\"bur26c\"]))"
   ]
  },
  {
   "cell_type": "code",
   "execution_count": null,
   "metadata": {},
   "outputs": [],
   "source": [
    "evaluate_set(agents[-1].solve, 'qaplib_all_bur_normalized')"
   ]
  },
  {
   "cell_type": "code",
   "execution_count": null,
   "metadata": {},
   "outputs": [],
   "source": [
    "evaluate_set(lambda qap: agents[-1].solve(mirror(qap)), 'qaplib_all_bur_normalized')"
   ]
  },
  {
   "cell_type": "markdown",
   "metadata": {},
   "source": [
    "# "
   ]
  },
  {
   "cell_type": "code",
   "execution_count": null,
   "metadata": {},
   "outputs": [],
   "source": [
    "qap2 = generators['small_random_graphs'].sample()"
   ]
  },
  {
   "cell_type": "code",
   "execution_count": null,
   "metadata": {},
   "outputs": [],
   "source": [
    "solve_qap_backtracking(qap2)"
   ]
  },
  {
   "cell_type": "code",
   "execution_count": null,
   "metadata": {},
   "outputs": [],
   "source": [
    "%timeit solve_partial_random(qap2, 5)"
   ]
  },
  {
   "cell_type": "code",
   "execution_count": 53,
   "metadata": {},
   "outputs": [
    {
     "name": "stdout",
     "output_type": "stream",
     "text": [
      "79.6 ms ± 4.35 ms per loop (mean ± std. dev. of 7 runs, 10 loops each)\n"
     ]
    }
   ],
   "source": [
    "%timeit agents[-1].solve(qap)"
   ]
  },
  {
   "cell_type": "code",
   "execution_count": null,
   "metadata": {},
   "outputs": [],
   "source": []
  }
 ],
 "metadata": {
  "kernelspec": {
   "display_name": "drlqap",
   "language": "python",
   "name": "drlqap"
  },
  "language_info": {
   "codemirror_mode": {
    "name": "ipython",
    "version": 3
   },
   "file_extension": ".py",
   "mimetype": "text/x-python",
   "name": "python",
   "nbconvert_exporter": "python",
   "pygments_lexer": "ipython3",
   "version": "3.9.9"
  }
 },
 "nbformat": 4,
 "nbformat_minor": 5
}
