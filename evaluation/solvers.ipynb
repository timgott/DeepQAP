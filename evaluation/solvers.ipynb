{
 "cells": [
  {
   "cell_type": "code",
   "execution_count": 130,
   "metadata": {},
   "outputs": [],
   "source": [
    "from drlqap.taskgenerators import generators\n",
    "import scipy.optimize\n",
    "from drlqap.simplesolver import solve_qap_backtracking, solve_qap_maxgreedy, solve_qap_faq\n",
    "from drlqap.gurobi import solve_qap_gurobi\n",
    "import numpy as np\n",
    "from drlqap.qap import QAP"
   ]
  },
  {
   "cell_type": "code",
   "execution_count": 2,
   "metadata": {},
   "outputs": [
    {
     "name": "stdout",
     "output_type": "stream",
     "text": [
      "/home/jupyter-tim/ba-tim\n"
     ]
    }
   ],
   "source": [
    "# change to project root\n",
    "%cd .."
   ]
  },
  {
   "cell_type": "code",
   "execution_count": 3,
   "metadata": {},
   "outputs": [
    {
     "data": {
      "text/plain": [
       "{'small_random_graphs': <drlqap.taskgenerators.RandomWeightsTaskGenerator at 0x7f07604f6760>,\n",
       " 'medium_random_graphs': <drlqap.taskgenerators.RandomWeightsTaskGenerator at 0x7f06c2069220>,\n",
       " 'qaplib_bur26a': <drlqap.taskgenerators.LazyGlobTaskGenerator at 0x7f06c20692e0>,\n",
       " 'qaplib_bur26a_normalized': <drlqap.taskgenerators.LazyGlobTaskGenerator at 0x7f06c2069340>,\n",
       " 'small_fixed': <drlqap.taskgenerators.LazyGlobTaskGenerator at 0x7f06c20693d0>,\n",
       " 'triangle': <drlqap.taskgenerators.SingleTask at 0x7f06c2069460>,\n",
       " 'qaplib_all_bur': <drlqap.taskgenerators.LazyGlobTaskGenerator at 0x7f06c2069550>,\n",
       " 'qaplib_sko_42_64_normalized': <drlqap.taskgenerators.LazyGlobTaskGenerator at 0x7f06c20694f0>,\n",
       " 'qaplib_all_bur_normalized': <drlqap.taskgenerators.LazyGlobTaskGenerator at 0x7f06c2069610>,\n",
       " 'qaplib_all_chr_normalized': <drlqap.taskgenerators.LazyGlobTaskGenerator at 0x7f06c2069670>,\n",
       " 'qaplib_all_esc_normalized': <drlqap.taskgenerators.LazyGlobTaskGenerator at 0x7f06c20696d0>,\n",
       " 'qaplib_all_had_normalized': <drlqap.taskgenerators.LazyGlobTaskGenerator at 0x7f06c2069730>,\n",
       " 'qaplib_all_kra_normalized': <drlqap.taskgenerators.LazyGlobTaskGenerator at 0x7f06c2069790>,\n",
       " 'qaplib_all_lipa_normalized': <drlqap.taskgenerators.LazyGlobTaskGenerator at 0x7f06c20697f0>,\n",
       " 'qaplib_all_nug_normalized': <drlqap.taskgenerators.LazyGlobTaskGenerator at 0x7f06c2069850>,\n",
       " 'qaplib_all_rou_normalized': <drlqap.taskgenerators.LazyGlobTaskGenerator at 0x7f06c20698b0>,\n",
       " 'qaplib_all_scr_normalized': <drlqap.taskgenerators.LazyGlobTaskGenerator at 0x7f06c2069910>,\n",
       " 'qaplib_all_sko_normalized': <drlqap.taskgenerators.LazyGlobTaskGenerator at 0x7f06c2069970>,\n",
       " 'qaplib_all_ste_normalized': <drlqap.taskgenerators.LazyGlobTaskGenerator at 0x7f06c20699d0>,\n",
       " 'qaplib_all_tai_normalized': <drlqap.taskgenerators.LazyGlobTaskGenerator at 0x7f06c2069a30>,\n",
       " 'qaplib_all_tho_normalized': <drlqap.taskgenerators.LazyGlobTaskGenerator at 0x7f06c2069a90>,\n",
       " 'qaplib_all_wil_normalized': <drlqap.taskgenerators.LazyGlobTaskGenerator at 0x7f06c2069af0>,\n",
       " 'qaplib_tai35a_normalized': <drlqap.taskgenerators.LazyGlobTaskGenerator at 0x7f06c20695e0>,\n",
       " 'qaplib_all_64_normalized': <drlqap.taskgenerators.LazyGlobTaskGenerator at 0x7f06c2069b80>}"
      ]
     },
     "execution_count": 3,
     "metadata": {},
     "output_type": "execute_result"
    }
   ],
   "source": [
    "generators"
   ]
  },
  {
   "cell_type": "code",
   "execution_count": 82,
   "metadata": {},
   "outputs": [],
   "source": [
    "qap = generators['medium_random_graphs'].sample()"
   ]
  },
  {
   "cell_type": "code",
   "execution_count": 5,
   "metadata": {},
   "outputs": [
    {
     "data": {
      "text/plain": [
       "(2.3655079779637163,\n",
       " [10,\n",
       "  12,\n",
       "  14,\n",
       "  25,\n",
       "  13,\n",
       "  5,\n",
       "  1,\n",
       "  6,\n",
       "  11,\n",
       "  2,\n",
       "  4,\n",
       "  8,\n",
       "  7,\n",
       "  17,\n",
       "  3,\n",
       "  20,\n",
       "  0,\n",
       "  19,\n",
       "  18,\n",
       "  24,\n",
       "  9,\n",
       "  22,\n",
       "  16,\n",
       "  23,\n",
       "  21,\n",
       "  15])"
      ]
     },
     "execution_count": 5,
     "metadata": {},
     "output_type": "execute_result"
    }
   ],
   "source": [
    "solve_qap_maxgreedy(qap)"
   ]
  },
  {
   "cell_type": "code",
   "execution_count": 95,
   "metadata": {},
   "outputs": [
    {
     "data": {
      "text/plain": [
       "(57.700447,\n",
       " array([ 7,  8,  5, 10,  2,  1,  9,  4,  0, 14, 15, 13, 11,  6, 12,  3]))"
      ]
     },
     "execution_count": 95,
     "metadata": {},
     "output_type": "execute_result"
    }
   ],
   "source": [
    "solve_qap_faq(qap)"
   ]
  },
  {
   "cell_type": "code",
   "execution_count": 7,
   "metadata": {},
   "outputs": [],
   "source": [
    "#solve_qap_gurobi(qap)"
   ]
  },
  {
   "cell_type": "code",
   "execution_count": 8,
   "metadata": {},
   "outputs": [
    {
     "name": "stdout",
     "output_type": "stream",
     "text": [
      "7.52 ms ± 299 µs per loop (mean ± std. dev. of 7 runs, 100 loops each)\n"
     ]
    }
   ],
   "source": [
    "%timeit solve_qap_faq(qap)"
   ]
  },
  {
   "cell_type": "code",
   "execution_count": 30,
   "metadata": {},
   "outputs": [
    {
     "name": "stdout",
     "output_type": "stream",
     "text": [
      "a2c_mediumrandoms\t\t    dqn_dense_ms_ec_eps0_smallrandoms\r\n",
      "a2c_ms100x_mediumrandoms\t    dqn_linkedqap_smallrandoms\r\n",
      "dqn_dense_ms_ec_eps0_mediumrandoms  reinforce_ms100x_mediumrandoms\r\n",
      "dqn_dense_ms_ec_eps0_rni_study\t    reinforce_ms100x_smallrandoms\r\n"
     ]
    }
   ],
   "source": [
    "!ls runs"
   ]
  },
  {
   "cell_type": "code",
   "execution_count": 31,
   "metadata": {},
   "outputs": [
    {
     "name": "stdout",
     "output_type": "stream",
     "text": [
      "lr1e-4_s1  lr1e-4_s4  lr1e-5_s3  lr3e-4_s2  lr5e-4_s1  lr5e-4_s4\r\n",
      "lr1e-4_s2  lr1e-5_s1  lr1e-5_s4  lr3e-4_s3  lr5e-4_s2\r\n",
      "lr1e-4_s3  lr1e-5_s2  lr3e-4_s1  lr3e-4_s4  lr5e-4_s3\r\n"
     ]
    }
   ],
   "source": [
    "!ls runs/dqn_dense_ms_ec_eps0_smallrandoms"
   ]
  },
  {
   "cell_type": "code",
   "execution_count": 10,
   "metadata": {},
   "outputs": [],
   "source": [
    "from drlqap.evaltools import load_checkpoints\n",
    "from pathlib import Path"
   ]
  },
  {
   "cell_type": "code",
   "execution_count": 219,
   "metadata": {},
   "outputs": [
    {
     "name": "stdout",
     "output_type": "stream",
     "text": [
      "runs/a2c_ms100x_mediumrandoms/lr4e-5_s3/checkpoint_0.pth\n",
      "runs/a2c_ms100x_mediumrandoms/lr4e-5_s3/checkpoint_1000.pth\n",
      "runs/a2c_ms100x_mediumrandoms/lr4e-5_s3/checkpoint_2000.pth\n",
      "runs/a2c_ms100x_mediumrandoms/lr4e-5_s3/checkpoint_3000.pth\n",
      "runs/a2c_ms100x_mediumrandoms/lr4e-5_s3/checkpoint_4000.pth\n",
      "runs/a2c_ms100x_mediumrandoms/lr4e-5_s3/checkpoint_5000.pth\n",
      "runs/a2c_ms100x_mediumrandoms/lr4e-5_s3/checkpoint_6000.pth\n",
      "runs/a2c_ms100x_mediumrandoms/lr4e-5_s3/checkpoint_7000.pth\n",
      "runs/a2c_ms100x_mediumrandoms/lr4e-5_s3/checkpoint_8000.pth\n",
      "runs/a2c_ms100x_mediumrandoms/lr4e-5_s3/checkpoint_9000.pth\n",
      "runs/a2c_ms100x_mediumrandoms/lr4e-5_s3/checkpoint_10000.pth\n",
      "runs/a2c_ms100x_mediumrandoms/lr4e-5_s3/checkpoint_11000.pth\n",
      "runs/a2c_ms100x_mediumrandoms/lr4e-5_s3/checkpoint_12000.pth\n",
      "runs/a2c_ms100x_mediumrandoms/lr4e-5_s3/checkpoint_13000.pth\n",
      "runs/a2c_ms100x_mediumrandoms/lr4e-5_s3/checkpoint_14000.pth\n",
      "runs/a2c_ms100x_mediumrandoms/lr4e-5_s3/checkpoint_15000.pth\n",
      "runs/a2c_ms100x_mediumrandoms/lr4e-5_s3/checkpoint_16000.pth\n",
      "runs/a2c_ms100x_mediumrandoms/lr4e-5_s3/checkpoint_17000.pth\n",
      "runs/a2c_ms100x_mediumrandoms/lr4e-5_s3/checkpoint_18000.pth\n",
      "runs/a2c_ms100x_mediumrandoms/lr4e-5_s3/checkpoint_19000.pth\n",
      "runs/a2c_ms100x_mediumrandoms/lr4e-5_s3/checkpoint_20000.pth\n",
      "runs/a2c_ms100x_mediumrandoms/lr4e-5_s3/checkpoint_21000.pth\n",
      "runs/a2c_ms100x_mediumrandoms/lr4e-5_s3/checkpoint_22000.pth\n",
      "runs/a2c_ms100x_mediumrandoms/lr4e-5_s3/checkpoint_23000.pth\n",
      "runs/a2c_ms100x_mediumrandoms/lr4e-5_s3/checkpoint_24000.pth\n",
      "runs/a2c_ms100x_mediumrandoms/lr4e-5_s3/checkpoint_25000.pth\n",
      "runs/a2c_ms100x_mediumrandoms/lr4e-5_s3/checkpoint_26000.pth\n",
      "runs/a2c_ms100x_mediumrandoms/lr4e-5_s3/checkpoint_27000.pth\n",
      "runs/a2c_ms100x_mediumrandoms/lr4e-5_s3/checkpoint_28000.pth\n",
      "runs/a2c_ms100x_mediumrandoms/lr4e-5_s3/checkpoint_29000.pth\n",
      "runs/a2c_ms100x_mediumrandoms/lr4e-5_s3/checkpoint_end.pth\n"
     ]
    }
   ],
   "source": [
    "agents = load_checkpoints(Path('runs/a2c_ms100x_mediumrandoms/lr4e-5_s3'))"
   ]
  },
  {
   "cell_type": "code",
   "execution_count": 220,
   "metadata": {},
   "outputs": [
    {
     "data": {
      "text/plain": [
       "(61.25126391649246, [7, 8, 2, 3, 10, 14, 0, 13, 12, 5, 11, 9, 4, 6, 15, 1])"
      ]
     },
     "execution_count": 220,
     "metadata": {},
     "output_type": "execute_result"
    }
   ],
   "source": [
    "agents[-1].solve(qap)"
   ]
  },
  {
   "cell_type": "markdown",
   "metadata": {},
   "source": [
    "## Average results"
   ]
  },
  {
   "cell_type": "code",
   "execution_count": 221,
   "metadata": {},
   "outputs": [],
   "source": [
    "def evaluate(solver, problem, samples):\n",
    "    values = []\n",
    "    for i in range(samples):\n",
    "        qap = generators[problem].sample()\n",
    "        v, _ = solver(qap)\n",
    "        values.append(v)\n",
    "    return np.mean(values)\n",
    "\n",
    "def evaluate_set(solver, problem):\n",
    "    values = []\n",
    "    test_set = generators[problem].test_set()\n",
    "    for qap in test_set:\n",
    "        v, _ = solver(qap)\n",
    "        values.append(v)\n",
    "    return np.mean(values)"
   ]
  },
  {
   "cell_type": "code",
   "execution_count": 222,
   "metadata": {},
   "outputs": [
    {
     "data": {
      "text/plain": [
       "11.430882"
      ]
     },
     "execution_count": 222,
     "metadata": {},
     "output_type": "execute_result"
    }
   ],
   "source": [
    "evaluate(solve_qap_faq, 'small_random_graphs', 1000)"
   ]
  },
  {
   "cell_type": "code",
   "execution_count": 223,
   "metadata": {},
   "outputs": [
    {
     "data": {
      "text/plain": [
       "11.643129579840053"
      ]
     },
     "execution_count": 223,
     "metadata": {},
     "output_type": "execute_result"
    }
   ],
   "source": [
    "evaluate(agents[-1].solve, 'small_random_graphs', 500)"
   ]
  },
  {
   "cell_type": "code",
   "execution_count": 224,
   "metadata": {},
   "outputs": [
    {
     "data": {
      "text/plain": [
       "49.72502"
      ]
     },
     "execution_count": 224,
     "metadata": {},
     "output_type": "execute_result"
    }
   ],
   "source": [
    "evaluate(solve_qap_faq, 'medium_random_graphs', 1000)"
   ]
  },
  {
   "cell_type": "code",
   "execution_count": 225,
   "metadata": {},
   "outputs": [
    {
     "data": {
      "text/plain": [
       "52.78447303925222"
      ]
     },
     "execution_count": 225,
     "metadata": {},
     "output_type": "execute_result"
    }
   ],
   "source": [
    "evaluate(agents[-1].solve, 'medium_random_graphs', 500)"
   ]
  },
  {
   "cell_type": "code",
   "execution_count": 226,
   "metadata": {},
   "outputs": [
    {
     "data": {
      "text/plain": [
       "31925654.0"
      ]
     },
     "execution_count": 226,
     "metadata": {},
     "output_type": "execute_result"
    }
   ],
   "source": [
    "evaluate_set(solve_qap_faq, 'qaplib_all_64_normalized')"
   ]
  },
  {
   "cell_type": "code",
   "execution_count": 227,
   "metadata": {},
   "outputs": [
    {
     "data": {
      "text/plain": [
       "55562342.18585188"
      ]
     },
     "execution_count": 227,
     "metadata": {},
     "output_type": "execute_result"
    }
   ],
   "source": [
    "evaluate_set(agents[-1].solve, 'qaplib_all_64_normalized')"
   ]
  },
  {
   "cell_type": "code",
   "execution_count": 228,
   "metadata": {},
   "outputs": [
    {
     "data": {
      "text/plain": [
       "2514002.0"
      ]
     },
     "execution_count": 228,
     "metadata": {},
     "output_type": "execute_result"
    }
   ],
   "source": [
    "evaluate_set(solve_qap_faq, 'qaplib_tai35a_normalized')"
   ]
  },
  {
   "cell_type": "code",
   "execution_count": 229,
   "metadata": {},
   "outputs": [
    {
     "data": {
      "text/plain": [
       "2755434.0"
      ]
     },
     "execution_count": 229,
     "metadata": {},
     "output_type": "execute_result"
    }
   ],
   "source": [
    "evaluate_set(agents[-1].solve, 'qaplib_tai35a_normalized')"
   ]
  },
  {
   "cell_type": "code",
   "execution_count": 230,
   "metadata": {},
   "outputs": [
    {
     "data": {
      "text/plain": [
       "2755434.0"
      ]
     },
     "execution_count": 230,
     "metadata": {},
     "output_type": "execute_result"
    }
   ],
   "source": [
    "evaluate_set(agents[-1].solve, 'qaplib_tai35a_normalized')"
   ]
  },
  {
   "cell_type": "markdown",
   "metadata": {},
   "source": [
    "## Qaplib"
   ]
  },
  {
   "cell_type": "code",
   "execution_count": 104,
   "metadata": {},
   "outputs": [],
   "source": [
    "qaplib = generators[\"qaplib_all_64_normalized\"].test_set()\n",
    "qaplib_by_name = {q.name: q for q in qaplib}"
   ]
  },
  {
   "cell_type": "code",
   "execution_count": 112,
   "metadata": {},
   "outputs": [
    {
     "data": {
      "text/plain": [
       "(6153352.0,\n",
       " [2,\n",
       "  0,\n",
       "  19,\n",
       "  13,\n",
       "  18,\n",
       "  21,\n",
       "  23,\n",
       "  10,\n",
       "  25,\n",
       "  24,\n",
       "  15,\n",
       "  14,\n",
       "  4,\n",
       "  8,\n",
       "  7,\n",
       "  22,\n",
       "  6,\n",
       "  5,\n",
       "  3,\n",
       "  1,\n",
       "  20,\n",
       "  12,\n",
       "  17,\n",
       "  11,\n",
       "  16,\n",
       "  9])"
      ]
     },
     "execution_count": 112,
     "metadata": {},
     "output_type": "execute_result"
    }
   ],
   "source": [
    "agents[-1].solve(qaplib_by_name[\"bur26c\"])"
   ]
  },
  {
   "cell_type": "code",
   "execution_count": 164,
   "metadata": {},
   "outputs": [
    {
     "data": {
      "text/plain": [
       "(5418795.0,\n",
       " array([22,  2,  6, 20, 12, 10, 21, 19,  7, 11,  4,  8,  0, 18,  5,  3, 14,\n",
       "        13, 17, 16, 24, 23, 25,  9,  1, 15]))"
      ]
     },
     "execution_count": 164,
     "metadata": {},
     "output_type": "execute_result"
    }
   ],
   "source": [
    "solve_qap_faq(qaplib_by_name[\"bur26c\"])"
   ]
  },
  {
   "cell_type": "markdown",
   "metadata": {},
   "source": [
    "# Asymmetry"
   ]
  },
  {
   "cell_type": "code",
   "execution_count": 139,
   "metadata": {},
   "outputs": [],
   "source": [
    "def mirror(qap):\n",
    "    a = qap.A\n",
    "    b = qap.B\n",
    "    return QAP(b, a, qap.linear_costs.transpose(0,1), 0)\n",
    "    \n",
    "def mirror_assignment(assignment):\n",
    "    out = [None] * len(assignment)\n",
    "    for i, j in enumerate(assignment):\n",
    "        out[j] = i\n",
    "    return out"
   ]
  },
  {
   "cell_type": "code",
   "execution_count": 140,
   "metadata": {},
   "outputs": [],
   "source": [
    "qap_mirrored = mirror(qap)"
   ]
  },
  {
   "cell_type": "code",
   "execution_count": 141,
   "metadata": {},
   "outputs": [
    {
     "data": {
      "text/plain": [
       "tensor(61.8118)"
      ]
     },
     "execution_count": 141,
     "metadata": {},
     "output_type": "execute_result"
    }
   ],
   "source": [
    "qap.compute_value([12, 13, 2, 10, 1, 14, 4, 7, 6, 8, 3, 11, 9, 0, 5, 15])"
   ]
  },
  {
   "cell_type": "code",
   "execution_count": 144,
   "metadata": {},
   "outputs": [
    {
     "data": {
      "text/plain": [
       "tensor(61.8118)"
      ]
     },
     "execution_count": 144,
     "metadata": {},
     "output_type": "execute_result"
    }
   ],
   "source": [
    "qap_mirrored.compute_value(mirror_assignment([12, 13, 2, 10, 1, 14, 4, 7, 6, 8, 3, 11, 9, 0, 5, 15]))"
   ]
  },
  {
   "cell_type": "code",
   "execution_count": 147,
   "metadata": {},
   "outputs": [
    {
     "data": {
      "text/plain": [
       "(61.25126391649246, [7, 8, 2, 3, 10, 14, 0, 13, 12, 5, 11, 9, 4, 6, 15, 1])"
      ]
     },
     "execution_count": 147,
     "metadata": {},
     "output_type": "execute_result"
    }
   ],
   "source": [
    "agents[-1].solve(qap)"
   ]
  },
  {
   "cell_type": "code",
   "execution_count": 148,
   "metadata": {
    "scrolled": true
   },
   "outputs": [
    {
     "data": {
      "text/plain": [
       "(58.26400242745876, [0, 2, 6, 10, 7, 1, 4, 11, 15, 13, 3, 12, 14, 8, 5, 9])"
      ]
     },
     "execution_count": 148,
     "metadata": {},
     "output_type": "execute_result"
    }
   ],
   "source": [
    "agents[-1].solve(qap_mirrored)"
   ]
  },
  {
   "cell_type": "code",
   "execution_count": 165,
   "metadata": {},
   "outputs": [
    {
     "data": {
      "text/plain": [
       "31625270.0"
      ]
     },
     "execution_count": 165,
     "metadata": {},
     "output_type": "execute_result"
    }
   ],
   "source": [
    "evaluate_set(lambda qap: solve_qap_faq(mirror(qap)), 'qaplib_all_64_normalized')"
   ]
  },
  {
   "cell_type": "code",
   "execution_count": 176,
   "metadata": {},
   "outputs": [
    {
     "data": {
      "text/plain": [
       "36323050.070392564"
      ]
     },
     "execution_count": 176,
     "metadata": {},
     "output_type": "execute_result"
    }
   ],
   "source": [
    "evaluate_set(lambda qap: agents[-1].solve(mirror(qap)), 'qaplib_all_64_normalized')"
   ]
  },
  {
   "cell_type": "code",
   "execution_count": 157,
   "metadata": {},
   "outputs": [
    {
     "data": {
      "text/plain": [
       "52.60779935359853"
      ]
     },
     "execution_count": 157,
     "metadata": {},
     "output_type": "execute_result"
    }
   ],
   "source": [
    "evaluate(lambda qap: agents[-1].solve(mirror(qap)), 'medium_random_graphs', 500)"
   ]
  },
  {
   "cell_type": "code",
   "execution_count": 158,
   "metadata": {
    "scrolled": true
   },
   "outputs": [
    {
     "data": {
      "text/plain": [
       "11.754977045599487"
      ]
     },
     "execution_count": 158,
     "metadata": {},
     "output_type": "execute_result"
    }
   ],
   "source": [
    "evaluate(lambda qap: agents[-1].solve(mirror(qap)), 'small_random_graphs', 500)"
   ]
  },
  {
   "cell_type": "code",
   "execution_count": 163,
   "metadata": {},
   "outputs": [
    {
     "data": {
      "text/plain": [
       "(5704272.0,\n",
       " [8,\n",
       "  3,\n",
       "  6,\n",
       "  11,\n",
       "  25,\n",
       "  4,\n",
       "  5,\n",
       "  18,\n",
       "  7,\n",
       "  19,\n",
       "  23,\n",
       "  17,\n",
       "  2,\n",
       "  10,\n",
       "  16,\n",
       "  15,\n",
       "  24,\n",
       "  13,\n",
       "  1,\n",
       "  12,\n",
       "  21,\n",
       "  22,\n",
       "  0,\n",
       "  20,\n",
       "  14,\n",
       "  9])"
      ]
     },
     "execution_count": 163,
     "metadata": {},
     "output_type": "execute_result"
    }
   ],
   "source": [
    "agents[-1].solve(mirror(qaplib_by_name[\"bur26c\"]))"
   ]
  },
  {
   "cell_type": "code",
   "execution_count": 213,
   "metadata": {},
   "outputs": [
    {
     "name": "stdout",
     "output_type": "stream",
     "text": [
      "runs/a2c_ms100x_mediumrandoms/lr4e-5_s3/checkpoint_0.pth\n",
      "runs/a2c_ms100x_mediumrandoms/lr4e-5_s3/checkpoint_1000.pth\n",
      "runs/a2c_ms100x_mediumrandoms/lr4e-5_s3/checkpoint_2000.pth\n",
      "runs/a2c_ms100x_mediumrandoms/lr4e-5_s3/checkpoint_3000.pth\n",
      "runs/a2c_ms100x_mediumrandoms/lr4e-5_s3/checkpoint_4000.pth\n",
      "runs/a2c_ms100x_mediumrandoms/lr4e-5_s3/checkpoint_5000.pth\n",
      "runs/a2c_ms100x_mediumrandoms/lr4e-5_s3/checkpoint_6000.pth\n",
      "runs/a2c_ms100x_mediumrandoms/lr4e-5_s3/checkpoint_7000.pth\n",
      "runs/a2c_ms100x_mediumrandoms/lr4e-5_s3/checkpoint_8000.pth\n",
      "runs/a2c_ms100x_mediumrandoms/lr4e-5_s3/checkpoint_9000.pth\n",
      "runs/a2c_ms100x_mediumrandoms/lr4e-5_s3/checkpoint_10000.pth\n",
      "runs/a2c_ms100x_mediumrandoms/lr4e-5_s3/checkpoint_11000.pth\n",
      "runs/a2c_ms100x_mediumrandoms/lr4e-5_s3/checkpoint_12000.pth\n",
      "runs/a2c_ms100x_mediumrandoms/lr4e-5_s3/checkpoint_13000.pth\n",
      "runs/a2c_ms100x_mediumrandoms/lr4e-5_s3/checkpoint_14000.pth\n",
      "runs/a2c_ms100x_mediumrandoms/lr4e-5_s3/checkpoint_15000.pth\n",
      "runs/a2c_ms100x_mediumrandoms/lr4e-5_s3/checkpoint_16000.pth\n",
      "runs/a2c_ms100x_mediumrandoms/lr4e-5_s3/checkpoint_17000.pth\n",
      "runs/a2c_ms100x_mediumrandoms/lr4e-5_s3/checkpoint_18000.pth\n",
      "runs/a2c_ms100x_mediumrandoms/lr4e-5_s3/checkpoint_19000.pth\n",
      "runs/a2c_ms100x_mediumrandoms/lr4e-5_s3/checkpoint_20000.pth\n",
      "runs/a2c_ms100x_mediumrandoms/lr4e-5_s3/checkpoint_21000.pth\n",
      "runs/a2c_ms100x_mediumrandoms/lr4e-5_s3/checkpoint_22000.pth\n",
      "runs/a2c_ms100x_mediumrandoms/lr4e-5_s3/checkpoint_23000.pth\n",
      "runs/a2c_ms100x_mediumrandoms/lr4e-5_s3/checkpoint_24000.pth\n",
      "runs/a2c_ms100x_mediumrandoms/lr4e-5_s3/checkpoint_25000.pth\n",
      "runs/a2c_ms100x_mediumrandoms/lr4e-5_s3/checkpoint_26000.pth\n",
      "runs/a2c_ms100x_mediumrandoms/lr4e-5_s3/checkpoint_27000.pth\n",
      "runs/a2c_ms100x_mediumrandoms/lr4e-5_s3/checkpoint_28000.pth\n",
      "runs/a2c_ms100x_mediumrandoms/lr4e-5_s3/checkpoint_29000.pth\n",
      "runs/a2c_ms100x_mediumrandoms/lr4e-5_s3/checkpoint_end.pth\n"
     ]
    }
   ],
   "source": [
    "agents = load_checkpoints(Path('runs/'))"
   ]
  },
  {
   "cell_type": "code",
   "execution_count": 216,
   "metadata": {},
   "outputs": [
    {
     "data": {
      "text/plain": [
       "5.099721514828161"
      ]
     },
     "execution_count": 216,
     "metadata": {},
     "output_type": "execute_result"
    }
   ],
   "source": [
    "evaluate_set(agents[-1].solve, 'qaplib_all_bur_normalized')"
   ]
  },
  {
   "cell_type": "code",
   "execution_count": 217,
   "metadata": {},
   "outputs": [
    {
     "data": {
      "text/plain": [
       "3.899634671169224"
      ]
     },
     "execution_count": 217,
     "metadata": {},
     "output_type": "execute_result"
    }
   ],
   "source": [
    "evaluate_set(lambda qap: agents[-1].solve(mirror(qap)), 'qaplib_all_bur_normalized')"
   ]
  },
  {
   "cell_type": "code",
   "execution_count": null,
   "metadata": {},
   "outputs": [],
   "source": []
  }
 ],
 "metadata": {
  "kernelspec": {
   "display_name": "drlqap",
   "language": "python",
   "name": "drlqap"
  },
  "language_info": {
   "codemirror_mode": {
    "name": "ipython",
    "version": 3
   },
   "file_extension": ".py",
   "mimetype": "text/x-python",
   "name": "python",
   "nbconvert_exporter": "python",
   "pygments_lexer": "ipython3",
   "version": "3.9.9"
  }
 },
 "nbformat": 4,
 "nbformat_minor": 5
}
